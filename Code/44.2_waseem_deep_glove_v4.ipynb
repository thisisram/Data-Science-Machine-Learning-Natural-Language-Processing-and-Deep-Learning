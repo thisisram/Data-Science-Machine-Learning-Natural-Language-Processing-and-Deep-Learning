{
 "cells": [
  {
   "cell_type": "markdown",
   "metadata": {
    "colab_type": "text",
    "id": "f5MwXcyTN8RQ"
   },
   "source": [
    "## Word Embeding Lookup in Tensorflow"
   ]
  },
  {
   "cell_type": "markdown",
   "metadata": {
    "colab_type": "text",
    "id": "n_Sk_HyXN8RR"
   },
   "source": [
    "## CNN Model on Cyber Bullying data - Glove"
   ]
  },
  {
   "cell_type": "code",
   "execution_count": 1,
   "metadata": {
    "colab": {},
    "colab_type": "code",
    "id": "iUqIbU0f3L6I"
   },
   "outputs": [],
   "source": [
    "import pandas as pd\n",
    "import numpy as np\n",
    "import matplotlib.pyplot as plt\n",
    "import pickle\n",
    "\n",
    "from imblearn.over_sampling import RandomOverSampler"
   ]
  },
  {
   "cell_type": "code",
   "execution_count": 2,
   "metadata": {
    "colab": {},
    "colab_type": "code",
    "id": "1T4pXBC23L6M"
   },
   "outputs": [],
   "source": [
    "data = pd.read_csv('Waseem_clean_data.csv')"
   ]
  },
  {
   "cell_type": "code",
   "execution_count": 3,
   "metadata": {
    "colab": {
     "base_uri": "https://localhost:8080/",
     "height": 202
    },
    "colab_type": "code",
    "id": "3mMPXErp3L6P",
    "outputId": "0c3c9f82-fe2b-4f97-9799-94165e2c9aef"
   },
   "outputs": [
    {
     "data": {
      "text/html": [
       "<div>\n",
       "<style scoped>\n",
       "    .dataframe tbody tr th:only-of-type {\n",
       "        vertical-align: middle;\n",
       "    }\n",
       "\n",
       "    .dataframe tbody tr th {\n",
       "        vertical-align: top;\n",
       "    }\n",
       "\n",
       "    .dataframe thead th {\n",
       "        text-align: right;\n",
       "    }\n",
       "</style>\n",
       "<table border=\"1\" class=\"dataframe\">\n",
       "  <thead>\n",
       "    <tr style=\"text-align: right;\">\n",
       "      <th></th>\n",
       "      <th>Unnamed: 0</th>\n",
       "      <th>content</th>\n",
       "      <th>lable</th>\n",
       "    </tr>\n",
       "  </thead>\n",
       "  <tbody>\n",
       "    <tr>\n",
       "      <th>0</th>\n",
       "      <td>0</td>\n",
       "      <td>someone is going home &lt;hashtag&gt;mkr ..that obvi...</td>\n",
       "      <td>0.0</td>\n",
       "    </tr>\n",
       "    <tr>\n",
       "      <th>1</th>\n",
       "      <td>1</td>\n",
       "      <td>they didn't even wash the chicken emoticon_sad...</td>\n",
       "      <td>0.0</td>\n",
       "    </tr>\n",
       "    <tr>\n",
       "      <th>2</th>\n",
       "      <td>2</td>\n",
       "      <td>&lt;hashtag&gt;mkr is honestly so fucking staged. th...</td>\n",
       "      <td>0.0</td>\n",
       "    </tr>\n",
       "    <tr>\n",
       "      <th>3</th>\n",
       "      <td>3</td>\n",
       "      <td>can someone smash that bottle of rose &amp;amp; li...</td>\n",
       "      <td>0.0</td>\n",
       "    </tr>\n",
       "    <tr>\n",
       "      <th>4</th>\n",
       "      <td>4</td>\n",
       "      <td>will someone pls assist colin in the washing o...</td>\n",
       "      <td>0.0</td>\n",
       "    </tr>\n",
       "  </tbody>\n",
       "</table>\n",
       "</div>"
      ],
      "text/plain": [
       "   Unnamed: 0                                            content  lable\n",
       "0           0  someone is going home <hashtag>mkr ..that obvi...    0.0\n",
       "1           1  they didn't even wash the chicken emoticon_sad...    0.0\n",
       "2           2  <hashtag>mkr is honestly so fucking staged. th...    0.0\n",
       "3           3  can someone smash that bottle of rose &amp; li...    0.0\n",
       "4           4  will someone pls assist colin in the washing o...    0.0"
      ]
     },
     "execution_count": 3,
     "metadata": {},
     "output_type": "execute_result"
    }
   ],
   "source": [
    "data.head()"
   ]
  },
  {
   "cell_type": "code",
   "execution_count": 4,
   "metadata": {
    "colab": {},
    "colab_type": "code",
    "id": "RZNeBruWN8Rm"
   },
   "outputs": [],
   "source": [
    "data.drop('Unnamed: 0', axis=1, inplace=True)"
   ]
  },
  {
   "cell_type": "code",
   "execution_count": 5,
   "metadata": {
    "colab": {
     "base_uri": "https://localhost:8080/",
     "height": 69
    },
    "colab_type": "code",
    "id": "fSKIZBaq3L6U",
    "outputId": "b718380e-7de1-47a7-8d6e-0f89c53efecf"
   },
   "outputs": [
    {
     "data": {
      "text/plain": [
       "content    False\n",
       "lable      False\n",
       "dtype: bool"
      ]
     },
     "execution_count": 5,
     "metadata": {},
     "output_type": "execute_result"
    }
   ],
   "source": [
    "data.isnull().any()"
   ]
  },
  {
   "cell_type": "code",
   "execution_count": 6,
   "metadata": {
    "colab": {
     "base_uri": "https://localhost:8080/",
     "height": 35
    },
    "colab_type": "code",
    "id": "qDoj5yN0N8SY",
    "outputId": "05ae9384-0d50-400e-8a23-81bfe018d656"
   },
   "outputs": [
    {
     "data": {
      "text/plain": [
       "(13763, 2)"
      ]
     },
     "execution_count": 6,
     "metadata": {},
     "output_type": "execute_result"
    }
   ],
   "source": [
    "data.shape"
   ]
  },
  {
   "cell_type": "code",
   "execution_count": 7,
   "metadata": {
    "colab": {
     "base_uri": "https://localhost:8080/",
     "height": 69
    },
    "colab_type": "code",
    "id": "OAMWES2iN8S7",
    "outputId": "a2ef6b61-ab95-46f4-e34a-e551c950bca9"
   },
   "outputs": [
    {
     "data": {
      "text/plain": [
       "0.0    9533\n",
       "1.0    4230\n",
       "Name: lable, dtype: int64"
      ]
     },
     "execution_count": 7,
     "metadata": {},
     "output_type": "execute_result"
    }
   ],
   "source": [
    "data['lable'].value_counts()"
   ]
  },
  {
   "cell_type": "code",
   "execution_count": 8,
   "metadata": {
    "colab": {},
    "colab_type": "code",
    "id": "KsKWB7AxN8TF"
   },
   "outputs": [],
   "source": [
    "from sklearn.model_selection import train_test_split\n",
    "X_train, X_test, y_train, y_test = train_test_split(data['content'], data['lable'], test_size=0.10, random_state=30)"
   ]
  },
  {
   "cell_type": "code",
   "execution_count": 9,
   "metadata": {
    "colab": {
     "base_uri": "https://localhost:8080/",
     "height": 35
    },
    "colab_type": "code",
    "id": "o2Q4J7mcN8TM",
    "outputId": "60e46e6b-2201-4c70-e6c6-4db079bb406b"
   },
   "outputs": [
    {
     "data": {
      "text/plain": [
       "((12386,), (1377,), (12386,), (1377,))"
      ]
     },
     "execution_count": 9,
     "metadata": {},
     "output_type": "execute_result"
    }
   ],
   "source": [
    "X_train.shape, X_test.shape, y_train.shape, y_test.shape"
   ]
  },
  {
   "cell_type": "code",
   "execution_count": 10,
   "metadata": {
    "colab": {
     "base_uri": "https://localhost:8080/",
     "height": 35
    },
    "colab_type": "code",
    "id": "qnj9FLpjN8TV",
    "outputId": "d0dc4d65-dd76-444c-d482-ec2562420237"
   },
   "outputs": [
    {
     "data": {
      "text/plain": [
       "pandas.core.series.Series"
      ]
     },
     "execution_count": 10,
     "metadata": {},
     "output_type": "execute_result"
    }
   ],
   "source": [
    "type(X_train)"
   ]
  },
  {
   "cell_type": "code",
   "execution_count": 11,
   "metadata": {
    "colab": {
     "base_uri": "https://localhost:8080/",
     "height": 121
    },
    "colab_type": "code",
    "id": "ULx38ggON8Tb",
    "outputId": "31a03925-9b72-4a84-e343-2006fbf5d889"
   },
   "outputs": [
    {
     "data": {
      "text/plain": [
       "5570        user i don't know. but i feel like user would.\n",
       "5633     until twitter provides us with a way to filter...\n",
       "9315     “here’s the deal cooking is cooking!” ouch! yo...\n",
       "5937     today i am happy to announce the online abuse ...\n",
       "11633    rt user i'm not sexist..but man women's basket...\n",
       "Name: content, dtype: object"
      ]
     },
     "execution_count": 11,
     "metadata": {},
     "output_type": "execute_result"
    }
   ],
   "source": [
    "X_train.head()"
   ]
  },
  {
   "cell_type": "code",
   "execution_count": 12,
   "metadata": {
    "colab": {
     "base_uri": "https://localhost:8080/",
     "height": 35
    },
    "colab_type": "code",
    "id": "HlDNDbQBN8UM",
    "outputId": "4845df1b-8cb7-4dcc-959b-4a92951ab047"
   },
   "outputs": [
    {
     "data": {
      "text/plain": [
       "pandas.core.series.Series"
      ]
     },
     "execution_count": 12,
     "metadata": {},
     "output_type": "execute_result"
    }
   ],
   "source": [
    "type(X_train)"
   ]
  },
  {
   "cell_type": "code",
   "execution_count": 13,
   "metadata": {},
   "outputs": [],
   "source": [
    "ros = RandomOverSampler()\n",
    "X_train, y_train = ros.fit_sample(X_train.values.reshape((-1, 1)), y_train)"
   ]
  },
  {
   "cell_type": "code",
   "execution_count": 14,
   "metadata": {},
   "outputs": [
    {
     "data": {
      "text/plain": [
       "(17178, 1)"
      ]
     },
     "execution_count": 14,
     "metadata": {},
     "output_type": "execute_result"
    }
   ],
   "source": [
    "X_train.shape"
   ]
  },
  {
   "cell_type": "code",
   "execution_count": 15,
   "metadata": {},
   "outputs": [
    {
     "data": {
      "text/plain": [
       "1.0    8589\n",
       "0.0    8589\n",
       "Name: lable, dtype: int64"
      ]
     },
     "execution_count": 15,
     "metadata": {},
     "output_type": "execute_result"
    }
   ],
   "source": [
    "y_train.value_counts()"
   ]
  },
  {
   "cell_type": "code",
   "execution_count": 16,
   "metadata": {
    "colab": {},
    "colab_type": "code",
    "id": "bPh9T426N8UR"
   },
   "outputs": [],
   "source": [
    "def fun_max_len(data):\n",
    "    return max( len(t[0].split()) for t in data)"
   ]
  },
  {
   "cell_type": "code",
   "execution_count": 17,
   "metadata": {
    "colab": {
     "base_uri": "https://localhost:8080/",
     "height": 35
    },
    "colab_type": "code",
    "id": "7SVIHvhWN8UX",
    "outputId": "560a6ac2-4d02-4b73-a49e-3b7cadd7b2f5"
   },
   "outputs": [
    {
     "name": "stdout",
     "output_type": "stream",
     "text": [
      "Train data max lengthed String:  325\n"
     ]
    }
   ],
   "source": [
    "max_len = fun_max_len(X_train)\n",
    "print('Train data max lengthed String: ', max_len)"
   ]
  },
  {
   "cell_type": "code",
   "execution_count": 18,
   "metadata": {
    "colab": {},
    "colab_type": "code",
    "id": "nt1oJDPmN8Uc"
   },
   "outputs": [],
   "source": [
    "import tensorflow as tf"
   ]
  },
  {
   "cell_type": "code",
   "execution_count": 19,
   "metadata": {
    "colab": {
     "base_uri": "https://localhost:8080/",
     "height": 35
    },
    "colab_type": "code",
    "id": "MyXFvOtkN8Uh",
    "outputId": "8a3596e3-f737-48b4-fab0-9e56ecc1b550"
   },
   "outputs": [
    {
     "data": {
      "text/plain": [
       "'2.0.0'"
      ]
     },
     "execution_count": 19,
     "metadata": {},
     "output_type": "execute_result"
    }
   ],
   "source": [
    "tf.__version__"
   ]
  },
  {
   "cell_type": "code",
   "execution_count": 20,
   "metadata": {
    "colab": {},
    "colab_type": "code",
    "id": "Zld09NTgN8Um"
   },
   "outputs": [],
   "source": [
    "text_tokenizer = tf.keras.preprocessing.text.Tokenizer(filters='')\n",
    "text_tokenizer.fit_on_texts(X_train[:, 0])"
   ]
  },
  {
   "cell_type": "code",
   "execution_count": 21,
   "metadata": {
    "colab": {},
    "colab_type": "code",
    "id": "IfuJNLgDN8Up"
   },
   "outputs": [],
   "source": [
    "X_train_seq_data = text_tokenizer.texts_to_sequences(X_train[:, 0])\n",
    "#X_train_seq_data = tf.keras.preprocessing.sequence.pad_sequences(X_train_seq_data, padding='post')"
   ]
  },
  {
   "cell_type": "code",
   "execution_count": 22,
   "metadata": {
    "colab": {
     "base_uri": "https://localhost:8080/",
     "height": 55
    },
    "colab_type": "code",
    "id": "CPihlSh5N8Uv",
    "outputId": "42d58141-6c34-4ed1-fac5-c01bd99ce9e4"
   },
   "outputs": [
    {
     "name": "stdout",
     "output_type": "stream",
     "text": [
      "[[1, 7, 32, 726, 14, 7, 213, 35, 1, 4838], [325, 224, 4839, 183, 29, 4, 131, 5, 2350, 240, 1271, 52, 4839, 4, 1729, 11936, 5, 11937, 93, 17, 27, 748, 15, 264, 11938]]\n"
     ]
    }
   ],
   "source": [
    "print(X_train_seq_data[:2])"
   ]
  },
  {
   "cell_type": "code",
   "execution_count": 23,
   "metadata": {
    "colab": {},
    "colab_type": "code",
    "id": "t8WQABIBN8Uz"
   },
   "outputs": [],
   "source": [
    "X_train_seq_to_text = text_tokenizer.sequences_to_texts(X_train_seq_data)"
   ]
  },
  {
   "cell_type": "code",
   "execution_count": 24,
   "metadata": {
    "colab": {
     "base_uri": "https://localhost:8080/",
     "height": 55
    },
    "colab_type": "code",
    "id": "IendhpPJN8U4",
    "outputId": "b4a34215-b831-40b7-b873-169d936740aa"
   },
   "outputs": [
    {
     "name": "stdout",
     "output_type": "stream",
     "text": [
      "[\"user i don't know. but i feel like user would.\", 'until twitter provides us with a way to filter new accounts or provides a higher barrier to entry these are just words that mean little.']\n"
     ]
    }
   ],
   "source": [
    "print(X_train_seq_to_text[:2])"
   ]
  },
  {
   "cell_type": "code",
   "execution_count": 25,
   "metadata": {
    "colab": {},
    "colab_type": "code",
    "id": "i-YnhZ-hN8U8"
   },
   "outputs": [],
   "source": [
    "X_train_corpus = [x.split() for x in X_train_seq_to_text]"
   ]
  },
  {
   "cell_type": "code",
   "execution_count": 26,
   "metadata": {
    "colab": {
     "base_uri": "https://localhost:8080/",
     "height": 55
    },
    "colab_type": "code",
    "id": "CVckNp3fN8VC",
    "outputId": "a8b8f515-52c0-4cba-c83e-a83724354bd3"
   },
   "outputs": [
    {
     "name": "stdout",
     "output_type": "stream",
     "text": [
      "[['user', 'i', \"don't\", 'know.', 'but', 'i', 'feel', 'like', 'user', 'would.'], ['until', 'twitter', 'provides', 'us', 'with', 'a', 'way', 'to', 'filter', 'new', 'accounts', 'or', 'provides', 'a', 'higher', 'barrier', 'to', 'entry', 'these', 'are', 'just', 'words', 'that', 'mean', 'little.']]\n"
     ]
    }
   ],
   "source": [
    "print(X_train_corpus[:2])"
   ]
  },
  {
   "cell_type": "markdown",
   "metadata": {
    "colab_type": "text",
    "id": "C9orujmMN8VI"
   },
   "source": [
    "#### Glove - https://nlp.stanford.edu/projects/glove/"
   ]
  },
  {
   "cell_type": "code",
   "execution_count": 27,
   "metadata": {
    "colab": {},
    "colab_type": "code",
    "id": "KmiZnFAuN8VI"
   },
   "outputs": [],
   "source": [
    "from gensim.test.utils import datapath, get_tmpfile\n",
    "from gensim.models import KeyedVectors\n",
    "from gensim.scripts.glove2word2vec import glove2word2vec\n",
    " \n",
    "glove_file = datapath('/home/rama/Desktop/Research_Work/glove_twitter_27B/glove.twitter.27B.200d.txt')\n",
    "tmp_file = get_tmpfile(\"/home/rama/Desktop/Research_Work/glove_twitter_27B/word2vec.glove.twitter.27B.200d.txt\")\n",
    "\n",
    "_ = glove2word2vec(glove_file, tmp_file)\n",
    "\n",
    "wv_model = KeyedVectors.load_word2vec_format(tmp_file)"
   ]
  },
  {
   "cell_type": "code",
   "execution_count": 28,
   "metadata": {
    "colab": {},
    "colab_type": "code",
    "id": "XK3K3jrLN8VP"
   },
   "outputs": [],
   "source": [
    "#filename = '/home/rama/Desktop/Research_Work/glove_twitter_27B/word2vec.glove.twitter.27B.200d.pkl'\n",
    "#pickle.dump(wv_model, open(filename, 'wb'))"
   ]
  },
  {
   "cell_type": "code",
   "execution_count": 29,
   "metadata": {
    "colab": {},
    "colab_type": "code",
    "id": "umYwMwcTN8VU"
   },
   "outputs": [],
   "source": [
    "filename = 'word2vec.glove.twitter.27B.200d_surface_pro3.pkl'\n",
    "wv_model = pickle.load(open(filename, 'rb'))"
   ]
  },
  {
   "cell_type": "code",
   "execution_count": 30,
   "metadata": {
    "colab": {
     "base_uri": "https://localhost:8080/",
     "height": 728
    },
    "colab_type": "code",
    "id": "TZ0gBnqYN8VZ",
    "outputId": "825031a4-d6a0-4094-d22a-b9e541d70734"
   },
   "outputs": [
    {
     "data": {
      "text/plain": [
       "array([ 3.1493e-01,  1.6898e-01,  4.4888e-01, -4.0723e-01, -2.3704e-01,\n",
       "       -2.9689e-01,  1.6262e-01,  1.2742e-01, -6.4624e-02,  1.7564e-01,\n",
       "       -9.5318e-02,  2.1777e-01,  2.4089e-02,  3.5079e-01,  1.0130e-01,\n",
       "        4.6293e-02,  1.0066e-01, -2.4783e-01, -1.8205e-01,  5.4799e-01,\n",
       "        1.4313e-01, -8.7654e-02, -3.3571e-02,  3.0599e-02, -5.5812e-01,\n",
       "        4.5794e-01,  2.5873e-01, -7.4639e-02,  8.5053e-02,  5.5418e-01,\n",
       "       -4.1490e-01,  2.1394e-01, -1.4694e-01, -4.4708e-01, -1.9627e-01,\n",
       "        1.6421e-01,  5.4602e-01, -2.8340e-01,  4.9021e-02,  2.5403e-02,\n",
       "        1.1044e+00, -3.0742e-01,  8.1930e-02, -5.8080e-02,  5.3712e-02,\n",
       "       -3.3577e-01,  4.8485e-02, -4.6697e-02,  3.3388e-01, -8.0320e-01,\n",
       "        1.0020e-01, -5.7551e-02,  1.1164e-04, -1.0608e-01,  3.4180e-02,\n",
       "       -3.2813e-01, -1.9007e-01,  3.2363e-01,  2.3232e-03, -2.3982e-01,\n",
       "       -3.4963e-01, -1.4001e-01, -4.0524e-01, -5.0799e-01, -2.2730e-01,\n",
       "        8.9149e-01, -1.7248e-01,  1.4668e-01,  2.2715e-01,  1.7697e-01,\n",
       "       -2.9711e-01,  2.7355e-01, -4.4722e-02,  1.9630e-01,  6.7560e-02,\n",
       "        2.7910e-01,  2.8599e-01,  5.1784e-01, -1.4058e-01,  6.1143e-01,\n",
       "        3.5930e-02,  7.1843e-02, -1.2930e-01,  1.8249e-01,  3.6037e-01,\n",
       "        1.9701e-02, -3.6086e-01, -2.7485e-01,  1.3820e-01, -1.7898e-01,\n",
       "        9.1256e-02, -4.7486e-01,  6.5855e-03,  1.0980e-01, -2.7610e-02,\n",
       "       -2.7278e-01, -1.2083e-01,  1.6099e-01, -9.1593e-02,  2.9213e-01,\n",
       "       -1.5337e-01,  6.4232e-01,  3.7568e-01, -1.0883e-01, -1.6680e-01,\n",
       "        2.2421e-01,  6.3600e-02,  5.3750e-02,  7.3362e-01, -3.2694e-01,\n",
       "        3.4150e-02, -9.8006e-01, -2.6298e-01,  4.4413e-01, -8.3663e-03,\n",
       "        5.6713e-01, -1.9656e-02, -3.7795e-01,  2.7922e-01,  6.4807e-02,\n",
       "       -4.3461e-01, -1.8506e-01,  8.7362e-02,  9.7362e-02, -6.1246e-02,\n",
       "        6.8177e-01,  4.2283e-01,  3.1954e-01, -1.1386e-01,  1.0029e-01,\n",
       "       -8.3507e-02,  2.8652e-01,  3.7311e-01, -2.1875e-01, -7.6798e-01,\n",
       "       -2.1037e-03, -1.5485e-02, -3.7577e-01, -2.9693e-01, -3.4931e-01,\n",
       "       -2.6921e-01,  5.7792e-01, -6.1533e-02, -2.5775e-01,  1.0196e-01,\n",
       "       -3.0742e-01, -2.4488e-01,  6.9675e-01, -2.3655e-01,  2.0862e-01,\n",
       "        3.1639e-01,  1.9709e-02, -5.3508e-01, -1.9912e-02,  8.2777e-01,\n",
       "        5.4799e-01, -6.0122e-02, -1.0557e-01, -3.1489e-01,  3.5863e-01,\n",
       "       -4.9037e-01, -6.1598e-01, -2.9000e-01, -3.1238e-01,  5.0992e-01,\n",
       "        2.0350e-01, -8.1219e-02,  2.9958e-01,  2.6456e-01,  4.7134e-01,\n",
       "        1.0656e-01, -4.5833e-01,  5.6279e-01,  4.1557e-01, -5.9347e-01,\n",
       "       -3.0610e-01, -1.0335e+00, -1.3440e-01, -3.1252e-01,  9.8474e-02,\n",
       "        4.3398e-01, -2.5539e-01, -2.7143e-01, -6.9546e-01, -4.0887e-02,\n",
       "       -1.6711e-01,  3.5217e-01, -5.5961e-01, -3.2577e-01,  3.4727e-01,\n",
       "       -1.3734e-01,  1.0055e-01,  2.7306e-01,  1.0770e-01, -4.4858e-01,\n",
       "       -3.0616e-01,  3.2635e-01,  6.3892e-02, -2.4787e-01,  8.3937e-02],\n",
       "      dtype=float32)"
      ]
     },
     "execution_count": 30,
     "metadata": {},
     "output_type": "execute_result"
    }
   ],
   "source": [
    "wv_model.get_vector(\"mkr\")"
   ]
  },
  {
   "cell_type": "code",
   "execution_count": 31,
   "metadata": {
    "colab": {
     "base_uri": "https://localhost:8080/",
     "height": 35
    },
    "colab_type": "code",
    "id": "gI0jez0VN8Vd",
    "outputId": "f9fdf901-6cf7-44d8-8c4b-ae7dff25e2cd"
   },
   "outputs": [
    {
     "data": {
      "text/plain": [
       "1193514"
      ]
     },
     "execution_count": 31,
     "metadata": {},
     "output_type": "execute_result"
    }
   ],
   "source": [
    "len(wv_model.vocab)"
   ]
  },
  {
   "cell_type": "code",
   "execution_count": 32,
   "metadata": {
    "colab": {
     "base_uri": "https://localhost:8080/",
     "height": 35
    },
    "colab_type": "code",
    "id": "wZlwgme1N8Vj",
    "outputId": "0364083c-8b97-4395-96f8-7e517eb18e03"
   },
   "outputs": [
    {
     "data": {
      "text/plain": [
       "(200,)"
      ]
     },
     "execution_count": 32,
     "metadata": {},
     "output_type": "execute_result"
    }
   ],
   "source": [
    "vector = wv_model[\"<hashtag>\"] \n",
    "vector.shape"
   ]
  },
  {
   "cell_type": "code",
   "execution_count": 33,
   "metadata": {
    "colab": {},
    "colab_type": "code",
    "id": "IfVwvl3wN8Vq"
   },
   "outputs": [],
   "source": [
    "embedding_dim=vector.shape[0]"
   ]
  },
  {
   "cell_type": "code",
   "execution_count": 34,
   "metadata": {
    "colab": {},
    "colab_type": "code",
    "id": "GY0_8z-lN8Vw"
   },
   "outputs": [],
   "source": [
    "#text_tokenizer.word_index"
   ]
  },
  {
   "cell_type": "code",
   "execution_count": 35,
   "metadata": {
    "colab": {},
    "colab_type": "code",
    "id": "51wgM3f8N8V3"
   },
   "outputs": [],
   "source": [
    "#text_tokenizer.index_word"
   ]
  },
  {
   "cell_type": "code",
   "execution_count": 36,
   "metadata": {
    "colab": {
     "base_uri": "https://localhost:8080/",
     "height": 35
    },
    "colab_type": "code",
    "id": "K9grUSHmN8V8",
    "outputId": "76918b0d-c436-4e0b-bcb1-addb0ca69f85"
   },
   "outputs": [
    {
     "name": "stdout",
     "output_type": "stream",
     "text": [
      "vocab_size :  22366\n"
     ]
    }
   ],
   "source": [
    "vocab_size = len(text_tokenizer.word_index)+1  \n",
    "print('vocab_size : ', vocab_size)"
   ]
  },
  {
   "cell_type": "code",
   "execution_count": 37,
   "metadata": {
    "colab": {},
    "colab_type": "code",
    "id": "FB1h3qjuN8WD"
   },
   "outputs": [],
   "source": [
    "BATCH_SIZE = 64"
   ]
  },
  {
   "cell_type": "code",
   "execution_count": 38,
   "metadata": {
    "colab": {},
    "colab_type": "code",
    "id": "t-srnz03N8WJ"
   },
   "outputs": [],
   "source": [
    "def generate_sent_word2vec_array(lst_sent):\n",
    "    word_array = np.zeros((max_len, embedding_dim))\n",
    "    for i, word in enumerate(lst_sent):\n",
    "        if word in wv_model.vocab:\n",
    "            word_array[i] = wv_model[word]\n",
    "        else:\n",
    "            word_array[i] = np.zeros(embedding_dim)\n",
    "    return word_array"
   ]
  },
  {
   "cell_type": "code",
   "execution_count": 41,
   "metadata": {
    "colab": {},
    "colab_type": "code",
    "id": "cldJGVHWN8WP"
   },
   "outputs": [],
   "source": [
    "def split_batch(X, y):\n",
    "    n_batches = len(y) // BATCH_SIZE\n",
    "       \n",
    "    for batch_idx in range(n_batches):\n",
    "        y_batch_labels = np.array(y[batch_idx*BATCH_SIZE : batch_idx*BATCH_SIZE + BATCH_SIZE])\n",
    "        \n",
    "        X_batch_sents = X[batch_idx*BATCH_SIZE : batch_idx*BATCH_SIZE + BATCH_SIZE]\n",
    "        X_batch = None\n",
    "        for lst_sent in X_batch_sents:\n",
    "            send_2d_arr = generate_sent_word2vec_array(lst_sent)\n",
    "            if X_batch is None:\n",
    "                X_batch = np.array([send_2d_arr])\n",
    "            else:\n",
    "                X_batch = np.append(X_batch, values=[send_2d_arr], axis=0)\n",
    "                \n",
    "                \n",
    "        yield X_batch, y_batch_labels"
   ]
  },
  {
   "cell_type": "code",
   "execution_count": 42,
   "metadata": {
    "colab": {
     "base_uri": "https://localhost:8080/",
     "height": 53
    },
    "colab_type": "code",
    "id": "hu6xl4CpN8WY",
    "outputId": "f79af764-4a1a-4a34-fa6d-e790d9a4c95e"
   },
   "outputs": [
    {
     "data": {
      "text/plain": [
       "'cnt = 0\\nfor x, y in split_batch(X_text_corpus, y_test):\\n    if cnt > 0:\\n        break;\\n    print(x.shape, x.dtype)\\n    print(y.shape, y.dtype)\\n    cnt = cnt +1'"
      ]
     },
     "execution_count": 42,
     "metadata": {},
     "output_type": "execute_result"
    }
   ],
   "source": [
    "'''cnt = 0\n",
    "for x, y in split_batch(X_text_corpus, y_test):\n",
    "    if cnt > 0:\n",
    "        break;\n",
    "    print(x.shape, x.dtype)\n",
    "    print(y.shape, y.dtype)\n",
    "    cnt = cnt +1'''"
   ]
  },
  {
   "cell_type": "markdown",
   "metadata": {
    "colab_type": "text",
    "id": "-8QqdCsaN8Wg"
   },
   "source": [
    "* https://www.tensorflow.org/tutorials/text/word_embeddings\n",
    "* https://www.tensorflow.org/tutorials/text/text_classification_rnn"
   ]
  },
  {
   "cell_type": "code",
   "execution_count": 43,
   "metadata": {
    "colab": {
     "base_uri": "https://localhost:8080/",
     "height": 35
    },
    "colab_type": "code",
    "id": "EEgupWAdN8Wt",
    "outputId": "429934bc-10e6-4cdb-98fc-0063c4696b72"
   },
   "outputs": [
    {
     "name": "stdout",
     "output_type": "stream",
     "text": [
      "Test data max lengthed String:  1\n"
     ]
    }
   ],
   "source": [
    "print('Test data max lengthed String: ', fun_max_len(X_test))"
   ]
  },
  {
   "cell_type": "code",
   "execution_count": 45,
   "metadata": {
    "colab": {},
    "colab_type": "code",
    "id": "H6iiaXLtN8W2"
   },
   "outputs": [],
   "source": [
    "X_test_seq_data = text_tokenizer.texts_to_sequences(X_test)\n",
    "#X_test_seq_data = tf.keras.preprocessing.sequence.pad_sequences(X_test_seq_data, padding='post', maxlen=max_len)"
   ]
  },
  {
   "cell_type": "code",
   "execution_count": 46,
   "metadata": {
    "colab": {
     "base_uri": "https://localhost:8080/",
     "height": 55
    },
    "colab_type": "code",
    "id": "odxVUEi7N8W8",
    "outputId": "e44d2838-7c82-448a-d1be-76e7896e2dec"
   },
   "outputs": [
    {
     "name": "stdout",
     "output_type": "stream",
     "text": [
      "[[26, 10, 1570, 5, 24, 4, 165, 225, 206, 12, 4, 1368, 9, 1230, 267, 4, 7001, 3], [6, 1, 38, 28, 50, 78, 7, 162, 22, 51, 2239, 79, 9, 3, 22, 17, 34, 3189, 31, 12, 1618, 13, 17, 27, 4948]]\n"
     ]
    }
   ],
   "source": [
    "print(X_test_seq_data[:2])"
   ]
  },
  {
   "cell_type": "code",
   "execution_count": 47,
   "metadata": {
    "colab": {},
    "colab_type": "code",
    "id": "r4T6PSIXN8XD"
   },
   "outputs": [],
   "source": [
    "X_test_seq_to_text = text_tokenizer.sequences_to_texts(X_test_seq_data)"
   ]
  },
  {
   "cell_type": "code",
   "execution_count": 48,
   "metadata": {
    "colab": {
     "base_uri": "https://localhost:8080/",
     "height": 55
    },
    "colab_type": "code",
    "id": "o7WEyn6IN8XK",
    "outputId": "bff44124-1ab2-4b4a-9a7e-0fb41f86746e"
   },
   "outputs": [
    {
     "name": "stdout",
     "output_type": "stream",
     "text": [
      "['this is supposed to be a fucking cooking show not a bunch of walking down a runway <hashtag>mkr', \"rt user if kat &amp; andre i hope they get kicked out of <hashtag>mkr they are so horrible. it's not editing you are just horrid.\"]\n"
     ]
    }
   ],
   "source": [
    "print(X_test_seq_to_text[:2])"
   ]
  },
  {
   "cell_type": "code",
   "execution_count": 49,
   "metadata": {
    "colab": {},
    "colab_type": "code",
    "id": "izCk6lU-N8XQ"
   },
   "outputs": [],
   "source": [
    "X_text_corpus = [x.split() for x in X_test_seq_to_text]"
   ]
  },
  {
   "cell_type": "code",
   "execution_count": 50,
   "metadata": {
    "colab": {
     "base_uri": "https://localhost:8080/",
     "height": 55
    },
    "colab_type": "code",
    "id": "K4kNOEPpN8XV",
    "outputId": "2a1cce1d-cb98-453d-ff2e-cb60b7586f73"
   },
   "outputs": [
    {
     "name": "stdout",
     "output_type": "stream",
     "text": [
      "[['this', 'is', 'supposed', 'to', 'be', 'a', 'fucking', 'cooking', 'show', 'not', 'a', 'bunch', 'of', 'walking', 'down', 'a', 'runway', '<hashtag>mkr'], ['rt', 'user', 'if', 'kat', '&amp;', 'andre', 'i', 'hope', 'they', 'get', 'kicked', 'out', 'of', '<hashtag>mkr', 'they', 'are', 'so', 'horrible.', \"it's\", 'not', 'editing', 'you', 'are', 'just', 'horrid.']]\n"
     ]
    }
   ],
   "source": [
    "print(X_text_corpus[:2])"
   ]
  },
  {
   "cell_type": "code",
   "execution_count": 51,
   "metadata": {
    "colab": {
     "base_uri": "https://localhost:8080/",
     "height": 52
    },
    "colab_type": "code",
    "id": "1ZUnqEVEN8XZ",
    "outputId": "c7f8fe76-f6bf-4c62-c35c-24c534703007"
   },
   "outputs": [
    {
     "name": "stdout",
     "output_type": "stream",
     "text": [
      "TRAIN_BUFFER_SIZE :  17178\n",
      "TEST_BUFFER_SIZE :  1377\n"
     ]
    }
   ],
   "source": [
    "TRAIN_BUFFER_SIZE = len(X_train)\n",
    "print('TRAIN_BUFFER_SIZE : ', TRAIN_BUFFER_SIZE)\n",
    "TEST_BUFFER_SIZE = len(X_test)\n",
    "print('TEST_BUFFER_SIZE : ', TEST_BUFFER_SIZE)"
   ]
  },
  {
   "cell_type": "code",
   "execution_count": 52,
   "metadata": {
    "colab": {},
    "colab_type": "code",
    "id": "FN2g0kvRN8Xd"
   },
   "outputs": [],
   "source": [
    "#train_dataset = tf.data.Dataset.from_generator(lambda : split_batch(X_train_corpus, y_train) ,\n",
    "#                               output_types=(tf.float32, tf.int32), \n",
    "#                               output_shapes=( tf.TensorShape([BATCH_SIZE, max_len, embedding_dim]), tf.TensorShape([None]) )  )"
   ]
  },
  {
   "cell_type": "code",
   "execution_count": 53,
   "metadata": {
    "colab": {},
    "colab_type": "code",
    "id": "ksE_hd8SN8Xi"
   },
   "outputs": [],
   "source": [
    "#list(train_dataset.take(4).as_numpy_iterator())[0][:]"
   ]
  },
  {
   "cell_type": "code",
   "execution_count": 54,
   "metadata": {
    "colab": {},
    "colab_type": "code",
    "id": "i9FnkHa_N8Xm"
   },
   "outputs": [],
   "source": [
    "train_dataset = tf.data.Dataset.from_generator(lambda : split_batch(X_train_corpus, y_train),\n",
    "                               output_types=(tf.float32, tf.int32), \n",
    "                               output_shapes=( tf.TensorShape([BATCH_SIZE, max_len, embedding_dim]), tf.TensorShape([None]) )  )\n",
    "\n",
    "test_dataset = tf.data.Dataset.from_generator(lambda : split_batch(X_text_corpus, y_test),\n",
    "                               output_types=(tf.float32, tf.int32), \n",
    "                               output_shapes=( tf.TensorShape([BATCH_SIZE, max_len, embedding_dim]), tf.TensorShape([None]) )  )"
   ]
  },
  {
   "cell_type": "code",
   "execution_count": 55,
   "metadata": {
    "colab": {
     "base_uri": "https://localhost:8080/",
     "height": 69
    },
    "colab_type": "code",
    "id": "WPINdJinN8Xq",
    "outputId": "a5644e6d-b4eb-49b5-a884-3b5b618dda1f"
   },
   "outputs": [
    {
     "data": {
      "text/plain": [
       "1.0    8589\n",
       "0.0    8589\n",
       "Name: lable, dtype: int64"
      ]
     },
     "execution_count": 55,
     "metadata": {},
     "output_type": "execute_result"
    }
   ],
   "source": [
    "y_train.value_counts()"
   ]
  },
  {
   "cell_type": "code",
   "execution_count": 71,
   "metadata": {
    "colab": {
     "base_uri": "https://localhost:8080/",
     "height": 503
    },
    "colab_type": "code",
    "id": "Sgqr56HMN8X6",
    "outputId": "f867ce8a-7d0f-45d5-ec10-20a97a405a7c",
    "scrolled": false
   },
   "outputs": [
    {
     "name": "stdout",
     "output_type": "stream",
     "text": [
      "Model: \"sequential_5\"\n",
      "_________________________________________________________________\n",
      "Layer (type)                 Output Shape              Param #   \n",
      "=================================================================\n",
      "conv1d_15 (Conv1D)           (None, 325, 4)            3204      \n",
      "_________________________________________________________________\n",
      "max_pooling1d_15 (MaxPooling (None, 321, 4)            0         \n",
      "_________________________________________________________________\n",
      "conv1d_16 (Conv1D)           (None, 321, 4)            52        \n",
      "_________________________________________________________________\n",
      "max_pooling1d_16 (MaxPooling (None, 317, 4)            0         \n",
      "_________________________________________________________________\n",
      "conv1d_17 (Conv1D)           (None, 317, 4)            36        \n",
      "_________________________________________________________________\n",
      "max_pooling1d_17 (MaxPooling (None, 313, 4)            0         \n",
      "_________________________________________________________________\n",
      "flatten_5 (Flatten)          (None, 1252)              0         \n",
      "_________________________________________________________________\n",
      "dense_10 (Dense)             (None, 4)                 5012      \n",
      "_________________________________________________________________\n",
      "dense_11 (Dense)             (None, 1)                 5         \n",
      "=================================================================\n",
      "Total params: 8,309\n",
      "Trainable params: 8,309\n",
      "Non-trainable params: 0\n",
      "_________________________________________________________________\n"
     ]
    }
   ],
   "source": [
    "model = tf.keras.Sequential([\n",
    "    \n",
    "    #tf.keras.layers.Embedding(vocab_size, embedding_dim),\n",
    "\n",
    "    tf.keras.layers.Conv1D(kernel_size=4, filters=4, padding='same', activation='relu', input_shape=(max_len,embedding_dim)),\n",
    "    tf.keras.layers.MaxPool1D(pool_size=5, strides=1),\n",
    "    tf.keras.layers.Conv1D(kernel_size=3, filters=4, padding='same', activation='relu'),\n",
    "    tf.keras.layers.MaxPool1D(pool_size=5, strides=1),    \n",
    "    tf.keras.layers.Conv1D(kernel_size=2, filters=4, padding='same', activation='relu'),\n",
    "    tf.keras.layers.MaxPool1D(pool_size=5, strides=1),    \n",
    "  \n",
    "    tf.keras.layers.Flatten(),\n",
    "\n",
    "    #tf.keras.layers.Dense(8, activation='relu', kernel_regularizer=tf.keras.regularizers.l2(0.999)),\n",
    "    tf.keras.layers.Dense(4, activation='relu'),\n",
    "    #tf.keras.layers.Dropout(.6),\n",
    "\n",
    "    tf.keras.layers.Dense(1, activation='sigmoid')\n",
    "\n",
    "\n",
    "])\n",
    "\n",
    "model.summary()"
   ]
  },
  {
   "cell_type": "code",
   "execution_count": 72,
   "metadata": {
    "colab": {},
    "colab_type": "code",
    "id": "2o25bL-gN8X8"
   },
   "outputs": [],
   "source": [
    "model.compile(loss=tf.keras.losses.BinaryCrossentropy(from_logits=False),\n",
    "              optimizer=tf.keras.optimizers.Adam(learning_rate=0.00001),\n",
    "              metrics=['accuracy'])"
   ]
  },
  {
   "cell_type": "code",
   "execution_count": 73,
   "metadata": {
    "colab": {
     "base_uri": "https://localhost:8080/",
     "height": 52
    },
    "colab_type": "code",
    "id": "v6YgwBr4N8X_",
    "outputId": "6210c2e6-c53a-478b-b3d5-02935ec59552",
    "scrolled": true
   },
   "outputs": [
    {
     "name": "stdout",
     "output_type": "stream",
     "text": [
      "Epoch 1/10\n",
      "268/268 [==============================] - 309s 1s/step - loss: 0.6941 - accuracy: 0.5008 - val_loss: 0.0000e+00 - val_accuracy: 0.0000e+00\n",
      "Epoch 2/10\n",
      "268/268 [==============================] - 313s 1s/step - loss: 0.6931 - accuracy: 0.5008 - val_loss: 0.6892 - val_accuracy: 0.6882\n",
      "Epoch 3/10\n",
      "268/268 [==============================] - 409s 2s/step - loss: 0.6927 - accuracy: 0.5008 - val_loss: 0.6889 - val_accuracy: 0.6882\n",
      "Epoch 4/10\n",
      "268/268 [==============================] - 397s 1s/step - loss: 0.6922 - accuracy: 0.5008 - val_loss: 0.6883 - val_accuracy: 0.6882\n",
      "Epoch 5/10\n",
      "268/268 [==============================] - 299s 1s/step - loss: 0.6917 - accuracy: 0.5008 - val_loss: 0.6876 - val_accuracy: 0.6882\n",
      "Epoch 6/10\n",
      "268/268 [==============================] - 296s 1s/step - loss: 0.6910 - accuracy: 0.5008 - val_loss: 0.6868 - val_accuracy: 0.6882\n",
      "Epoch 7/10\n",
      "268/268 [==============================] - 339s 1s/step - loss: 0.6905 - accuracy: 0.5008 - val_loss: 0.6860 - val_accuracy: 0.6882\n",
      "Epoch 8/10\n",
      "268/268 [==============================] - 315s 1s/step - loss: 0.6900 - accuracy: 0.5008 - val_loss: 0.6851 - val_accuracy: 0.6882\n",
      "Epoch 9/10\n",
      "268/268 [==============================] - 362s 1s/step - loss: 0.6895 - accuracy: 0.5008 - val_loss: 0.6843 - val_accuracy: 0.6882\n",
      "Epoch 10/10\n",
      "268/268 [==============================] - 396s 1s/step - loss: 0.6891 - accuracy: 0.5008 - val_loss: 0.6829 - val_accuracy: 0.6882\n"
     ]
    }
   ],
   "source": [
    "early_stopping_callback = tf.keras.callbacks.EarlyStopping(patience=10, restore_best_weights=True, monitor='val_accuracy')\n",
    "checkpoint_callback = tf.keras.callbacks.ModelCheckpoint(\"5_1_waseem_deep_glove_v4.h5\", save_best_only=True)\n",
    "\n",
    "history = model.fit(train_dataset, epochs=10,\n",
    "                    validation_data=test_dataset,\n",
    "              callbacks=[checkpoint_callback, early_stopping_callback])"
   ]
  },
  {
   "cell_type": "code",
   "execution_count": null,
   "metadata": {
    "colab": {},
    "colab_type": "code",
    "id": "ZA5yiXpUN8YC"
   },
   "outputs": [],
   "source": [
    "model.predict(test_dataset)"
   ]
  },
  {
   "cell_type": "code",
   "execution_count": null,
   "metadata": {
    "colab": {},
    "colab_type": "code",
    "id": "LCk29ZNZN8YE"
   },
   "outputs": [],
   "source": [
    "sample_text_x, sample_test_y = next(iter(test_dataset))"
   ]
  },
  {
   "cell_type": "code",
   "execution_count": null,
   "metadata": {
    "colab": {},
    "colab_type": "code",
    "id": "ZyP_ebY-N8YH"
   },
   "outputs": [],
   "source": [
    "print(model.predict_classes(sample_text_x))"
   ]
  },
  {
   "cell_type": "code",
   "execution_count": null,
   "metadata": {
    "colab": {},
    "colab_type": "code",
    "id": "0i5qYBh1N8YK"
   },
   "outputs": [],
   "source": [
    "import matplotlib.pyplot as plt\n",
    "\n",
    "def plot_graphs(history, metric):\n",
    "    plt.plot(history.history[metric])\n",
    "    plt.plot(history.history['val_'+metric], '')\n",
    "    plt.xlabel(\"Epochs\")\n",
    "    plt.ylabel(metric)\n",
    "    plt.legend([metric, 'val_'+metric])\n",
    "    plt.show()"
   ]
  },
  {
   "cell_type": "code",
   "execution_count": null,
   "metadata": {
    "colab": {},
    "colab_type": "code",
    "id": "aXCaYo-cN8YQ"
   },
   "outputs": [],
   "source": [
    "plot_graphs(history, 'accuracy')"
   ]
  },
  {
   "cell_type": "code",
   "execution_count": null,
   "metadata": {
    "colab": {},
    "colab_type": "code",
    "id": "0np4C19NN8YS"
   },
   "outputs": [],
   "source": [
    "plot_graphs(history, 'loss')"
   ]
  },
  {
   "cell_type": "code",
   "execution_count": null,
   "metadata": {
    "colab": {},
    "colab_type": "code",
    "id": "BppeVAhIebRv"
   },
   "outputs": [],
   "source": [
    "#model.save(\"5.1_waseem_deep_glove_v3.h5\")"
   ]
  },
  {
   "cell_type": "code",
   "execution_count": null,
   "metadata": {
    "colab": {},
    "colab_type": "code",
    "id": "3MnqeCeNN8YV"
   },
   "outputs": [],
   "source": [
    "hist_filename = 'history_5.1_waseem_deep_glove_v3.pkl'\n",
    "pickle.dump(wv_model, open(hist_filename_v2, 'wb'))"
   ]
  },
  {
   "cell_type": "code",
   "execution_count": null,
   "metadata": {
    "colab": {},
    "colab_type": "code",
    "id": "jDYGkfVDN8YX"
   },
   "outputs": [],
   "source": []
  },
  {
   "cell_type": "code",
   "execution_count": null,
   "metadata": {
    "colab": {},
    "colab_type": "code",
    "id": "dVKdydNeN8YZ"
   },
   "outputs": [],
   "source": [
    "#model = tf.keras.models.load_model(\"5.1_waseem_deep_glove_basic_pp_50_epochs.h5\")"
   ]
  },
  {
   "cell_type": "code",
   "execution_count": null,
   "metadata": {
    "colab": {},
    "colab_type": "code",
    "id": "CnlfGLmYN8Yb"
   },
   "outputs": [],
   "source": []
  },
  {
   "cell_type": "code",
   "execution_count": null,
   "metadata": {
    "colab": {},
    "colab_type": "code",
    "id": "KwA1yUbzN8Ye"
   },
   "outputs": [],
   "source": []
  },
  {
   "cell_type": "code",
   "execution_count": null,
   "metadata": {
    "colab": {},
    "colab_type": "code",
    "id": "XrmzqZOIN8Yi"
   },
   "outputs": [],
   "source": []
  },
  {
   "cell_type": "code",
   "execution_count": null,
   "metadata": {
    "colab": {},
    "colab_type": "code",
    "id": "AHHz02WvN8Ym"
   },
   "outputs": [],
   "source": [
    "text_tokenizer = tf.keras.preprocessing.text.Tokenizer(filters='')\n",
    "fit_text = [\"The earth is an awesome place live\"]\n",
    "text_tokenizer.fit_on_texts(fit_text)\n",
    "\n",
    "#fit_on_texts fits on sentences when list of sentences is passed to fit_on_texts() function. \n",
    "#ie - fit_on_texts( [ sent1, sent2, sent3,....sentN ] )\n",
    "\n",
    "#Similarly, list of sentences/single sentence in a list must be passed into texts_to_sequences.\n",
    "test_text1 = \"The earth is an great place live\"\n",
    "test_text2 = \"The is my program\"\n",
    "sequences = text_tokenizer.texts_to_sequences([test_text1, test_text2])\n",
    "\n",
    "print('sequences : ',sequences,'\\n')\n",
    "\n",
    "print('word_index : ',text_tokenizer.word_index)\n",
    "#texts_to_sequences() returns list of list. ie - [ [] ]"
   ]
  },
  {
   "cell_type": "code",
   "execution_count": null,
   "metadata": {
    "colab": {},
    "colab_type": "code",
    "id": "0Lta-L2XN8Yp"
   },
   "outputs": [],
   "source": [
    "lst = [1] \n",
    "lst * 3"
   ]
  },
  {
   "cell_type": "code",
   "execution_count": null,
   "metadata": {
    "colab": {},
    "colab_type": "code",
    "id": "i_7iATsDN8Yr"
   },
   "outputs": [],
   "source": [
    "import itertools\n",
    "\n",
    "def gen():\n",
    "    for i in itertools.count(1):\n",
    "        yield (np.array([ [i, i, i], [i, i, i] ]) , [1] * i)\n",
    "\n",
    "dataset = tf.data.Dataset.from_generator(\n",
    "     gen,\n",
    "     (tf.int64, tf.int64),\n",
    "     (tf.TensorShape([2, 3]), tf.TensorShape([None])) )\n",
    "\n",
    "list(dataset.take(4).as_numpy_iterator())"
   ]
  }
 ],
 "metadata": {
  "accelerator": "GPU",
  "colab": {
   "collapsed_sections": [],
   "name": "5_1_waseem_deep_glove_v3.ipynb",
   "provenance": []
  },
  "kernelspec": {
   "display_name": "Python 3",
   "language": "python",
   "name": "python3"
  },
  "language_info": {
   "codemirror_mode": {
    "name": "ipython",
    "version": 3
   },
   "file_extension": ".py",
   "mimetype": "text/x-python",
   "name": "python",
   "nbconvert_exporter": "python",
   "pygments_lexer": "ipython3",
   "version": "3.8.5"
  }
 },
 "nbformat": 4,
 "nbformat_minor": 1
}
