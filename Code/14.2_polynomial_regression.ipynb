{
 "cells": [
  {
   "cell_type": "code",
   "execution_count": 1,
   "metadata": {},
   "outputs": [],
   "source": [
    "import pandas as pd\n",
    "import numpy as np\n",
    "import matplotlib.pyplot as plt\n",
    "import seaborn as sns\n",
    "\n",
    "from sklearn.linear_model import LinearRegression\n",
    "from sklearn.model_selection import ShuffleSplit"
   ]
  },
  {
   "cell_type": "code",
   "execution_count": 2,
   "metadata": {},
   "outputs": [],
   "source": [
    "employee_data = pd.read_csv(\"../Data/regression_employee_data.csv\")"
   ]
  },
  {
   "cell_type": "code",
   "execution_count": 3,
   "metadata": {
    "scrolled": true
   },
   "outputs": [
    {
     "data": {
      "text/html": [
       "<div>\n",
       "<style scoped>\n",
       "    .dataframe tbody tr th:only-of-type {\n",
       "        vertical-align: middle;\n",
       "    }\n",
       "\n",
       "    .dataframe tbody tr th {\n",
       "        vertical-align: top;\n",
       "    }\n",
       "\n",
       "    .dataframe thead th {\n",
       "        text-align: right;\n",
       "    }\n",
       "</style>\n",
       "<table border=\"1\" class=\"dataframe\">\n",
       "  <thead>\n",
       "    <tr style=\"text-align: right;\">\n",
       "      <th></th>\n",
       "      <th>Emp #</th>\n",
       "      <th>Designation</th>\n",
       "      <th>Experience</th>\n",
       "      <th>Salary</th>\n",
       "      <th>AggrBehavScore</th>\n",
       "      <th>ActivityScore</th>\n",
       "      <th>LinesOfCode</th>\n",
       "      <th>Qualification</th>\n",
       "      <th>Degree</th>\n",
       "      <th>YearsOfStudy</th>\n",
       "      <th>EducationalInstitute</th>\n",
       "      <th>Gender</th>\n",
       "      <th>Empl_Band</th>\n",
       "    </tr>\n",
       "  </thead>\n",
       "  <tbody>\n",
       "    <tr>\n",
       "      <th>0</th>\n",
       "      <td>e1</td>\n",
       "      <td>Director</td>\n",
       "      <td>16.0</td>\n",
       "      <td>85861</td>\n",
       "      <td>0.526928</td>\n",
       "      <td>5</td>\n",
       "      <td>1678</td>\n",
       "      <td>Grad</td>\n",
       "      <td>NaN</td>\n",
       "      <td>15.0</td>\n",
       "      <td>clg</td>\n",
       "      <td>M</td>\n",
       "      <td>A</td>\n",
       "    </tr>\n",
       "    <tr>\n",
       "      <th>1</th>\n",
       "      <td>e2</td>\n",
       "      <td>Jr.Dev</td>\n",
       "      <td>3.0</td>\n",
       "      <td>25376</td>\n",
       "      <td>6.420421</td>\n",
       "      <td>18</td>\n",
       "      <td>6082</td>\n",
       "      <td>Grad</td>\n",
       "      <td>Btech</td>\n",
       "      <td>16.0</td>\n",
       "      <td>clg</td>\n",
       "      <td>F</td>\n",
       "      <td>C</td>\n",
       "    </tr>\n",
       "    <tr>\n",
       "      <th>2</th>\n",
       "      <td>e3</td>\n",
       "      <td>Sr.Dev</td>\n",
       "      <td>6.0</td>\n",
       "      <td>38193</td>\n",
       "      <td>2.802337</td>\n",
       "      <td>7</td>\n",
       "      <td>2927</td>\n",
       "      <td>PostGrad</td>\n",
       "      <td>Msc</td>\n",
       "      <td>17.0</td>\n",
       "      <td>unv</td>\n",
       "      <td>M</td>\n",
       "      <td>B</td>\n",
       "    </tr>\n",
       "    <tr>\n",
       "      <th>3</th>\n",
       "      <td>e4</td>\n",
       "      <td>Jr.Dev</td>\n",
       "      <td>3.0</td>\n",
       "      <td>22807</td>\n",
       "      <td>9.374888</td>\n",
       "      <td>23</td>\n",
       "      <td>10249</td>\n",
       "      <td>NaN</td>\n",
       "      <td>Mtech</td>\n",
       "      <td>18.0</td>\n",
       "      <td>NaN</td>\n",
       "      <td>F</td>\n",
       "      <td>C</td>\n",
       "    </tr>\n",
       "    <tr>\n",
       "      <th>4</th>\n",
       "      <td>e5</td>\n",
       "      <td>Sr.Dev</td>\n",
       "      <td>4.0</td>\n",
       "      <td>37624</td>\n",
       "      <td>3.336564</td>\n",
       "      <td>10</td>\n",
       "      <td>3159</td>\n",
       "      <td>NaN</td>\n",
       "      <td>Btech</td>\n",
       "      <td>16.0</td>\n",
       "      <td>NaN</td>\n",
       "      <td>F</td>\n",
       "      <td>B</td>\n",
       "    </tr>\n",
       "  </tbody>\n",
       "</table>\n",
       "</div>"
      ],
      "text/plain": [
       "  Emp # Designation  Experience  Salary  AggrBehavScore  ActivityScore  \\\n",
       "0    e1    Director        16.0   85861        0.526928              5   \n",
       "1    e2      Jr.Dev         3.0   25376        6.420421             18   \n",
       "2    e3      Sr.Dev         6.0   38193        2.802337              7   \n",
       "3    e4      Jr.Dev         3.0   22807        9.374888             23   \n",
       "4    e5      Sr.Dev         4.0   37624        3.336564             10   \n",
       "\n",
       "   LinesOfCode Qualification Degree  YearsOfStudy EducationalInstitute Gender  \\\n",
       "0         1678          Grad    NaN          15.0                  clg      M   \n",
       "1         6082          Grad  Btech          16.0                  clg      F   \n",
       "2         2927      PostGrad    Msc          17.0                  unv      M   \n",
       "3        10249           NaN  Mtech          18.0                  NaN      F   \n",
       "4         3159           NaN  Btech          16.0                  NaN      F   \n",
       "\n",
       "  Empl_Band  \n",
       "0         A  \n",
       "1         C  \n",
       "2         B  \n",
       "3         C  \n",
       "4         B  "
      ]
     },
     "execution_count": 3,
     "metadata": {},
     "output_type": "execute_result"
    }
   ],
   "source": [
    "employee_data.head()"
   ]
  },
  {
   "cell_type": "markdown",
   "metadata": {},
   "source": [
    "* Step 1: Split data into Train and Test"
   ]
  },
  {
   "cell_type": "code",
   "execution_count": 4,
   "metadata": {},
   "outputs": [],
   "source": [
    "shuffleSplit = ShuffleSplit(n_splits=1, test_size=0.2, random_state=33)\n",
    "for train_index, test_index in shuffleSplit.split(employee_data):\n",
    "    train_set = employee_data.loc[train_index]\n",
    "    test_set = employee_data.loc[test_index]"
   ]
  },
  {
   "cell_type": "code",
   "execution_count": 5,
   "metadata": {},
   "outputs": [
    {
     "data": {
      "text/plain": [
       "(1209, 13)"
      ]
     },
     "execution_count": 5,
     "metadata": {},
     "output_type": "execute_result"
    }
   ],
   "source": [
    "train_set.shape"
   ]
  },
  {
   "cell_type": "code",
   "execution_count": 6,
   "metadata": {},
   "outputs": [
    {
     "data": {
      "text/plain": [
       "(303, 13)"
      ]
     },
     "execution_count": 6,
     "metadata": {},
     "output_type": "execute_result"
    }
   ],
   "source": [
    "test_set.shape"
   ]
  },
  {
   "cell_type": "markdown",
   "metadata": {},
   "source": [
    "* Impute null"
   ]
  },
  {
   "cell_type": "code",
   "execution_count": 7,
   "metadata": {},
   "outputs": [],
   "source": [
    "train_set.loc[train_set[train_set['LinesOfCode'] < 0].index.values, 'LinesOfCode'] = 0"
   ]
  },
  {
   "cell_type": "code",
   "execution_count": 8,
   "metadata": {},
   "outputs": [],
   "source": [
    "YearsOfStudy_impute_value = train_set['YearsOfStudy'].mode().values[0]\n",
    "train_set['YearsOfStudy'].fillna(YearsOfStudy_impute_value, inplace=True)"
   ]
  },
  {
   "cell_type": "code",
   "execution_count": 9,
   "metadata": {},
   "outputs": [],
   "source": [
    "Qualification_impute_value = train_set['Qualification'].mode().values[0]\n",
    "train_set['Qualification'].fillna(Qualification_impute_value, inplace=True)"
   ]
  },
  {
   "cell_type": "code",
   "execution_count": 10,
   "metadata": {},
   "outputs": [],
   "source": [
    "Degree_impute_value = train_set['Degree'].mode().values[0]\n",
    "train_set['Degree'].fillna(Degree_impute_value, inplace=True)"
   ]
  },
  {
   "cell_type": "code",
   "execution_count": 11,
   "metadata": {},
   "outputs": [],
   "source": [
    "EducationalInstitute_impute_value = train_set['EducationalInstitute'].mode().values[0]\n",
    "train_set['EducationalInstitute'].fillna(EducationalInstitute_impute_value, inplace=True)"
   ]
  },
  {
   "cell_type": "markdown",
   "metadata": {},
   "source": [
    "* Convert all categorical features to numbers"
   ]
  },
  {
   "cell_type": "code",
   "execution_count": 12,
   "metadata": {},
   "outputs": [],
   "source": [
    "train_set.drop('Emp #', axis=1, inplace=True)"
   ]
  },
  {
   "cell_type": "markdown",
   "metadata": {},
   "source": [
    "* Let's convert categorical columns to numbers (Label Encoding)"
   ]
  },
  {
   "cell_type": "code",
   "execution_count": 13,
   "metadata": {},
   "outputs": [],
   "source": [
    "cat_list_dict = {'Designation': ['Sr.Dev', 'Analyst', 'Sr.Analyst', 'Manager', 'Jr.Dev', 'Director', 'Sr.Manager'],\n",
    "                'Qualification': ['Grad', 'PostGrad', 'Phd', 'postdoc'],\n",
    "                'Degree': ['Btech', 'Bsc', 'Msc', 'Mba', 'IntMsc', 'B.A', 'Mtech'],\n",
    "                'EducationalInstitute' : ['unv', 'iit', 'clg', 'cunv'],\n",
    "                'Gender': ['M', 'F'],\n",
    "                'Empl_Band': ['B', 'C', 'A']}"
   ]
  },
  {
   "cell_type": "code",
   "execution_count": 14,
   "metadata": {},
   "outputs": [],
   "source": [
    "def convertCategorisToCodes(columns, df):\n",
    "    for column in columns:\n",
    "        df[column] = pd.Categorical(df[column], categories = cat_list_dict[column])\n",
    "        df[column] = df[column].cat.codes"
   ]
  },
  {
   "cell_type": "code",
   "execution_count": 15,
   "metadata": {},
   "outputs": [],
   "source": [
    "convertCategorisToCodes(train_set.select_dtypes(['object']).columns.values, train_set)"
   ]
  },
  {
   "cell_type": "markdown",
   "metadata": {},
   "source": [
    "* Let's build a Polynomial Regressin model"
   ]
  },
  {
   "cell_type": "code",
   "execution_count": 16,
   "metadata": {},
   "outputs": [],
   "source": [
    "train_X = train_set.loc[:, ['Designation', 'Experience', 'AggrBehavScore', 'ActivityScore', 'LinesOfCode', 'Qualification',\n",
    " 'Degree', 'YearsOfStudy', 'EducationalInstitute', 'Gender', 'Empl_Band']]\n",
    "train_y = train_set['Salary']"
   ]
  },
  {
   "cell_type": "markdown",
   "metadata": {},
   "source": [
    "* When we raise the dataset to \"d\" - degree polynomial, the number of columns in dataset becomes to (n + d)!/n! d!"
   ]
  },
  {
   "cell_type": "code",
   "execution_count": 17,
   "metadata": {},
   "outputs": [
    {
     "data": {
      "text/plain": [
       "(1209, 11)"
      ]
     },
     "execution_count": 17,
     "metadata": {},
     "output_type": "execute_result"
    }
   ],
   "source": [
    "train_X.shape"
   ]
  },
  {
   "cell_type": "code",
   "execution_count": 18,
   "metadata": {},
   "outputs": [
    {
     "data": {
      "text/plain": [
       "(1209, 78)"
      ]
     },
     "execution_count": 18,
     "metadata": {},
     "output_type": "execute_result"
    }
   ],
   "source": [
    "from sklearn.preprocessing import PolynomialFeatures\n",
    "poly_features = PolynomialFeatures(degree=2, include_bias=True)\n",
    "train_X_poly = poly_features.fit_transform(train_X)\n",
    "train_X_poly.shape"
   ]
  },
  {
   "cell_type": "code",
   "execution_count": 19,
   "metadata": {},
   "outputs": [
    {
     "data": {
      "text/plain": [
       "LinearRegression()"
      ]
     },
     "execution_count": 19,
     "metadata": {},
     "output_type": "execute_result"
    }
   ],
   "source": [
    "poly_model = LinearRegression()\n",
    "poly_model.fit(train_X_poly, train_y)"
   ]
  },
  {
   "cell_type": "code",
   "execution_count": 20,
   "metadata": {},
   "outputs": [],
   "source": [
    "train_prediction = poly_model.predict(train_X_poly)"
   ]
  },
  {
   "cell_type": "code",
   "execution_count": 21,
   "metadata": {},
   "outputs": [],
   "source": [
    "from sklearn.metrics import r2_score\n",
    "from sklearn.metrics import mean_squared_error"
   ]
  },
  {
   "cell_type": "code",
   "execution_count": 22,
   "metadata": {},
   "outputs": [
    {
     "name": "stdout",
     "output_type": "stream",
     "text": [
      "Train R2 Score :  0.9089509097675514\n",
      "Train Mean Squared Error :  33975622.82261561\n",
      "Train Root Mean Squared Error :  5828.861194317086\n"
     ]
    }
   ],
   "source": [
    "train_r2_score = r2_score(train_y, train_prediction)\n",
    "train_mse = mean_squared_error(train_y, train_prediction)\n",
    "\n",
    "print(\"Train R2 Score : \", train_r2_score)\n",
    "print(\"Train Mean Squared Error : \", train_mse)\n",
    "print(\"Train Root Mean Squared Error : \", np.sqrt(train_mse))"
   ]
  },
  {
   "cell_type": "markdown",
   "metadata": {},
   "source": [
    "* Let's test the model on TEST set"
   ]
  },
  {
   "cell_type": "code",
   "execution_count": 23,
   "metadata": {},
   "outputs": [],
   "source": [
    "test_set.loc[test_set[test_set['LinesOfCode'] < 0].index.values, 'LinesOfCode'] = 0\n",
    "test_set.drop('Emp #', axis=1, inplace=True)\n",
    "test_set['YearsOfStudy'].fillna(YearsOfStudy_impute_value, inplace=True)\n",
    "test_set['Qualification'].fillna(Qualification_impute_value, inplace=True)\n",
    "test_set['Degree'].fillna(Degree_impute_value, inplace=True)\n",
    "test_set['EducationalInstitute'].fillna(EducationalInstitute_impute_value, inplace=True)\n",
    "convertCategorisToCodes(test_set.select_dtypes(['object']).columns.values, test_set)"
   ]
  },
  {
   "cell_type": "code",
   "execution_count": 24,
   "metadata": {},
   "outputs": [],
   "source": [
    "test_X = test_set.loc[:,['Designation', 'Experience', 'AggrBehavScore', 'ActivityScore', 'LinesOfCode', 'Qualification',\n",
    " 'Degree', 'YearsOfStudy', 'EducationalInstitute', 'Gender', 'Empl_Band']]\n",
    "test_y = test_set['Salary']"
   ]
  },
  {
   "cell_type": "code",
   "execution_count": 25,
   "metadata": {},
   "outputs": [
    {
     "data": {
      "text/plain": [
       "Designation                int8\n",
       "Experience              float64\n",
       "AggrBehavScore          float64\n",
       "ActivityScore             int64\n",
       "LinesOfCode               int64\n",
       "Qualification              int8\n",
       "Degree                     int8\n",
       "YearsOfStudy            float64\n",
       "EducationalInstitute       int8\n",
       "Gender                     int8\n",
       "Empl_Band                  int8\n",
       "dtype: object"
      ]
     },
     "execution_count": 25,
     "metadata": {},
     "output_type": "execute_result"
    }
   ],
   "source": [
    "test_X.dtypes"
   ]
  },
  {
   "cell_type": "code",
   "execution_count": 26,
   "metadata": {},
   "outputs": [
    {
     "data": {
      "text/plain": [
       "(303, 78)"
      ]
     },
     "execution_count": 26,
     "metadata": {},
     "output_type": "execute_result"
    }
   ],
   "source": [
    "test_X_poly = poly_features.transform(test_X)\n",
    "test_X_poly.shape"
   ]
  },
  {
   "cell_type": "code",
   "execution_count": 27,
   "metadata": {},
   "outputs": [],
   "source": [
    "test_prediction = poly_model.predict(test_X_poly)"
   ]
  },
  {
   "cell_type": "code",
   "execution_count": 28,
   "metadata": {},
   "outputs": [
    {
     "name": "stdout",
     "output_type": "stream",
     "text": [
      "TEST R2 Score :  0.9103571772225845\n",
      "TESt Mean Squared Error :  35230128.041615605\n",
      "TEST Root Mean Squared Error :  5935.497286800459\n"
     ]
    }
   ],
   "source": [
    "test_r2_score = r2_score(test_y, test_prediction)\n",
    "test_mse = mean_squared_error(test_y, test_prediction)\n",
    "\n",
    "print(\"TEST R2 Score : \", test_r2_score)\n",
    "print(\"TESt Mean Squared Error : \", test_mse)\n",
    "print(\"TEST Root Mean Squared Error : \", np.sqrt(test_mse))"
   ]
  },
  {
   "cell_type": "code",
   "execution_count": 29,
   "metadata": {},
   "outputs": [],
   "source": [
    "import pickle"
   ]
  },
  {
   "cell_type": "code",
   "execution_count": 30,
   "metadata": {},
   "outputs": [],
   "source": [
    "poly_features_out = open(\"poly_feature_transfomar.pkl\",\"wb\")\n",
    "poly_model_out = open(\"poly_reg_model.pkl\",\"wb\")\n",
    "\n",
    "pickle.dump(poly_features, poly_features_out)\n",
    "pickle.dump(poly_model, poly_model_out)\n",
    "\n",
    "poly_features_out.close()\n",
    "poly_model_out.close()"
   ]
  },
  {
   "cell_type": "code",
   "execution_count": null,
   "metadata": {},
   "outputs": [],
   "source": []
  },
  {
   "cell_type": "markdown",
   "metadata": {},
   "source": [
    "### Simmulated Production Move"
   ]
  },
  {
   "cell_type": "code",
   "execution_count": 31,
   "metadata": {},
   "outputs": [],
   "source": [
    "prod_employee_data = pd.read_csv(\"../Data/regression_employee_data.csv\")"
   ]
  },
  {
   "cell_type": "code",
   "execution_count": 32,
   "metadata": {},
   "outputs": [],
   "source": [
    "prod_employee_data.loc[test_set[test_set['LinesOfCode'] < 0].index.values, 'LinesOfCode'] = 0\n",
    "prod_employee_data.drop('Emp #', axis=1, inplace=True)\n",
    "prod_employee_data['YearsOfStudy'].fillna(YearsOfStudy_impute_value, inplace=True)\n",
    "prod_employee_data['Qualification'].fillna(Qualification_impute_value, inplace=True)\n",
    "prod_employee_data['Degree'].fillna(Degree_impute_value, inplace=True)\n",
    "prod_employee_data['EducationalInstitute'].fillna(EducationalInstitute_impute_value, inplace=True)\n",
    "convertCategorisToCodes(prod_employee_data.select_dtypes(['object']).columns.values, test_set)"
   ]
  },
  {
   "cell_type": "code",
   "execution_count": 33,
   "metadata": {},
   "outputs": [],
   "source": [
    "prod_employee_data_X = test_set.loc[:,['Designation', 'Experience', 'AggrBehavScore', 'ActivityScore', 'LinesOfCode', 'Qualification',\n",
    " 'Degree', 'YearsOfStudy', 'EducationalInstitute', 'Gender', 'Empl_Band']]\n",
    "#prod_employee_data_y = test_set['Salary']"
   ]
  },
  {
   "cell_type": "code",
   "execution_count": 34,
   "metadata": {},
   "outputs": [],
   "source": [
    "poly_features_in = open(\"poly_feature_transfomar.pkl\",\"rb\")\n",
    "poly_model_in = open(\"poly_reg_model.pkl\",\"rb\")\n",
    "\n",
    "poly_features_pkl = pickle.load(poly_features_in)\n",
    "poly_model_pkl = pickle.load(poly_model_in)\n",
    "\n",
    "#prod_X = ...\n",
    "prod_X_poly = poly_features_pkl.transform(prod_employee_data_X)\n",
    "prod_prediction = poly_model_pkl.predict(prod_X_poly)"
   ]
  },
  {
   "cell_type": "code",
   "execution_count": 35,
   "metadata": {},
   "outputs": [
    {
     "data": {
      "text/plain": [
       "array([107075.05615359, 103541.22005823, 158199.01212844, 104535.97789399,\n",
       "        98309.4601377 , 183898.21130624,  99593.92196134, 109829.78169681,\n",
       "       101653.38967258,  92690.70868225, 154841.24488418, 115907.21181935,\n",
       "       123971.38979537, 168466.75791128, 104392.52523513, 130755.47660957,\n",
       "       197854.64162302, 105835.93062449, 134466.18617575, 103453.31407893,\n",
       "       106261.34795128, 333123.11445163, 118379.61046964, 101235.7101164 ,\n",
       "       101954.24285083, 344759.11168813, 133652.90240561,  80545.4375483 ,\n",
       "        94285.00920153, 139156.01247513, 180631.00718334, 153400.28016804,\n",
       "        91467.90976986, 110896.08906912, 131322.440331  , 117675.89559502,\n",
       "        80884.04719366, 128039.64943549, 127137.8968465 , 113247.34226384,\n",
       "        80897.11193447, 151481.97219697, 107646.80248815, 165600.18772153,\n",
       "       101253.03591973, 100893.45205284,  98668.23728198,  90769.33513725,\n",
       "       150599.79440122,  94115.1254356 ,  93231.34177011, 119043.30560146,\n",
       "       286652.03440974,  96507.2698928 ,  97291.60898692, 288573.55713396,\n",
       "        92440.795121  ,  83123.18058741, 131564.58045543, 190832.15127905,\n",
       "       139566.90915621, 105698.87695359, 102798.93750328, 291644.07328616,\n",
       "       113779.37699314, 126457.1412461 , 102695.06061913, 134001.21662974,\n",
       "       104408.4669985 , 119485.14833102, 119777.72296917, 126269.1025387 ,\n",
       "       130321.99728387,  96318.40065328, 162696.99987739, 153022.50894173,\n",
       "       120183.02115909, 116457.34723121, 117216.8761949 , 174369.34342857,\n",
       "        80066.62280947, 336233.85582727, 149445.56187846,  95167.02531356,\n",
       "       120532.45779289, 106288.4812939 ,  95619.08231016, 283226.87435925,\n",
       "       106453.05836288,  95492.69587221, 138638.98443521,  98893.80477821,\n",
       "       176740.2533697 ,  91184.06276302,  94864.31136759, 121606.39620757,\n",
       "       117623.40966512, 145513.5975422 , 122182.3950348 ,  82212.63682585,\n",
       "        98227.77546963, 121982.50158048,  87385.37231942, 118922.57306005,\n",
       "       112213.14777345, 131385.77111813, 281548.54320766, 119284.9643229 ,\n",
       "       127458.15816668, 101941.00190226, 105914.65056918, 125841.62976634,\n",
       "        99208.51268626, 129009.8155571 ,  90503.9025358 ,  79586.82493117,\n",
       "       204228.29015556,  93138.43672444,  84037.98188326, 124569.36912009,\n",
       "       106888.37291591, 107614.78520907, 120032.93551281, 114681.87891762,\n",
       "       106356.78491453, 118153.71325148, 153846.27968031,  86209.14002385,\n",
       "       118233.82447166, 173059.73382555, 120967.40937998,  81169.19953915,\n",
       "       117626.53967524, 180865.47767104,  91850.46609899,  99334.04046624,\n",
       "        85940.08144676, 114677.69716183,  94509.67390659,  97195.36844938,\n",
       "        80236.01175165, 104663.88197855, 105083.31366809, 158652.00798822,\n",
       "       114191.94400259, 107197.6150115 , 129476.00071679, 179205.13026038,\n",
       "       101386.97031777, 118284.12625496,  90751.06022211, 103888.31698069,\n",
       "       174730.54363335, 105764.27984244, 162508.37626524, 121841.96926826,\n",
       "       133311.24701091, 202475.06198403,  90962.58812084,  88915.68066299,\n",
       "       194934.61980341, 100288.71848263,  80792.42354573, 155090.75268104,\n",
       "        91524.36302926, 112699.97291981,  98352.49979375,  88069.85830075,\n",
       "        97499.45153261,  83961.91991781, 106233.43184255, 107095.5021279 ,\n",
       "        81464.79293127, 178709.35883631, 185076.50995293,  90709.70625078,\n",
       "       106618.28722443, 120292.57856114, 154551.53561467, 116921.79372682,\n",
       "       204898.26071261, 208903.16444587, 136846.78935363, 142618.76588073,\n",
       "        89406.45584199, 119597.65066601, 159074.12088164, 105983.48191638,\n",
       "        98675.33782237, 106042.18141423, 214339.86218473,  92299.11429441,\n",
       "       103992.96776149, 103226.2129089 , 119501.64174224, 291946.24950706,\n",
       "       125180.78834714,  82742.05404374,  85146.42440322,  78427.9866411 ,\n",
       "       115917.64386911, 186310.74140612,  98006.977032  , 131611.58714963,\n",
       "       131164.69287128,  99832.51977995, 126895.43015675, 118507.14108271,\n",
       "       150064.32804167, 105065.21839783,  87319.66092489,  94235.75478013,\n",
       "        91226.66427498,  95560.05458149, 122274.39385332,  95959.29462157,\n",
       "       132671.17109429, 173234.96693414, 155458.65753791, 187163.34947975,\n",
       "       129010.19755646,  92266.23247691, 130236.91659104,  99151.52832172,\n",
       "       100393.24093171, 124940.65713566, 140978.78120975, 112806.12858593,\n",
       "        89685.63076381,  84687.06925585, 125908.8470111 , 140837.3971292 ,\n",
       "       158072.77655322, 113698.52927553, 105107.09013276,  93424.05317335,\n",
       "       134392.8619734 , 128726.85092333,  93080.02397985, 163583.74942799,\n",
       "       137466.58995741,  84910.87914767, 135858.58984638, 146083.59851438,\n",
       "        82354.22071047, 339978.29705047, 115394.50683945, 200707.67915723,\n",
       "        85131.99514565, 103966.82403056, 167124.034868  , 158717.62031923,\n",
       "       136351.66912524, 102074.64760994,  80889.14902341, 120224.99127882,\n",
       "        88464.41043203,  90230.19870901, 114452.25219156, 152660.44535792,\n",
       "       124117.34020007, 172063.89616946,  79264.45449156,  93029.95154141,\n",
       "       106499.63781132,  79834.20341356, 100275.01980352,  77968.04364263,\n",
       "       109073.04901946,  98882.42625568, 182211.93322505, 174065.43384924,\n",
       "       196509.89473119, 105658.54091406, 128547.54730795, 142866.6462038 ,\n",
       "       123624.23157578,  84710.38986846, 122126.86515928, 122288.21186525,\n",
       "       146736.56992155, 123038.28145659, 131198.33352955,  82606.13655698,\n",
       "       155966.24042966, 121193.30376169, 129148.12506667, 104464.07418159,\n",
       "        98821.87756281, 111602.27490014, 107733.17942136, 141601.01790512,\n",
       "       123624.28274426,  81163.45068373, 105351.32513492, 133891.03164065,\n",
       "        84372.87230145,  82106.75856063, 219596.17418225, 102459.92894051,\n",
       "       124625.92403337,  80262.89009862, 131249.7161139 ])"
      ]
     },
     "execution_count": 35,
     "metadata": {},
     "output_type": "execute_result"
    }
   ],
   "source": [
    "prod_prediction"
   ]
  },
  {
   "cell_type": "markdown",
   "metadata": {},
   "source": [
    "https://services.math.duke.edu/education/ccp/materials/mvcalc/surfaces/surf2.html"
   ]
  }
 ],
 "metadata": {
  "kernelspec": {
   "display_name": "Python 3",
   "language": "python",
   "name": "python3"
  },
  "language_info": {
   "codemirror_mode": {
    "name": "ipython",
    "version": 3
   },
   "file_extension": ".py",
   "mimetype": "text/x-python",
   "name": "python",
   "nbconvert_exporter": "python",
   "pygments_lexer": "ipython3",
   "version": "3.8.3"
  }
 },
 "nbformat": 4,
 "nbformat_minor": 2
}
