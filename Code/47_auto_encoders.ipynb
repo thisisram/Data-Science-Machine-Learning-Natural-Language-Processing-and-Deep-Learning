{
 "cells": [
  {
   "cell_type": "markdown",
   "metadata": {},
   "source": [
    "<img src='autoencoder.PNG' />"
   ]
  },
  {
   "cell_type": "code",
   "execution_count": 1,
   "metadata": {},
   "outputs": [],
   "source": [
    "import tensorflow.keras as keras\n",
    "import tensorflow as tf\n",
    "import numpy as np\n",
    "import pandas as pd\n",
    "import matplotlib.pyplot as plt\n",
    "\n",
    "from sklearn.model_selection import train_test_split\n",
    "\n",
    "from sklearn.preprocessing import StandardScaler"
   ]
  },
  {
   "cell_type": "code",
   "execution_count": 2,
   "metadata": {},
   "outputs": [],
   "source": [
    "digits = pd.read_csv('../data/digit_recognizer_train.csv')\n",
    "X = digits.iloc[:, 1:]\n",
    "y = digits.iloc[:, 0]\n",
    "X_train, X_test, y_train, y_test = train_test_split(X, y, test_size=0.33, random_state=42)\n",
    "\n",
    "X_train = X_train.astype(np.float64)\n",
    "X_test = X_test.astype(np.float64)\n",
    "\n",
    "sc = StandardScaler()\n",
    "X_train = sc.fit_transform(X_train)\n",
    "X_test = sc.transform(X_test)"
   ]
  },
  {
   "cell_type": "code",
   "execution_count": 3,
   "metadata": {},
   "outputs": [],
   "source": [
    "input_nodes = X_train.shape[1]\n",
    "decode_nodes = 64"
   ]
  },
  {
   "cell_type": "code",
   "execution_count": 4,
   "metadata": {},
   "outputs": [],
   "source": [
    "tf_x = tf.placeholder(name='tf_x', shape=(None, input_nodes), dtype=tf.float32)"
   ]
  },
  {
   "cell_type": "code",
   "execution_count": 5,
   "metadata": {},
   "outputs": [
    {
     "name": "stderr",
     "output_type": "stream",
     "text": [
      "WARNING: Logging before flag parsing goes to stderr.\n",
      "W0923 07:44:18.593009  1772 deprecation.py:323] From <ipython-input-5-93fdb13895a8>:2: dense (from tensorflow.python.layers.core) is deprecated and will be removed in a future version.\n",
      "Instructions for updating:\n",
      "Use keras.layers.dense instead.\n",
      "W0923 07:44:18.605974  1772 deprecation.py:506] From C:\\Users\\thisi\\Anaconda3\\lib\\site-packages\\tensorflow\\python\\ops\\init_ops.py:1251: calling VarianceScaling.__init__ (from tensorflow.python.ops.init_ops) with dtype is deprecated and will be removed in a future version.\n",
      "Instructions for updating:\n",
      "Call initializer instance with the dtype argument instead of passing it to the constructor\n",
      "W0923 07:44:18.864477  1772 deprecation.py:323] From <ipython-input-5-93fdb13895a8>:3: dropout (from tensorflow.python.layers.core) is deprecated and will be removed in a future version.\n",
      "Instructions for updating:\n",
      "Use keras.layers.dropout instead.\n"
     ]
    }
   ],
   "source": [
    "with tf.variable_scope(\"network\", tf.AUTO_REUSE):\n",
    "    encode_layer = tf.layers.dense(name='encode_layer', inputs=tf_x, units=decode_nodes, activation=tf.nn.relu)\n",
    "    encode_layer_dp = tf.layers.dropout(encode_layer, rate=0.5, name=\"encode_layer_dp\")\n",
    "    decode_layer = tf.layers.dense(name='decode_layer', inputs=encode_layer_dp, units=input_nodes, activation=tf.nn.relu)"
   ]
  },
  {
   "cell_type": "code",
   "execution_count": 6,
   "metadata": {},
   "outputs": [],
   "source": [
    "with tf.variable_scope('cost', tf.AUTO_REUSE):\n",
    "    cost = tf.reduce_mean(tf.square(tf_x - decode_layer))"
   ]
  },
  {
   "cell_type": "code",
   "execution_count": 7,
   "metadata": {},
   "outputs": [],
   "source": [
    "with tf.variable_scope('optimization', tf.AUTO_REUSE):\n",
    "    optimization = tf.train.AdamOptimizer(learning_rate=0.001)\n",
    "    optimization_obj = optimization.minimize(cost, name='optimization_obj')"
   ]
  },
  {
   "cell_type": "code",
   "execution_count": 8,
   "metadata": {},
   "outputs": [],
   "source": [
    "from  matplotlib.cm import  binary\n",
    "\n",
    "def show_digit(digit):\n",
    "    plt.figure(figsize=(1,1))\n",
    "    digit = digit.reshape(28,28)\n",
    "    plt.imshow(digit, cmap = binary,\n",
    "               interpolation=\"nearest\")\n",
    "    plt.axis(\"off\")\n",
    "    plt.show()"
   ]
  },
  {
   "cell_type": "code",
   "execution_count": 9,
   "metadata": {},
   "outputs": [
    {
     "data": {
      "image/png": "[encoded data removed]",
      "text/plain": [
       "<Figure size 72x72 with 1 Axes>"
      ]
     },
     "metadata": {
      "needs_background": "light"
     },
     "output_type": "display_data"
    }
   ],
   "source": [
    "train_digit = X_train[:1]\n",
    "show_digit(train_digit)"
   ]
  },
  {
   "cell_type": "code",
   "execution_count": 10,
   "metadata": {},
   "outputs": [
    {
     "data": {
      "image/png": "[encoded data removed]",
      "text/plain": [
       "<Figure size 72x72 with 1 Axes>"
      ]
     },
     "metadata": {
      "needs_background": "light"
     },
     "output_type": "display_data"
    }
   ],
   "source": [
    "test_digit = X_test[:1]\n",
    "show_digit(test_digit)"
   ]
  },
  {
   "cell_type": "code",
   "execution_count": 11,
   "metadata": {},
   "outputs": [
    {
     "name": "stdout",
     "output_type": "stream",
     "text": [
      "Train Cost :  0.4724358\n"
     ]
    },
    {
     "data": {
      "image/png": "[encoded data removed]",
      "text/plain": [
       "<Figure size 72x72 with 1 Axes>"
      ]
     },
     "metadata": {
      "needs_background": "light"
     },
     "output_type": "display_data"
    },
    {
     "name": "stdout",
     "output_type": "stream",
     "text": [
      "Test Cost :  2.806325\n"
     ]
    },
    {
     "data": {
      "image/png": "[encoded data removed]",
      "text/plain": [
       "<Figure size 72x72 with 1 Axes>"
      ]
     },
     "metadata": {
      "needs_background": "light"
     },
     "output_type": "display_data"
    },
    {
     "name": "stdout",
     "output_type": "stream",
     "text": [
      "Train Cost :  0.4424788\n"
     ]
    },
    {
     "data": {
      "image/png": "[encoded data removed]",
      "text/plain": [
       "<Figure size 72x72 with 1 Axes>"
      ]
     },
     "metadata": {
      "needs_background": "light"
     },
     "output_type": "display_data"
    },
    {
     "name": "stdout",
     "output_type": "stream",
     "text": [
      "Test Cost :  2.783121\n"
     ]
    },
    {
     "data": {
      "image/png": "[encoded data removed]",
      "text/plain": [
       "<Figure size 72x72 with 1 Axes>"
      ]
     },
     "metadata": {
      "needs_background": "light"
     },
     "output_type": "display_data"
    },
    {
     "name": "stdout",
     "output_type": "stream",
     "text": [
      "Train Cost :  0.43110323\n"
     ]
    },
    {
     "data": {
      "image/png": "[encoded data removed]",
      "text/plain": [
       "<Figure size 72x72 with 1 Axes>"
      ]
     },
     "metadata": {
      "needs_background": "light"
     },
     "output_type": "display_data"
    },
    {
     "name": "stdout",
     "output_type": "stream",
     "text": [
      "Test Cost :  2.7819576\n"
     ]
    },
    {
     "data": {
      "image/png": "[encoded data removed]",
      "text/plain": [
       "<Figure size 72x72 with 1 Axes>"
      ]
     },
     "metadata": {
      "needs_background": "light"
     },
     "output_type": "display_data"
    },
    {
     "name": "stdout",
     "output_type": "stream",
     "text": [
      "Train Cost :  0.42455673\n"
     ]
    },
    {
     "data": {
      "image/png": "[encoded data removed]",
      "text/plain": [
       "<Figure size 72x72 with 1 Axes>"
      ]
     },
     "metadata": {
      "needs_background": "light"
     },
     "output_type": "display_data"
    },
    {
     "name": "stdout",
     "output_type": "stream",
     "text": [
      "Test Cost :  2.7908132\n"
     ]
    },
    {
     "data": {
      "image/png": "[encoded data removed]",
      "text/plain": [
       "<Figure size 72x72 with 1 Axes>"
      ]
     },
     "metadata": {
      "needs_background": "light"
     },
     "output_type": "display_data"
    },
    {
     "name": "stdout",
     "output_type": "stream",
     "text": [
      "Train Cost :  0.41935557\n"
     ]
    },
    {
     "data": {
      "image/png": "[encoded data removed]",
      "text/plain": [
       "<Figure size 72x72 with 1 Axes>"
      ]
     },
     "metadata": {
      "needs_background": "light"
     },
     "output_type": "display_data"
    },
    {
     "name": "stdout",
     "output_type": "stream",
     "text": [
      "Test Cost :  2.7933092\n"
     ]
    },
    {
     "data": {
      "image/png": "[encoded data removed]",
      "text/plain": [
       "<Figure size 72x72 with 1 Axes>"
      ]
     },
     "metadata": {
      "needs_background": "light"
     },
     "output_type": "display_data"
    },
    {
     "name": "stdout",
     "output_type": "stream",
     "text": [
      "Train Cost :  0.4165912\n"
     ]
    },
    {
     "data": {
      "image/png": "[encoded data removed]",
      "text/plain": [
       "<Figure size 72x72 with 1 Axes>"
      ]
     },
     "metadata": {
      "needs_background": "light"
     },
     "output_type": "display_data"
    },
    {
     "name": "stdout",
     "output_type": "stream",
     "text": [
      "Test Cost :  2.7952967\n"
     ]
    },
    {
     "data": {
      "image/png": "[encoded data removed]",
      "text/plain": [
       "<Figure size 72x72 with 1 Axes>"
      ]
     },
     "metadata": {
      "needs_background": "light"
     },
     "output_type": "display_data"
    }
   ],
   "source": [
    "init_g = tf.global_variables_initializer()\n",
    "\n",
    "epochs = 30\n",
    "\n",
    "num_batches = 100\n",
    "x_train_batches = np.array_split(X_train, indices_or_sections=num_batches)\n",
    "y_train_batches = np.array_split(y_train, indices_or_sections=num_batches)\n",
    "\n",
    "with tf.Session() as sess:\n",
    "    \n",
    "    sess.run(init_g)\n",
    "    \n",
    "    for epoch in range(epochs):\n",
    "        for batch_index in range(num_batches):\n",
    "            sess.run(optimization_obj, feed_dict={tf_x:x_train_batches[batch_index]})\n",
    "            \n",
    "        \n",
    "        if ((epoch+1) % 5 == 0):\n",
    "            print(\"Train Cost : \", sess.run(cost, feed_dict={tf_x:X_train}))\n",
    "            train_decode = sess.run(decode_layer, feed_dict={tf_x:X_train})\n",
    "            show_digit(train_decode[:1])\n",
    "        \n",
    "        if ((epoch+1) % 5 == 0):\n",
    "            print(\"Test Cost : \", sess.run(cost, feed_dict={tf_x:X_test}))\n",
    "            test_decode = sess.run(decode_layer, feed_dict={tf_x:X_test})\n",
    "            show_digit(test_decode[:1])"
   ]
  },
  {
   "cell_type": "markdown",
   "metadata": {},
   "source": [
    "## Deep auto encoders"
   ]
  },
  {
   "cell_type": "code",
   "execution_count": 12,
   "metadata": {},
   "outputs": [],
   "source": [
    "shrinkage = 0.006\n",
    "l2 = tf.keras.regularizers.l2(l=shrinkage)\n",
    "\n",
    "with tf.variable_scope(\"deep_auto_network\", tf.AUTO_REUSE):\n",
    "    encode_layer_1 = tf.layers.dense(name='encode_layer_1', inputs=tf_x, units=300, activation=tf.nn.relu, kernel_regularizer=l2)\n",
    "    encode_layer_2 = tf.layers.dense(name='encode_layer_2', inputs=encode_layer_1, units=150, activation=tf.nn.relu, kernel_regularizer=l2)\n",
    "    decode_layer_1 = tf.layers.dense(name='decode_layer_1', inputs=encode_layer_2, units=150, activation=tf.nn.relu, kernel_regularizer=l2)\n",
    "    decode_layer_2 = tf.layers.dense(name='decode_layer_2', inputs=decode_layer_1, units=300, activation=tf.nn.relu, kernel_regularizer=l2)\n",
    "    decoder = tf.layers.dense(name='decoder', inputs=decode_layer_2, units=784, activation=tf.nn.relu, kernel_regularizer=l2)"
   ]
  },
  {
   "cell_type": "code",
   "execution_count": 13,
   "metadata": {},
   "outputs": [],
   "source": [
    "with tf.variable_scope('deep_auto_cost', tf.AUTO_REUSE):\n",
    "    l2_reg_loss = tf.losses.get_regularization_loss()\n",
    "    cost = tf.reduce_mean(tf.square(tf_x - decoder)) +  shrinkage * l2_reg_loss"
   ]
  },
  {
   "cell_type": "code",
   "execution_count": 14,
   "metadata": {},
   "outputs": [],
   "source": [
    "with tf.variable_scope('deep_auto_optimization', tf.AUTO_REUSE):\n",
    "    optimization = tf.train.AdamOptimizer(learning_rate=0.001)\n",
    "    optimization_obj = optimization.minimize(cost, name='optimization_obj')"
   ]
  },
  {
   "cell_type": "code",
   "execution_count": null,
   "metadata": {},
   "outputs": [],
   "source": [
    "init_g = tf.global_variables_initializer()\n",
    "\n",
    "epochs = 1000\n",
    "\n",
    "num_batches = 100\n",
    "x_train_batches = np.array_split(X_train, indices_or_sections=num_batches)\n",
    "y_train_batches = np.array_split(y_train, indices_or_sections=num_batches)\n",
    "\n",
    "with tf.Session() as sess:\n",
    "    \n",
    "    sess.run(init_g)\n",
    "    \n",
    "    for epoch in range(epochs):\n",
    "        for batch_index in range(num_batches):\n",
    "            sess.run(optimization_obj, feed_dict={tf_x:x_train_batches[batch_index]})\n",
    "            #if(epoch%5 == 0 and batch_index%25 == 0):\n",
    "            #    print(\"l2 loss : \", sess.run(l2_reg_loss, feed_dict={tf_x:x_train_batches[batch_index]}))\n",
    "            \n",
    "        \n",
    "        if ((epoch+1) % 100 == 0):\n",
    "            print(\"Train Cost : \", sess.run(cost, feed_dict={tf_x:X_train}))\n",
    "            \n",
    "            train_decode = sess.run(decoder, feed_dict={tf_x:X_train})\n",
    "            show_digit(train_decode[:1])\n",
    "        \n",
    "        if ((epoch+1) % 100 == 0):\n",
    "            print(\"Test Cost : \", sess.run(cost, feed_dict={tf_x:X_test}))\n",
    "            test_decode = sess.run(decoder, feed_dict={tf_x:X_test})\n",
    "            show_digit(test_decode[:1])"
   ]
  },
  {
   "cell_type": "markdown",
   "metadata": {},
   "source": [
    "https://blog.keras.io/building-autoencoders-in-keras.html\n",
    "\n",
    "\n",
    "http://ufldl.stanford.edu/tutorial/unsupervised/Autoencoders/\n",
    "\n",
    "\n",
    "**Adversarial Machine Learning (GAN) - with Ian Goodfellow :** https://www.youtube.com/watch?v=3-qazNQS2JU\n",
    "\n",
    "https://github.com/TannerGilbert/Tutorials/tree/master/Keras-Tutorials/7.%20Autoencoder"
   ]
  },
  {
   "cell_type": "code",
   "execution_count": null,
   "metadata": {},
   "outputs": [],
   "source": []
  }
 ],
 "metadata": {
  "kernelspec": {
   "display_name": "Python 3",
   "language": "python",
   "name": "python3"
  },
  "language_info": {
   "codemirror_mode": {
    "name": "ipython",
    "version": 3
   },
   "file_extension": ".py",
   "mimetype": "text/x-python",
   "name": "python",
   "nbconvert_exporter": "python",
   "pygments_lexer": "ipython3",
   "version": "3.7.3"
  }
 },
 "nbformat": 4,
 "nbformat_minor": 2
}
