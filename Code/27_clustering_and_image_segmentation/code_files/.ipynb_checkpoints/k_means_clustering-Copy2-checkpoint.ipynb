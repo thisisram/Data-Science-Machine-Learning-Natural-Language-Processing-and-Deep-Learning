{
 "cells": [
  {
   "cell_type": "markdown",
   "metadata": {},
   "source": [
    "<h1><center>K - Means Clustering</center></h1>"
   ]
  },
  {
   "cell_type": "code",
   "execution_count": 1,
   "metadata": {},
   "outputs": [],
   "source": [
    "import pandas as pd\n",
    "import numpy as np\n",
    "import seaborn as sns\n",
    "import matplotlib.pyplot as plt\n",
    "\n",
    "from sklearn.cluster import KMeans\n",
    "from sklearn.metrics import silhouette_score"
   ]
  },
  {
   "cell_type": "code",
   "execution_count": 2,
   "metadata": {},
   "outputs": [],
   "source": [
    "digit_dataset = pd.read_csv('../../Data/digit_recognizer_train.csv')"
   ]
  },
  {
   "cell_type": "code",
   "execution_count": 3,
   "metadata": {},
   "outputs": [
    {
     "data": {
      "text/html": [
       "<div>\n",
       "<style scoped>\n",
       "    .dataframe tbody tr th:only-of-type {\n",
       "        vertical-align: middle;\n",
       "    }\n",
       "\n",
       "    .dataframe tbody tr th {\n",
       "        vertical-align: top;\n",
       "    }\n",
       "\n",
       "    .dataframe thead th {\n",
       "        text-align: right;\n",
       "    }\n",
       "</style>\n",
       "<table border=\"1\" class=\"dataframe\">\n",
       "  <thead>\n",
       "    <tr style=\"text-align: right;\">\n",
       "      <th></th>\n",
       "      <th>label</th>\n",
       "      <th>pixel0</th>\n",
       "      <th>pixel1</th>\n",
       "      <th>pixel2</th>\n",
       "      <th>pixel3</th>\n",
       "      <th>pixel4</th>\n",
       "      <th>pixel5</th>\n",
       "      <th>pixel6</th>\n",
       "      <th>pixel7</th>\n",
       "      <th>pixel8</th>\n",
       "      <th>...</th>\n",
       "      <th>pixel774</th>\n",
       "      <th>pixel775</th>\n",
       "      <th>pixel776</th>\n",
       "      <th>pixel777</th>\n",
       "      <th>pixel778</th>\n",
       "      <th>pixel779</th>\n",
       "      <th>pixel780</th>\n",
       "      <th>pixel781</th>\n",
       "      <th>pixel782</th>\n",
       "      <th>pixel783</th>\n",
       "    </tr>\n",
       "  </thead>\n",
       "  <tbody>\n",
       "    <tr>\n",
       "      <th>0</th>\n",
       "      <td>1</td>\n",
       "      <td>0</td>\n",
       "      <td>0</td>\n",
       "      <td>0</td>\n",
       "      <td>0</td>\n",
       "      <td>0</td>\n",
       "      <td>0</td>\n",
       "      <td>0</td>\n",
       "      <td>0</td>\n",
       "      <td>0</td>\n",
       "      <td>...</td>\n",
       "      <td>0</td>\n",
       "      <td>0</td>\n",
       "      <td>0</td>\n",
       "      <td>0</td>\n",
       "      <td>0</td>\n",
       "      <td>0</td>\n",
       "      <td>0</td>\n",
       "      <td>0</td>\n",
       "      <td>0</td>\n",
       "      <td>0</td>\n",
       "    </tr>\n",
       "    <tr>\n",
       "      <th>1</th>\n",
       "      <td>0</td>\n",
       "      <td>0</td>\n",
       "      <td>0</td>\n",
       "      <td>0</td>\n",
       "      <td>0</td>\n",
       "      <td>0</td>\n",
       "      <td>0</td>\n",
       "      <td>0</td>\n",
       "      <td>0</td>\n",
       "      <td>0</td>\n",
       "      <td>...</td>\n",
       "      <td>0</td>\n",
       "      <td>0</td>\n",
       "      <td>0</td>\n",
       "      <td>0</td>\n",
       "      <td>0</td>\n",
       "      <td>0</td>\n",
       "      <td>0</td>\n",
       "      <td>0</td>\n",
       "      <td>0</td>\n",
       "      <td>0</td>\n",
       "    </tr>\n",
       "    <tr>\n",
       "      <th>2</th>\n",
       "      <td>1</td>\n",
       "      <td>0</td>\n",
       "      <td>0</td>\n",
       "      <td>0</td>\n",
       "      <td>0</td>\n",
       "      <td>0</td>\n",
       "      <td>0</td>\n",
       "      <td>0</td>\n",
       "      <td>0</td>\n",
       "      <td>0</td>\n",
       "      <td>...</td>\n",
       "      <td>0</td>\n",
       "      <td>0</td>\n",
       "      <td>0</td>\n",
       "      <td>0</td>\n",
       "      <td>0</td>\n",
       "      <td>0</td>\n",
       "      <td>0</td>\n",
       "      <td>0</td>\n",
       "      <td>0</td>\n",
       "      <td>0</td>\n",
       "    </tr>\n",
       "    <tr>\n",
       "      <th>3</th>\n",
       "      <td>4</td>\n",
       "      <td>0</td>\n",
       "      <td>0</td>\n",
       "      <td>0</td>\n",
       "      <td>0</td>\n",
       "      <td>0</td>\n",
       "      <td>0</td>\n",
       "      <td>0</td>\n",
       "      <td>0</td>\n",
       "      <td>0</td>\n",
       "      <td>...</td>\n",
       "      <td>0</td>\n",
       "      <td>0</td>\n",
       "      <td>0</td>\n",
       "      <td>0</td>\n",
       "      <td>0</td>\n",
       "      <td>0</td>\n",
       "      <td>0</td>\n",
       "      <td>0</td>\n",
       "      <td>0</td>\n",
       "      <td>0</td>\n",
       "    </tr>\n",
       "    <tr>\n",
       "      <th>4</th>\n",
       "      <td>0</td>\n",
       "      <td>0</td>\n",
       "      <td>0</td>\n",
       "      <td>0</td>\n",
       "      <td>0</td>\n",
       "      <td>0</td>\n",
       "      <td>0</td>\n",
       "      <td>0</td>\n",
       "      <td>0</td>\n",
       "      <td>0</td>\n",
       "      <td>...</td>\n",
       "      <td>0</td>\n",
       "      <td>0</td>\n",
       "      <td>0</td>\n",
       "      <td>0</td>\n",
       "      <td>0</td>\n",
       "      <td>0</td>\n",
       "      <td>0</td>\n",
       "      <td>0</td>\n",
       "      <td>0</td>\n",
       "      <td>0</td>\n",
       "    </tr>\n",
       "  </tbody>\n",
       "</table>\n",
       "<p>5 rows × 785 columns</p>\n",
       "</div>"
      ],
      "text/plain": [
       "   label  pixel0  pixel1  pixel2  pixel3  pixel4  pixel5  pixel6  pixel7  \\\n",
       "0      1       0       0       0       0       0       0       0       0   \n",
       "1      0       0       0       0       0       0       0       0       0   \n",
       "2      1       0       0       0       0       0       0       0       0   \n",
       "3      4       0       0       0       0       0       0       0       0   \n",
       "4      0       0       0       0       0       0       0       0       0   \n",
       "\n",
       "   pixel8  ...  pixel774  pixel775  pixel776  pixel777  pixel778  pixel779  \\\n",
       "0       0  ...         0         0         0         0         0         0   \n",
       "1       0  ...         0         0         0         0         0         0   \n",
       "2       0  ...         0         0         0         0         0         0   \n",
       "3       0  ...         0         0         0         0         0         0   \n",
       "4       0  ...         0         0         0         0         0         0   \n",
       "\n",
       "   pixel780  pixel781  pixel782  pixel783  \n",
       "0         0         0         0         0  \n",
       "1         0         0         0         0  \n",
       "2         0         0         0         0  \n",
       "3         0         0         0         0  \n",
       "4         0         0         0         0  \n",
       "\n",
       "[5 rows x 785 columns]"
      ]
     },
     "execution_count": 3,
     "metadata": {},
     "output_type": "execute_result"
    }
   ],
   "source": [
    "digit_dataset.head()"
   ]
  },
  {
   "cell_type": "code",
   "execution_count": 4,
   "metadata": {},
   "outputs": [],
   "source": [
    "digit_X = digit_dataset.iloc[:, 1:]\n",
    "digit_y = digit_dataset['label']"
   ]
  },
  {
   "cell_type": "code",
   "execution_count": 5,
   "metadata": {},
   "outputs": [],
   "source": [
    "# By default train_test_split does STRATIFIED split based on label (y-value).\n",
    "from sklearn.model_selection import train_test_split\n",
    "digit_X_train, digit_X_test, digit_y_train, digit_y_test = train_test_split(digit_X, digit_y, test_size=0.4)"
   ]
  },
  {
   "cell_type": "code",
   "execution_count": 6,
   "metadata": {},
   "outputs": [],
   "source": [
    "#from sklearn.preprocessing import StandardScaler\n",
    "\n",
    "#sc = StandardScaler()\n",
    "#digit_X_train = sc.fit_transform(digit_X_train)"
   ]
  },
  {
   "cell_type": "markdown",
   "metadata": {},
   "source": [
    "#### \"How to choose K ?\"\n",
    "  * One way to determine the number of clusters is to look at how the total of \"within cluster sum of squares (WCSS)\" behaves when the number of cluster changes. When you plot the number of clusters and the total WCSS (elbow-curve), the optimal number of clusters is when the total WCSS drops radically. We can access this value using \"sklearn.cluster.KMeans.inertia_\" attribute."
   ]
  },
  {
   "cell_type": "code",
   "execution_count": 6,
   "metadata": {},
   "outputs": [
    {
     "name": "stdout",
     "output_type": "stream",
     "text": [
      "For n_clusters = 3, silhouette score is 0.05526588193840027)\n",
      "For n_clusters = 5, silhouette score is 0.06608450395924578)\n",
      "For n_clusters = 7, silhouette score is 0.065146493951607)\n",
      "For n_clusters = 9, silhouette score is 0.056397013931637804)\n",
      "For n_clusters = 11, silhouette score is 0.056814383321478076)\n",
      "For n_clusters = 13, silhouette score is 0.05874178215264149)\n",
      "For n_clusters = 15, silhouette score is 0.06174065036144806)\n",
      "For n_clusters = 17, silhouette score is 0.06364656627639133)\n",
      "For n_clusters = 19, silhouette score is 0.06651979537230546)\n",
      "For n_clusters = 21, silhouette score is 0.05758517143149908)\n",
      "For n_clusters = 23, silhouette score is 0.059860631784317234)\n",
      "For n_clusters = 25, silhouette score is 0.06145575316597434)\n",
      "For n_clusters = 27, silhouette score is 0.061406904009393984)\n",
      "For n_clusters = 29, silhouette score is 0.06165967496988429)\n",
      "For n_clusters = 31, silhouette score is 0.060429215388085475)\n",
      "For n_clusters = 33, silhouette score is 0.06266986744918457)\n",
      "For n_clusters = 35, silhouette score is 0.062393742681933366)\n",
      "For n_clusters = 37, silhouette score is 0.06229836623907193)\n",
      "For n_clusters = 39, silhouette score is 0.05765525595787628)\n",
      "For n_clusters = 41, silhouette score is 0.057401447934554636)\n",
      "For n_clusters = 43, silhouette score is 0.057528531324610145)\n",
      "For n_clusters = 45, silhouette score is 0.05772765244475889)\n",
      "For n_clusters = 47, silhouette score is 0.057298712867028354)\n",
      "For n_clusters = 49, silhouette score is 0.057551016550306096)\n",
      "For n_clusters = 51, silhouette score is 0.05472275513857045)\n",
      "For n_clusters = 53, silhouette score is 0.055114729811852885)\n",
      "For n_clusters = 55, silhouette score is 0.05463133738753783)\n",
      "For n_clusters = 57, silhouette score is 0.05907461101184349)\n",
      "For n_clusters = 59, silhouette score is 0.055245733624423456)\n",
      "For n_clusters = 61, silhouette score is 0.05558612082049294)\n",
      "For n_clusters = 63, silhouette score is 0.056095388465362134)\n",
      "For n_clusters = 65, silhouette score is 0.05566795100907319)\n",
      "For n_clusters = 67, silhouette score is 0.056309484436593324)\n",
      "For n_clusters = 69, silhouette score is 0.05597779731561094)\n",
      "For n_clusters = 71, silhouette score is 0.055284176718878225)\n",
      "For n_clusters = 73, silhouette score is 0.05452748448122909)\n",
      "For n_clusters = 75, silhouette score is 0.05311573144370035)\n",
      "For n_clusters = 77, silhouette score is 0.05536592172569919)\n",
      "For n_clusters = 79, silhouette score is 0.05198822101899196)\n",
      "For n_clusters = 81, silhouette score is 0.052676935862806064)\n",
      "For n_clusters = 83, silhouette score is 0.05413421261649802)\n",
      "For n_clusters = 85, silhouette score is 0.05292179511350311)\n",
      "For n_clusters = 87, silhouette score is 0.05334622165086624)\n",
      "For n_clusters = 89, silhouette score is 0.052472071587966025)\n",
      "For n_clusters = 91, silhouette score is 0.052193725403217185)\n",
      "For n_clusters = 93, silhouette score is 0.05179086861037584)\n",
      "For n_clusters = 95, silhouette score is 0.054008508977476874)\n",
      "For n_clusters = 97, silhouette score is 0.0536545431888413)\n",
      "For n_clusters = 99, silhouette score is 0.05107523500647978)\n"
     ]
    }
   ],
   "source": [
    "wcss = [] # Within Cluster Sum of Squares\n",
    "silhouette_scores = []\n",
    "for k in range(3, 100, 2):\n",
    "    kmeans = KMeans(n_clusters = k, init='k-means++', random_state = 42)\n",
    "    kmeans.fit(digit_X_train)\n",
    "    preds = kmeans.predict(digit_X_train)\n",
    "    \n",
    "    wcss.append(kmeans.inertia_)\n",
    "    silhou_score = silhouette_score(digit_X_train, preds)\n",
    "    silhouette_scores.append(silhou_score)\n",
    "    \n",
    "    print(\"For n_clusters = {}, silhouette score is {})\".format(k, silhou_score))    "
   ]
  },
  {
   "cell_type": "code",
   "execution_count": 13,
   "metadata": {},
   "outputs": [
    {
     "name": "stderr",
     "output_type": "stream",
     "text": [
      "C:\\Users\\thisi\\anaconda3\\lib\\site-packages\\sklearn\\externals\\joblib\\__init__.py:15: FutureWarning: sklearn.externals.joblib is deprecated in 0.21 and will be removed in 0.23. Please import this functionality directly from joblib, which can be installed with: pip install joblib. If this warning is raised when loading pickled models, you may need to re-serialize those models with scikit-learn 0.21+.\n",
      "  warnings.warn(msg, category=FutureWarning)\n"
     ]
    },
    {
     "data": {
      "text/plain": [
       "['./wcss.sav']"
      ]
     },
     "execution_count": 13,
     "metadata": {},
     "output_type": "execute_result"
    }
   ],
   "source": [
    "#from sklearn.externals import joblib \n",
    "\n",
    "#joblib.dump(silhouette_scores, './silhouette_scores.sav')\n",
    "#joblib.dump(wcss, './wcss.sav')"
   ]
  },
  {
   "cell_type": "code",
   "execution_count": 7,
   "metadata": {},
   "outputs": [
    {
     "data": {
      "image/png": "[encoded data removed]",
      "text/plain": [
       "<Figure size 432x288 with 1 Axes>"
      ]
     },
     "metadata": {
      "needs_background": "light"
     },
     "output_type": "display_data"
    }
   ],
   "source": [
    "plt.plot(range(3, 100, 2), wcss)\n",
    "plt.title('The Elbow Method')\n",
    "plt.xlabel('Number of clusters - k')\n",
    "plt.ylabel('WCSS')\n",
    "plt.show()"
   ]
  },
  {
   "cell_type": "code",
   "execution_count": 8,
   "metadata": {},
   "outputs": [
    {
     "data": {
      "image/png": "[encoded data removed]",
      "text/plain": [
       "<Figure size 432x288 with 1 Axes>"
      ]
     },
     "metadata": {
      "needs_background": "light"
     },
     "output_type": "display_data"
    }
   ],
   "source": [
    "plt.plot(range(3, 100, 2), silhouette_scores)\n",
    "plt.title('The Silhouette Method')\n",
    "plt.xlabel('Number of clusters - k')\n",
    "plt.ylabel('Silhouette Score')\n",
    "plt.show()"
   ]
  },
  {
   "cell_type": "code",
   "execution_count": null,
   "metadata": {},
   "outputs": [],
   "source": [
    "best_kmeans = KMeans(n_clusters = 10, init = 'k-means++', random_state = 42)\n",
    "X_clusters = best_kmeans.fit_predict(X_train)"
   ]
  },
  {
   "cell_type": "code",
   "execution_count": 11,
   "metadata": {},
   "outputs": [
    {
     "data": {
      "text/plain": [
       "(1149,)"
      ]
     },
     "execution_count": 11,
     "metadata": {},
     "output_type": "execute_result"
    }
   ],
   "source": [
    "X_clusters.shape"
   ]
  },
  {
   "cell_type": "code",
   "execution_count": 12,
   "metadata": {},
   "outputs": [
    {
     "data": {
      "text/plain": [
       "array([6, 6, 9, 6, 2, 6, 6, 0, 9, 9, 9, 6, 0, 9, 6, 9, 2, 0, 6, 7, 2, 0,\n",
       "       9, 2, 6, 6, 9, 6, 9, 6, 6, 0, 6, 2, 6, 6, 0, 9, 9, 7, 9, 0, 6, 3,\n",
       "       6, 7, 9, 9, 9, 0, 0, 6, 6, 4, 6, 7, 9, 0, 6, 6, 7, 6, 6, 9, 7, 6,\n",
       "       6, 2, 9, 7, 6, 0, 6, 9, 6, 6, 6, 6, 6, 6, 0, 6, 6, 6, 0, 6, 6, 0,\n",
       "       6, 4, 7, 9, 6, 9, 4, 0, 6, 0, 0, 7])"
      ]
     },
     "execution_count": 12,
     "metadata": {},
     "output_type": "execute_result"
    }
   ],
   "source": [
    "X_clusters[:100]"
   ]
  },
  {
   "cell_type": "code",
   "execution_count": 13,
   "metadata": {},
   "outputs": [],
   "source": [
    "X_clusters = X_clusters.reshape(-1,1)"
   ]
  },
  {
   "cell_type": "markdown",
   "metadata": {},
   "source": [
    "### Cluster visulalization"
   ]
  },
  {
   "cell_type": "code",
   "execution_count": 13,
   "metadata": {
    "collapsed": true
   },
   "outputs": [],
   "source": [
    "from sklearn.decomposition import PCA\n",
    "pca1 = PCA(n_components = 2) \n",
    "components = pca1.fit_transform(X_train)"
   ]
  },
  {
   "cell_type": "code",
   "execution_count": 14,
   "metadata": {
    "collapsed": true
   },
   "outputs": [],
   "source": [
    "X_viz = np.hstack((components, X_clusters))"
   ]
  },
  {
   "cell_type": "code",
   "execution_count": 15,
   "metadata": {
    "collapsed": true
   },
   "outputs": [],
   "source": [
    "df_X_viz = pd.DataFrame(X_viz, columns=['pc1', 'pc2', 'cluster'])"
   ]
  },
  {
   "cell_type": "code",
   "execution_count": 16,
   "metadata": {},
   "outputs": [
    {
     "data": {
      "image/png": "[encoded data removed]",
      "text/plain": [
       "<matplotlib.figure.Figure at 0x7f73dcf2c160>"
      ]
     },
     "metadata": {},
     "output_type": "display_data"
    }
   ],
   "source": [
    "g = plt.scatter(x=\"pc1\", y=\"pc2\", c=\"cluster\", data=df_X_viz)"
   ]
  },
  {
   "cell_type": "code",
   "execution_count": 17,
   "metadata": {
    "collapsed": true
   },
   "outputs": [],
   "source": [
    "f_df_X_viz = df_X_viz[df_X_viz.pc1 < 50000]"
   ]
  },
  {
   "cell_type": "code",
   "execution_count": 18,
   "metadata": {},
   "outputs": [
    {
     "data": {
      "image/png": "[encoded data removed]",
      "text/plain": [
       "<matplotlib.figure.Figure at 0x7f73c47b6fd0>"
      ]
     },
     "metadata": {},
     "output_type": "display_data"
    }
   ],
   "source": [
    "fig = plt.scatter(x=\"pc1\", y=\"pc2\", c=\"cluster\", label=\"cluster\", data=f_df_X_viz)"
   ]
  },
  {
   "cell_type": "code",
   "execution_count": 19,
   "metadata": {
    "collapsed": true
   },
   "outputs": [],
   "source": [
    "X_train = np.hstack((X_train, X_clusters ))"
   ]
  },
  {
   "cell_type": "code",
   "execution_count": 20,
   "metadata": {},
   "outputs": [
    {
     "data": {
      "text/plain": [
       "(1149, 99)"
      ]
     },
     "execution_count": 20,
     "metadata": {},
     "output_type": "execute_result"
    }
   ],
   "source": [
    "X_train.shape"
   ]
  },
  {
   "cell_type": "code",
   "execution_count": 21,
   "metadata": {
    "collapsed": true
   },
   "outputs": [],
   "source": [
    "from sklearn.preprocessing import StandardScaler\n",
    "std_scale = StandardScaler()\n",
    "X_train = std_scale.fit_transform(X_train)"
   ]
  },
  {
   "cell_type": "markdown",
   "metadata": {},
   "source": [
    "### Build SGDModel and see if preformance improves."
   ]
  },
  {
   "cell_type": "code",
   "execution_count": 22,
   "metadata": {},
   "outputs": [
    {
     "data": {
      "text/plain": [
       "SGDRegressor(alpha=0.0001, average=False, epsilon=0.1, eta0=0.0001,\n",
       "       fit_intercept=True, l1_ratio=0.15, learning_rate='invscaling',\n",
       "       loss='squared_loss', max_iter=1000, n_iter=None, penalty='l2',\n",
       "       power_t=0.25, random_state=None, shuffle=True, tol=None, verbose=0,\n",
       "       warm_start=False)"
      ]
     },
     "execution_count": 22,
     "metadata": {},
     "output_type": "execute_result"
    }
   ],
   "source": [
    "from sklearn.linear_model import SGDRegressor\n",
    "sgd_model = SGDRegressor(eta0=0.0001, max_iter=1000 , tol=None)\n",
    "sgd_model.fit(X_train, y_train)"
   ]
  },
  {
   "cell_type": "code",
   "execution_count": 23,
   "metadata": {},
   "outputs": [
    {
     "name": "stdout",
     "output_type": "stream",
     "text": [
      "Root Mean Squared Error X Train :  31021.2130141\n",
      "R-Squre X Train :  0.857409272118\n"
     ]
    }
   ],
   "source": [
    "from sklearn.metrics import mean_squared_error, r2_score\n",
    "pred_X_train = sgd_model.predict(X_train)\n",
    "mse_X_train =  mean_squared_error(y_train, pred_X_train)\n",
    "r2_X_train = r2_score(y_train, pred_X_train)\n",
    "print('Root Mean Squared Error X Train : ', np.sqrt(mse_X_train))\n",
    "print('R-Squre X Train : ', r2_X_train)"
   ]
  },
  {
   "cell_type": "markdown",
   "metadata": {},
   "source": [
    "#### Reference : https://joernhees.de/blog/2015/08/26/scipy-hierarchical-clustering-and-dendrogram-tutorial/"
   ]
  }
 ],
 "metadata": {
  "kernelspec": {
   "display_name": "Python 3",
   "language": "python",
   "name": "python3"
  },
  "language_info": {
   "codemirror_mode": {
    "name": "ipython",
    "version": 3
   },
   "file_extension": ".py",
   "mimetype": "text/x-python",
   "name": "python",
   "nbconvert_exporter": "python",
   "pygments_lexer": "ipython3",
   "version": "3.7.7"
  }
 },
 "nbformat": 4,
 "nbformat_minor": 2
}
