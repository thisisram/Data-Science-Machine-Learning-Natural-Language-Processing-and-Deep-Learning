{
 "cells": [
  {
   "cell_type": "markdown",
   "metadata": {},
   "source": [
    "<h1><center>DBSCAN - Image Segmentation (Clustering)</center></h1>"
   ]
  },
  {
   "cell_type": "code",
   "execution_count": 1,
   "metadata": {},
   "outputs": [],
   "source": [
    "from sklearn.cluster import DBSCAN\n",
    "\n",
    "from matplotlib.image import imread\n",
    "\n",
    "import numpy as np\n",
    "import matplotlib.pyplot as plt"
   ]
  },
  {
   "cell_type": "code",
   "execution_count": 2,
   "metadata": {},
   "outputs": [],
   "source": [
    "img_filename = \"./handloom_thread_count1.PNG\""
   ]
  },
  {
   "cell_type": "code",
   "execution_count": 3,
   "metadata": {},
   "outputs": [
    {
     "data": {
      "text/plain": [
       "(642, 599, 4)"
      ]
     },
     "execution_count": 3,
     "metadata": {},
     "output_type": "execute_result"
    }
   ],
   "source": [
    "image = imread(img_filename)\n",
    "image.shape"
   ]
  },
  {
   "cell_type": "code",
   "execution_count": 4,
   "metadata": {},
   "outputs": [],
   "source": [
    "X = image.reshape(-1, 4)"
   ]
  },
  {
   "cell_type": "code",
   "execution_count": 5,
   "metadata": {},
   "outputs": [
    {
     "data": {
      "text/plain": [
       "DBSCAN(algorithm='auto', eps=0.005, leaf_size=30, metric='euclidean',\n",
       "       metric_params=None, min_samples=450, n_jobs=None, p=None)"
      ]
     },
     "execution_count": 5,
     "metadata": {},
     "output_type": "execute_result"
    }
   ],
   "source": [
    "dbscan = DBSCAN(eps=0.005, min_samples=450)\n",
    "dbscan.fit(X)"
   ]
  },
  {
   "cell_type": "code",
   "execution_count": 6,
   "metadata": {},
   "outputs": [
    {
     "data": {
      "text/plain": [
       "258322"
      ]
     },
     "execution_count": 6,
     "metadata": {},
     "output_type": "execute_result"
    }
   ],
   "source": [
    "len(dbscan.core_sample_indices_)"
   ]
  },
  {
   "cell_type": "code",
   "execution_count": 7,
   "metadata": {},
   "outputs": [
    {
     "data": {
      "text/plain": [
       "258322"
      ]
     },
     "execution_count": 7,
     "metadata": {},
     "output_type": "execute_result"
    }
   ],
   "source": [
    "len(dbscan.components_)"
   ]
  },
  {
   "cell_type": "code",
   "execution_count": 8,
   "metadata": {},
   "outputs": [
    {
     "data": {
      "text/plain": [
       "array([-1,  0,  1,  2,  3,  4,  5,  6,  7,  8,  9, 10, 11, 12, 13, 14, 15,\n",
       "       16, 17, 18, 19], dtype=int64)"
      ]
     },
     "execution_count": 8,
     "metadata": {},
     "output_type": "execute_result"
    }
   ],
   "source": [
    "np.unique(dbscan.labels_)"
   ]
  },
  {
   "cell_type": "code",
   "execution_count": 9,
   "metadata": {},
   "outputs": [],
   "source": [
    "div = len(np.unique(dbscan.labels_))\n",
    "pxl = 1.0\n",
    "add_val = 1.0/div\n",
    "for lable in np.unique(dbscan.labels_):\n",
    "    X[dbscan.labels_ == lable] = [(pxl + lable)*add_val, (pxl + lable)*add_val, (pxl + lable)*add_val, (pxl + lable)*add_val]"
   ]
  },
  {
   "cell_type": "code",
   "execution_count": 10,
   "metadata": {},
   "outputs": [
    {
     "data": {
      "text/plain": [
       "'X[dbscan.labels_ == -1] = [0.2,0.2,0.2,0.2]\\nX[dbscan.labels_ == 0] = [0.2,0.2,0.2,0.2]\\nX[dbscan.labels_ == 1] = [0.4,0.4,0.4]\\nX[dbscan.labels_ == 2] = [0.6,0.6,0.6]\\nX[dbscan.labels_ == 3] = [0.8,0.8,0.8]\\nX[dbscan.labels_ == 4] = [1.0,1.0,1.0]'"
      ]
     },
     "execution_count": 10,
     "metadata": {},
     "output_type": "execute_result"
    }
   ],
   "source": [
    "'''X[dbscan.labels_ == -1] = [0.2,0.2,0.2,0.2]\n",
    "X[dbscan.labels_ == 0] = [0.2,0.2,0.2,0.2]\n",
    "X[dbscan.labels_ == 1] = [0.4,0.4,0.4]\n",
    "X[dbscan.labels_ == 2] = [0.6,0.6,0.6]\n",
    "X[dbscan.labels_ == 3] = [0.8,0.8,0.8]\n",
    "X[dbscan.labels_ == 4] = [1.0,1.0,1.0]'''"
   ]
  },
  {
   "cell_type": "code",
   "execution_count": 11,
   "metadata": {},
   "outputs": [],
   "source": [
    "segmented_img = X.reshape(image.shape)"
   ]
  },
  {
   "cell_type": "code",
   "execution_count": 12,
   "metadata": {
    "scrolled": true
   },
   "outputs": [
    {
     "data": {
      "image/png": "[encoded data removed]",
      "text/plain": [
       "<Figure size 432x288 with 1 Axes>"
      ]
     },
     "metadata": {
      "needs_background": "light"
     },
     "output_type": "display_data"
    }
   ],
   "source": [
    "#plt.figure(figsize=(10,10))\n",
    "plt.imshow(segmented_img)\n",
    "plt.savefig('handloom_thread_count1_dbscan_'+str(0.005)+'_'+str(450)+'.png')"
   ]
  },
  {
   "cell_type": "code",
   "execution_count": null,
   "metadata": {},
   "outputs": [],
   "source": []
  },
  {
   "cell_type": "code",
   "execution_count": 20,
   "metadata": {},
   "outputs": [
    {
     "name": "stdout",
     "output_type": "stream",
     "text": [
      "Original Image Shape: (481, 502, 4)\n",
      " Training -  0.005 _ 50  Begin\n",
      " Training -  0.005 _ 50  END\n",
      "Unique Labels:  [-1  0  1  2  3  4  5  6  7  8  9 10 11 12 13 14 15 16 17 18 19 20 21 22\n",
      " 23 24 25 26 27 28 29 30 31 32 33 34 35 36 37 38 39 40]\n",
      "-1\n",
      "First Index of label - '-1' in X is - 5\n",
      "Pixels to replace labels with '-1' recored is - [0.49411765 0.37254903 0.27450982 1.        ] \n",
      "0\n",
      "First Index of label - '0' in X is - 0\n",
      "Pixels to replace labels with '0' recored is - [0.6431373  0.54509807 0.44313726 1.        ] \n",
      "1\n",
      "First Index of label - '1' in X is - 465\n",
      "Pixels to replace labels with '1' recored is - [0.5254902 0.4392157 0.3529412 1.       ] \n",
      "2\n",
      "First Index of label - '2' in X is - 964\n",
      "Pixels to replace labels with '2' recored is - [0.5137255  0.43137255 0.34509805 1.        ] \n",
      "3\n",
      "First Index of label - '3' in X is - 1059\n",
      "Pixels to replace labels with '3' recored is - [0.50980395 0.41960785 0.32156864 1.        ] \n",
      "4\n",
      "First Index of label - '4' in X is - 3686\n",
      "Pixels to replace labels with '4' recored is - [0.53333336 0.42745098 0.33333334 1.        ] \n",
      "5\n",
      "First Index of label - '5' in X is - 101\n",
      "Pixels to replace labels with '5' recored is - [0.50980395 0.40392157 0.3137255  1.        ] \n",
      "6\n",
      "First Index of label - '6' in X is - 2403\n",
      "Pixels to replace labels with '6' recored is - [0.5137255  0.41568628 0.32156864 1.        ] \n",
      "7\n",
      "First Index of label - '7' in X is - 6601\n",
      "Pixels to replace labels with '7' recored is - [0.49803922 0.4117647  0.3254902  1.        ] \n",
      "8\n",
      "First Index of label - '8' in X is - 8523\n",
      "Pixels to replace labels with '8' recored is - [0.52156866 0.43529412 0.34901962 1.        ] \n",
      "9\n",
      "First Index of label - '9' in X is - 233\n",
      "Pixels to replace labels with '9' recored is - [0.46666667 0.36862746 0.2627451  1.        ] \n",
      "10\n",
      "First Index of label - '10' in X is - 9080\n",
      "Pixels to replace labels with '10' recored is - [0.49019608 0.40392157 0.30588236 1.        ] \n",
      "11\n",
      "First Index of label - '11' in X is - 2830\n",
      "Pixels to replace labels with '11' recored is - [0.6745098  0.59607846 0.5294118  1.        ] \n",
      "12\n",
      "First Index of label - '12' in X is - 21367\n",
      "Pixels to replace labels with '12' recored is - [0.7294118  0.62352943 0.5058824  1.        ] \n",
      "13\n",
      "First Index of label - '13' in X is - 2689\n",
      "Pixels to replace labels with '13' recored is - [0.7254902  0.627451   0.50980395 1.        ] \n",
      "14\n",
      "First Index of label - '14' in X is - 27062\n",
      "Pixels to replace labels with '14' recored is - [0.8627451  0.79607844 0.72156864 1.        ] \n",
      "15\n",
      "First Index of label - '15' in X is - 1489\n",
      "Pixels to replace labels with '15' recored is - [0.93333334 0.85882354 0.7764706  1.        ] \n",
      "16\n",
      "First Index of label - '16' in X is - 25097\n",
      "Pixels to replace labels with '16' recored is - [0.70980394 0.64705884 0.57254905 1.        ] \n",
      "17\n",
      "First Index of label - '17' in X is - 30898\n",
      "Pixels to replace labels with '17' recored is - [0.6509804  0.53333336 0.42352942 1.        ] \n",
      "18\n",
      "First Index of label - '18' in X is - 28699\n",
      "Pixels to replace labels with '18' recored is - [0.93333334 0.8509804  0.7607843  1.        ] \n",
      "19\n",
      "First Index of label - '19' in X is - 6847\n",
      "Pixels to replace labels with '19' recored is - [0.9137255 0.8509804 0.7764706 1.       ] \n",
      "20\n",
      "First Index of label - '20' in X is - 9858\n",
      "Pixels to replace labels with '20' recored is - [0.89411765 0.83137256 0.7490196  1.        ] \n",
      "21\n",
      "First Index of label - '21' in X is - 38142\n",
      "Pixels to replace labels with '21' recored is - [0.8235294  0.75686276 0.68235296 1.        ] \n",
      "22\n",
      "First Index of label - '22' in X is - 337\n",
      "Pixels to replace labels with '22' recored is - [0.8862745 0.8235294 0.7411765 1.       ] \n",
      "23\n",
      "First Index of label - '23' in X is - 18526\n",
      "Pixels to replace labels with '23' recored is - [0.8980392 0.8352941 0.7529412 1.       ] \n",
      "24\n",
      "First Index of label - '24' in X is - 7851\n",
      "Pixels to replace labels with '24' recored is - [0.9019608 0.8392157 0.7647059 1.       ] \n",
      "25\n",
      "First Index of label - '25' in X is - 22362\n",
      "Pixels to replace labels with '25' recored is - [0.7372549  0.63529414 0.5137255  1.        ] \n",
      "26\n",
      "First Index of label - '26' in X is - 21878\n",
      "Pixels to replace labels with '26' recored is - [0.7529412  0.64705884 0.5294118  1.        ] \n",
      "27\n",
      "First Index of label - '27' in X is - 45418\n",
      "Pixels to replace labels with '27' recored is - [0.6431373 0.5254902 0.4117647 1.       ] \n",
      "28\n",
      "First Index of label - '28' in X is - 29892\n",
      "Pixels to replace labels with '28' recored is - [0.654902   0.5411765  0.42745098 1.        ] \n",
      "29\n",
      "First Index of label - '29' in X is - 92824\n",
      "Pixels to replace labels with '29' recored is - [0.56078434 0.4862745  0.40784314 1.        ] \n",
      "30\n",
      "First Index of label - '30' in X is - 7487\n",
      "Pixels to replace labels with '30' recored is - [0.52156866 0.41960785 0.32941177 1.        ] \n",
      "31\n",
      "First Index of label - '31' in X is - 44\n",
      "Pixels to replace labels with '31' recored is - [0.5058824  0.41568628 0.3137255  1.        ] \n",
      "32\n",
      "First Index of label - '32' in X is - 39603\n",
      "Pixels to replace labels with '32' recored is - [0.5764706  0.49411765 0.41960785 1.        ] \n",
      "33\n",
      "First Index of label - '33' in X is - 109558\n",
      "Pixels to replace labels with '33' recored is - [0.5529412  0.4745098  0.39607844 1.        ] \n",
      "34\n",
      "First Index of label - '34' in X is - 1069\n",
      "Pixels to replace labels with '34' recored is - [0.93333334 0.85882354 0.76862746 1.        ] \n",
      "35\n",
      "First Index of label - '35' in X is - 22380\n",
      "Pixels to replace labels with '35' recored is - [0.75686276 0.6509804  0.53333336 1.        ] \n",
      "36\n",
      "First Index of label - '36' in X is - 5821\n",
      "Pixels to replace labels with '36' recored is - [0.45882353 0.36078432 0.25490198 1.        ] \n",
      "37\n",
      "First Index of label - '37' in X is - 9859\n",
      "Pixels to replace labels with '37' recored is - [0.9098039  0.84705883 0.77254903 1.        ] \n",
      "38\n",
      "First Index of label - '38' in X is - 80974\n",
      "Pixels to replace labels with '38' recored is - [0.6313726  0.5294118  0.40392157 1.        ] \n",
      "39\n",
      "First Index of label - '39' in X is - 185\n",
      "Pixels to replace labels with '39' recored is - [0.62352943 0.5058824  0.39215687 1.        ] \n",
      "40\n",
      "First Index of label - '40' in X is - 5788\n",
      "Pixels to replace labels with '40' recored is - [0.45490196 0.35686275 0.2509804  1.        ] \n"
     ]
    },
    {
     "data": {
      "image/png": "[encoded data removed]",
      "text/plain": [
       "<Figure size 432x288 with 1 Axes>"
      ]
     },
     "metadata": {
      "needs_background": "light"
     },
     "output_type": "display_data"
    }
   ],
   "source": [
    "img_filename = \"textile/textile_5.PNG\"\n",
    "image = imread(img_filename)\n",
    "print(\"Original Image Shape:\", image.shape)\n",
    "\n",
    "X = image.reshape(-1, 4)\n",
    "\n",
    "eps_lst = [0.005]\n",
    "min_sample_lst = [25]\n",
    "\n",
    "for eps in eps_lst:\n",
    "    for min_sample in min_sample_lst:\n",
    "        print(\" Training - \", eps, \"_\", min_sample, \" Begin\")\n",
    "        dbscan = DBSCAN(eps=eps, min_samples=min_sample, algorithm='ball_tree')\n",
    "        labels = dbscan.fit_predict(X)\n",
    "        print(\" Training - \", eps, \"_\", min_sample, \" END\")\n",
    "        \n",
    "        unique_labels = np.unique(labels)\n",
    "        print('Unique Labels: ', unique_labels)\n",
    "        \n",
    "        for label in unique_labels:\n",
    "            print(label)\n",
    "            first_idx_of_lable = np.min(np.argwhere(dbscan.labels_ == label))\n",
    "            print('First Index of label - \\'{0}\\' in X is - {1}'.format(label, first_idx_of_lable) )\n",
    "            print('Pixels to replace labels with \\'{0}\\' recored is - {1} '.format(label, X[first_idx_of_lable]) )\n",
    "            X[dbscan.labels_ == label] = X[first_idx_of_lable]\n",
    "        \n",
    "        segmented_img = X.reshape(image.shape)\n",
    "        plt.imshow(segmented_img)\n",
    "        plt.savefig('./segmented/dbscan_'+img_filename+'_'+str(eps)+'_'+str(min_sample)+'.png')"
   ]
  },
  {
   "cell_type": "code",
   "execution_count": null,
   "metadata": {},
   "outputs": [],
   "source": []
  }
 ],
 "metadata": {
  "kernelspec": {
   "display_name": "Python 3",
   "language": "python",
   "name": "python3"
  },
  "language_info": {
   "codemirror_mode": {
    "name": "ipython",
    "version": 3
   },
   "file_extension": ".py",
   "mimetype": "text/x-python",
   "name": "python",
   "nbconvert_exporter": "python",
   "pygments_lexer": "ipython3",
   "version": "3.7.7"
  }
 },
 "nbformat": 4,
 "nbformat_minor": 4
}
