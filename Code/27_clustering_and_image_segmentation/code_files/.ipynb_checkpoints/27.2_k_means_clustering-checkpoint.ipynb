{
 "cells": [
  {
   "cell_type": "markdown",
   "metadata": {},
   "source": [
    "<h1><center>K - Means Clustering</center></h1>"
   ]
  },
  {
   "cell_type": "code",
   "execution_count": 1,
   "metadata": {},
   "outputs": [],
   "source": [
    "import pandas as pd\n",
    "import numpy as np\n",
    "import seaborn as sns\n",
    "import matplotlib.pyplot as plt\n",
    "\n",
    "from sklearn.cluster import KMeans\n",
    "from sklearn.metrics import silhouette_score"
   ]
  },
  {
   "cell_type": "code",
   "execution_count": 2,
   "metadata": {},
   "outputs": [],
   "source": [
    "digit_dataset = pd.read_csv('../../Data/digit_recognizer_train.csv')"
   ]
  },
  {
   "cell_type": "code",
   "execution_count": 3,
   "metadata": {},
   "outputs": [
    {
     "data": {
      "text/html": [
       "<div>\n",
       "<style scoped>\n",
       "    .dataframe tbody tr th:only-of-type {\n",
       "        vertical-align: middle;\n",
       "    }\n",
       "\n",
       "    .dataframe tbody tr th {\n",
       "        vertical-align: top;\n",
       "    }\n",
       "\n",
       "    .dataframe thead th {\n",
       "        text-align: right;\n",
       "    }\n",
       "</style>\n",
       "<table border=\"1\" class=\"dataframe\">\n",
       "  <thead>\n",
       "    <tr style=\"text-align: right;\">\n",
       "      <th></th>\n",
       "      <th>label</th>\n",
       "      <th>pixel0</th>\n",
       "      <th>pixel1</th>\n",
       "      <th>pixel2</th>\n",
       "      <th>pixel3</th>\n",
       "      <th>pixel4</th>\n",
       "      <th>pixel5</th>\n",
       "      <th>pixel6</th>\n",
       "      <th>pixel7</th>\n",
       "      <th>pixel8</th>\n",
       "      <th>...</th>\n",
       "      <th>pixel774</th>\n",
       "      <th>pixel775</th>\n",
       "      <th>pixel776</th>\n",
       "      <th>pixel777</th>\n",
       "      <th>pixel778</th>\n",
       "      <th>pixel779</th>\n",
       "      <th>pixel780</th>\n",
       "      <th>pixel781</th>\n",
       "      <th>pixel782</th>\n",
       "      <th>pixel783</th>\n",
       "    </tr>\n",
       "  </thead>\n",
       "  <tbody>\n",
       "    <tr>\n",
       "      <th>0</th>\n",
       "      <td>1</td>\n",
       "      <td>0</td>\n",
       "      <td>0</td>\n",
       "      <td>0</td>\n",
       "      <td>0</td>\n",
       "      <td>0</td>\n",
       "      <td>0</td>\n",
       "      <td>0</td>\n",
       "      <td>0</td>\n",
       "      <td>0</td>\n",
       "      <td>...</td>\n",
       "      <td>0</td>\n",
       "      <td>0</td>\n",
       "      <td>0</td>\n",
       "      <td>0</td>\n",
       "      <td>0</td>\n",
       "      <td>0</td>\n",
       "      <td>0</td>\n",
       "      <td>0</td>\n",
       "      <td>0</td>\n",
       "      <td>0</td>\n",
       "    </tr>\n",
       "    <tr>\n",
       "      <th>1</th>\n",
       "      <td>0</td>\n",
       "      <td>0</td>\n",
       "      <td>0</td>\n",
       "      <td>0</td>\n",
       "      <td>0</td>\n",
       "      <td>0</td>\n",
       "      <td>0</td>\n",
       "      <td>0</td>\n",
       "      <td>0</td>\n",
       "      <td>0</td>\n",
       "      <td>...</td>\n",
       "      <td>0</td>\n",
       "      <td>0</td>\n",
       "      <td>0</td>\n",
       "      <td>0</td>\n",
       "      <td>0</td>\n",
       "      <td>0</td>\n",
       "      <td>0</td>\n",
       "      <td>0</td>\n",
       "      <td>0</td>\n",
       "      <td>0</td>\n",
       "    </tr>\n",
       "    <tr>\n",
       "      <th>2</th>\n",
       "      <td>1</td>\n",
       "      <td>0</td>\n",
       "      <td>0</td>\n",
       "      <td>0</td>\n",
       "      <td>0</td>\n",
       "      <td>0</td>\n",
       "      <td>0</td>\n",
       "      <td>0</td>\n",
       "      <td>0</td>\n",
       "      <td>0</td>\n",
       "      <td>...</td>\n",
       "      <td>0</td>\n",
       "      <td>0</td>\n",
       "      <td>0</td>\n",
       "      <td>0</td>\n",
       "      <td>0</td>\n",
       "      <td>0</td>\n",
       "      <td>0</td>\n",
       "      <td>0</td>\n",
       "      <td>0</td>\n",
       "      <td>0</td>\n",
       "    </tr>\n",
       "    <tr>\n",
       "      <th>3</th>\n",
       "      <td>4</td>\n",
       "      <td>0</td>\n",
       "      <td>0</td>\n",
       "      <td>0</td>\n",
       "      <td>0</td>\n",
       "      <td>0</td>\n",
       "      <td>0</td>\n",
       "      <td>0</td>\n",
       "      <td>0</td>\n",
       "      <td>0</td>\n",
       "      <td>...</td>\n",
       "      <td>0</td>\n",
       "      <td>0</td>\n",
       "      <td>0</td>\n",
       "      <td>0</td>\n",
       "      <td>0</td>\n",
       "      <td>0</td>\n",
       "      <td>0</td>\n",
       "      <td>0</td>\n",
       "      <td>0</td>\n",
       "      <td>0</td>\n",
       "    </tr>\n",
       "    <tr>\n",
       "      <th>4</th>\n",
       "      <td>0</td>\n",
       "      <td>0</td>\n",
       "      <td>0</td>\n",
       "      <td>0</td>\n",
       "      <td>0</td>\n",
       "      <td>0</td>\n",
       "      <td>0</td>\n",
       "      <td>0</td>\n",
       "      <td>0</td>\n",
       "      <td>0</td>\n",
       "      <td>...</td>\n",
       "      <td>0</td>\n",
       "      <td>0</td>\n",
       "      <td>0</td>\n",
       "      <td>0</td>\n",
       "      <td>0</td>\n",
       "      <td>0</td>\n",
       "      <td>0</td>\n",
       "      <td>0</td>\n",
       "      <td>0</td>\n",
       "      <td>0</td>\n",
       "    </tr>\n",
       "  </tbody>\n",
       "</table>\n",
       "<p>5 rows × 785 columns</p>\n",
       "</div>"
      ],
      "text/plain": [
       "   label  pixel0  pixel1  pixel2  pixel3  pixel4  pixel5  pixel6  pixel7  \\\n",
       "0      1       0       0       0       0       0       0       0       0   \n",
       "1      0       0       0       0       0       0       0       0       0   \n",
       "2      1       0       0       0       0       0       0       0       0   \n",
       "3      4       0       0       0       0       0       0       0       0   \n",
       "4      0       0       0       0       0       0       0       0       0   \n",
       "\n",
       "   pixel8  ...  pixel774  pixel775  pixel776  pixel777  pixel778  pixel779  \\\n",
       "0       0  ...         0         0         0         0         0         0   \n",
       "1       0  ...         0         0         0         0         0         0   \n",
       "2       0  ...         0         0         0         0         0         0   \n",
       "3       0  ...         0         0         0         0         0         0   \n",
       "4       0  ...         0         0         0         0         0         0   \n",
       "\n",
       "   pixel780  pixel781  pixel782  pixel783  \n",
       "0         0         0         0         0  \n",
       "1         0         0         0         0  \n",
       "2         0         0         0         0  \n",
       "3         0         0         0         0  \n",
       "4         0         0         0         0  \n",
       "\n",
       "[5 rows x 785 columns]"
      ]
     },
     "execution_count": 3,
     "metadata": {},
     "output_type": "execute_result"
    }
   ],
   "source": [
    "digit_dataset.head()"
   ]
  },
  {
   "cell_type": "code",
   "execution_count": 4,
   "metadata": {},
   "outputs": [],
   "source": [
    "digit_X = digit_dataset.iloc[:, 1:]\n",
    "digit_y = digit_dataset['label']"
   ]
  },
  {
   "cell_type": "code",
   "execution_count": 5,
   "metadata": {},
   "outputs": [],
   "source": [
    "# By default train_test_split does STRATIFIED split based on label (y-value).\n",
    "from sklearn.model_selection import train_test_split\n",
    "digit_X_train, digit_X_test, digit_y_train, digit_y_test = train_test_split(digit_X, digit_y, test_size=0.2)"
   ]
  },
  {
   "cell_type": "code",
   "execution_count": 6,
   "metadata": {},
   "outputs": [],
   "source": [
    "#from sklearn.preprocessing import StandardScaler\n",
    "\n",
    "#sc = StandardScaler()\n",
    "#digit_X_train = sc.fit_transform(digit_X_train)"
   ]
  },
  {
   "cell_type": "markdown",
   "metadata": {},
   "source": [
    "#### \"How to choose K ?\"\n",
    "  * One way to determine the number of clusters is to look at how the total of \"within cluster sum of squares (WCSS)\" behaves when the number of cluster changes. When you plot the number of clusters and the total WCSS (elbow-curve), the optimal number of clusters is when the total WCSS drops radically. We can access this value using \"sklearn.cluster.KMeans.inertia_\" attribute."
   ]
  },
  {
   "cell_type": "code",
   "execution_count": 7,
   "metadata": {},
   "outputs": [
    {
     "name": "stdout",
     "output_type": "stream",
     "text": [
      "For n_clusters = 3, silhouette score is 0.05409928951596076)\n",
      "For n_clusters = 4, silhouette score is 0.06011131660195556)\n",
      "For n_clusters = 5, silhouette score is 0.06641141124187852)\n",
      "For n_clusters = 6, silhouette score is 0.06513090916334911)\n",
      "For n_clusters = 7, silhouette score is 0.06643633166221323)\n",
      "For n_clusters = 8, silhouette score is 0.07311457463214265)\n",
      "For n_clusters = 9, silhouette score is 0.056933844534433724)\n",
      "For n_clusters = 10, silhouette score is 0.05852725146723188)\n",
      "For n_clusters = 11, silhouette score is 0.05741747449636724)\n",
      "For n_clusters = 12, silhouette score is 0.0578699132968722)\n",
      "For n_clusters = 13, silhouette score is 0.059715000366949655)\n",
      "For n_clusters = 14, silhouette score is 0.060816637535800654)\n",
      "For n_clusters = 15, silhouette score is 0.06261726343351547)\n",
      "For n_clusters = 16, silhouette score is 0.06292224989878877)\n",
      "For n_clusters = 17, silhouette score is 0.06458228593797452)\n",
      "For n_clusters = 18, silhouette score is 0.06505087734127969)\n",
      "For n_clusters = 19, silhouette score is 0.056645936987229493)\n",
      "For n_clusters = 20, silhouette score is 0.0575137844910857)\n",
      "For n_clusters = 21, silhouette score is 0.058088855426324255)\n",
      "For n_clusters = 22, silhouette score is 0.058896808047994124)\n",
      "For n_clusters = 23, silhouette score is 0.06018587930453703)\n",
      "For n_clusters = 24, silhouette score is 0.06114987620146645)\n",
      "For n_clusters = 25, silhouette score is 0.06152992088201874)\n",
      "For n_clusters = 26, silhouette score is 0.06189085202550784)\n",
      "For n_clusters = 27, silhouette score is 0.060903135476209416)\n",
      "For n_clusters = 28, silhouette score is 0.06236642613174009)\n",
      "For n_clusters = 29, silhouette score is 0.06178642100699473)\n",
      "For n_clusters = 30, silhouette score is 0.06268590204442892)\n",
      "For n_clusters = 31, silhouette score is 0.06086580000957352)\n",
      "For n_clusters = 32, silhouette score is 0.06236693720788455)\n",
      "For n_clusters = 33, silhouette score is 0.06177784672704071)\n",
      "For n_clusters = 34, silhouette score is 0.062136416937578876)\n",
      "For n_clusters = 35, silhouette score is 0.061827277786782306)\n",
      "For n_clusters = 36, silhouette score is 0.05775022985362493)\n",
      "For n_clusters = 37, silhouette score is 0.06248321612254102)\n",
      "For n_clusters = 38, silhouette score is 0.057012796894042275)\n",
      "For n_clusters = 39, silhouette score is 0.05732657927700701)\n",
      "For n_clusters = 40, silhouette score is 0.057780725584344265)\n",
      "For n_clusters = 41, silhouette score is 0.057231194371286376)\n",
      "For n_clusters = 42, silhouette score is 0.05724329499357207)\n",
      "For n_clusters = 43, silhouette score is 0.057896061293133176)\n",
      "For n_clusters = 44, silhouette score is 0.05838117939965363)\n",
      "For n_clusters = 45, silhouette score is 0.05868188002137805)\n",
      "For n_clusters = 46, silhouette score is 0.05882752865125405)\n",
      "For n_clusters = 47, silhouette score is 0.05755146614937997)\n",
      "For n_clusters = 48, silhouette score is 0.05807257154152342)\n",
      "For n_clusters = 49, silhouette score is 0.05762141039282229)\n",
      "For n_clusters = 50, silhouette score is 0.05789358032667644)\n",
      "For n_clusters = 51, silhouette score is 0.05787813719477774)\n",
      "For n_clusters = 52, silhouette score is 0.05811876999641516)\n",
      "For n_clusters = 53, silhouette score is 0.05377455777574198)\n",
      "For n_clusters = 54, silhouette score is 0.053887883014012365)\n",
      "For n_clusters = 55, silhouette score is 0.053939861190752426)\n",
      "For n_clusters = 56, silhouette score is 0.05833417925475375)\n",
      "For n_clusters = 57, silhouette score is 0.05915803192908852)\n",
      "For n_clusters = 58, silhouette score is 0.0532999727746302)\n",
      "For n_clusters = 59, silhouette score is 0.05345064993706738)\n"
     ]
    }
   ],
   "source": [
    "wcss = [] # Within Cluster Sum of Squares\n",
    "silhouette_scores = []\n",
    "for k in range(3, 60):\n",
    "    kmeans = KMeans(n_clusters = k, init='k-means++', random_state = 42)\n",
    "    kmeans.fit(digit_X_train)\n",
    "    preds = kmeans.predict(digit_X_train)\n",
    "    \n",
    "    wcss.append(kmeans.inertia_)\n",
    "    silhou_score = silhouette_score(digit_X_train, preds)\n",
    "    silhouette_scores.append(silhou_score)\n",
    "    \n",
    "    print(\"For n_clusters = {}, silhouette score is {})\".format(k, silhou_score))    "
   ]
  },
  {
   "cell_type": "code",
   "execution_count": 9,
   "metadata": {},
   "outputs": [
    {
     "data": {
      "image/png": "[encoded data removed]",
      "text/plain": [
       "<Figure size 432x288 with 1 Axes>"
      ]
     },
     "metadata": {
      "needs_background": "light"
     },
     "output_type": "display_data"
    }
   ],
   "source": [
    "plt.plot(range(3, 60), wcss)\n",
    "plt.title('The Elbow Method')\n",
    "plt.xlabel('Number of clusters - k')\n",
    "plt.ylabel('WCSS')\n",
    "plt.show()"
   ]
  },
  {
   "cell_type": "code",
   "execution_count": 10,
   "metadata": {},
   "outputs": [
    {
     "data": {
      "image/png": "[encoded data removed]",
      "text/plain": [
       "<Figure size 432x288 with 1 Axes>"
      ]
     },
     "metadata": {
      "needs_background": "light"
     },
     "output_type": "display_data"
    }
   ],
   "source": [
    "plt.plot(range(3, 60), silhouette_scores)\n",
    "plt.title('The Silhouette Method')\n",
    "plt.xlabel('Number of clusters - k')\n",
    "plt.ylabel('Silhouette Score')\n",
    "plt.show()"
   ]
  },
  {
   "cell_type": "markdown",
   "metadata": {},
   "source": [
    "#### Looks like 8, 18 are best K values, let's take 8 and do clustering and look at some visualization"
   ]
  },
  {
   "cell_type": "code",
   "execution_count": 28,
   "metadata": {},
   "outputs": [],
   "source": [
    "best_kmeans = KMeans(n_clusters = 8, init = 'k-means++', random_state = 42)\n",
    "X_clusters = best_kmeans.fit_predict(digit_X_train)"
   ]
  },
  {
   "cell_type": "code",
   "execution_count": 29,
   "metadata": {},
   "outputs": [
    {
     "data": {
      "text/plain": [
       "(33600,)"
      ]
     },
     "execution_count": 29,
     "metadata": {},
     "output_type": "execute_result"
    }
   ],
   "source": [
    "X_clusters.shape"
   ]
  },
  {
   "cell_type": "code",
   "execution_count": 30,
   "metadata": {},
   "outputs": [
    {
     "data": {
      "text/plain": [
       "array([3, 1, 1, 1, 2, 2, 1, 0, 2, 2, 5, 2, 3, 7, 0, 5, 2, 5, 1, 7, 4, 2,\n",
       "       6, 4, 0, 3, 3, 3, 2, 4, 4, 4, 2, 1, 6, 2, 6, 2, 4, 2, 3, 7, 2, 5,\n",
       "       7, 4, 1, 2, 6, 7, 4, 7, 2, 3, 0, 1, 1, 6, 6, 3, 3, 1, 1, 6, 3, 1,\n",
       "       5, 0, 4, 1, 0, 4, 1, 4, 1, 1, 2, 1, 0, 2, 2, 7, 1, 5, 6, 0, 3, 5,\n",
       "       4, 6, 5, 2, 6, 0, 6, 7, 4, 5, 0, 7])"
      ]
     },
     "execution_count": 30,
     "metadata": {},
     "output_type": "execute_result"
    }
   ],
   "source": [
    "X_clusters[:100]"
   ]
  },
  {
   "cell_type": "code",
   "execution_count": 31,
   "metadata": {},
   "outputs": [],
   "source": [
    "X_clusters = X_clusters.reshape(-1,1)"
   ]
  },
  {
   "cell_type": "markdown",
   "metadata": {},
   "source": [
    "### Cluster visulalization"
   ]
  },
  {
   "cell_type": "code",
   "execution_count": 32,
   "metadata": {},
   "outputs": [],
   "source": [
    "from sklearn.decomposition import PCA\n",
    "pca1 = PCA(n_components = 2) \n",
    "components = pca1.fit_transform(digit_X_train)"
   ]
  },
  {
   "cell_type": "code",
   "execution_count": 33,
   "metadata": {},
   "outputs": [],
   "source": [
    "X_viz = np.hstack((components, X_clusters))"
   ]
  },
  {
   "cell_type": "code",
   "execution_count": 34,
   "metadata": {},
   "outputs": [],
   "source": [
    "df_X_viz = pd.DataFrame(X_viz, columns=['pc1', 'pc2', 'cluster'])"
   ]
  },
  {
   "cell_type": "code",
   "execution_count": 35,
   "metadata": {},
   "outputs": [
    {
     "data": {
      "image/png": "[encoded data removed]",
      "text/plain": [
       "<Figure size 432x288 with 1 Axes>"
      ]
     },
     "metadata": {
      "needs_background": "light"
     },
     "output_type": "display_data"
    }
   ],
   "source": [
    "g = plt.scatter(x=\"pc1\", y=\"pc2\", c=\"cluster\", data=df_X_viz)"
   ]
  },
  {
   "cell_type": "markdown",
   "metadata": {},
   "source": [
    "### Use Clustering to improve Classification Model accuracy\n",
    "  * On Hand Written Digit Recognition dataset (with 784 pixels) we got an F1-Score of 92% on train set\n",
    "  * Let's add Cluster labels as a new columns (785th column) and try to build a model and see if the accuracy improves"
   ]
  },
  {
   "cell_type": "code",
   "execution_count": 36,
   "metadata": {},
   "outputs": [],
   "source": [
    "cluster8_digit_X_train = np.hstack((digit_X_train, X_clusters))"
   ]
  },
  {
   "cell_type": "code",
   "execution_count": 37,
   "metadata": {},
   "outputs": [],
   "source": [
    "from sklearn.preprocessing import StandardScaler\n",
    "std_scale = StandardScaler()\n",
    "cluster8_digit_X_train = std_scale.fit_transform(cluster8_digit_X_train)"
   ]
  },
  {
   "cell_type": "markdown",
   "metadata": {},
   "source": [
    "#### Build SGDModel and see if preformance improves."
   ]
  },
  {
   "cell_type": "code",
   "execution_count": 38,
   "metadata": {},
   "outputs": [
    {
     "data": {
      "text/plain": [
       "SGDClassifier(alpha=0.0001, average=False, class_weight=None,\n",
       "              early_stopping=False, epsilon=0.1, eta0=0.1, fit_intercept=True,\n",
       "              l1_ratio=0.15, learning_rate='invscaling', loss='hinge',\n",
       "              max_iter=1000, n_iter_no_change=5, n_jobs=None, penalty='l2',\n",
       "              power_t=0.5, random_state=2, shuffle=True, tol=0.001,\n",
       "              validation_fraction=0.1, verbose=0, warm_start=False)"
      ]
     },
     "execution_count": 38,
     "metadata": {},
     "output_type": "execute_result"
    }
   ],
   "source": [
    "from sklearn.linear_model import SGDClassifier\n",
    "sgd_model = SGDClassifier(random_state=2, eta0=0.1, learning_rate='invscaling')\n",
    "sgd_model.fit(cluster8_digit_X_train, digit_y_train)"
   ]
  },
  {
   "cell_type": "code",
   "execution_count": 39,
   "metadata": {},
   "outputs": [
    {
     "data": {
      "text/plain": [
       "0.9242304401245124"
      ]
     },
     "execution_count": 39,
     "metadata": {},
     "output_type": "execute_result"
    }
   ],
   "source": [
    "from sklearn.metrics import f1_score\n",
    "f1_score(digit_y_train, sgd_model.predict(cluster8_digit_X_train), average='weighted')"
   ]
  },
  {
   "cell_type": "markdown",
   "metadata": {},
   "source": [
    "#### We saw that 8 clusters is also good one, let's see which K is best by doing GridSearchCV"
   ]
  },
  {
   "cell_type": "code",
   "execution_count": 40,
   "metadata": {},
   "outputs": [],
   "source": [
    "from sklearn.base import BaseEstimator, TransformerMixin\n",
    "from sklearn.pipeline import Pipeline, FeatureUnion\n",
    "from sklearn.model_selection import GridSearchCV"
   ]
  },
  {
   "cell_type": "code",
   "execution_count": 41,
   "metadata": {},
   "outputs": [
    {
     "data": {
      "text/plain": [
       "(33600, 784)"
      ]
     },
     "execution_count": 41,
     "metadata": {},
     "output_type": "execute_result"
    }
   ],
   "source": [
    "digit_X_train.shape"
   ]
  },
  {
   "cell_type": "code",
   "execution_count": 42,
   "metadata": {},
   "outputs": [
    {
     "data": {
      "text/plain": [
       "GridSearchCV(cv=10, error_score=nan,\n",
       "             estimator=Pipeline(memory=None,\n",
       "                                steps=[('hStackClusterLabel',\n",
       "                                        FeatureUnion(n_jobs=None,\n",
       "                                                     transformer_list=[('kmeans',\n",
       "                                                                        KMeans(algorithm='auto',\n",
       "                                                                               copy_x=True,\n",
       "                                                                               init='k-means++',\n",
       "                                                                               max_iter=300,\n",
       "                                                                               n_clusters=8,\n",
       "                                                                               n_init=10,\n",
       "                                                                               n_jobs=None,\n",
       "                                                                               precompute_distances='auto',\n",
       "                                                                               random_state=42,\n",
       "                                                                               tol=0.0001,\n",
       "                                                                               verbose=0)),\n",
       "                                                                       ('scaled',\n",
       "                                                                        StandardScaler(copy=True...\n",
       "                                                      n_iter_no_change=5,\n",
       "                                                      n_jobs=None, penalty='l2',\n",
       "                                                      power_t=0.5,\n",
       "                                                      random_state=2,\n",
       "                                                      shuffle=True, tol=0.001,\n",
       "                                                      validation_fraction=0.1,\n",
       "                                                      verbose=0,\n",
       "                                                      warm_start=False))],\n",
       "                                verbose=False),\n",
       "             iid='deprecated', n_jobs=None,\n",
       "             param_grid={'hStackClusterLabel__kmeans__n_clusters': [8, 17, 37,\n",
       "                                                                    100]},\n",
       "             pre_dispatch='2*n_jobs', refit=True, return_train_score=False,\n",
       "             scoring='f1_weighted', verbose=0)"
      ]
     },
     "execution_count": 42,
     "metadata": {},
     "output_type": "execute_result"
    }
   ],
   "source": [
    "hStackClusterLabel = FeatureUnion([(\"kmeans\", KMeans(init='k-means++', random_state = 42)),\n",
    "                                    ('scaled', StandardScaler())])\n",
    "\n",
    "sgd_pipeline = Pipeline([\n",
    "        (\"hStackClusterLabel\", hStackClusterLabel),\n",
    "        (\"sgd\", SGDClassifier(random_state=2, eta0=0.1, learning_rate='invscaling'))\n",
    "    ])\n",
    "\n",
    "param_grid = {\n",
    "        \"hStackClusterLabel__kmeans__n_clusters\": [8, 18, 37, 100]\n",
    "    }\n",
    "\n",
    "grid_search = GridSearchCV(sgd_pipeline, param_grid, cv=10, scoring='f1_weighted')\n",
    "grid_search.fit(digit_X_train, digit_y_train)"
   ]
  },
  {
   "cell_type": "code",
   "execution_count": 43,
   "metadata": {},
   "outputs": [
    {
     "data": {
      "text/plain": [
       "Pipeline(memory=None,\n",
       "         steps=[('hStackClusterLabel',\n",
       "                 FeatureUnion(n_jobs=None,\n",
       "                              transformer_list=[('kmeans',\n",
       "                                                 KMeans(algorithm='auto',\n",
       "                                                        copy_x=True,\n",
       "                                                        init='k-means++',\n",
       "                                                        max_iter=300,\n",
       "                                                        n_clusters=100,\n",
       "                                                        n_init=10, n_jobs=None,\n",
       "                                                        precompute_distances='auto',\n",
       "                                                        random_state=42,\n",
       "                                                        tol=0.0001,\n",
       "                                                        verbose=0)),\n",
       "                                                ('scaled',\n",
       "                                                 StandardScaler(copy=True,\n",
       "                                                                with_mean=True,\n",
       "                                                                with_std=True))],\n",
       "                              transforme...\n",
       "                 SGDClassifier(alpha=0.0001, average=False, class_weight=None,\n",
       "                               early_stopping=False, epsilon=0.1, eta0=0.1,\n",
       "                               fit_intercept=True, l1_ratio=0.15,\n",
       "                               learning_rate='invscaling', loss='hinge',\n",
       "                               max_iter=1000, n_iter_no_change=5, n_jobs=None,\n",
       "                               penalty='l2', power_t=0.5, random_state=2,\n",
       "                               shuffle=True, tol=0.001, validation_fraction=0.1,\n",
       "                               verbose=0, warm_start=False))],\n",
       "         verbose=False)"
      ]
     },
     "execution_count": 43,
     "metadata": {},
     "output_type": "execute_result"
    }
   ],
   "source": [
    "grid_search.best_estimator_"
   ]
  },
  {
   "cell_type": "code",
   "execution_count": 44,
   "metadata": {},
   "outputs": [
    {
     "data": {
      "text/plain": [
       "0.9057625773791147"
      ]
     },
     "execution_count": 44,
     "metadata": {},
     "output_type": "execute_result"
    }
   ],
   "source": [
    "f1_score(digit_y_train, grid_search.best_estimator_.predict(digit_X_train), average='weighted')"
   ]
  },
  {
   "cell_type": "code",
   "execution_count": null,
   "metadata": {},
   "outputs": [],
   "source": []
  }
 ],
 "metadata": {
  "kernelspec": {
   "display_name": "Python 3",
   "language": "python",
   "name": "python3"
  },
  "language_info": {
   "codemirror_mode": {
    "name": "ipython",
    "version": 3
   },
   "file_extension": ".py",
   "mimetype": "text/x-python",
   "name": "python",
   "nbconvert_exporter": "python",
   "pygments_lexer": "ipython3",
   "version": "3.7.7"
  }
 },
 "nbformat": 4,
 "nbformat_minor": 2
}
