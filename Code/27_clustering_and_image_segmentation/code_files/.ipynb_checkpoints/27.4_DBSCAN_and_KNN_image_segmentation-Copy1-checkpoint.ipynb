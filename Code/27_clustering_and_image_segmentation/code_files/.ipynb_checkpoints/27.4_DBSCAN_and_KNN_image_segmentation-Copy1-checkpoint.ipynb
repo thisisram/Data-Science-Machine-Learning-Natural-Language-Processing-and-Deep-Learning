{
 "cells": [
  {
   "cell_type": "markdown",
   "metadata": {},
   "source": [
    "<h1><center>DBSCAN - Image Segmentation (Clustering)</center></h1>"
   ]
  },
  {
   "cell_type": "code",
   "execution_count": 1,
   "metadata": {},
   "outputs": [],
   "source": [
    "from sklearn.cluster import DBSCAN\n",
    "\n",
    "from matplotlib.image import imread\n",
    "\n",
    "import numpy as np\n",
    "import matplotlib.pyplot as plt"
   ]
  },
  {
   "cell_type": "code",
   "execution_count": 2,
   "metadata": {},
   "outputs": [],
   "source": [
    "img_filename = \"./handloom_thread_count1.PNG\""
   ]
  },
  {
   "cell_type": "code",
   "execution_count": 3,
   "metadata": {},
   "outputs": [
    {
     "data": {
      "text/plain": [
       "(642, 599, 4)"
      ]
     },
     "execution_count": 3,
     "metadata": {},
     "output_type": "execute_result"
    }
   ],
   "source": [
    "image = imread(img_filename)\n",
    "image.shape"
   ]
  },
  {
   "cell_type": "code",
   "execution_count": 4,
   "metadata": {},
   "outputs": [],
   "source": [
    "X = image.reshape(-1, 4)"
   ]
  },
  {
   "cell_type": "code",
   "execution_count": null,
   "metadata": {},
   "outputs": [],
   "source": [
    "eps_lst = [0.005, 0.0051, 0.0052]\n",
    "min_sample_lst = [400, 410, 420, 430, 440, 450, 460, 470, 480, 490, 500]\n",
    "\n",
    "\n",
    "for eps in eps_lst:\n",
    "    for min_sample in min_sample_lst:\n",
    "        print(\" Training - \", eps, \"_\", min_sample, \" Begin\")\n",
    "        dbscan = DBSCAN(eps=eps, min_samples=min_sample, algorithm='kd_tree')\n",
    "        dbscan.fit(X)\n",
    "        print(\" Training - \", eps, \"_\", min_sample, \" END\")\n",
    "        \n",
    "        print(dbscan.labels_)\n",
    "        \n",
    "        div = len(np.unique(dbscan.labels_))\n",
    "        pxl = 1.0\n",
    "        add_val = 1.0/div\n",
    "        for lable in np.unique(dbscan.labels_):\n",
    "            X[dbscan.labels_ == lable] = [(pxl + lable)*add_val, (pxl + lable)*add_val, (pxl + lable)*add_val, (pxl + lable)*add_val]\n",
    "\n",
    "        segmented_img = X.reshape(image.shape)\n",
    "        plt.imshow(segmented_img)\n",
    "        plt.savefig('handloom_thread_count1_dbscan_'+str(eps)+'_'+str(min_sample)+'.png')"
   ]
  },
  {
   "cell_type": "code",
   "execution_count": null,
   "metadata": {},
   "outputs": [],
   "source": []
  }
 ],
 "metadata": {
  "kernelspec": {
   "display_name": "Python 3",
   "language": "python",
   "name": "python3"
  },
  "language_info": {
   "codemirror_mode": {
    "name": "ipython",
    "version": 3
   },
   "file_extension": ".py",
   "mimetype": "text/x-python",
   "name": "python",
   "nbconvert_exporter": "python",
   "pygments_lexer": "ipython3",
   "version": "3.7.7"
  }
 },
 "nbformat": 4,
 "nbformat_minor": 4
}
