{
 "cells": [
  {
   "cell_type": "markdown",
   "metadata": {},
   "source": [
    "### Tokenization\n",
    "  * Tokenization is the process of splitting input sequence into TOKENS. The words are an example of tokens in a sentence."
   ]
  },
  {
   "cell_type": "code",
   "execution_count": 1,
   "metadata": {},
   "outputs": [],
   "source": [
    "import pandas as pd\n",
    "import numpy as np\n",
    "import re\n",
    "import matplotlib.pyplot as plt"
   ]
  },
  {
   "cell_type": "markdown",
   "metadata": {},
   "source": [
    "* A word is a meaningful sequence of characters.\n",
    "* Word boundaries in English are spaces or punctuation.\n",
    "* In German there are compound words which are written without spaces\n",
    "  * “Rechtsschutzversicherungsgesellschaften” stands for “insurance companies which provide legal protection”\n",
    "* In Japanese there are no spaces at all!\n",
    "  * Butyoucanstillreaditright?  \n",
    "  \n",
    "####  Tokenization is a process that splits input sequence into tokens\n",
    "  * Token as useful unit for semantic processing, they can be a word, sentence, paragraph, etc.  "
   ]
  },
  {
   "cell_type": "code",
   "execution_count": 2,
   "metadata": {},
   "outputs": [],
   "source": [
    "test_seq = \"Andrew Ng is datajango's guru, isn't it. Anderw is a professor in Stanford University, San Francisco, California.\""
   ]
  },
  {
   "cell_type": "code",
   "execution_count": 3,
   "metadata": {},
   "outputs": [
    {
     "name": "stdout",
     "output_type": "stream",
     "text": [
      "['Andrew', 'Ng', 'is', 'datajango', \"'\", 's', 'guru', ',', 'isn', \"'\", 't', 'it', '.', 'Anderw', 'is', 'a', 'professor', 'in', 'Stanford', 'University', ',', 'San', 'Francisco', ',', 'California', '.']\n"
     ]
    }
   ],
   "source": [
    "from nltk.tokenize import WordPunctTokenizer\n",
    "wp_tokenizer = WordPunctTokenizer()\n",
    "tokens = wp_tokenizer.tokenize(test_seq)\n",
    "print(tokens)"
   ]
  },
  {
   "cell_type": "code",
   "execution_count": 4,
   "metadata": {},
   "outputs": [
    {
     "name": "stdout",
     "output_type": "stream",
     "text": [
      "['Andrew', 'Ng', 'is', 'datajango', \"'s\", 'guru', ',', 'is', \"n't\", 'it.', 'Anderw', 'is', 'a', 'professor', 'in', 'Stanford', 'University', ',', 'San', 'Francisco', ',', 'California', '.']\n"
     ]
    }
   ],
   "source": [
    "from nltk.tokenize import TreebankWordTokenizer\n",
    "tb_tokenizer = TreebankWordTokenizer()\n",
    "tokens = tb_tokenizer.tokenize(test_seq)\n",
    "print(tokens)"
   ]
  },
  {
   "cell_type": "code",
   "execution_count": 5,
   "metadata": {},
   "outputs": [
    {
     "data": {
      "text/plain": [
       "23"
      ]
     },
     "execution_count": 5,
     "metadata": {},
     "output_type": "execute_result"
    }
   ],
   "source": [
    "len(tokens)"
   ]
  },
  {
   "cell_type": "code",
   "execution_count": 6,
   "metadata": {},
   "outputs": [
    {
     "name": "stdout",
     "output_type": "stream",
     "text": [
      "['Andrew', 'Ng', 'is', \"datajango's\", 'guru,', \"isn't\", 'it.', 'Anderw', 'is', 'a', 'professor', 'in', 'Stanford', 'University,', 'San', 'Francisco,', 'California.']\n"
     ]
    }
   ],
   "source": [
    "from nltk.tokenize import WhitespaceTokenizer\n",
    "whp_tokenizer = WhitespaceTokenizer()\n",
    "tokens = whp_tokenizer.tokenize(test_seq)\n",
    "print(tokens)"
   ]
  },
  {
   "cell_type": "markdown",
   "metadata": {},
   "source": [
    "### Stanford Core NLP \n",
    "  * https://github.com/nltk/nltk/wiki/Stanford-CoreNLP-API-in-NLTK\n",
    "  * https://stanfordnlp.github.io/CoreNLP/\n",
    "  * Stanford CoreNLP is written in Java; recent releases require Java 1.8+ (https://www.oracle.com/technetwork/java/javaee/downloads/jdk8-downloads-2133151.html). You need to have Java installed to run CoreNLP. However, you can interact with CoreNLP via the command-line or its web service; many people use CoreNLP while writing their own code in Javascript, Python, or some other language.\n",
    "    * goto stanford-corenlp-full\n",
    "    * java -mx4g -cp \"*\" edu.stanford.nlp.pipeline.StanfordCoreNLPServer -preload tokenize,ssplit,pos,lemma,ner,parse,depparse -status_port 9000 -port 9000 -timeout 15000 & "
   ]
  },
  {
   "cell_type": "code",
   "execution_count": 7,
   "metadata": {},
   "outputs": [
    {
     "name": "stdout",
     "output_type": "stream",
     "text": [
      "<generator object GenericCoreNLPParser.tokenize at 0x00000213A2D83040>\n"
     ]
    }
   ],
   "source": [
    "# from nltk.tokenize.stanford import StanfordTokenizer depricated\n",
    "from nltk.parse.corenlp import CoreNLPParser \n",
    "st_parser = CoreNLPParser(url='http://localhost:9000')\n",
    "#st_parser = CoreNLPParser(url='http://[::]:9000/')\n",
    "tokens = st_parser.tokenize(test_seq)\n",
    "print(tokens)"
   ]
  },
  {
   "cell_type": "markdown",
   "metadata": {},
   "source": [
    "##### Generator: \"yield\" key word makes a method generator"
   ]
  },
  {
   "cell_type": "code",
   "execution_count": 8,
   "metadata": {},
   "outputs": [
    {
     "name": "stdout",
     "output_type": "stream",
     "text": [
      "[1, 4, 9, 16]\n"
     ]
    }
   ],
   "source": [
    "def squares(nums):\n",
    "    sqr = []\n",
    "    for n in nums:\n",
    "        sqr.append(n**2)\n",
    "    return sqr\n",
    "\n",
    "print(squares([1,2,3,4]))"
   ]
  },
  {
   "cell_type": "code",
   "execution_count": 9,
   "metadata": {},
   "outputs": [
    {
     "name": "stdout",
     "output_type": "stream",
     "text": [
      "1\n",
      "4\n",
      "9\n",
      "16\n"
     ]
    }
   ],
   "source": [
    "def squares(nums):\n",
    "    for n in nums:\n",
    "        yield n**2\n",
    "\n",
    "for n in squares([1,2,3,4]):\n",
    "    print(n)"
   ]
  },
  {
   "cell_type": "code",
   "execution_count": 10,
   "metadata": {},
   "outputs": [
    {
     "name": "stdout",
     "output_type": "stream",
     "text": [
      "['Andrew', 'Ng', 'is', 'datajango', \"'s\", 'guru', ',', 'is', \"n't\", 'it', '.', 'Anderw', 'is', 'a', 'professor', 'in', 'Stanford', 'University', ',', 'San', 'Francisco', ',', 'California', '.']\n"
     ]
    }
   ],
   "source": [
    "tokens_lst =[x for x in tokens]\n",
    "print(tokens_lst)"
   ]
  },
  {
   "cell_type": "code",
   "execution_count": null,
   "metadata": {},
   "outputs": [],
   "source": [
    "len(tokens_lst)"
   ]
  },
  {
   "cell_type": "code",
   "execution_count": null,
   "metadata": {},
   "outputs": [],
   "source": [
    "data = pd.read_csv('C:/Users/thisi/Workspace/AI_dataset/HPC_data/health_care_news_data.csv')"
   ]
  },
  {
   "cell_type": "code",
   "execution_count": 14,
   "metadata": {},
   "outputs": [
    {
     "data": {
      "text/plain": [
       "(8577, 12)"
      ]
     },
     "execution_count": 14,
     "metadata": {},
     "output_type": "execute_result"
    }
   ],
   "source": [
    "data.shape"
   ]
  },
  {
   "cell_type": "code",
   "execution_count": 13,
   "metadata": {},
   "outputs": [
    {
     "data": {
      "text/plain": [
       "Index(['_id', 'crawlDate', 'headline', 'embargoDate', 'sourceUrl',\n",
       "       'description', 'cureType', 'publishedDate', 'isLead', 'state', 'docId',\n",
       "       'id'],\n",
       "      dtype='object')"
      ]
     },
     "execution_count": 13,
     "metadata": {},
     "output_type": "execute_result"
    }
   ],
   "source": [
    "data.columns"
   ]
  },
  {
   "cell_type": "code",
   "execution_count": 15,
   "metadata": {},
   "outputs": [],
   "source": [
    "data_set = data[['headline','description']]"
   ]
  },
  {
   "cell_type": "code",
   "execution_count": 16,
   "metadata": {},
   "outputs": [
    {
     "data": {
      "text/plain": [
       "(8577, 2)"
      ]
     },
     "execution_count": 16,
     "metadata": {},
     "output_type": "execute_result"
    }
   ],
   "source": [
    "data_set.shape"
   ]
  },
  {
   "cell_type": "markdown",
   "metadata": {},
   "source": [
    "#### Analyse data: Let's have a look at one article\n",
    "  * Observation 1: We have some special characters and words such as '\\n', '“', '\\t', 'PF-06651600', etc.\n",
    "  * We should definetly remore special charactes such as '\\n', '“', '\\t' before we proceed further."
   ]
  },
  {
   "cell_type": "code",
   "execution_count": 18,
   "metadata": {},
   "outputs": [
    {
     "name": "stdout",
     "output_type": "stream",
     "text": [
      "2017-12-14 00:00:00\n",
      "\n",
      "Global program to commence with pivotal study B7451012 in North America, Australia and Europe; broader regional rollout in 2018\n",
      "Thursday, December 14, 2017 - 7:30amESTPfizer Inc. (NYSE:PFE) today announced the initiation of a Phase 3 program for its once-daily Janus kinase 1 (JAK1) inhibitor PF-04965842, to evaluate the efficacy and safety of PF-04965842 for the treatment of moderate-to-severe atopic dermatitis (AD). This is the first trial in the JAK1 Atopic Dermatitis Efficacy and safety (JADE) global development program.\n",
      "“By initiating this Phase 3 program in atopic dermatitis, we hope to provide a new potential treatment option for people suffering with this condition,” said Michael Corbo, Chief Development Officer, Inflammation & Immunology, Pfizer Global Product Development. “Pfizer continues to build a leadership position in inflammation and immunology research with the advancement of this important, Pfizer-discovered investigational oral JAK1 inhibitor.”\n",
      "About the Phase 3 Trial B7451012\n",
      "This Phase 3 trial is a randomized, double-blind, placebo-controlled, parallel-group study designed to evaluate the efficacy and safety of PF-04965842 in 375 patients 12 years and older with moderate-to-severe AD. Trial participants will be randomly assigned to receive 200 mg or 100 mg once daily or placebo.\n",
      "The primary endpoints are the proportion of patients achieving an Investigator Global Assessment (IGA) score of 0/1 and ≥2 point improvement, and the proportion of patients with at least a 75% or greater change from baseline in their Eczema Area and Severity Index (EASI) score. Key secondary endpoints include the pruritus numerical rating scale, the Pruritus and Symptoms Assessment for Atopic Dermatitis (PSAAD) electronic diary and safety measures such as the incidence of treatment emergent adverse events and laboratory abnormalities. The treatment duration will be 12 weeks, the same duration as the Phase 2b study B7451006, with a 4 week safety follow-up period or the option to enter a long-term extension study (B7451015) at Week 12. More on the study can be found on www.clinicaltrials.gov under the identifier NCT03349060.\n",
      "The design of the Phase 3 trial is based on the Phase 2 results that were presented at the 26th Congress of the European Academy of Dermatology and Venereology in September 2017.\n",
      "About Atopic Dermatitis\n",
      "Atopic dermatitis, also commonly called atopic eczema, is inflammation of the skin and characterized by erythema (redness), itching (pruritus), induration (hardening)/papulation (formation of papules), and oozing/crusting.\n",
      "About Pfizer’s Kinase Inhibitor Leadership\n",
      "PF-04965842 is an oral small molecule that selectively inhibits Janus kinase 1 (JAK1). Inhibition of JAK1 modulates multiple cytokines involved in pathophysiology of AD including interleukin (IL)-4, IL-13, IL-31 and interferon gamma (IFNɣ).\n",
      "“We look forward to advancing other kinase inhibitors currently in mid-stage research for other diseases such as alopecia, psoriasis, inflammatory bowel disease, and rheumatoid arthritis,” said Michael Vincent, M.D, Ph.D., Senior Vice President and Chief Scientific Officer of Inflammation and Immunology Research at Pfizer.\n",
      "Pfizer has established a leading kinase research capability with multiple unique kinase inhibitor therapies in development. As a pioneer in JAK science, the Company is advancing several investigational programs with novel selectivity profiles, which, if successful, could potentially deliver transformative therapies for patients. Pfizer has three additional kinase inhibitors in Phase 2 development across multiple indications:\n",
      "\n",
      "\t\tPF-06651600: A JAK3 inhibitor under investigation for the treatment of rheumatoid arthritis, ulcerative colitis and alopecia areata\n",
      "\n",
      "\t\tPF-06700841: A tyrosine kinase 2 (TYK2)/JAK1 inhibitor under investigation for the treatment of psoriasis, ulcerative colitis and alopecia areata\n",
      "\n",
      "\t\tPF-06650833: An interleukin-1 receptor-associated kinase 4 (IRAK4) inhibitor under investigation for the treatment of rheumatoid arthritis\n",
      "Working together for a healthier world®\n",
      "At Pfizer, we apply science and our global resources to bring therapies to people that extend and significantly improve their lives. We strive to set the standard for quality, safety and value in the discovery, development and manufacture of health care products. Our global portfolio includes medicines and vaccines as well as many of the world's best-known consumer health care products. Every day, Pfizer colleagues work across developed and emerging markets to advance wellness, prevention, treatments and cures that challenge the most feared diseases of our time. Consistent with our responsibility as one of the world's premier innovative biopharmaceutical companies, we collaborate with health care providers, governments and local communities to support and expand access to reliable, affordable health care around the world. For more than 150 years, we have worked to make a difference for all who rely on us. We routinely post information that may be important to investors on our website at www.pfizer.com. In addition, to learn more, please visit us on www.pfizer.com and follow us on Twitter at @Pfizer and @Pfizer_News, LinkedIn, YouTube and like us on Facebook at Facebook.com/Pfizer.\n",
      "DISCLOSURE NOTICE: The information contained in this release is as of December 12, 2017. Pfizer assumes no obligation to update forward-looking statements contained in this release as the result of new information or future events or developments.\n",
      "This release contains forward-looking information about PF-04965842 and Pfizer’s ongoing investigational programs in kinase inhibitor therapies, including their potential benefits, that involves substantial risks and uncertainties that could cause actual results to differ materially from those expressed or implied by such statements. Risks and uncertainties include, among other things, the uncertainties inherent in research and development, including the ability to meet anticipated clinical trial commencement and completion dates and regulatory submission dates, as well as the possibility of unfavorable clinical trial results, including unfavorable new clinical data and additional analyses of existing data; risks associated with preliminary data; the risk that clinical trial data are subject to differing interpretations, and, even when we view data as sufficient to support the safety and/or effectiveness of a product candidate, regulatory authorities may not share our views and may require additional data or may deny approval altogether; whether regulatory authorities will be satisfied with the design of and results from our clinical studies; whether and when drug applications may be filed in any jurisdictions for any potential indication for PF-04965842 or any other investigational kinase inhibitor therapies; whether and when any such applications may be approved by regulatory authorities, which will depend on the assessment by such regulatory authorities of the benefit-risk profile suggested by the totality of the efficacy and safety information submitted, and, if approved, whether PF-04965842 or any such other investigational kinase inhibitor therapies will be commercially successful; decisions by regulatory authorities regarding labeling, safety and other matters that could affect the availability or commercial potential of PF-04965842 or any other investigational kinase inhibitor therapies; and competitive developments.\n",
      "A further description of risks and uncertainties can be found in Pfizer’s Annual Report on Form 10-K for the fiscal year ended December 31, 2016 and in its subsequent reports on Form 10-Q, including in the sections thereof captioned “Risk Factors” and “Forward-Looking Information and Factors That May Affect Future Results”, as well as in its subsequent reports on Form 8-K, all of which are filed with the U.S. Securities and Exchange Commission and available at www.sec.gov and www.pfizer.com.\n",
      "Contact: Media:\n",
      "\tNeha Wadhwa, 212-733-2835[email protected]\n",
      "\tor\n",
      "\tInvestors:\n",
      "\tRyan Crowe, 212-733-8160[email protected]\n"
     ]
    }
   ],
   "source": [
    "sample_text = data_set['description'][0]\n",
    "print(sample_text)"
   ]
  },
  {
   "cell_type": "markdown",
   "metadata": {},
   "source": [
    "#### Let's find non-alpha/neumerics"
   ]
  },
  {
   "cell_type": "code",
   "execution_count": 34,
   "metadata": {},
   "outputs": [],
   "source": [
    "search_result = re.findall('[\\t\\n\\r\\f\\v]', sample_text)"
   ]
  },
  {
   "cell_type": "code",
   "execution_count": 35,
   "metadata": {},
   "outputs": [
    {
     "data": {
      "text/plain": [
       "['\\n',\n",
       " '\\n',\n",
       " '\\n',\n",
       " '\\n',\n",
       " '\\n',\n",
       " '\\n',\n",
       " '\\n',\n",
       " '\\n',\n",
       " '\\n',\n",
       " '\\n',\n",
       " '\\n',\n",
       " '\\n',\n",
       " '\\n',\n",
       " '\\n',\n",
       " '\\n',\n",
       " '\\n',\n",
       " '\\t',\n",
       " '\\t',\n",
       " '\\n',\n",
       " '\\n',\n",
       " '\\t',\n",
       " '\\t',\n",
       " '\\n',\n",
       " '\\n',\n",
       " '\\t',\n",
       " '\\t',\n",
       " '\\n',\n",
       " '\\n',\n",
       " '\\n',\n",
       " '\\n',\n",
       " '\\n',\n",
       " '\\n',\n",
       " '\\n',\n",
       " '\\t',\n",
       " '\\n',\n",
       " '\\t',\n",
       " '\\n',\n",
       " '\\t',\n",
       " '\\n',\n",
       " '\\t']"
      ]
     },
     "execution_count": 35,
     "metadata": {},
     "output_type": "execute_result"
    }
   ],
   "source": [
    "search_result"
   ]
  },
  {
   "cell_type": "code",
   "execution_count": 36,
   "metadata": {},
   "outputs": [],
   "source": [
    "sample_text = re.sub('[\\t\\n\\r\\f\\v\\\"]', ' ',sample_text)"
   ]
  },
  {
   "cell_type": "code",
   "execution_count": 37,
   "metadata": {},
   "outputs": [
    {
     "data": {
      "text/plain": [
       "[]"
      ]
     },
     "execution_count": 37,
     "metadata": {},
     "output_type": "execute_result"
    }
   ],
   "source": [
    "re.findall('[\\t\\n\\r\\f\\v]', sample_text)"
   ]
  },
  {
   "cell_type": "code",
   "execution_count": 38,
   "metadata": {},
   "outputs": [
    {
     "data": {
      "text/plain": [
       "\"2017-12-14 00:00:00  Global program to commence with pivotal study B7451012 in North America, Australia and Europe; broader regional rollout in 2018 Thursday, December 14, 2017 - 7:30amESTPfizer Inc. (NYSE:PFE) today announced the initiation of a Phase 3 program for its once-daily Janus kinase 1 (JAK1) inhibitor PF-04965842, to evaluate the efficacy and safety of PF-04965842 for the treatment of moderate-to-severe atopic dermatitis (AD). This is the first trial in the JAK1 Atopic Dermatitis Efficacy and safety (JADE) global development program. “By initiating this Phase 3 program in atopic dermatitis, we hope to provide a new potential treatment option for people suffering with this condition,” said Michael Corbo, Chief Development Officer, Inflammation & Immunology, Pfizer Global Product Development. “Pfizer continues to build a leadership position in inflammation and immunology research with the advancement of this important, Pfizer-discovered investigational oral JAK1 inhibitor.” About the Phase 3 Trial B7451012 This Phase 3 trial is a randomized, double-blind, placebo-controlled, parallel-group study designed to evaluate the efficacy and safety of PF-04965842 in 375 patients 12 years and older with moderate-to-severe AD. Trial participants will be randomly assigned to receive 200 mg or 100 mg once daily or placebo. The primary endpoints are the proportion of patients achieving an Investigator Global Assessment (IGA) score of 0/1 and ≥2 point improvement, and the proportion of patients with at least a 75% or greater change from baseline in their Eczema Area and Severity Index (EASI) score. Key secondary endpoints include the pruritus numerical rating scale, the Pruritus and Symptoms Assessment for Atopic Dermatitis (PSAAD) electronic diary and safety measures such as the incidence of treatment emergent adverse events and laboratory abnormalities. The treatment duration will be 12 weeks, the same duration as the Phase 2b study B7451006, with a 4 week safety follow-up period or the option to enter a long-term extension study (B7451015) at Week 12. More on the study can be found on www.clinicaltrials.gov under the identifier NCT03349060. The design of the Phase 3 trial is based on the Phase 2 results that were presented at the 26th Congress of the European Academy of Dermatology and Venereology in September 2017. About Atopic Dermatitis Atopic dermatitis, also commonly called atopic eczema, is inflammation of the skin and characterized by erythema (redness), itching (pruritus), induration (hardening)/papulation (formation of papules), and oozing/crusting. About Pfizer’s Kinase Inhibitor Leadership PF-04965842 is an oral small molecule that selectively inhibits Janus kinase 1 (JAK1). Inhibition of JAK1 modulates multiple cytokines involved in pathophysiology of AD including interleukin (IL)-4, IL-13, IL-31 and interferon gamma (IFNɣ). “We look forward to advancing other kinase inhibitors currently in mid-stage research for other diseases such as alopecia, psoriasis, inflammatory bowel disease, and rheumatoid arthritis,” said Michael Vincent, M.D, Ph.D., Senior Vice President and Chief Scientific Officer of Inflammation and Immunology Research at Pfizer. Pfizer has established a leading kinase research capability with multiple unique kinase inhibitor therapies in development. As a pioneer in JAK science, the Company is advancing several investigational programs with novel selectivity profiles, which, if successful, could potentially deliver transformative therapies for patients. Pfizer has three additional kinase inhibitors in Phase 2 development across multiple indications:    PF-06651600: A JAK3 inhibitor under investigation for the treatment of rheumatoid arthritis, ulcerative colitis and alopecia areata    PF-06700841: A tyrosine kinase 2 (TYK2)/JAK1 inhibitor under investigation for the treatment of psoriasis, ulcerative colitis and alopecia areata    PF-06650833: An interleukin-1 receptor-associated kinase 4 (IRAK4) inhibitor under investigation for the treatment of rheumatoid arthritis Working together for a healthier world® At Pfizer, we apply science and our global resources to bring therapies to people that extend and significantly improve their lives. We strive to set the standard for quality, safety and value in the discovery, development and manufacture of health care products. Our global portfolio includes medicines and vaccines as well as many of the world's best-known consumer health care products. Every day, Pfizer colleagues work across developed and emerging markets to advance wellness, prevention, treatments and cures that challenge the most feared diseases of our time. Consistent with our responsibility as one of the world's premier innovative biopharmaceutical companies, we collaborate with health care providers, governments and local communities to support and expand access to reliable, affordable health care around the world. For more than 150 years, we have worked to make a difference for all who rely on us. We routinely post information that may be important to investors on our website at www.pfizer.com. In addition, to learn more, please visit us on www.pfizer.com and follow us on Twitter at @Pfizer and @Pfizer_News, LinkedIn, YouTube and like us on Facebook at Facebook.com/Pfizer. DISCLOSURE NOTICE: The information contained in this release is as of December 12, 2017. Pfizer assumes no obligation to update forward-looking statements contained in this release as the result of new information or future events or developments. This release contains forward-looking information about PF-04965842 and Pfizer’s ongoing investigational programs in kinase inhibitor therapies, including their potential benefits, that involves substantial risks and uncertainties that could cause actual results to differ materially from those expressed or implied by such statements. Risks and uncertainties include, among other things, the uncertainties inherent in research and development, including the ability to meet anticipated clinical trial commencement and completion dates and regulatory submission dates, as well as the possibility of unfavorable clinical trial results, including unfavorable new clinical data and additional analyses of existing data; risks associated with preliminary data; the risk that clinical trial data are subject to differing interpretations, and, even when we view data as sufficient to support the safety and/or effectiveness of a product candidate, regulatory authorities may not share our views and may require additional data or may deny approval altogether; whether regulatory authorities will be satisfied with the design of and results from our clinical studies; whether and when drug applications may be filed in any jurisdictions for any potential indication for PF-04965842 or any other investigational kinase inhibitor therapies; whether and when any such applications may be approved by regulatory authorities, which will depend on the assessment by such regulatory authorities of the benefit-risk profile suggested by the totality of the efficacy and safety information submitted, and, if approved, whether PF-04965842 or any such other investigational kinase inhibitor therapies will be commercially successful; decisions by regulatory authorities regarding labeling, safety and other matters that could affect the availability or commercial potential of PF-04965842 or any other investigational kinase inhibitor therapies; and competitive developments. A further description of risks and uncertainties can be found in Pfizer’s Annual Report on Form 10-K for the fiscal year ended December 31, 2016 and in its subsequent reports on Form 10-Q, including in the sections thereof captioned “Risk Factors” and “Forward-Looking Information and Factors That May Affect Future Results”, as well as in its subsequent reports on Form 8-K, all of which are filed with the U.S. Securities and Exchange Commission and available at www.sec.gov and www.pfizer.com. Contact: Media:  Neha Wadhwa, 212-733-2835[email protected]  or  Investors:  Ryan Crowe, 212-733-8160[email protected]\""
      ]
     },
     "execution_count": 38,
     "metadata": {},
     "output_type": "execute_result"
    }
   ],
   "source": [
    "sample_text"
   ]
  },
  {
   "cell_type": "code",
   "execution_count": 39,
   "metadata": {},
   "outputs": [
    {
     "data": {
      "text/plain": [
       "['Contact: Media:  Neha Wadhwa, 212-733-2835[email protected]  or  Investors:  Ryan Crowe, 212-733-8160[email protected]']"
      ]
     },
     "execution_count": 39,
     "metadata": {},
     "output_type": "execute_result"
    }
   ],
   "source": [
    "re.findall(r'Contact:[\\s\\w,\\-\\d\\[\\]\\:]*', sample_text, re.I)"
   ]
  },
  {
   "cell_type": "code",
   "execution_count": 40,
   "metadata": {},
   "outputs": [],
   "source": [
    "sample_text = re.sub(r'Contact:[\\s\\w,\\-\\d\\[\\]\\:]*', ' ',sample_text)"
   ]
  },
  {
   "cell_type": "code",
   "execution_count": 41,
   "metadata": {},
   "outputs": [
    {
     "data": {
      "text/plain": [
       "\"2017-12-14 00:00:00  Global program to commence with pivotal study B7451012 in North America, Australia and Europe; broader regional rollout in 2018 Thursday, December 14, 2017 - 7:30amESTPfizer Inc. (NYSE:PFE) today announced the initiation of a Phase 3 program for its once-daily Janus kinase 1 (JAK1) inhibitor PF-04965842, to evaluate the efficacy and safety of PF-04965842 for the treatment of moderate-to-severe atopic dermatitis (AD). This is the first trial in the JAK1 Atopic Dermatitis Efficacy and safety (JADE) global development program. “By initiating this Phase 3 program in atopic dermatitis, we hope to provide a new potential treatment option for people suffering with this condition,” said Michael Corbo, Chief Development Officer, Inflammation & Immunology, Pfizer Global Product Development. “Pfizer continues to build a leadership position in inflammation and immunology research with the advancement of this important, Pfizer-discovered investigational oral JAK1 inhibitor.” About the Phase 3 Trial B7451012 This Phase 3 trial is a randomized, double-blind, placebo-controlled, parallel-group study designed to evaluate the efficacy and safety of PF-04965842 in 375 patients 12 years and older with moderate-to-severe AD. Trial participants will be randomly assigned to receive 200 mg or 100 mg once daily or placebo. The primary endpoints are the proportion of patients achieving an Investigator Global Assessment (IGA) score of 0/1 and ≥2 point improvement, and the proportion of patients with at least a 75% or greater change from baseline in their Eczema Area and Severity Index (EASI) score. Key secondary endpoints include the pruritus numerical rating scale, the Pruritus and Symptoms Assessment for Atopic Dermatitis (PSAAD) electronic diary and safety measures such as the incidence of treatment emergent adverse events and laboratory abnormalities. The treatment duration will be 12 weeks, the same duration as the Phase 2b study B7451006, with a 4 week safety follow-up period or the option to enter a long-term extension study (B7451015) at Week 12. More on the study can be found on www.clinicaltrials.gov under the identifier NCT03349060. The design of the Phase 3 trial is based on the Phase 2 results that were presented at the 26th Congress of the European Academy of Dermatology and Venereology in September 2017. About Atopic Dermatitis Atopic dermatitis, also commonly called atopic eczema, is inflammation of the skin and characterized by erythema (redness), itching (pruritus), induration (hardening)/papulation (formation of papules), and oozing/crusting. About Pfizer’s Kinase Inhibitor Leadership PF-04965842 is an oral small molecule that selectively inhibits Janus kinase 1 (JAK1). Inhibition of JAK1 modulates multiple cytokines involved in pathophysiology of AD including interleukin (IL)-4, IL-13, IL-31 and interferon gamma (IFNɣ). “We look forward to advancing other kinase inhibitors currently in mid-stage research for other diseases such as alopecia, psoriasis, inflammatory bowel disease, and rheumatoid arthritis,” said Michael Vincent, M.D, Ph.D., Senior Vice President and Chief Scientific Officer of Inflammation and Immunology Research at Pfizer. Pfizer has established a leading kinase research capability with multiple unique kinase inhibitor therapies in development. As a pioneer in JAK science, the Company is advancing several investigational programs with novel selectivity profiles, which, if successful, could potentially deliver transformative therapies for patients. Pfizer has three additional kinase inhibitors in Phase 2 development across multiple indications:    PF-06651600: A JAK3 inhibitor under investigation for the treatment of rheumatoid arthritis, ulcerative colitis and alopecia areata    PF-06700841: A tyrosine kinase 2 (TYK2)/JAK1 inhibitor under investigation for the treatment of psoriasis, ulcerative colitis and alopecia areata    PF-06650833: An interleukin-1 receptor-associated kinase 4 (IRAK4) inhibitor under investigation for the treatment of rheumatoid arthritis Working together for a healthier world® At Pfizer, we apply science and our global resources to bring therapies to people that extend and significantly improve their lives. We strive to set the standard for quality, safety and value in the discovery, development and manufacture of health care products. Our global portfolio includes medicines and vaccines as well as many of the world's best-known consumer health care products. Every day, Pfizer colleagues work across developed and emerging markets to advance wellness, prevention, treatments and cures that challenge the most feared diseases of our time. Consistent with our responsibility as one of the world's premier innovative biopharmaceutical companies, we collaborate with health care providers, governments and local communities to support and expand access to reliable, affordable health care around the world. For more than 150 years, we have worked to make a difference for all who rely on us. We routinely post information that may be important to investors on our website at www.pfizer.com. In addition, to learn more, please visit us on www.pfizer.com and follow us on Twitter at @Pfizer and @Pfizer_News, LinkedIn, YouTube and like us on Facebook at Facebook.com/Pfizer. DISCLOSURE NOTICE: The information contained in this release is as of December 12, 2017. Pfizer assumes no obligation to update forward-looking statements contained in this release as the result of new information or future events or developments. This release contains forward-looking information about PF-04965842 and Pfizer’s ongoing investigational programs in kinase inhibitor therapies, including their potential benefits, that involves substantial risks and uncertainties that could cause actual results to differ materially from those expressed or implied by such statements. Risks and uncertainties include, among other things, the uncertainties inherent in research and development, including the ability to meet anticipated clinical trial commencement and completion dates and regulatory submission dates, as well as the possibility of unfavorable clinical trial results, including unfavorable new clinical data and additional analyses of existing data; risks associated with preliminary data; the risk that clinical trial data are subject to differing interpretations, and, even when we view data as sufficient to support the safety and/or effectiveness of a product candidate, regulatory authorities may not share our views and may require additional data or may deny approval altogether; whether regulatory authorities will be satisfied with the design of and results from our clinical studies; whether and when drug applications may be filed in any jurisdictions for any potential indication for PF-04965842 or any other investigational kinase inhibitor therapies; whether and when any such applications may be approved by regulatory authorities, which will depend on the assessment by such regulatory authorities of the benefit-risk profile suggested by the totality of the efficacy and safety information submitted, and, if approved, whether PF-04965842 or any such other investigational kinase inhibitor therapies will be commercially successful; decisions by regulatory authorities regarding labeling, safety and other matters that could affect the availability or commercial potential of PF-04965842 or any other investigational kinase inhibitor therapies; and competitive developments. A further description of risks and uncertainties can be found in Pfizer’s Annual Report on Form 10-K for the fiscal year ended December 31, 2016 and in its subsequent reports on Form 10-Q, including in the sections thereof captioned “Risk Factors” and “Forward-Looking Information and Factors That May Affect Future Results”, as well as in its subsequent reports on Form 8-K, all of which are filed with the U.S. Securities and Exchange Commission and available at www.sec.gov and www.pfizer.com.  \""
      ]
     },
     "execution_count": 41,
     "metadata": {},
     "output_type": "execute_result"
    }
   ],
   "source": [
    "sample_text"
   ]
  },
  {
   "cell_type": "markdown",
   "metadata": {},
   "source": [
    "##  Tockenization & Understanding Features\n",
    "#### Let's understand Tokenizers a little bit before applying them on our data"
   ]
  },
  {
   "cell_type": "code",
   "execution_count": 42,
   "metadata": {},
   "outputs": [],
   "source": [
    "import nltk\n",
    "from nltk.tokenize import WhitespaceTokenizer\n",
    "from nltk.tokenize import RegexpTokenizer"
   ]
  },
  {
   "cell_type": "code",
   "execution_count": 47,
   "metadata": {},
   "outputs": [],
   "source": [
    "#regx_tokenizer = RegexpTokenizer('\\w+|\\$[\\d\\.]+|\\S+')"
   ]
  },
  {
   "cell_type": "code",
   "execution_count": 48,
   "metadata": {},
   "outputs": [],
   "source": [
    "regx_tokenizer = RegexpTokenizer('\\S+')"
   ]
  },
  {
   "cell_type": "code",
   "execution_count": 49,
   "metadata": {},
   "outputs": [],
   "source": [
    "regx_tokens = regx_tokenizer.tokenize(sample_text)"
   ]
  },
  {
   "cell_type": "code",
   "execution_count": 50,
   "metadata": {},
   "outputs": [
    {
     "name": "stdout",
     "output_type": "stream",
     "text": [
      "['2017-12-14', '00:00:00', 'Global', 'program', 'to', 'commence', 'with', 'pivotal', 'study', 'B7451012', 'in', 'North', 'America,', 'Australia', 'and', 'Europe;', 'broader', 'regional', 'rollout', 'in', '2018', 'Thursday,', 'December', '14,', '2017', '-', '7:30amESTPfizer', 'Inc.', '(NYSE:PFE)', 'today', 'announced', 'the', 'initiation', 'of', 'a', 'Phase', '3', 'program', 'for', 'its', 'once-daily', 'Janus', 'kinase', '1', '(JAK1)', 'inhibitor', 'PF-04965842,', 'to', 'evaluate', 'the', 'efficacy', 'and', 'safety', 'of', 'PF-04965842', 'for', 'the', 'treatment', 'of', 'moderate-to-severe', 'atopic', 'dermatitis', '(AD).', 'This', 'is', 'the', 'first', 'trial', 'in', 'the', 'JAK1', 'Atopic', 'Dermatitis', 'Efficacy', 'and', 'safety', '(JADE)', 'global', 'development', 'program.', '“By', 'initiating', 'this', 'Phase', '3', 'program', 'in', 'atopic', 'dermatitis,', 'we', 'hope', 'to', 'provide', 'a', 'new', 'potential', 'treatment', 'option', 'for', 'people', 'suffering', 'with', 'this', 'condition,”', 'said', 'Michael', 'Corbo,', 'Chief', 'Development', 'Officer,', 'Inflammation', '&', 'Immunology,', 'Pfizer', 'Global', 'Product', 'Development.', '“Pfizer', 'continues', 'to', 'build', 'a', 'leadership', 'position', 'in', 'inflammation', 'and', 'immunology', 'research', 'with', 'the', 'advancement', 'of', 'this', 'important,', 'Pfizer-discovered', 'investigational', 'oral', 'JAK1', 'inhibitor.”', 'About', 'the', 'Phase', '3', 'Trial', 'B7451012', 'This', 'Phase', '3', 'trial', 'is', 'a', 'randomized,', 'double-blind,', 'placebo-controlled,', 'parallel-group', 'study', 'designed', 'to', 'evaluate', 'the', 'efficacy', 'and', 'safety', 'of', 'PF-04965842', 'in', '375', 'patients', '12', 'years', 'and', 'older', 'with', 'moderate-to-severe', 'AD.', 'Trial', 'participants', 'will', 'be', 'randomly', 'assigned', 'to', 'receive', '200', 'mg', 'or', '100', 'mg', 'once', 'daily', 'or', 'placebo.', 'The', 'primary', 'endpoints', 'are', 'the', 'proportion', 'of', 'patients', 'achieving', 'an', 'Investigator', 'Global', 'Assessment', '(IGA)', 'score', 'of', '0/1', 'and', '≥2', 'point', 'improvement,', 'and', 'the', 'proportion', 'of', 'patients', 'with', 'at', 'least', 'a', '75%', 'or', 'greater', 'change', 'from', 'baseline', 'in', 'their', 'Eczema', 'Area', 'and', 'Severity', 'Index', '(EASI)', 'score.', 'Key', 'secondary', 'endpoints', 'include', 'the', 'pruritus', 'numerical', 'rating', 'scale,', 'the', 'Pruritus', 'and', 'Symptoms', 'Assessment', 'for', 'Atopic', 'Dermatitis', '(PSAAD)', 'electronic', 'diary', 'and', 'safety', 'measures', 'such', 'as', 'the', 'incidence', 'of', 'treatment', 'emergent', 'adverse', 'events', 'and', 'laboratory', 'abnormalities.', 'The', 'treatment', 'duration', 'will', 'be', '12', 'weeks,', 'the', 'same', 'duration', 'as', 'the', 'Phase', '2b', 'study', 'B7451006,', 'with', 'a', '4', 'week', 'safety', 'follow-up', 'period', 'or', 'the', 'option', 'to', 'enter', 'a', 'long-term', 'extension', 'study', '(B7451015)', 'at', 'Week', '12.', 'More', 'on', 'the', 'study', 'can', 'be', 'found', 'on', 'www.clinicaltrials.gov', 'under', 'the', 'identifier', 'NCT03349060.', 'The', 'design', 'of', 'the', 'Phase', '3', 'trial', 'is', 'based', 'on', 'the', 'Phase', '2', 'results', 'that', 'were', 'presented', 'at', 'the', '26th', 'Congress', 'of', 'the', 'European', 'Academy', 'of', 'Dermatology', 'and', 'Venereology', 'in', 'September', '2017.', 'About', 'Atopic', 'Dermatitis', 'Atopic', 'dermatitis,', 'also', 'commonly', 'called', 'atopic', 'eczema,', 'is', 'inflammation', 'of', 'the', 'skin', 'and', 'characterized', 'by', 'erythema', '(redness),', 'itching', '(pruritus),', 'induration', '(hardening)/papulation', '(formation', 'of', 'papules),', 'and', 'oozing/crusting.', 'About', 'Pfizer’s', 'Kinase', 'Inhibitor', 'Leadership', 'PF-04965842', 'is', 'an', 'oral', 'small', 'molecule', 'that', 'selectively', 'inhibits', 'Janus', 'kinase', '1', '(JAK1).', 'Inhibition', 'of', 'JAK1', 'modulates', 'multiple', 'cytokines', 'involved', 'in', 'pathophysiology', 'of', 'AD', 'including', 'interleukin', '(IL)-4,', 'IL-13,', 'IL-31', 'and', 'interferon', 'gamma', '(IFNɣ).', '“We', 'look', 'forward', 'to', 'advancing', 'other', 'kinase', 'inhibitors', 'currently', 'in', 'mid-stage', 'research', 'for', 'other', 'diseases', 'such', 'as', 'alopecia,', 'psoriasis,', 'inflammatory', 'bowel', 'disease,', 'and', 'rheumatoid', 'arthritis,”', 'said', 'Michael', 'Vincent,', 'M.D,', 'Ph.D.,', 'Senior', 'Vice', 'President', 'and', 'Chief', 'Scientific', 'Officer', 'of', 'Inflammation', 'and', 'Immunology', 'Research', 'at', 'Pfizer.', 'Pfizer', 'has', 'established', 'a', 'leading', 'kinase', 'research', 'capability', 'with', 'multiple', 'unique', 'kinase', 'inhibitor', 'therapies', 'in', 'development.', 'As', 'a', 'pioneer', 'in', 'JAK', 'science,', 'the', 'Company', 'is', 'advancing', 'several', 'investigational', 'programs', 'with', 'novel', 'selectivity', 'profiles,', 'which,', 'if', 'successful,', 'could', 'potentially', 'deliver', 'transformative', 'therapies', 'for', 'patients.', 'Pfizer', 'has', 'three', 'additional', 'kinase', 'inhibitors', 'in', 'Phase', '2', 'development', 'across', 'multiple', 'indications:', 'PF-06651600:', 'A', 'JAK3', 'inhibitor', 'under', 'investigation', 'for', 'the', 'treatment', 'of', 'rheumatoid', 'arthritis,', 'ulcerative', 'colitis', 'and', 'alopecia', 'areata', 'PF-06700841:', 'A', 'tyrosine', 'kinase', '2', '(TYK2)/JAK1', 'inhibitor', 'under', 'investigation', 'for', 'the', 'treatment', 'of', 'psoriasis,', 'ulcerative', 'colitis', 'and', 'alopecia', 'areata', 'PF-06650833:', 'An', 'interleukin-1', 'receptor-associated', 'kinase', '4', '(IRAK4)', 'inhibitor', 'under', 'investigation', 'for', 'the', 'treatment', 'of', 'rheumatoid', 'arthritis', 'Working', 'together', 'for', 'a', 'healthier', 'world®', 'At', 'Pfizer,', 'we', 'apply', 'science', 'and', 'our', 'global', 'resources', 'to', 'bring', 'therapies', 'to', 'people', 'that', 'extend', 'and', 'significantly', 'improve', 'their', 'lives.', 'We', 'strive', 'to', 'set', 'the', 'standard', 'for', 'quality,', 'safety', 'and', 'value', 'in', 'the', 'discovery,', 'development', 'and', 'manufacture', 'of', 'health', 'care', 'products.', 'Our', 'global', 'portfolio', 'includes', 'medicines', 'and', 'vaccines', 'as', 'well', 'as', 'many', 'of', 'the', \"world's\", 'best-known', 'consumer', 'health', 'care', 'products.', 'Every', 'day,', 'Pfizer', 'colleagues', 'work', 'across', 'developed', 'and', 'emerging', 'markets', 'to', 'advance', 'wellness,', 'prevention,', 'treatments', 'and', 'cures', 'that', 'challenge', 'the', 'most', 'feared', 'diseases', 'of', 'our', 'time.', 'Consistent', 'with', 'our', 'responsibility', 'as', 'one', 'of', 'the', \"world's\", 'premier', 'innovative', 'biopharmaceutical', 'companies,', 'we', 'collaborate', 'with', 'health', 'care', 'providers,', 'governments', 'and', 'local', 'communities', 'to', 'support', 'and', 'expand', 'access', 'to', 'reliable,', 'affordable', 'health', 'care', 'around', 'the', 'world.', 'For', 'more', 'than', '150', 'years,', 'we', 'have', 'worked', 'to', 'make', 'a', 'difference', 'for', 'all', 'who', 'rely', 'on', 'us.', 'We', 'routinely', 'post', 'information', 'that', 'may', 'be', 'important', 'to', 'investors', 'on', 'our', 'website', 'at', 'www.pfizer.com.', 'In', 'addition,', 'to', 'learn', 'more,', 'please', 'visit', 'us', 'on', 'www.pfizer.com', 'and', 'follow', 'us', 'on', 'Twitter', 'at', '@Pfizer', 'and', '@Pfizer_News,', 'LinkedIn,', 'YouTube', 'and', 'like', 'us', 'on', 'Facebook', 'at', 'Facebook.com/Pfizer.', 'DISCLOSURE', 'NOTICE:', 'The', 'information', 'contained', 'in', 'this', 'release', 'is', 'as', 'of', 'December', '12,', '2017.', 'Pfizer', 'assumes', 'no', 'obligation', 'to', 'update', 'forward-looking', 'statements', 'contained', 'in', 'this', 'release', 'as', 'the', 'result', 'of', 'new', 'information', 'or', 'future', 'events', 'or', 'developments.', 'This', 'release', 'contains', 'forward-looking', 'information', 'about', 'PF-04965842', 'and', 'Pfizer’s', 'ongoing', 'investigational', 'programs', 'in', 'kinase', 'inhibitor', 'therapies,', 'including', 'their', 'potential', 'benefits,', 'that', 'involves', 'substantial', 'risks', 'and', 'uncertainties', 'that', 'could', 'cause', 'actual', 'results', 'to', 'differ', 'materially', 'from', 'those', 'expressed', 'or', 'implied', 'by', 'such', 'statements.', 'Risks', 'and', 'uncertainties', 'include,', 'among', 'other', 'things,', 'the', 'uncertainties', 'inherent', 'in', 'research', 'and', 'development,', 'including', 'the', 'ability', 'to', 'meet', 'anticipated', 'clinical', 'trial', 'commencement', 'and', 'completion', 'dates', 'and', 'regulatory', 'submission', 'dates,', 'as', 'well', 'as', 'the', 'possibility', 'of', 'unfavorable', 'clinical', 'trial', 'results,', 'including', 'unfavorable', 'new', 'clinical', 'data', 'and', 'additional', 'analyses', 'of', 'existing', 'data;', 'risks', 'associated', 'with', 'preliminary', 'data;', 'the', 'risk', 'that', 'clinical', 'trial', 'data', 'are', 'subject', 'to', 'differing', 'interpretations,', 'and,', 'even', 'when', 'we', 'view', 'data', 'as', 'sufficient', 'to', 'support', 'the', 'safety', 'and/or', 'effectiveness', 'of', 'a', 'product', 'candidate,', 'regulatory', 'authorities', 'may', 'not', 'share', 'our', 'views', 'and', 'may', 'require', 'additional', 'data', 'or', 'may', 'deny', 'approval', 'altogether;', 'whether', 'regulatory', 'authorities', 'will', 'be', 'satisfied', 'with', 'the', 'design', 'of', 'and', 'results', 'from', 'our', 'clinical', 'studies;', 'whether', 'and', 'when', 'drug', 'applications', 'may', 'be', 'filed', 'in', 'any', 'jurisdictions', 'for', 'any', 'potential', 'indication', 'for', 'PF-04965842', 'or', 'any', 'other', 'investigational', 'kinase', 'inhibitor', 'therapies;', 'whether', 'and', 'when', 'any', 'such', 'applications', 'may', 'be', 'approved', 'by', 'regulatory', 'authorities,', 'which', 'will', 'depend', 'on', 'the', 'assessment', 'by', 'such', 'regulatory', 'authorities', 'of', 'the', 'benefit-risk', 'profile', 'suggested', 'by', 'the', 'totality', 'of', 'the', 'efficacy', 'and', 'safety', 'information', 'submitted,', 'and,', 'if', 'approved,', 'whether', 'PF-04965842', 'or', 'any', 'such', 'other', 'investigational', 'kinase', 'inhibitor', 'therapies', 'will', 'be', 'commercially', 'successful;', 'decisions', 'by', 'regulatory', 'authorities', 'regarding', 'labeling,', 'safety', 'and', 'other', 'matters', 'that', 'could', 'affect', 'the', 'availability', 'or', 'commercial', 'potential', 'of', 'PF-04965842', 'or', 'any', 'other', 'investigational', 'kinase', 'inhibitor', 'therapies;', 'and', 'competitive', 'developments.', 'A', 'further', 'description', 'of', 'risks', 'and', 'uncertainties', 'can', 'be', 'found', 'in', 'Pfizer’s', 'Annual', 'Report', 'on', 'Form', '10-K', 'for', 'the', 'fiscal', 'year', 'ended', 'December', '31,', '2016', 'and', 'in', 'its', 'subsequent', 'reports', 'on', 'Form', '10-Q,', 'including', 'in', 'the', 'sections', 'thereof', 'captioned', '“Risk', 'Factors”', 'and', '“Forward-Looking', 'Information', 'and', 'Factors', 'That', 'May', 'Affect', 'Future', 'Results”,', 'as', 'well', 'as', 'in', 'its', 'subsequent', 'reports', 'on', 'Form', '8-K,', 'all', 'of', 'which', 'are', 'filed', 'with', 'the', 'U.S.', 'Securities', 'and', 'Exchange', 'Commission', 'and', 'available', 'at', 'www.sec.gov', 'and', 'www.pfizer.com.']\n"
     ]
    }
   ],
   "source": [
    "print(regx_tokens)"
   ]
  },
  {
   "cell_type": "code",
   "execution_count": 51,
   "metadata": {},
   "outputs": [
    {
     "name": "stdout",
     "output_type": "stream",
     "text": [
      "['2017-12-14', '00:00:00', '', 'Global', 'program', 'to', 'commence', 'with', 'pivotal', 'study', 'B7451012', 'in', 'North', 'America,', 'Australia', 'and', 'Europe;', 'broader', 'regional', 'rollout', 'in', '2018', 'Thursday,', 'December', '14,', '2017', '-', '7:30amESTPfizer', 'Inc.', '(NYSE:PFE)', 'today', 'announced', 'the', 'initiation', 'of', 'a', 'Phase', '3', 'program', 'for', 'its', 'once-daily', 'Janus', 'kinase', '1', '(JAK1)', 'inhibitor', 'PF-04965842,', 'to', 'evaluate', 'the', 'efficacy', 'and', 'safety', 'of', 'PF-04965842', 'for', 'the', 'treatment', 'of', 'moderate-to-severe', 'atopic', 'dermatitis', '(AD).', 'This', 'is', 'the', 'first', 'trial', 'in', 'the', 'JAK1', 'Atopic', 'Dermatitis', 'Efficacy', 'and', 'safety', '(JADE)', 'global', 'development', 'program.', '“By', 'initiating', 'this', 'Phase', '3', 'program', 'in', 'atopic', 'dermatitis,', 'we', 'hope', 'to', 'provide', 'a', 'new', 'potential', 'treatment', 'option', 'for', 'people', 'suffering', 'with', 'this', 'condition,”', 'said', 'Michael', 'Corbo,', 'Chief', 'Development', 'Officer,', 'Inflammation', '&', 'Immunology,', 'Pfizer', 'Global', 'Product', 'Development.', '“Pfizer', 'continues', 'to', 'build', 'a', 'leadership', 'position', 'in', 'inflammation', 'and', 'immunology', 'research', 'with', 'the', 'advancement', 'of', 'this', 'important,', 'Pfizer-discovered', 'investigational', 'oral', 'JAK1', 'inhibitor.”', 'About', 'the', 'Phase', '3', 'Trial', 'B7451012', 'This', 'Phase', '3', 'trial', 'is', 'a', 'randomized,', 'double-blind,', 'placebo-controlled,', 'parallel-group', 'study', 'designed', 'to', 'evaluate', 'the', 'efficacy', 'and', 'safety', 'of', 'PF-04965842', 'in', '375', 'patients', '12', 'years', 'and', 'older', 'with', 'moderate-to-severe', 'AD.', 'Trial', 'participants', 'will', 'be', 'randomly', 'assigned', 'to', 'receive', '200', 'mg', 'or', '100', 'mg', 'once', 'daily', 'or', 'placebo.', 'The', 'primary', 'endpoints', 'are', 'the', 'proportion', 'of', 'patients', 'achieving', 'an', 'Investigator', 'Global', 'Assessment', '(IGA)', 'score', 'of', '0/1', 'and', '≥2', 'point', 'improvement,', 'and', 'the', 'proportion', 'of', 'patients', 'with', 'at', 'least', 'a', '75%', 'or', 'greater', 'change', 'from', 'baseline', 'in', 'their', 'Eczema', 'Area', 'and', 'Severity', 'Index', '(EASI)', 'score.', 'Key', 'secondary', 'endpoints', 'include', 'the', 'pruritus', 'numerical', 'rating', 'scale,', 'the', 'Pruritus', 'and', 'Symptoms', 'Assessment', 'for', 'Atopic', 'Dermatitis', '(PSAAD)', 'electronic', 'diary', 'and', 'safety', 'measures', 'such', 'as', 'the', 'incidence', 'of', 'treatment', 'emergent', 'adverse', 'events', 'and', 'laboratory', 'abnormalities.', 'The', 'treatment', 'duration', 'will', 'be', '12', 'weeks,', 'the', 'same', 'duration', 'as', 'the', 'Phase', '2b', 'study', 'B7451006,', 'with', 'a', '4', 'week', 'safety', 'follow-up', 'period', 'or', 'the', 'option', 'to', 'enter', 'a', 'long-term', 'extension', 'study', '(B7451015)', 'at', 'Week', '12.', 'More', 'on', 'the', 'study', 'can', 'be', 'found', 'on', 'www.clinicaltrials.gov', 'under', 'the', 'identifier', 'NCT03349060.', 'The', 'design', 'of', 'the', 'Phase', '3', 'trial', 'is', 'based', 'on', 'the', 'Phase', '2', 'results', 'that', 'were', 'presented', 'at', 'the', '26th', 'Congress', 'of', 'the', 'European', 'Academy', 'of', 'Dermatology', 'and', 'Venereology', 'in', 'September', '2017.', 'About', 'Atopic', 'Dermatitis', 'Atopic', 'dermatitis,', 'also', 'commonly', 'called', 'atopic', 'eczema,', 'is', 'inflammation', 'of', 'the', 'skin', 'and', 'characterized', 'by', 'erythema', '(redness),', 'itching', '(pruritus),', 'induration', '(hardening)/papulation', '(formation', 'of', 'papules),', 'and', 'oozing/crusting.', 'About', 'Pfizer’s', 'Kinase', 'Inhibitor', 'Leadership', 'PF-04965842', 'is', 'an', 'oral', 'small', 'molecule', 'that', 'selectively', 'inhibits', 'Janus', 'kinase', '1', '(JAK1).', 'Inhibition', 'of', 'JAK1', 'modulates', 'multiple', 'cytokines', 'involved', 'in', 'pathophysiology', 'of', 'AD', 'including', 'interleukin', '(IL)-4,', 'IL-13,', 'IL-31', 'and', 'interferon', 'gamma', '(IFNɣ).', '“We', 'look', 'forward', 'to', 'advancing', 'other', 'kinase', 'inhibitors', 'currently', 'in', 'mid-stage', 'research', 'for', 'other', 'diseases', 'such', 'as', 'alopecia,', 'psoriasis,', 'inflammatory', 'bowel', 'disease,', 'and', 'rheumatoid', 'arthritis,”', 'said', 'Michael', 'Vincent,', 'M.D,', 'Ph.D.,', 'Senior', 'Vice', 'President', 'and', 'Chief', 'Scientific', 'Officer', 'of', 'Inflammation', 'and', 'Immunology', 'Research', 'at', 'Pfizer.', 'Pfizer', 'has', 'established', 'a', 'leading', 'kinase', 'research', 'capability', 'with', 'multiple', 'unique', 'kinase', 'inhibitor', 'therapies', 'in', 'development.', 'As', 'a', 'pioneer', 'in', 'JAK', 'science,', 'the', 'Company', 'is', 'advancing', 'several', 'investigational', 'programs', 'with', 'novel', 'selectivity', 'profiles,', 'which,', 'if', 'successful,', 'could', 'potentially', 'deliver', 'transformative', 'therapies', 'for', 'patients.', 'Pfizer', 'has', 'three', 'additional', 'kinase', 'inhibitors', 'in', 'Phase', '2', 'development', 'across', 'multiple', 'indications:', '', '', '', 'PF-06651600:', 'A', 'JAK3', 'inhibitor', 'under', 'investigation', 'for', 'the', 'treatment', 'of', 'rheumatoid', 'arthritis,', 'ulcerative', 'colitis', 'and', 'alopecia', 'areata', '', '', '', 'PF-06700841:', 'A', 'tyrosine', 'kinase', '2', '(TYK2)/JAK1', 'inhibitor', 'under', 'investigation', 'for', 'the', 'treatment', 'of', 'psoriasis,', 'ulcerative', 'colitis', 'and', 'alopecia', 'areata', '', '', '', 'PF-06650833:', 'An', 'interleukin-1', 'receptor-associated', 'kinase', '4', '(IRAK4)', 'inhibitor', 'under', 'investigation', 'for', 'the', 'treatment', 'of', 'rheumatoid', 'arthritis', 'Working', 'together', 'for', 'a', 'healthier', 'world®', 'At', 'Pfizer,', 'we', 'apply', 'science', 'and', 'our', 'global', 'resources', 'to', 'bring', 'therapies', 'to', 'people', 'that', 'extend', 'and', 'significantly', 'improve', 'their', 'lives.', 'We', 'strive', 'to', 'set', 'the', 'standard', 'for', 'quality,', 'safety', 'and', 'value', 'in', 'the', 'discovery,', 'development', 'and', 'manufacture', 'of', 'health', 'care', 'products.', 'Our', 'global', 'portfolio', 'includes', 'medicines', 'and', 'vaccines', 'as', 'well', 'as', 'many', 'of', 'the', \"world's\", 'best-known', 'consumer', 'health', 'care', 'products.', 'Every', 'day,', 'Pfizer', 'colleagues', 'work', 'across', 'developed', 'and', 'emerging', 'markets', 'to', 'advance', 'wellness,', 'prevention,', 'treatments', 'and', 'cures', 'that', 'challenge', 'the', 'most', 'feared', 'diseases', 'of', 'our', 'time.', 'Consistent', 'with', 'our', 'responsibility', 'as', 'one', 'of', 'the', \"world's\", 'premier', 'innovative', 'biopharmaceutical', 'companies,', 'we', 'collaborate', 'with', 'health', 'care', 'providers,', 'governments', 'and', 'local', 'communities', 'to', 'support', 'and', 'expand', 'access', 'to', 'reliable,', 'affordable', 'health', 'care', 'around', 'the', 'world.', 'For', 'more', 'than', '150', 'years,', 'we', 'have', 'worked', 'to', 'make', 'a', 'difference', 'for', 'all', 'who', 'rely', 'on', 'us.', 'We', 'routinely', 'post', 'information', 'that', 'may', 'be', 'important', 'to', 'investors', 'on', 'our', 'website', 'at', 'www.pfizer.com.', 'In', 'addition,', 'to', 'learn', 'more,', 'please', 'visit', 'us', 'on', 'www.pfizer.com', 'and', 'follow', 'us', 'on', 'Twitter', 'at', '@Pfizer', 'and', '@Pfizer_News,', 'LinkedIn,', 'YouTube', 'and', 'like', 'us', 'on', 'Facebook', 'at', 'Facebook.com/Pfizer.', 'DISCLOSURE', 'NOTICE:', 'The', 'information', 'contained', 'in', 'this', 'release', 'is', 'as', 'of', 'December', '12,', '2017.', 'Pfizer', 'assumes', 'no', 'obligation', 'to', 'update', 'forward-looking', 'statements', 'contained', 'in', 'this', 'release', 'as', 'the', 'result', 'of', 'new', 'information', 'or', 'future', 'events', 'or', 'developments.', 'This', 'release', 'contains', 'forward-looking', 'information', 'about', 'PF-04965842', 'and', 'Pfizer’s', 'ongoing', 'investigational', 'programs', 'in', 'kinase', 'inhibitor', 'therapies,', 'including', 'their', 'potential', 'benefits,', 'that', 'involves', 'substantial', 'risks', 'and', 'uncertainties', 'that', 'could', 'cause', 'actual', 'results', 'to', 'differ', 'materially', 'from', 'those', 'expressed', 'or', 'implied', 'by', 'such', 'statements.', 'Risks', 'and', 'uncertainties', 'include,', 'among', 'other', 'things,', 'the', 'uncertainties', 'inherent', 'in', 'research', 'and', 'development,', 'including', 'the', 'ability', 'to', 'meet', 'anticipated', 'clinical', 'trial', 'commencement', 'and', 'completion', 'dates', 'and', 'regulatory', 'submission', 'dates,', 'as', 'well', 'as', 'the', 'possibility', 'of', 'unfavorable', 'clinical', 'trial', 'results,', 'including', 'unfavorable', 'new', 'clinical', 'data', 'and', 'additional', 'analyses', 'of', 'existing', 'data;', 'risks', 'associated', 'with', 'preliminary', 'data;', 'the', 'risk', 'that', 'clinical', 'trial', 'data', 'are', 'subject', 'to', 'differing', 'interpretations,', 'and,', 'even', 'when', 'we', 'view', 'data', 'as', 'sufficient', 'to', 'support', 'the', 'safety', 'and/or', 'effectiveness', 'of', 'a', 'product', 'candidate,', 'regulatory', 'authorities', 'may', 'not', 'share', 'our', 'views', 'and', 'may', 'require', 'additional', 'data', 'or', 'may', 'deny', 'approval', 'altogether;', 'whether', 'regulatory', 'authorities', 'will', 'be', 'satisfied', 'with', 'the', 'design', 'of', 'and', 'results', 'from', 'our', 'clinical', 'studies;', 'whether', 'and', 'when', 'drug', 'applications', 'may', 'be', 'filed', 'in', 'any', 'jurisdictions', 'for', 'any', 'potential', 'indication', 'for', 'PF-04965842', 'or', 'any', 'other', 'investigational', 'kinase', 'inhibitor', 'therapies;', 'whether', 'and', 'when', 'any', 'such', 'applications', 'may', 'be', 'approved', 'by', 'regulatory', 'authorities,', 'which', 'will', 'depend', 'on', 'the', 'assessment', 'by', 'such', 'regulatory', 'authorities', 'of', 'the', 'benefit-risk', 'profile', 'suggested', 'by', 'the', 'totality', 'of', 'the', 'efficacy', 'and', 'safety', 'information', 'submitted,', 'and,', 'if', 'approved,', 'whether', 'PF-04965842', 'or', 'any', 'such', 'other', 'investigational', 'kinase', 'inhibitor', 'therapies', 'will', 'be', 'commercially', 'successful;', 'decisions', 'by', 'regulatory', 'authorities', 'regarding', 'labeling,', 'safety', 'and', 'other', 'matters', 'that', 'could', 'affect', 'the', 'availability', 'or', 'commercial', 'potential', 'of', 'PF-04965842', 'or', 'any', 'other', 'investigational', 'kinase', 'inhibitor', 'therapies;', 'and', 'competitive', 'developments.', 'A', 'further', 'description', 'of', 'risks', 'and', 'uncertainties', 'can', 'be', 'found', 'in', 'Pfizer’s', 'Annual', 'Report', 'on', 'Form', '10-K', 'for', 'the', 'fiscal', 'year', 'ended', 'December', '31,', '2016', 'and', 'in', 'its', 'subsequent', 'reports', 'on', 'Form', '10-Q,', 'including', 'in', 'the', 'sections', 'thereof', 'captioned', '“Risk', 'Factors”', 'and', '“Forward-Looking', 'Information', 'and', 'Factors', 'That', 'May', 'Affect', 'Future', 'Results”,', 'as', 'well', 'as', 'in', 'its', 'subsequent', 'reports', 'on', 'Form', '8-K,', 'all', 'of', 'which', 'are', 'filed', 'with', 'the', 'U.S.', 'Securities', 'and', 'Exchange', 'Commission', 'and', 'available', 'at', 'www.sec.gov', 'and', 'www.pfizer.com.', '', '']\n"
     ]
    }
   ],
   "source": [
    "from nltk.tokenize import SpaceTokenizer\n",
    "space_tokenizer = SpaceTokenizer()\n",
    "space_tokens = space_tokenizer.tokenize(sample_text)\n",
    "print(space_tokens)"
   ]
  },
  {
   "cell_type": "code",
   "execution_count": 52,
   "metadata": {},
   "outputs": [],
   "source": [
    "from nltk.parse.corenlp import CoreNLPParser "
   ]
  },
  {
   "cell_type": "code",
   "execution_count": 53,
   "metadata": {},
   "outputs": [
    {
     "name": "stdout",
     "output_type": "stream",
     "text": [
      "<generator object GenericCoreNLPParser.tokenize at 0x0000022CB2B3FE58>\n"
     ]
    }
   ],
   "source": [
    "st_parser = CoreNLPParser(url='http://localhost:9000')\n",
    "st_tokens = st_parser.tokenize(sample_text)\n",
    "print(st_tokens)"
   ]
  },
  {
   "cell_type": "code",
   "execution_count": 54,
   "metadata": {},
   "outputs": [
    {
     "name": "stdout",
     "output_type": "stream",
     "text": [
      "<class 'generator'>\n"
     ]
    }
   ],
   "source": [
    "print(type(st_tokens))"
   ]
  },
  {
   "cell_type": "code",
   "execution_count": 55,
   "metadata": {},
   "outputs": [
    {
     "name": "stdout",
     "output_type": "stream",
     "text": [
      "['2017-12-14', '00:00:00', 'Global', 'program', 'to', 'commence', 'with', 'pivotal', 'study', 'B7451012', 'in', 'North', 'America', ',', 'Australia', 'and', 'Europe', ';', 'broader', 'regional', 'rollout', 'in', '2018', 'Thursday', ',', 'December', '14', ',', '2017', '-', '7:30', 'amESTPfizer', 'Inc.', '(', 'NYSE', ':', 'PFE', ')', 'today', 'announced', 'the', 'initiation', 'of', 'a', 'Phase', '3', 'program', 'for', 'its', 'once-daily', 'Janus', 'kinase', '1', '(', 'JAK1', ')', 'inhibitor', 'PF-04965842', ',', 'to', 'evaluate', 'the', 'efficacy', 'and', 'safety', 'of', 'PF-04965842', 'for', 'the', 'treatment', 'of', 'moderate-to-severe', 'atopic', 'dermatitis', '(', 'AD', ')', '.', 'This', 'is', 'the', 'first', 'trial', 'in', 'the', 'JAK1', 'Atopic', 'Dermatitis', 'Efficacy', 'and', 'safety', '(', 'JADE', ')', 'global', 'development', 'program', '.', '“', 'By', 'initiating', 'this', 'Phase', '3', 'program', 'in', 'atopic', 'dermatitis', ',', 'we', 'hope', 'to', 'provide', 'a', 'new', 'potential', 'treatment', 'option', 'for', 'people', 'suffering', 'with', 'this', 'condition', ',', '”', 'said', 'Michael', 'Corbo', ',', 'Chief', 'Development', 'Officer', ',', 'Inflammation', '&', 'Immunology', ',', 'Pfizer', 'Global', 'Product', 'Development', '.', '“', 'Pfizer', 'continues', 'to', 'build', 'a', 'leadership', 'position', 'in', 'inflammation', 'and', 'immunology', 'research', 'with', 'the', 'advancement', 'of', 'this', 'important', ',', 'Pfizer-discovered', 'investigational', 'oral', 'JAK1', 'inhibitor', '.', '”', 'About', 'the', 'Phase', '3', 'Trial', 'B7451012', 'This', 'Phase', '3', 'trial', 'is', 'a', 'randomized', ',', 'double-blind', ',', 'placebo-controlled', ',', 'parallel-group', 'study', 'designed', 'to', 'evaluate', 'the', 'efficacy', 'and', 'safety', 'of', 'PF-04965842', 'in', '375', 'patients', '12', 'years', 'and', 'older', 'with', 'moderate-to-severe', 'AD', '.', 'Trial', 'participants', 'will', 'be', 'randomly', 'assigned', 'to', 'receive', '200', 'mg', 'or', '100', 'mg', 'once', 'daily', 'or', 'placebo', '.', 'The', 'primary', 'endpoints', 'are', 'the', 'proportion', 'of', 'patients', 'achieving', 'an', 'Investigator', 'Global', 'Assessment', '(', 'IGA', ')', 'score', 'of', '0/1', 'and', '≥', '2', 'point', 'improvement', ',', 'and', 'the', 'proportion', 'of', 'patients', 'with', 'at', 'least', 'a', '75', '%', 'or', 'greater', 'change', 'from', 'baseline', 'in', 'their', 'Eczema', 'Area', 'and', 'Severity', 'Index', '(', 'EASI', ')', 'score', '.', 'Key', 'secondary', 'endpoints', 'include', 'the', 'pruritus', 'numerical', 'rating', 'scale', ',', 'the', 'Pruritus', 'and', 'Symptoms', 'Assessment', 'for', 'Atopic', 'Dermatitis', '(', 'PSAAD', ')', 'electronic', 'diary', 'and', 'safety', 'measures', 'such', 'as', 'the', 'incidence', 'of', 'treatment', 'emergent', 'adverse', 'events', 'and', 'laboratory', 'abnormalities', '.', 'The', 'treatment', 'duration', 'will', 'be', '12', 'weeks', ',', 'the', 'same', 'duration', 'as', 'the', 'Phase', '2b', 'study', 'B7451006', ',', 'with', 'a', '4', 'week', 'safety', 'follow-up', 'period', 'or', 'the', 'option', 'to', 'enter', 'a', 'long-term', 'extension', 'study', '(', 'B7451015', ')', 'at', 'Week', '12', '.', 'More', 'on', 'the', 'study', 'can', 'be', 'found', 'on', 'www.clinicaltrials.gov', 'under', 'the', 'identifier', 'NCT03349060', '.', 'The', 'design', 'of', 'the', 'Phase', '3', 'trial', 'is', 'based', 'on', 'the', 'Phase', '2', 'results', 'that', 'were', 'presented', 'at', 'the', '26th', 'Congress', 'of', 'the', 'European', 'Academy', 'of', 'Dermatology', 'and', 'Venereology', 'in', 'September', '2017', '.', 'About', 'Atopic', 'Dermatitis', 'Atopic', 'dermatitis', ',', 'also', 'commonly', 'called', 'atopic', 'eczema', ',', 'is', 'inflammation', 'of', 'the', 'skin', 'and', 'characterized', 'by', 'erythema', '(', 'redness', ')', ',', 'itching', '(', 'pruritus', ')', ',', 'induration', '(', 'hardening', ')', '/', 'papulation', '(', 'formation', 'of', 'papules', ')', ',', 'and', 'oozing/crusting', '.', 'About', 'Pfizer', '’s', 'Kinase', 'Inhibitor', 'Leadership', 'PF-04965842', 'is', 'an', 'oral', 'small', 'molecule', 'that', 'selectively', 'inhibits', 'Janus', 'kinase', '1', '(', 'JAK1', ')', '.', 'Inhibition', 'of', 'JAK1', 'modulates', 'multiple', 'cytokines', 'involved', 'in', 'pathophysiology', 'of', 'AD', 'including', 'interleukin', '(', 'IL', ')', '-4', ',', 'IL-13', ',', 'IL-31', 'and', 'interferon', 'gamma', '(', 'IFNɣ', ')', '.', '“', 'We', 'look', 'forward', 'to', 'advancing', 'other', 'kinase', 'inhibitors', 'currently', 'in', 'mid-stage', 'research', 'for', 'other', 'diseases', 'such', 'as', 'alopecia', ',', 'psoriasis', ',', 'inflammatory', 'bowel', 'disease', ',', 'and', 'rheumatoid', 'arthritis', ',', '”', 'said', 'Michael', 'Vincent', ',', 'M.D', ',', 'Ph.D.', ',', 'Senior', 'Vice', 'President', 'and', 'Chief', 'Scientific', 'Officer', 'of', 'Inflammation', 'and', 'Immunology', 'Research', 'at', 'Pfizer', '.', 'Pfizer', 'has', 'established', 'a', 'leading', 'kinase', 'research', 'capability', 'with', 'multiple', 'unique', 'kinase', 'inhibitor', 'therapies', 'in', 'development', '.', 'As', 'a', 'pioneer', 'in', 'JAK', 'science', ',', 'the', 'Company', 'is', 'advancing', 'several', 'investigational', 'programs', 'with', 'novel', 'selectivity', 'profiles', ',', 'which', ',', 'if', 'successful', ',', 'could', 'potentially', 'deliver', 'transformative', 'therapies', 'for', 'patients', '.', 'Pfizer', 'has', 'three', 'additional', 'kinase', 'inhibitors', 'in', 'Phase', '2', 'development', 'across', 'multiple', 'indications', ':', 'PF-06651600', ':', 'A', 'JAK3', 'inhibitor', 'under', 'investigation', 'for', 'the', 'treatment', 'of', 'rheumatoid', 'arthritis', ',', 'ulcerative', 'colitis', 'and', 'alopecia', 'areata', 'PF-06700841', ':', 'A', 'tyrosine', 'kinase', '2', '(', 'TYK2', ')', '/', 'JAK1', 'inhibitor', 'under', 'investigation', 'for', 'the', 'treatment', 'of', 'psoriasis', ',', 'ulcerative', 'colitis', 'and', 'alopecia', 'areata', 'PF-06650833', ':', 'An', 'interleukin-1', 'receptor-associated', 'kinase', '4', '(', 'IRAK4', ')', 'inhibitor', 'under', 'investigation', 'for', 'the', 'treatment', 'of', 'rheumatoid', 'arthritis', 'Working', 'together', 'for', 'a', 'healthier', 'world', '®', 'At', 'Pfizer', ',', 'we', 'apply', 'science', 'and', 'our', 'global', 'resources', 'to', 'bring', 'therapies', 'to', 'people', 'that', 'extend', 'and', 'significantly', 'improve', 'their', 'lives', '.', 'We', 'strive', 'to', 'set', 'the', 'standard', 'for', 'quality', ',', 'safety', 'and', 'value', 'in', 'the', 'discovery', ',', 'development', 'and', 'manufacture', 'of', 'health', 'care', 'products', '.', 'Our', 'global', 'portfolio', 'includes', 'medicines', 'and', 'vaccines', 'as', 'well', 'as', 'many', 'of', 'the', 'world', \"'s\", 'best-known', 'consumer', 'health', 'care', 'products', '.', 'Every', 'day', ',', 'Pfizer', 'colleagues', 'work', 'across', 'developed', 'and', 'emerging', 'markets', 'to', 'advance', 'wellness', ',', 'prevention', ',', 'treatments', 'and', 'cures', 'that', 'challenge', 'the', 'most', 'feared', 'diseases', 'of', 'our', 'time', '.', 'Consistent', 'with', 'our', 'responsibility', 'as', 'one', 'of', 'the', 'world', \"'s\", 'premier', 'innovative', 'biopharmaceutical', 'companies', ',', 'we', 'collaborate', 'with', 'health', 'care', 'providers', ',', 'governments', 'and', 'local', 'communities', 'to', 'support', 'and', 'expand', 'access', 'to', 'reliable', ',', 'affordable', 'health', 'care', 'around', 'the', 'world', '.', 'For', 'more', 'than', '150', 'years', ',', 'we', 'have', 'worked', 'to', 'make', 'a', 'difference', 'for', 'all', 'who', 'rely', 'on', 'us', '.', 'We', 'routinely', 'post', 'information', 'that', 'may', 'be', 'important', 'to', 'investors', 'on', 'our', 'website', 'at', 'www.pfizer.com', '.', 'In', 'addition', ',', 'to', 'learn', 'more', ',', 'please', 'visit', 'us', 'on', 'www.pfizer.com', 'and', 'follow', 'us', 'on', 'Twitter', 'at', '@Pfizer', 'and', '@Pfizer_News', ',', 'LinkedIn', ',', 'YouTube', 'and', 'like', 'us', 'on', 'Facebook', 'at', 'Facebook.com/Pfizer', '.', 'DISCLOSURE', 'NOTICE', ':', 'The', 'information', 'contained', 'in', 'this', 'release', 'is', 'as', 'of', 'December', '12', ',', '2017', '.', 'Pfizer', 'assumes', 'no', 'obligation', 'to', 'update', 'forward-looking', 'statements', 'contained', 'in', 'this', 'release', 'as', 'the', 'result', 'of', 'new', 'information', 'or', 'future', 'events', 'or', 'developments', '.', 'This', 'release', 'contains', 'forward-looking', 'information', 'about', 'PF-04965842', 'and', 'Pfizer', '’s', 'ongoing', 'investigational', 'programs', 'in', 'kinase', 'inhibitor', 'therapies', ',', 'including', 'their', 'potential', 'benefits', ',', 'that', 'involves', 'substantial', 'risks', 'and', 'uncertainties', 'that', 'could', 'cause', 'actual', 'results', 'to', 'differ', 'materially', 'from', 'those', 'expressed', 'or', 'implied', 'by', 'such', 'statements', '.', 'Risks', 'and', 'uncertainties', 'include', ',', 'among', 'other', 'things', ',', 'the', 'uncertainties', 'inherent', 'in', 'research', 'and', 'development', ',', 'including', 'the', 'ability', 'to', 'meet', 'anticipated', 'clinical', 'trial', 'commencement', 'and', 'completion', 'dates', 'and', 'regulatory', 'submission', 'dates', ',', 'as', 'well', 'as', 'the', 'possibility', 'of', 'unfavorable', 'clinical', 'trial', 'results', ',', 'including', 'unfavorable', 'new', 'clinical', 'data', 'and', 'additional', 'analyses', 'of', 'existing', 'data', ';', 'risks', 'associated', 'with', 'preliminary', 'data', ';', 'the', 'risk', 'that', 'clinical', 'trial', 'data', 'are', 'subject', 'to', 'differing', 'interpretations', ',', 'and', ',', 'even', 'when', 'we', 'view', 'data', 'as', 'sufficient', 'to', 'support', 'the', 'safety', 'and/or', 'effectiveness', 'of', 'a', 'product', 'candidate', ',', 'regulatory', 'authorities', 'may', 'not', 'share', 'our', 'views', 'and', 'may', 'require', 'additional', 'data', 'or', 'may', 'deny', 'approval', 'altogether', ';', 'whether', 'regulatory', 'authorities', 'will', 'be', 'satisfied', 'with', 'the', 'design', 'of', 'and', 'results', 'from', 'our', 'clinical', 'studies', ';', 'whether', 'and', 'when', 'drug', 'applications', 'may', 'be', 'filed', 'in', 'any', 'jurisdictions', 'for', 'any', 'potential', 'indication', 'for', 'PF-04965842', 'or', 'any', 'other', 'investigational', 'kinase', 'inhibitor', 'therapies', ';', 'whether', 'and', 'when', 'any', 'such', 'applications', 'may', 'be', 'approved', 'by', 'regulatory', 'authorities', ',', 'which', 'will', 'depend', 'on', 'the', 'assessment', 'by', 'such', 'regulatory', 'authorities', 'of', 'the', 'benefit-risk', 'profile', 'suggested', 'by', 'the', 'totality', 'of', 'the', 'efficacy', 'and', 'safety', 'information', 'submitted', ',', 'and', ',', 'if', 'approved', ',', 'whether', 'PF-04965842', 'or', 'any', 'such', 'other', 'investigational', 'kinase', 'inhibitor', 'therapies', 'will', 'be', 'commercially', 'successful', ';', 'decisions', 'by', 'regulatory', 'authorities', 'regarding', 'labeling', ',', 'safety', 'and', 'other', 'matters', 'that', 'could', 'affect', 'the', 'availability', 'or', 'commercial', 'potential', 'of', 'PF-04965842', 'or', 'any', 'other', 'investigational', 'kinase', 'inhibitor', 'therapies', ';', 'and', 'competitive', 'developments', '.', 'A', 'further', 'description', 'of', 'risks', 'and', 'uncertainties', 'can', 'be', 'found', 'in', 'Pfizer', '’s', 'Annual', 'Report', 'on', 'Form', '10-K', 'for', 'the', 'fiscal', 'year', 'ended', 'December', '31', ',', '2016', 'and', 'in', 'its', 'subsequent', 'reports', 'on', 'Form', '10-Q', ',', 'including', 'in', 'the', 'sections', 'thereof', 'captioned', '“', 'Risk', 'Factors', '”', 'and', '“', 'Forward-Looking', 'Information', 'and', 'Factors', 'That', 'May', 'Affect', 'Future', 'Results', '”', ',', 'as', 'well', 'as', 'in', 'its', 'subsequent', 'reports', 'on', 'Form', '8-K', ',', 'all', 'of', 'which', 'are', 'filed', 'with', 'the', 'U.S.', 'Securities', 'and', 'Exchange', 'Commission', 'and', 'available', 'at', 'www.sec.gov', 'and', 'www.pfizer.com', '.']\n"
     ]
    }
   ],
   "source": [
    "st_tokens_lst =[x for x in st_tokens]\n",
    "print(st_tokens_lst)"
   ]
  },
  {
   "cell_type": "code",
   "execution_count": 36,
   "metadata": {},
   "outputs": [],
   "source": [
    "freqDist = nltk.FreqDist(st_tokens_lst)"
   ]
  },
  {
   "cell_type": "code",
   "execution_count": 37,
   "metadata": {},
   "outputs": [
    {
     "data": {
      "image/png": "[encoded data removed]",
      "text/plain": [
       "<Figure size 432x288 with 1 Axes>"
      ]
     },
     "metadata": {
      "needs_background": "light"
     },
     "output_type": "display_data"
    }
   ],
   "source": [
    "freqDist.plot()"
   ]
  },
  {
   "cell_type": "code",
   "execution_count": 38,
   "metadata": {},
   "outputs": [
    {
     "name": "stdout",
     "output_type": "stream",
     "text": [
      "Counter({',': 71, 'and': 56, 'the': 48, 'of': 35, '.': 30, 'in': 23, 'to': 22, '(': 17, ')': 17, 'for': 15, 'with': 13, 'as': 13, 'a': 12, 'kinase': 12, 'or': 12, 'on': 12, 'Pfizer': 11, 'inhibitor': 10, 'safety': 9, 'be': 9, 'that': 9, ';': 8, 'Phase': 8, 'PF-04965842': 8, 'at': 8, 'treatment': 7, 'is': 7, 'other': 7, 'therapies': 7, ':': 6, 'JAK1': 6, 'trial': 6, 'investigational': 6, 'such': 6, 'by': 6, 'our': 6, 'may': 6, 'regulatory': 6, 'data': 6, 'any': 6, 'study': 5, '3': 5, 'development': 5, '“': 5, 'this': 5, 'we': 5, '”': 5, 'will': 5, 'including': 5, 'information': 5, 'clinical': 5, 'authorities': 5, 'program': 4, 'Atopic': 4, 'potential': 4, 'research': 4, 'patients': 4, '12': 4, 'The': 4, '2': 4, 'under': 4, 'results': 4, 'world': 4, 'health': 4, 'care': 4, 'us': 4, 'uncertainties': 4, 'whether': 4, 'Global': 3, 'December': 3, '2017': 3, 'its': 3, 'efficacy': 3, 'atopic': 3, 'dermatitis': 3, 'AD': 3, 'This': 3, 'Dermatitis': 3, 'global': 3, 'new': 3, 'About': 3, 'are': 3, 'from': 3, 'their': 3, '’s': 3, 'multiple': 3, 'We': 3, 'alopecia': 3, 'rheumatoid': 3, 'arthritis': 3, 'which': 3, 'could': 3, 'additional': 3, 'A': 3, 'investigation': 3, 'well': 3, 'www.pfizer.com': 3, 'release': 3, 'risks': 3, 'when': 3, 'Form': 3, 'B7451012': 2, 'Janus': 2, '1': 2, 'evaluate': 2, 'moderate-to-severe': 2, 'option': 2, 'people': 2, 'said': 2, 'Michael': 2, 'Chief': 2, 'Development': 2, 'Officer': 2, 'Inflammation': 2, 'Immunology': 2, 'inflammation': 2, 'important': 2, 'oral': 2, 'Trial': 2, 'years': 2, 'mg': 2, 'endpoints': 2, 'proportion': 2, 'an': 2, 'Assessment': 2, 'score': 2, 'include': 2, 'pruritus': 2, 'events': 2, 'duration': 2, '4': 2, 'can': 2, 'found': 2, 'design': 2, '/': 2, 'advancing': 2, 'inhibitors': 2, 'diseases': 2, 'psoriasis': 2, 'has': 2, 'science': 2, 'programs': 2, 'if': 2, 'successful': 2, 'across': 2, 'ulcerative': 2, 'colitis': 2, 'areata': 2, 'products': 2, \"'s\": 2, 'support': 2, 'more': 2, 'all': 2, 'contained': 2, 'forward-looking': 2, 'statements': 2, 'developments': 2, 'dates': 2, 'unfavorable': 2, 'applications': 2, 'filed': 2, 'approved': 2, 'subsequent': 2, 'reports': 2, 'Factors': 2, '2017-12-14': 1, '00:00:00': 1, 'commence': 1, 'pivotal': 1, 'North': 1, 'America': 1, 'Australia': 1, 'Europe': 1, 'broader': 1, 'regional': 1, 'rollout': 1, '2018': 1, 'Thursday': 1, '14': 1, '-': 1, '7:30': 1, 'amESTPfizer': 1, 'Inc.': 1, 'NYSE': 1, 'PFE': 1, 'today': 1, 'announced': 1, 'initiation': 1, 'once-daily': 1, 'first': 1, 'Efficacy': 1, 'JADE': 1, 'By': 1, 'initiating': 1, 'hope': 1, 'provide': 1, 'suffering': 1, 'condition': 1, 'Corbo': 1, '&': 1, 'Product': 1, 'continues': 1, 'build': 1, 'leadership': 1, 'position': 1, 'immunology': 1, 'advancement': 1, 'Pfizer-discovered': 1, 'randomized': 1, 'double-blind': 1, 'placebo-controlled': 1, 'parallel-group': 1, 'designed': 1, '375': 1, 'older': 1, 'participants': 1, 'randomly': 1, 'assigned': 1, 'receive': 1, '200': 1, '100': 1, 'once': 1, 'daily': 1, 'placebo': 1, 'primary': 1, 'achieving': 1, 'Investigator': 1, 'IGA': 1, '0/1': 1, '≥': 1, 'point': 1, 'improvement': 1, 'least': 1, '75': 1, '%': 1, 'greater': 1, 'change': 1, 'baseline': 1, 'Eczema': 1, 'Area': 1, 'Severity': 1, 'Index': 1, 'EASI': 1, 'Key': 1, 'secondary': 1, 'numerical': 1, 'rating': 1, 'scale': 1, 'Pruritus': 1, 'Symptoms': 1, 'PSAAD': 1, 'electronic': 1, 'diary': 1, 'measures': 1, 'incidence': 1, 'emergent': 1, 'adverse': 1, 'laboratory': 1, 'abnormalities': 1, 'weeks': 1, 'same': 1, '2b': 1, 'B7451006': 1, 'week': 1, 'follow-up': 1, 'period': 1, 'enter': 1, 'long-term': 1, 'extension': 1, 'B7451015': 1, 'Week': 1, 'More': 1, 'www.clinicaltrials.gov': 1, 'identifier': 1, 'NCT03349060': 1, 'based': 1, 'were': 1, 'presented': 1, '26th': 1, 'Congress': 1, 'European': 1, 'Academy': 1, 'Dermatology': 1, 'Venereology': 1, 'September': 1, 'also': 1, 'commonly': 1, 'called': 1, 'eczema': 1, 'skin': 1, 'characterized': 1, 'erythema': 1, 'redness': 1, 'itching': 1, 'induration': 1, 'hardening': 1, 'papulation': 1, 'formation': 1, 'papules': 1, 'oozing/crusting': 1, 'Kinase': 1, 'Inhibitor': 1, 'Leadership': 1, 'small': 1, 'molecule': 1, 'selectively': 1, 'inhibits': 1, 'Inhibition': 1, 'modulates': 1, 'cytokines': 1, 'involved': 1, 'pathophysiology': 1, 'interleukin': 1, 'IL': 1, '-4': 1, 'IL-13': 1, 'IL-31': 1, 'interferon': 1, 'gamma': 1, 'IFNɣ': 1, 'look': 1, 'forward': 1, 'currently': 1, 'mid-stage': 1, 'inflammatory': 1, 'bowel': 1, 'disease': 1, 'Vincent': 1, 'M.D': 1, 'Ph.D.': 1, 'Senior': 1, 'Vice': 1, 'President': 1, 'Scientific': 1, 'Research': 1, 'established': 1, 'leading': 1, 'capability': 1, 'unique': 1, 'As': 1, 'pioneer': 1, 'JAK': 1, 'Company': 1, 'several': 1, 'novel': 1, 'selectivity': 1, 'profiles': 1, 'potentially': 1, 'deliver': 1, 'transformative': 1, 'three': 1, 'indications': 1, 'PF-06651600': 1, 'JAK3': 1, 'PF-06700841': 1, 'tyrosine': 1, 'TYK2': 1, 'PF-06650833': 1, 'An': 1, 'interleukin-1': 1, 'receptor-associated': 1, 'IRAK4': 1, 'Working': 1, 'together': 1, 'healthier': 1, '®': 1, 'At': 1, 'apply': 1, 'resources': 1, 'bring': 1, 'extend': 1, 'significantly': 1, 'improve': 1, 'lives': 1, 'strive': 1, 'set': 1, 'standard': 1, 'quality': 1, 'value': 1, 'discovery': 1, 'manufacture': 1, 'Our': 1, 'portfolio': 1, 'includes': 1, 'medicines': 1, 'vaccines': 1, 'many': 1, 'best-known': 1, 'consumer': 1, 'Every': 1, 'day': 1, 'colleagues': 1, 'work': 1, 'developed': 1, 'emerging': 1, 'markets': 1, 'advance': 1, 'wellness': 1, 'prevention': 1, 'treatments': 1, 'cures': 1, 'challenge': 1, 'most': 1, 'feared': 1, 'time': 1, 'Consistent': 1, 'responsibility': 1, 'one': 1, 'premier': 1, 'innovative': 1, 'biopharmaceutical': 1, 'companies': 1, 'collaborate': 1, 'providers': 1, 'governments': 1, 'local': 1, 'communities': 1, 'expand': 1, 'access': 1, 'reliable': 1, 'affordable': 1, 'around': 1, 'For': 1, 'than': 1, '150': 1, 'have': 1, 'worked': 1, 'make': 1, 'difference': 1, 'who': 1, 'rely': 1, 'routinely': 1, 'post': 1, 'investors': 1, 'website': 1, 'In': 1, 'addition': 1, 'learn': 1, 'please': 1, 'visit': 1, 'follow': 1, 'Twitter': 1, '@Pfizer': 1, '@Pfizer_News': 1, 'LinkedIn': 1, 'YouTube': 1, 'like': 1, 'Facebook': 1, 'Facebook.com/Pfizer': 1, 'DISCLOSURE': 1, 'NOTICE': 1, 'assumes': 1, 'no': 1, 'obligation': 1, 'update': 1, 'result': 1, 'future': 1, 'contains': 1, 'about': 1, 'ongoing': 1, 'benefits': 1, 'involves': 1, 'substantial': 1, 'cause': 1, 'actual': 1, 'differ': 1, 'materially': 1, 'those': 1, 'expressed': 1, 'implied': 1, 'Risks': 1, 'among': 1, 'things': 1, 'inherent': 1, 'ability': 1, 'meet': 1, 'anticipated': 1, 'commencement': 1, 'completion': 1, 'submission': 1, 'possibility': 1, 'analyses': 1, 'existing': 1, 'associated': 1, 'preliminary': 1, 'risk': 1, 'subject': 1, 'differing': 1, 'interpretations': 1, 'even': 1, 'view': 1, 'sufficient': 1, 'and/or': 1, 'effectiveness': 1, 'product': 1, 'candidate': 1, 'not': 1, 'share': 1, 'views': 1, 'require': 1, 'deny': 1, 'approval': 1, 'altogether': 1, 'satisfied': 1, 'studies': 1, 'drug': 1, 'jurisdictions': 1, 'indication': 1, 'depend': 1, 'assessment': 1, 'benefit-risk': 1, 'profile': 1, 'suggested': 1, 'totality': 1, 'submitted': 1, 'commercially': 1, 'decisions': 1, 'regarding': 1, 'labeling': 1, 'matters': 1, 'affect': 1, 'availability': 1, 'commercial': 1, 'competitive': 1, 'further': 1, 'description': 1, 'Annual': 1, 'Report': 1, '10-K': 1, 'fiscal': 1, 'year': 1, 'ended': 1, '31': 1, '2016': 1, '10-Q': 1, 'sections': 1, 'thereof': 1, 'captioned': 1, 'Risk': 1, 'Forward-Looking': 1, 'Information': 1, 'That': 1, 'May': 1, 'Affect': 1, 'Future': 1, 'Results': 1, '8-K': 1, 'U.S.': 1, 'Securities': 1, 'Exchange': 1, 'Commission': 1, 'available': 1, 'www.sec.gov': 1})\n"
     ]
    }
   ],
   "source": [
    "from collections import Counter\n",
    "token_counts = Counter(st_tokens_lst)\n",
    "print(token_counts)"
   ]
  },
  {
   "cell_type": "code",
   "execution_count": 39,
   "metadata": {},
   "outputs": [],
   "source": [
    "def dict_with_frequency(low, high):\n",
    "    freq_words = {x:token_counts[x] for x in token_counts if token_counts[x] > low and token_counts[x] < high}\n",
    "    return freq_words"
   ]
  },
  {
   "cell_type": "markdown",
   "metadata": {},
   "source": [
    "##### High frequency words"
   ]
  },
  {
   "cell_type": "code",
   "execution_count": 40,
   "metadata": {},
   "outputs": [
    {
     "name": "stdout",
     "output_type": "stream",
     "text": [
      "{'to': 22, 'with': 13, 'in': 23, ',': 71, 'and': 56, ';': 8, '(': 17, ')': 17, 'the': 48, 'of': 35, 'a': 12, 'Phase': 8, 'for': 15, 'kinase': 12, 'inhibitor': 10, 'PF-04965842': 8, 'safety': 9, 'treatment': 7, '.': 30, 'is': 7, 'Pfizer': 11, 'be': 9, 'or': 12, 'at': 8, 'as': 13, 'on': 12, 'that': 9, 'other': 7, 'therapies': 7}\n"
     ]
    }
   ],
   "source": [
    "high_freq_words = dict_with_frequency(6, 100)\n",
    "print(high_freq_words)"
   ]
  },
  {
   "cell_type": "markdown",
   "metadata": {},
   "source": [
    "##### Mid frequency words"
   ]
  },
  {
   "cell_type": "code",
   "execution_count": 41,
   "metadata": {},
   "outputs": [
    {
     "name": "stdout",
     "output_type": "stream",
     "text": [
      "{'Global': 3, 'program': 4, 'study': 5, 'December': 3, '2017': 3, ':': 6, '3': 5, 'its': 3, 'JAK1': 6, 'efficacy': 3, 'atopic': 3, 'dermatitis': 3, 'AD': 3, 'This': 3, 'trial': 6, 'Atopic': 4, 'Dermatitis': 3, 'global': 3, 'development': 5, '“': 5, 'this': 5, 'we': 5, 'new': 3, 'potential': 4, '”': 5, 'research': 4, 'investigational': 6, 'About': 3, 'patients': 4, '12': 4, 'will': 5, 'The': 4, 'are': 3, '2': 4, 'from': 3, 'their': 3, 'such': 6, 'under': 4, 'results': 4, 'by': 6, '’s': 3, 'multiple': 3, 'including': 5, 'We': 3, 'alopecia': 3, 'rheumatoid': 3, 'arthritis': 3, 'which': 3, 'could': 3, 'additional': 3, 'A': 3, 'investigation': 3, 'world': 4, 'our': 6, 'health': 4, 'care': 4, 'well': 3, 'us': 4, 'information': 5, 'may': 6, 'www.pfizer.com': 3, 'release': 3, 'risks': 3, 'uncertainties': 4, 'clinical': 5, 'regulatory': 6, 'data': 6, 'when': 3, 'authorities': 5, 'whether': 4, 'any': 6, 'Form': 3}\n"
     ]
    }
   ],
   "source": [
    "mid_freq_words = dict_with_frequency(2, 7)\n",
    "print(mid_freq_words)"
   ]
  },
  {
   "cell_type": "markdown",
   "metadata": {},
   "source": [
    "##### Low frequency words"
   ]
  },
  {
   "cell_type": "code",
   "execution_count": 42,
   "metadata": {
    "scrolled": true
   },
   "outputs": [
    {
     "name": "stdout",
     "output_type": "stream",
     "text": [
      "{'2017-12-14': 1, '00:00:00': 1, 'commence': 1, 'pivotal': 1, 'B7451012': 2, 'North': 1, 'America': 1, 'Australia': 1, 'Europe': 1, 'broader': 1, 'regional': 1, 'rollout': 1, '2018': 1, 'Thursday': 1, '14': 1, '-': 1, '7:30': 1, 'amESTPfizer': 1, 'Inc.': 1, 'NYSE': 1, 'PFE': 1, 'today': 1, 'announced': 1, 'initiation': 1, 'once-daily': 1, 'Janus': 2, '1': 2, 'evaluate': 2, 'moderate-to-severe': 2, 'first': 1, 'Efficacy': 1, 'JADE': 1, 'By': 1, 'initiating': 1, 'hope': 1, 'provide': 1, 'option': 2, 'people': 2, 'suffering': 1, 'condition': 1, 'said': 2, 'Michael': 2, 'Corbo': 1, 'Chief': 2, 'Development': 2, 'Officer': 2, 'Inflammation': 2, '&': 1, 'Immunology': 2, 'Product': 1, 'continues': 1, 'build': 1, 'leadership': 1, 'position': 1, 'inflammation': 2, 'immunology': 1, 'advancement': 1, 'important': 2, 'Pfizer-discovered': 1, 'oral': 2, 'Trial': 2, 'randomized': 1, 'double-blind': 1, 'placebo-controlled': 1, 'parallel-group': 1, 'designed': 1, '375': 1, 'years': 2, 'older': 1, 'participants': 1, 'randomly': 1, 'assigned': 1, 'receive': 1, '200': 1, 'mg': 2, '100': 1, 'once': 1, 'daily': 1, 'placebo': 1, 'primary': 1, 'endpoints': 2, 'proportion': 2, 'achieving': 1, 'an': 2, 'Investigator': 1, 'Assessment': 2, 'IGA': 1, 'score': 2, '0/1': 1, '≥': 1, 'point': 1, 'improvement': 1, 'least': 1, '75': 1, '%': 1, 'greater': 1, 'change': 1, 'baseline': 1, 'Eczema': 1, 'Area': 1, 'Severity': 1, 'Index': 1, 'EASI': 1, 'Key': 1, 'secondary': 1, 'include': 2, 'pruritus': 2, 'numerical': 1, 'rating': 1, 'scale': 1, 'Pruritus': 1, 'Symptoms': 1, 'PSAAD': 1, 'electronic': 1, 'diary': 1, 'measures': 1, 'incidence': 1, 'emergent': 1, 'adverse': 1, 'events': 2, 'laboratory': 1, 'abnormalities': 1, 'duration': 2, 'weeks': 1, 'same': 1, '2b': 1, 'B7451006': 1, '4': 2, 'week': 1, 'follow-up': 1, 'period': 1, 'enter': 1, 'long-term': 1, 'extension': 1, 'B7451015': 1, 'Week': 1, 'More': 1, 'can': 2, 'found': 2, 'www.clinicaltrials.gov': 1, 'identifier': 1, 'NCT03349060': 1, 'design': 2, 'based': 1, 'were': 1, 'presented': 1, '26th': 1, 'Congress': 1, 'European': 1, 'Academy': 1, 'Dermatology': 1, 'Venereology': 1, 'September': 1, 'also': 1, 'commonly': 1, 'called': 1, 'eczema': 1, 'skin': 1, 'characterized': 1, 'erythema': 1, 'redness': 1, 'itching': 1, 'induration': 1, 'hardening': 1, '/': 2, 'papulation': 1, 'formation': 1, 'papules': 1, 'oozing/crusting': 1, 'Kinase': 1, 'Inhibitor': 1, 'Leadership': 1, 'small': 1, 'molecule': 1, 'selectively': 1, 'inhibits': 1, 'Inhibition': 1, 'modulates': 1, 'cytokines': 1, 'involved': 1, 'pathophysiology': 1, 'interleukin': 1, 'IL': 1, '-4': 1, 'IL-13': 1, 'IL-31': 1, 'interferon': 1, 'gamma': 1, 'IFNɣ': 1, 'look': 1, 'forward': 1, 'advancing': 2, 'inhibitors': 2, 'currently': 1, 'mid-stage': 1, 'diseases': 2, 'psoriasis': 2, 'inflammatory': 1, 'bowel': 1, 'disease': 1, 'Vincent': 1, 'M.D': 1, 'Ph.D.': 1, 'Senior': 1, 'Vice': 1, 'President': 1, 'Scientific': 1, 'Research': 1, 'has': 2, 'established': 1, 'leading': 1, 'capability': 1, 'unique': 1, 'As': 1, 'pioneer': 1, 'JAK': 1, 'science': 2, 'Company': 1, 'several': 1, 'programs': 2, 'novel': 1, 'selectivity': 1, 'profiles': 1, 'if': 2, 'successful': 2, 'potentially': 1, 'deliver': 1, 'transformative': 1, 'three': 1, 'across': 2, 'indications': 1, 'PF-06651600': 1, 'JAK3': 1, 'ulcerative': 2, 'colitis': 2, 'areata': 2, 'PF-06700841': 1, 'tyrosine': 1, 'TYK2': 1, 'PF-06650833': 1, 'An': 1, 'interleukin-1': 1, 'receptor-associated': 1, 'IRAK4': 1, 'Working': 1, 'together': 1, 'healthier': 1, '®': 1, 'At': 1, 'apply': 1, 'resources': 1, 'bring': 1, 'extend': 1, 'significantly': 1, 'improve': 1, 'lives': 1, 'strive': 1, 'set': 1, 'standard': 1, 'quality': 1, 'value': 1, 'discovery': 1, 'manufacture': 1, 'products': 2, 'Our': 1, 'portfolio': 1, 'includes': 1, 'medicines': 1, 'vaccines': 1, 'many': 1, \"'s\": 2, 'best-known': 1, 'consumer': 1, 'Every': 1, 'day': 1, 'colleagues': 1, 'work': 1, 'developed': 1, 'emerging': 1, 'markets': 1, 'advance': 1, 'wellness': 1, 'prevention': 1, 'treatments': 1, 'cures': 1, 'challenge': 1, 'most': 1, 'feared': 1, 'time': 1, 'Consistent': 1, 'responsibility': 1, 'one': 1, 'premier': 1, 'innovative': 1, 'biopharmaceutical': 1, 'companies': 1, 'collaborate': 1, 'providers': 1, 'governments': 1, 'local': 1, 'communities': 1, 'support': 2, 'expand': 1, 'access': 1, 'reliable': 1, 'affordable': 1, 'around': 1, 'For': 1, 'more': 2, 'than': 1, '150': 1, 'have': 1, 'worked': 1, 'make': 1, 'difference': 1, 'all': 2, 'who': 1, 'rely': 1, 'routinely': 1, 'post': 1, 'investors': 1, 'website': 1, 'In': 1, 'addition': 1, 'learn': 1, 'please': 1, 'visit': 1, 'follow': 1, 'Twitter': 1, '@Pfizer': 1, '@Pfizer_News': 1, 'LinkedIn': 1, 'YouTube': 1, 'like': 1, 'Facebook': 1, 'Facebook.com/Pfizer': 1, 'DISCLOSURE': 1, 'NOTICE': 1, 'contained': 2, 'assumes': 1, 'no': 1, 'obligation': 1, 'update': 1, 'forward-looking': 2, 'statements': 2, 'result': 1, 'future': 1, 'developments': 2, 'contains': 1, 'about': 1, 'ongoing': 1, 'benefits': 1, 'involves': 1, 'substantial': 1, 'cause': 1, 'actual': 1, 'differ': 1, 'materially': 1, 'those': 1, 'expressed': 1, 'implied': 1, 'Risks': 1, 'among': 1, 'things': 1, 'inherent': 1, 'ability': 1, 'meet': 1, 'anticipated': 1, 'commencement': 1, 'completion': 1, 'dates': 2, 'submission': 1, 'possibility': 1, 'unfavorable': 2, 'analyses': 1, 'existing': 1, 'associated': 1, 'preliminary': 1, 'risk': 1, 'subject': 1, 'differing': 1, 'interpretations': 1, 'even': 1, 'view': 1, 'sufficient': 1, 'and/or': 1, 'effectiveness': 1, 'product': 1, 'candidate': 1, 'not': 1, 'share': 1, 'views': 1, 'require': 1, 'deny': 1, 'approval': 1, 'altogether': 1, 'satisfied': 1, 'studies': 1, 'drug': 1, 'applications': 2, 'filed': 2, 'jurisdictions': 1, 'indication': 1, 'approved': 2, 'depend': 1, 'assessment': 1, 'benefit-risk': 1, 'profile': 1, 'suggested': 1, 'totality': 1, 'submitted': 1, 'commercially': 1, 'decisions': 1, 'regarding': 1, 'labeling': 1, 'matters': 1, 'affect': 1, 'availability': 1, 'commercial': 1, 'competitive': 1, 'further': 1, 'description': 1, 'Annual': 1, 'Report': 1, '10-K': 1, 'fiscal': 1, 'year': 1, 'ended': 1, '31': 1, '2016': 1, 'subsequent': 2, 'reports': 2, '10-Q': 1, 'sections': 1, 'thereof': 1, 'captioned': 1, 'Risk': 1, 'Factors': 2, 'Forward-Looking': 1, 'Information': 1, 'That': 1, 'May': 1, 'Affect': 1, 'Future': 1, 'Results': 1, '8-K': 1, 'U.S.': 1, 'Securities': 1, 'Exchange': 1, 'Commission': 1, 'available': 1, 'www.sec.gov': 1}\n"
     ]
    }
   ],
   "source": [
    "low_freq_words = dict_with_frequency(0, 3)\n",
    "print(low_freq_words)"
   ]
  },
  {
   "cell_type": "code",
   "execution_count": 43,
   "metadata": {},
   "outputs": [],
   "source": [
    "from nltk.tokenize import TreebankWordTokenizer\n",
    "from nltk.tokenize import PunktSentenceTokenizer"
   ]
  },
  {
   "cell_type": "markdown",
   "metadata": {},
   "source": [
    "### Text Normalization : Find root words with stemming or lemmatization to reduce number of features. Case conversion (casing) and acronyms\n",
    "  * **Stemming/Lemmatization -** treat stop words OR high frequency small words. Map single/multiple tokens with terms. Example map window - window, windows; de-accented term - resume.     \n",
    "    * **Stemming** algorithms work by cutting off the end of the word, and in some cases also the beginning while looking for the root. This indiscriminate cutting can be successful in some occasions, but not always, that is why we affirm that this is an approach that has some limitations.\n",
    "      * The best-known and most popular stemming approach for English is the Porter stemming algorithm, also known as the Porter stemmer. It is a collection of rules (or, if you prefer, heuristics) designed to reflect how English handles inflections. **For example, the Porter stemmer chops both apple and apples down to appl, and it stems berry and berries to berri.**\n",
    "      * Porter Stemmer (5 phase stemming), Lovins Stemmer (1 phase stemming). On English, stemming is not a good idea to convert tokens to terms (recall will be high, precision is going to be low). This technique works well with Spanish, Finish, German, etc., language.\n",
    "        * Phase I rules :\n",
    "          * SSES -> SS : caresses -> caress\n",
    "          * IES  -> I  : ponies -> poni\n",
    "\n",
    "    * **Lemmatization** on the other hand takes into consideration the morphological analysis of the words. To do so it is necessary to have detailed dictionaries the algorithm can look back at to link the form back to its lemma. \n",
    "      * Lemmatization does not simply chop off inflections, but instead relies on a lexical knowledge base like ,<a href='https://wordnet.princeton.edu/'> WordNet</a> to obtain the correct base forms of words.\n",
    "      * For example, WordNet lemmatizes **geese** to **goose**, **meanness to meanness** and **meaning to meaning**. In these examples, it outperforms than the Porter stemmer.\n",
    "    * **Stemming VS Lemmatization :**  Lemmatization or Stemming has limits. For example, Porter stems both happiness and happy to happi, while WordNet lemmatizes the two words to themselves. The WordNet lemmatizer also requires specifying the word’s part of speech — otherwise, it assumes the word is a noun. Finally, lemmatization cannot handle unknown words: for example, Porter stems both iphone and iphones to iphon, while WordNet lemmatizes both words to themselves. In general, lemmatization offers better precision than stemming, but at the expense of recall.\n",
    "  \n",
    "  * Case folding - reduce all letters to lowercase\n"
   ]
  },
  {
   "cell_type": "code",
   "execution_count": 2,
   "metadata": {},
   "outputs": [],
   "source": [
    "import nltk"
   ]
  },
  {
   "cell_type": "code",
   "execution_count": 4,
   "metadata": {},
   "outputs": [],
   "source": [
    "#nltk.download()"
   ]
  },
  {
   "cell_type": "code",
   "execution_count": 1,
   "metadata": {},
   "outputs": [],
   "source": [
    "from nltk.corpus import stopwords\n",
    "from nltk.stem.porter import PorterStemmer"
   ]
  },
  {
   "cell_type": "code",
   "execution_count": 2,
   "metadata": {},
   "outputs": [
    {
     "name": "stdout",
     "output_type": "stream",
     "text": [
      "<class 'nltk.corpus.util.LazyCorpusLoader'>\n"
     ]
    }
   ],
   "source": [
    "print(type(stopwords))"
   ]
  },
  {
   "cell_type": "code",
   "execution_count": 4,
   "metadata": {},
   "outputs": [
    {
     "data": {
      "text/plain": [
       "['i',\n",
       " 'me',\n",
       " 'my',\n",
       " 'myself',\n",
       " 'we',\n",
       " 'our',\n",
       " 'ours',\n",
       " 'ourselves',\n",
       " 'you',\n",
       " \"you're\",\n",
       " \"you've\",\n",
       " \"you'll\",\n",
       " \"you'd\",\n",
       " 'your',\n",
       " 'yours',\n",
       " 'yourself',\n",
       " 'yourselves',\n",
       " 'he',\n",
       " 'him',\n",
       " 'his',\n",
       " 'himself',\n",
       " 'she',\n",
       " \"she's\",\n",
       " 'her',\n",
       " 'hers',\n",
       " 'herself',\n",
       " 'it',\n",
       " \"it's\",\n",
       " 'its',\n",
       " 'itself',\n",
       " 'they',\n",
       " 'them',\n",
       " 'their',\n",
       " 'theirs',\n",
       " 'themselves',\n",
       " 'what',\n",
       " 'which',\n",
       " 'who',\n",
       " 'whom',\n",
       " 'this',\n",
       " 'that',\n",
       " \"that'll\",\n",
       " 'these',\n",
       " 'those',\n",
       " 'am',\n",
       " 'is',\n",
       " 'are',\n",
       " 'was',\n",
       " 'were',\n",
       " 'be',\n",
       " 'been',\n",
       " 'being',\n",
       " 'have',\n",
       " 'has',\n",
       " 'had',\n",
       " 'having',\n",
       " 'do',\n",
       " 'does',\n",
       " 'did',\n",
       " 'doing',\n",
       " 'a',\n",
       " 'an',\n",
       " 'the',\n",
       " 'and',\n",
       " 'but',\n",
       " 'if',\n",
       " 'or',\n",
       " 'because',\n",
       " 'as',\n",
       " 'until',\n",
       " 'while',\n",
       " 'of',\n",
       " 'at',\n",
       " 'by',\n",
       " 'for',\n",
       " 'with',\n",
       " 'about',\n",
       " 'against',\n",
       " 'between',\n",
       " 'into',\n",
       " 'through',\n",
       " 'during',\n",
       " 'before',\n",
       " 'after',\n",
       " 'above',\n",
       " 'below',\n",
       " 'to',\n",
       " 'from',\n",
       " 'up',\n",
       " 'down',\n",
       " 'in',\n",
       " 'out',\n",
       " 'on',\n",
       " 'off',\n",
       " 'over',\n",
       " 'under',\n",
       " 'again',\n",
       " 'further',\n",
       " 'then',\n",
       " 'once',\n",
       " 'here',\n",
       " 'there',\n",
       " 'when',\n",
       " 'where',\n",
       " 'why',\n",
       " 'how',\n",
       " 'all',\n",
       " 'any',\n",
       " 'both',\n",
       " 'each',\n",
       " 'few',\n",
       " 'more',\n",
       " 'most',\n",
       " 'other',\n",
       " 'some',\n",
       " 'such',\n",
       " 'no',\n",
       " 'nor',\n",
       " 'not',\n",
       " 'only',\n",
       " 'own',\n",
       " 'same',\n",
       " 'so',\n",
       " 'than',\n",
       " 'too',\n",
       " 'very',\n",
       " 's',\n",
       " 't',\n",
       " 'can',\n",
       " 'will',\n",
       " 'just',\n",
       " 'don',\n",
       " \"don't\",\n",
       " 'should',\n",
       " \"should've\",\n",
       " 'now',\n",
       " 'd',\n",
       " 'll',\n",
       " 'm',\n",
       " 'o',\n",
       " 're',\n",
       " 've',\n",
       " 'y',\n",
       " 'ain',\n",
       " 'aren',\n",
       " \"aren't\",\n",
       " 'couldn',\n",
       " \"couldn't\",\n",
       " 'didn',\n",
       " \"didn't\",\n",
       " 'doesn',\n",
       " \"doesn't\",\n",
       " 'hadn',\n",
       " \"hadn't\",\n",
       " 'hasn',\n",
       " \"hasn't\",\n",
       " 'haven',\n",
       " \"haven't\",\n",
       " 'isn',\n",
       " \"isn't\",\n",
       " 'ma',\n",
       " 'mightn',\n",
       " \"mightn't\",\n",
       " 'mustn',\n",
       " \"mustn't\",\n",
       " 'needn',\n",
       " \"needn't\",\n",
       " 'shan',\n",
       " \"shan't\",\n",
       " 'shouldn',\n",
       " \"shouldn't\",\n",
       " 'wasn',\n",
       " \"wasn't\",\n",
       " 'weren',\n",
       " \"weren't\",\n",
       " 'won',\n",
       " \"won't\",\n",
       " 'wouldn',\n",
       " \"wouldn't\"]"
      ]
     },
     "execution_count": 4,
     "metadata": {},
     "output_type": "execute_result"
    }
   ],
   "source": [
    "[x for x in stopwords.words('english')]"
   ]
  },
  {
   "cell_type": "code",
   "execution_count": 46,
   "metadata": {},
   "outputs": [],
   "source": [
    "corpus = []\n",
    "\n",
    "#sample_text = re.sub('[^\\w\\d\\-\\:]', ' ', sample_text) #substitute non alphabets with space\n",
    "ps = PorterStemmer()\n",
    "\n",
    "words = [ps.stem(word) for word in sample_text if not word in set(stopwords.words('english'))]\n",
    "text_corpus = ''.join(words)\n",
    "corpus.append(text_corpus)"
   ]
  },
  {
   "cell_type": "code",
   "execution_count": 47,
   "metadata": {},
   "outputs": [
    {
     "data": {
      "text/plain": [
       "[\"2017-12-14 00:00:00  Glbl prgr  cence wh pvl u B7451012 n Nrh Aerc, Aurl n Eurpe; brer regnl rllu n 2018 Thur, Deceber 14, 2017 - 7:30ESTPfzer Inc. (NYSE:PFE)  nnunce he nn f  Phe 3 prgr fr  nce-l Jnu kne 1 (JAK1) nhbr PF-04965842,  evlue he effcc n fe f PF-04965842 fr he reen f ere--evere pc er (AD). Th  he fr rl n he JAK1 Apc Der Effcc n fe (JADE) glbl evelpen prgr. “B nng h Phe 3 prgr n pc er, we hpe  prve  new penl reen pn fr peple ufferng wh h cnn,”  Mchel Crb, Chef Develpen Offcer, Infln & Iunlg, Pfzer Glbl Pruc Develpen. “Pfzer cnnue  bul  leerhp pn n nfln n unlg reerch wh he vnceen f h prn, Pfzer-cvere nvegnl rl JAK1 nhbr.” Abu he Phe 3 Trl B7451012 Th Phe 3 rl   rnze, uble-bln, plceb-cnrlle, prllel-grup u egne  evlue he effcc n fe f PF-04965842 n 375 pen 12 er n ler wh ere--evere AD. Trl prcpn wll be rnl gne  receve 200 g r 100 g nce l r plceb. The prr enpn re he prprn f pen chevng n Invegr Glbl Aeen (IGA) cre f 0/1 n ≥2 pn prveen, n he prprn f pen wh  le  75% r greer chnge fr belne n her Ecze Are n Sever Inex (EASI) cre. Ke ecnr enpn nclue he pruru nuercl rng cle, he Pruru n Sp Aeen fr Apc Der (PSAAD) elecrnc r n fe eure uch  he ncence f reen eergen vere even n lbrr bnrle. The reen urn wll be 12 week, he e urn  he Phe 2b u B7451006, wh  4 week fe fllw-up per r he pn  ener  lng-er exenn u (B7451015)  Week 12. Mre n he u cn be fun n www.clnclrl.gv uner he enfer NCT03349060. The egn f he Phe 3 rl  be n he Phe 2 reul h were preene  he 26h Cngre f he Eurpen Ace f Derlg n Venerelg n Sepeber 2017. Abu Apc Der Apc er, l cnl clle pc ecze,  nfln f he kn n chrcerze b erhe (rene), chng (pruru), nurn (hrenng)/ppuln (frn f ppule), n zng/crung. Abu Pfzer’ Kne Inhbr Leerhp PF-04965842  n rl ll lecule h elecvel nhb Jnu kne 1 (JAK1). Inhbn f JAK1 ule ulple ckne nvlve n phphlg f AD nclung nerleukn (IL)-4, IL-13, IL-31 n nerfern g (IFNɣ). “We lk frwr  vncng her kne nhbr currenl n -ge reerch fr her ee uch  lpec, pr, nflr bwel ee, n rheu rhr,”  Mchel Vncen, M.D, Ph.D., Senr Vce Preen n Chef Scenfc Offcer f Infln n Iunlg Reerch  Pfzer. Pfzer h eblhe  leng kne reerch cpbl wh ulple unque kne nhbr herpe n evelpen. A  pneer n JAK cence, he Cpn  vncng everl nvegnl prgr wh nvel elecv prfle, whch, f ucceful, cul penll elver rnfrve herpe fr pen. Pfzer h hree nl kne nhbr n Phe 2 evelpen cr ulple ncn:    PF-06651600: A JAK3 nhbr uner nvegn fr he reen f rheu rhr, ulcerve cl n lpec re    PF-06700841: A rne kne 2 (TYK2)/JAK1 nhbr uner nvegn fr he reen f pr, ulcerve cl n lpec re    PF-06650833: An nerleukn-1 recepr-ce kne 4 (IRAK4) nhbr uner nvegn fr he reen f rheu rhr Wrkng geher fr  helher wrl® A Pfzer, we ppl cence n ur glbl reurce  brng herpe  peple h exen n gnfcnl prve her lve. We rve  e he nr fr qul, fe n vlue n he cver, evelpen n nufcure f helh cre pruc. Our glbl prfl nclue ecne n vccne  well  n f he wrl' be-knwn cnuer helh cre pruc. Ever , Pfzer cllegue wrk cr evelpe n eergng rke  vnce wellne, prevenn, reen n cure h chllenge he  fere ee f ur e. Cnen wh ur repnbl  ne f he wrl' preer nnvve bphrceucl cpne, we cllbre wh helh cre prver, gvernen n lcl cune  uppr n expn cce  relble, ffrble helh cre run he wrl. Fr re hn 150 er, we hve wrke  ke  fference fr ll wh rel n u. We runel p nfrn h  be prn  nver n ur webe  www.pfzer.c. In n,  lern re, plee v u n www.pfzer.c n fllw u n Twer  @Pfzer n @Pfzer_New, LnkeIn, YuTube n lke u n Fcebk  Fcebk.c/Pfzer. DISCLOSURE NOTICE: The nfrn cnne n h relee   f Deceber 12, 2017. Pfzer ue n blgn  upe frwr-lkng een cnne n h relee  he reul f new nfrn r fuure even r evelpen. Th relee cnn frwr-lkng nfrn bu PF-04965842 n Pfzer’ ngng nvegnl prgr n kne nhbr herpe, nclung her penl benef, h nvlve ubnl rk n uncerne h cul cue cul reul  ffer erll fr he expree r ple b uch een. Rk n uncerne nclue, ng her hng, he uncerne nheren n reerch n evelpen, nclung he bl  ee ncpe clncl rl cenceen n cplen e n regulr ubn e,  well  he pbl f unfvrble clncl rl reul, nclung unfvrble new clncl  n nl nle f exng ; rk ce wh prelnr ; he rk h clncl rl  re ubjec  fferng nerpren, n, even when we vew   uffcen  uppr he fe n/r effecvene f  pruc cne, regulr uhre  n hre ur vew n  requre nl  r  en pprvl lgeher; wheher regulr uhre wll be fe wh he egn f n reul fr ur clncl ue; wheher n when rug pplcn  be fle n n jurcn fr n penl ncn fr PF-04965842 r n her nvegnl kne nhbr herpe; wheher n when n uch pplcn  be pprve b regulr uhre, whch wll epen n he een b uch regulr uhre f he benef-rk prfle uggee b he l f he effcc n fe nfrn ube, n, f pprve, wheher PF-04965842 r n uch her nvegnl kne nhbr herpe wll be cercll ucceful; ecn b regulr uhre regrng lbelng, fe n her er h cul ffec he vlbl r cercl penl f PF-04965842 r n her nvegnl kne nhbr herpe; n cpeve evelpen. A furher ecrpn f rk n uncerne cn be fun n Pfzer’ Annul Repr n Fr 10-K fr he fcl er ene Deceber 31, 2016 n n  ubequen repr n Fr 10-Q, nclung n he ecn heref cpne “Rk Fcr” n “Frwr-Lkng Infrn n Fcr Th M Affec Fuure Reul”,  well  n  ubequen repr n Fr 8-K, ll f whch re fle wh he U.S. Secure n Exchnge Cn n vlble  www.ec.gv n www.pfzer.c.  \"]"
      ]
     },
     "execution_count": 47,
     "metadata": {},
     "output_type": "execute_result"
    }
   ],
   "source": [
    "corpus"
   ]
  },
  {
   "cell_type": "code",
   "execution_count": 48,
   "metadata": {},
   "outputs": [],
   "source": [
    "from nltk.stem import WordNetLemmatizer"
   ]
  },
  {
   "cell_type": "code",
   "execution_count": 49,
   "metadata": {},
   "outputs": [],
   "source": [
    "corpus = []\n",
    "\n",
    "#sample_text = re.sub('[^\\w\\d\\-\\:]', ' ', sample_text) #substitute non alphabets with space\n",
    "lem = WordNetLemmatizer()\n",
    "words = [lem.lemmatize(word) for word in sample_text if not word in set(stopwords.words('english'))]\n",
    "text_corpus = ''.join(words)\n",
    "corpus.append(text_corpus)"
   ]
  },
  {
   "cell_type": "code",
   "execution_count": 51,
   "metadata": {},
   "outputs": [
    {
     "name": "stdout",
     "output_type": "stream",
     "text": [
      "[\"2017-12-14 00:00:00  Glbl prgr  cence wh pvl u B7451012 n Nrh Aerc, Aurl n Eurpe; brer regnl rllu n 2018 Thur, Deceber 14, 2017 - 7:30ESTPfzer Inc. (NYSE:PFE)  nnunce he nn f  Phe 3 prgr fr  nce-l Jnu kne 1 (JAK1) nhbr PF-04965842,  evlue he effcc n fe f PF-04965842 fr he reen f ere--evere pc er (AD). Th  he fr rl n he JAK1 Apc Der Effcc n fe (JADE) glbl evelpen prgr. “B nng h Phe 3 prgr n pc er, we hpe  prve  new penl reen pn fr peple ufferng wh h cnn,”  Mchel Crb, Chef Develpen Offcer, Infln & Iunlg, Pfzer Glbl Pruc Develpen. “Pfzer cnnue  bul  leerhp pn n nfln n unlg reerch wh he vnceen f h prn, Pfzer-cvere nvegnl rl JAK1 nhbr.” Abu he Phe 3 Trl B7451012 Th Phe 3 rl   rnze, uble-bln, plceb-cnrlle, prllel-grup u egne  evlue he effcc n fe f PF-04965842 n 375 pen 12 er n ler wh ere--evere AD. Trl prcpn wll be rnl gne  receve 200 g r 100 g nce l r plceb. The prr enpn re he prprn f pen chevng n Invegr Glbl Aeen (IGA) cre f 0/1 n ≥2 pn prveen, n he prprn f pen wh  le  75% r greer chnge fr belne n her Ecze Are n Sever Inex (EASI) cre. Ke ecnr enpn nclue he pruru nuercl rng cle, he Pruru n Sp Aeen fr Apc Der (PSAAD) elecrnc r n fe eure uch  he ncence f reen eergen vere even n lbrr bnrle. The reen urn wll be 12 week, he e urn  he Phe 2b u B7451006, wh  4 week fe fllw-up per r he pn  ener  lng-er exenn u (B7451015)  Week 12. Mre n he u cn be fun n www.clnclrl.gv uner he enfer NCT03349060. The egn f he Phe 3 rl  be n he Phe 2 reul h were preene  he 26h Cngre f he Eurpen Ace f Derlg n Venerelg n Sepeber 2017. Abu Apc Der Apc er, l cnl clle pc ecze,  nfln f he kn n chrcerze b erhe (rene), chng (pruru), nurn (hrenng)/ppuln (frn f ppule), n zng/crung. Abu Pfzer’ Kne Inhbr Leerhp PF-04965842  n rl ll lecule h elecvel nhb Jnu kne 1 (JAK1). Inhbn f JAK1 ule ulple ckne nvlve n phphlg f AD nclung nerleukn (IL)-4, IL-13, IL-31 n nerfern g (IFNɣ). “We lk frwr  vncng her kne nhbr currenl n -ge reerch fr her ee uch  lpec, pr, nflr bwel ee, n rheu rhr,”  Mchel Vncen, M.D, Ph.D., Senr Vce Preen n Chef Scenfc Offcer f Infln n Iunlg Reerch  Pfzer. Pfzer h eblhe  leng kne reerch cpbl wh ulple unque kne nhbr herpe n evelpen. A  pneer n JAK cence, he Cpn  vncng everl nvegnl prgr wh nvel elecv prfle, whch, f ucceful, cul penll elver rnfrve herpe fr pen. Pfzer h hree nl kne nhbr n Phe 2 evelpen cr ulple ncn:    PF-06651600: A JAK3 nhbr uner nvegn fr he reen f rheu rhr, ulcerve cl n lpec re    PF-06700841: A rne kne 2 (TYK2)/JAK1 nhbr uner nvegn fr he reen f pr, ulcerve cl n lpec re    PF-06650833: An nerleukn-1 recepr-ce kne 4 (IRAK4) nhbr uner nvegn fr he reen f rheu rhr Wrkng geher fr  helher wrl® A Pfzer, we ppl cence n ur glbl reurce  brng herpe  peple h exen n gnfcnl prve her lve. We rve  e he nr fr qul, fe n vlue n he cver, evelpen n nufcure f helh cre pruc. Our glbl prfl nclue ecne n vccne  well  n f he wrl' be-knwn cnuer helh cre pruc. Ever , Pfzer cllegue wrk cr evelpe n eergng rke  vnce wellne, prevenn, reen n cure h chllenge he  fere ee f ur e. Cnen wh ur repnbl  ne f he wrl' preer nnvve bphrceucl cpne, we cllbre wh helh cre prver, gvernen n lcl cune  uppr n expn cce  relble, ffrble helh cre run he wrl. Fr re hn 150 er, we hve wrke  ke  fference fr ll wh rel n u. We runel p nfrn h  be prn  nver n ur webe  www.pfzer.c. In n,  lern re, plee v u n www.pfzer.c n fllw u n Twer  @Pfzer n @Pfzer_New, LnkeIn, YuTube n lke u n Fcebk  Fcebk.c/Pfzer. DISCLOSURE NOTICE: The nfrn cnne n h relee   f Deceber 12, 2017. Pfzer ue n blgn  upe frwr-lkng een cnne n h relee  he reul f new nfrn r fuure even r evelpen. Th relee cnn frwr-lkng nfrn bu PF-04965842 n Pfzer’ ngng nvegnl prgr n kne nhbr herpe, nclung her penl benef, h nvlve ubnl rk n uncerne h cul cue cul reul  ffer erll fr he expree r ple b uch een. Rk n uncerne nclue, ng her hng, he uncerne nheren n reerch n evelpen, nclung he bl  ee ncpe clncl rl cenceen n cplen e n regulr ubn e,  well  he pbl f unfvrble clncl rl reul, nclung unfvrble new clncl  n nl nle f exng ; rk ce wh prelnr ; he rk h clncl rl  re ubjec  fferng nerpren, n, even when we vew   uffcen  uppr he fe n/r effecvene f  pruc cne, regulr uhre  n hre ur vew n  requre nl  r  en pprvl lgeher; wheher regulr uhre wll be fe wh he egn f n reul fr ur clncl ue; wheher n when rug pplcn  be fle n n jurcn fr n penl ncn fr PF-04965842 r n her nvegnl kne nhbr herpe; wheher n when n uch pplcn  be pprve b regulr uhre, whch wll epen n he een b uch regulr uhre f he benef-rk prfle uggee b he l f he effcc n fe nfrn ube, n, f pprve, wheher PF-04965842 r n uch her nvegnl kne nhbr herpe wll be cercll ucceful; ecn b regulr uhre regrng lbelng, fe n her er h cul ffec he vlbl r cercl penl f PF-04965842 r n her nvegnl kne nhbr herpe; n cpeve evelpen. A furher ecrpn f rk n uncerne cn be fun n Pfzer’ Annul Repr n Fr 10-K fr he fcl er ene Deceber 31, 2016 n n  ubequen repr n Fr 10-Q, nclung n he ecn heref cpne “Rk Fcr” n “Frwr-Lkng Infrn n Fcr Th M Affec Fuure Reul”,  well  n  ubequen repr n Fr 8-K, ll f whch re fle wh he U.S. Secure n Exchnge Cn n vlble  www.ec.gv n www.pfzer.c.  \"]\n"
     ]
    }
   ],
   "source": [
    "print(corpus)"
   ]
  },
  {
   "cell_type": "markdown",
   "metadata": {},
   "source": [
    "### More on Data Preprocessing - the tasks and activities differ based on scenarios.\n",
    "  * #### For Text Summarization Task: \n",
    "    * Remove repeated words\n",
    "    * Remove long sentences with stop words and high frequency short words.\n",
    "    \n",
    "  * #### For Grammer Correction System:\n",
    "    * We should not be removing stop words.\n",
    "    * Can remove math equations, HTML tags.\n",
    "    * Need detailed analysis before removing abbreviated words.\n",
    "    \n",
    "  * #### For Sentiment Analysis:\n",
    "    * Remove casual words\n",
    "    \n",
    "### Tokenization\n",
    "  * Token : An instance of characters, example if token \"Friends\" occurred twice in document, there will be two entries.\n",
    "  * Term : An entry in dictionary \"friend\"\n",
    "  * state-of-the-art, co-education, lower-case : for these three tokens, the terms should be as shown below.\n",
    "    * state-of-the-art : state-of-the-art\n",
    "    * co-education : co-education, coeducation\n",
    "    * lower-case : lower-case, lowercase, lower case\n",
    "  * San Francisco : This should not be splitted in to two tokens based on space. \"San Francisco\" should be one token. We may have to get this from list of cities.      \n",
    "  \n",
    "### Stop words\n",
    "  * Stop words are the words occur many times in documents. Example the, a, an, to, be, of, to, from, etc.\n",
    "  * **Removing stop words is always not good.** Example King of Denmark - here of is imporant. Flights to London, Flights from London.\n",
    "  \n",
    "\n",
    "### More on Lexical and Morphological Analysis:\n",
    "   * **Lexical Analysis:** is the process of breaking down text into meaningful words, phrases. Lexical Analysis is also loosly described as tokenization process.  \n",
    "\n",
    "   * **Morphological Analysis:** grammetical analysis of how **words** are formed using morphemes.\n",
    "     * Morphological analysis is used in word segmentation and POS tagging.\n",
    "       * **Morphology:** is a branch of linguistics (linguistics - Natural Language analysis using different scientific techniques) that studies how words can be structured and formed. \n",
    "       * **Morphem:** smallest unit in a given language. Morphem may or may not have meaning of its own, but words do have meaning. \n",
    "        <img src=\"../img/morphem.png\" />\n",
    "         * Example1 - \"Pen\" is a word with one marphem.\n",
    "         * Example2 - \"Pens\" is a word with two marphemes, \"pen\" and \"s\".\n",
    "       * **Stem & Root:** The part of a word that an affix is attached to is called a Stem, the word \"tie\" is root, \"untie\" is stem.\n",
    "         * Stemming algorithms work by cutting off the end of the word, and in some cases also the beginning while looking for the root. This indiscriminate cutting can be successful in some occasions, but not always, that is why we affirm that this is an approach that has some limitations.\n",
    "\n",
    "         * The best-known and most popular stemming approach for English is the Porter stemming algorithm, also known as the Porter stemmer. It is a collection of rules (or, if you prefer, heuristics) designed to reflect how English handles inflections. For example, the Porter stemmer chops both apple and apples down to appl, and it stems berry and berries to berri.\n",
    "         * Porter Stemmer (5 phase stemming), Lovins Stemmer (1 phase stemming). On English, stemming is not a good idea to convert tokens to terms (recall will be high, precision is going to be low). This technique works well with Spanish, Finish, German, etc., language.\n",
    "  \n",
    "### Normalization of terms\n",
    "  * Map single/multiple tokens with terms. Example map window - window, windows; de-accented term - resume.\n",
    "  * Normalization is language dependent\n",
    "  * Case folding - reduce all letters to lowercase\n",
    "  * Synonyms (different words but same meaning) - car = automobile, vehicle; need to map car, automobile, vehicle to automobile.\n",
    "  * Homonyms (same word but different meaning) - saw can be past tence of see or machine cutting wood.\n",
    "  * Spelling mistakes - Soundex is the algorithm, this algorithm will look in to words sound similiar and make them a group.\n",
    "  * Stemming, Lemmatization  "
   ]
  }
 ],
 "metadata": {
  "kernelspec": {
   "display_name": "Python 3",
   "language": "python",
   "name": "python3"
  },
  "language_info": {
   "codemirror_mode": {
    "name": "ipython",
    "version": 3
   },
   "file_extension": ".py",
   "mimetype": "text/x-python",
   "name": "python",
   "nbconvert_exporter": "python",
   "pygments_lexer": "ipython3",
   "version": "3.8.3"
  }
 },
 "nbformat": 4,
 "nbformat_minor": 2
}
