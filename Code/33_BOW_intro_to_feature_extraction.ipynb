{
 "cells": [
  {
   "cell_type": "markdown",
   "metadata": {},
   "source": [
    "### Bag of Words (BOW) Model for Sentiment Analysis\n",
    "\n",
    "* IMDB movie review dataset : https://ai.stanford.edu/~amaas/data/sentiment/\n",
    "* Deep model : https://arxiv.org/pdf/1512.08183.pdf\n",
    "* In the labeled train/test sets, a negative review has a score <= 4 out of 10, and a positive review has a score >= 7 out of 10. Thus reviews with more neutral ratings are not included in the train/test sets."
   ]
  },
  {
   "cell_type": "code",
   "execution_count": 1,
   "metadata": {},
   "outputs": [],
   "source": [
    "import numpy as np\n",
    "import matplotlib.pyplot as plt\n",
    "import pandas as pd\n",
    "import os\n",
    "\n",
    "import re\n",
    "import nltk\n",
    "from nltk.corpus import stopwords\n",
    "from nltk.stem.porter import PorterStemmer\n",
    "from nltk.tokenize import WordPunctTokenizer\n",
    "\n",
    "\n",
    "import time\n",
    "from datetime import timedelta"
   ]
  },
  {
   "cell_type": "code",
   "execution_count": 2,
   "metadata": {},
   "outputs": [],
   "source": [
    "# time = time.time()\n",
    "def elapsed_time(start_time, end_time):\n",
    "    elapsed_time_secs = end_time - start_time\n",
    "    return timedelta(seconds=round(elapsed_time_secs))"
   ]
  },
  {
   "cell_type": "code",
   "execution_count": 3,
   "metadata": {},
   "outputs": [],
   "source": [
    "train_inpath = '../data/IMDB/aclImdb/train/'\n",
    "test_inpath = '../data/IMDB/aclImdb/test/'\n",
    "outpath = '../data/IMDB/'\n",
    "\n",
    "def imdb_reviews_to_csv(inpath, outpath, csv_file_name):\n",
    "\n",
    "    indices = []\n",
    "    text = []\n",
    "    rating = []\n",
    "   \n",
    "    i =  0 \n",
    "    for filename in os.listdir(inpath+\"pos\"):\n",
    "        data = open(inpath+\"pos/\"+filename, 'r' , encoding=\"ISO-8859-1\").read()\n",
    "        indices.append(i)\n",
    "        text.append(data)\n",
    "        rating.append(\"1\")\n",
    "        i = i + 1\n",
    "\n",
    "    i = 0   \n",
    "    for filename in os.listdir(inpath+\"neg\"):\n",
    "        data = open(inpath+\"neg/\"+filename, 'r' , encoding=\"ISO-8859-1\").read()\n",
    "        indices.append(i)\n",
    "        text.append(data)\n",
    "        rating.append(\"0\")\n",
    "        i = i + 1\n",
    "    \n",
    "        \n",
    "    dataset = list(zip(indices,text,rating))\n",
    "    np.random.shuffle(dataset)\n",
    "    df = pd.DataFrame(data = dataset, columns=['row_number', 'review', 'polarity'])\n",
    "    df.to_csv(outpath+csv_file_name, index=False, header=True)"
   ]
  },
  {
   "cell_type": "code",
   "execution_count": 4,
   "metadata": {},
   "outputs": [],
   "source": [
    "#imdb_reviews_to_csv(train_inpath, outpath, 'imdb_train.csv')"
   ]
  },
  {
   "cell_type": "code",
   "execution_count": 5,
   "metadata": {},
   "outputs": [],
   "source": [
    "#imdb_reviews_to_csv(test_inpath, outpath, 'imdb_test.csv')"
   ]
  },
  {
   "cell_type": "code",
   "execution_count": 4,
   "metadata": {},
   "outputs": [],
   "source": [
    "imdb_train = pd.read_csv('../data/IMDB/imdb_train.csv')"
   ]
  },
  {
   "cell_type": "code",
   "execution_count": 5,
   "metadata": {},
   "outputs": [
    {
     "data": {
      "text/plain": [
       "(25000, 3)"
      ]
     },
     "execution_count": 5,
     "metadata": {},
     "output_type": "execute_result"
    }
   ],
   "source": [
    "imdb_train.shape"
   ]
  },
  {
   "cell_type": "code",
   "execution_count": 6,
   "metadata": {},
   "outputs": [
    {
     "data": {
      "text/plain": [
       "Index(['row_number', 'review', 'polarity'], dtype='object')"
      ]
     },
     "execution_count": 6,
     "metadata": {},
     "output_type": "execute_result"
    }
   ],
   "source": [
    "imdb_train.columns"
   ]
  },
  {
   "cell_type": "code",
   "execution_count": 7,
   "metadata": {},
   "outputs": [],
   "source": [
    "pd.set_option('display.max_columns', None)  \n",
    "pd.set_option('display.expand_frame_repr', False)\n",
    "pd.set_option('max_colwidth', 500)"
   ]
  },
  {
   "cell_type": "code",
   "execution_count": 8,
   "metadata": {},
   "outputs": [
    {
     "data": {
      "text/html": [
       "<div>\n",
       "<style scoped>\n",
       "    .dataframe tbody tr th:only-of-type {\n",
       "        vertical-align: middle;\n",
       "    }\n",
       "\n",
       "    .dataframe tbody tr th {\n",
       "        vertical-align: top;\n",
       "    }\n",
       "\n",
       "    .dataframe thead th {\n",
       "        text-align: right;\n",
       "    }\n",
       "</style>\n",
       "<table border=\"1\" class=\"dataframe\">\n",
       "  <thead>\n",
       "    <tr style=\"text-align: right;\">\n",
       "      <th></th>\n",
       "      <th>row_number</th>\n",
       "      <th>review</th>\n",
       "      <th>polarity</th>\n",
       "    </tr>\n",
       "  </thead>\n",
       "  <tbody>\n",
       "    <tr>\n",
       "      <th>0</th>\n",
       "      <td>7601</td>\n",
       "      <td>It is hard to describe this film and one wants to tried hard not to dismiss it too quickly because you have a feeling that this might just be the perfect film for some 12 years old girl...&lt;br /&gt;&lt;br /&gt;This film has a nice concept-the modern version of Sleeping Beauty with a twist. It has some rather dreamy shots and some nice sketches of the young boy relationship with his single working mother and his schoolmate... a nice start you might say, but then it got a bit greedy, very greedy, it tri...</td>\n",
       "      <td>0</td>\n",
       "    </tr>\n",
       "    <tr>\n",
       "      <th>1</th>\n",
       "      <td>777</td>\n",
       "      <td>1st watched 8/3/2003 - 2 out of 10(Dir-Brad Sykes): Mindless 3-D movie about flesh-eating zombies in a 3 story within a movie chronicle. And yes, we get to see zombies eating human flesh parts in 3D!! Wow, not!! That has been done time and time again in 2D in a zombie movie but what usually makes a zombie movie better is the underlying story not the actual flesh-eating. That's what made the original zombie classics good. The flesh-eating was just thrown in as an extra. We're actually bored t...</td>\n",
       "      <td>0</td>\n",
       "    </tr>\n",
       "    <tr>\n",
       "      <th>2</th>\n",
       "      <td>12110</td>\n",
       "      <td>Maaan, where do i start with this god awful movie. Bad bad bad story telling. I do not know what the director was thinking when he made this movie. Namaste London was quite an enjoyable movie to be honest..even the soundtrack was good. But in this one..oh my good..for a movie which is supposed to be a musical one..the songs are soooo bad. AR Rahman should have been the music director. &lt;br /&gt;&lt;br /&gt;Given two great actors a much better job should have been done by the director. Even though the ...</td>\n",
       "      <td>0</td>\n",
       "    </tr>\n",
       "    <tr>\n",
       "      <th>3</th>\n",
       "      <td>11782</td>\n",
       "      <td>Time and time again, it seems that the comedic actors of Hollywood are surprising me with their talents as dramatic performers: first it was Robin Williams {'One Hour Photo (2002)'}, then it was Jim Carrey {'Eternal SunshineÂ",
       " (2004)' being one example}, then Will Ferrell {'Stranger than Fiction (2006)'} and now Adam Sandler. Yes, that's absolutely right: the guy who has based an entire career on making brainless, goofball comedies {I'm not complaining; I've always been a fan} has finally gi...</td>\n",
       "      <td>1</td>\n",
       "    </tr>\n",
       "    <tr>\n",
       "      <th>4</th>\n",
       "      <td>10787</td>\n",
       "      <td>The Matador is better upon reflection because at the time one is watching it, it seems so light. The humor is always medium-gauge, never unfunny but never gut-busting. The story is a very simple thread. The characteristics of the plot are often recycled features, namely the unscrupulous bad guy in need of a pal and the straight-laced glass-wearing good guy in need of security in life team up and learn from each other and somehow complement each other's lifestyles. I also find the bullfightin...</td>\n",
       "      <td>1</td>\n",
       "    </tr>\n",
       "  </tbody>\n",
       "</table>\n",
       "</div>"
      ],
      "text/plain": [
       "   row_number                                                                                                                                                                                                                                                                                                                                                                                                                                                                                                               review  polarity\n",
       "0        7601  It is hard to describe this film and one wants to tried hard not to dismiss it too quickly because you have a feeling that this might just be the perfect film for some 12 years old girl...<br /><br />This film has a nice concept-the modern version of Sleeping Beauty with a twist. It has some rather dreamy shots and some nice sketches of the young boy relationship with his single working mother and his schoolmate... a nice start you might say, but then it got a bit greedy, very greedy, it tri...         0\n",
       "1         777  1st watched 8/3/2003 - 2 out of 10(Dir-Brad Sykes): Mindless 3-D movie about flesh-eating zombies in a 3 story within a movie chronicle. And yes, we get to see zombies eating human flesh parts in 3D!! Wow, not!! That has been done time and time again in 2D in a zombie movie but what usually makes a zombie movie better is the underlying story not the actual flesh-eating. That's what made the original zombie classics good. The flesh-eating was just thrown in as an extra. We're actually bored t...         0\n",
       "2       12110  Maaan, where do i start with this god awful movie. Bad bad bad story telling. I do not know what the director was thinking when he made this movie. Namaste London was quite an enjoyable movie to be honest..even the soundtrack was good. But in this one..oh my good..for a movie which is supposed to be a musical one..the songs are soooo bad. AR Rahman should have been the music director. <br /><br />Given two great actors a much better job should have been done by the director. Even though the ...         0\n",
       "3       11782  Time and time again, it seems that the comedic actors of Hollywood are surprising me with their talents as dramatic performers: first it was Robin Williams {'One Hour Photo (2002)'}, then it was Jim Carrey {'Eternal SunshineÂ\n",
       " (2004)' being one example}, then Will Ferrell {'Stranger than Fiction (2006)'} and now Adam Sandler. Yes, that's absolutely right: the guy who has based an entire career on making brainless, goofball comedies {I'm not complaining; I've always been a fan} has finally gi...         1\n",
       "4       10787  The Matador is better upon reflection because at the time one is watching it, it seems so light. The humor is always medium-gauge, never unfunny but never gut-busting. The story is a very simple thread. The characteristics of the plot are often recycled features, namely the unscrupulous bad guy in need of a pal and the straight-laced glass-wearing good guy in need of security in life team up and learn from each other and somehow complement each other's lifestyles. I also find the bullfightin...         1"
      ]
     },
     "execution_count": 8,
     "metadata": {},
     "output_type": "execute_result"
    }
   ],
   "source": [
    "imdb_train.head()"
   ]
  },
  {
   "cell_type": "markdown",
   "metadata": {},
   "source": [
    "#### Below code uses 7 GB of RAM and almost all 2-cores in processing, to reduce this intense memory usage one should use generators."
   ]
  },
  {
   "cell_type": "code",
   "execution_count": 10,
   "metadata": {},
   "outputs": [],
   "source": [
    "from nltk.parse.corenlp import CoreNLPParser \n",
    "st_parser = CoreNLPParser(url='http://localhost:9000')\n",
    "\n",
    "#start_time = time.time()\n",
    "\n",
    "#stem_corpus = []\n",
    "#for i in range(1000):\n",
    "#    review = str(imdb_train['review'][i]).lower()\n",
    "#    review = re.sub('[^\\d\\w]', ' ', review)\n",
    "#    tokens = st_parser.tokenize(review)\n",
    "    #print([word for word in tokens])\n",
    "#    ps = PorterStemmer()\n",
    "#    review = [ps.stem(word) for word in tokens if not word in set(stopwords.words('english'))]\n",
    "#    review = ' '.join(review)\n",
    "#    stem_corpus.append(review)\n",
    "    \n",
    "#end_time = time.time()\n",
    "#print(\"Time taken to execute: \", elapsed_time(start_time, end_time))    \n",
    "\n",
    "### Time taken to execute:  0:04:35"
   ]
  },
  {
   "cell_type": "markdown",
   "metadata": {},
   "source": [
    "#### Generator to reduce resource usage"
   ]
  },
  {
   "cell_type": "code",
   "execution_count": 11,
   "metadata": {},
   "outputs": [],
   "source": [
    "wp_tokenizer = WordPunctTokenizer()\n",
    "\n",
    "def normalize_text(reviews):\n",
    "    for i in range(reviews.shape[0]):\n",
    "        review = str(reviews[i]).lower()\n",
    "        review = re.sub('[^\\w]', ' ', reviews[i])\n",
    "        #print(review)\n",
    "        tokens = wp_tokenizer.tokenize(review)\n",
    "        ps = PorterStemmer()\n",
    "        review = [ps.stem(word) for word in tokens if not word in set(stopwords.words('english'))]\n",
    "        review = ' '.join(review)\n",
    "        yield review    "
   ]
  },
  {
   "cell_type": "code",
   "execution_count": 12,
   "metadata": {},
   "outputs": [],
   "source": [
    "#start_time = time.time()\n",
    "\n",
    "#stem_corpus = []\n",
    "#for review in normalize_text(imdb_train['review'][0:1000]):\n",
    "#    stem_corpus.append(review) \n",
    "    \n",
    "#end_time = time.time()\n",
    "#print(\"Time taken to execute: \", elapsed_time(start_time, end_time))\n",
    "\n",
    "### Time taken to execute:  0:05:42"
   ]
  },
  {
   "cell_type": "code",
   "execution_count": 12,
   "metadata": {},
   "outputs": [
    {
     "name": "stdout",
     "output_type": "stream",
     "text": [
      "Time taken to execute:  0:28:26\n"
     ]
    }
   ],
   "source": [
    "start_time = time.time()\n",
    "\n",
    "stem_corpus = []\n",
    "for review in normalize_text(imdb_train['review']):\n",
    "    stem_corpus.append(review) \n",
    "    \n",
    "end_time = time.time()\n",
    "print(\"Time taken to execute: \", elapsed_time(start_time, end_time))\n",
    "\n",
    "### Time taken to execute:  0:28:26"
   ]
  },
  {
   "cell_type": "code",
   "execution_count": 14,
   "metadata": {},
   "outputs": [],
   "source": [
    "import pickle\n",
    "\n",
    "# Save to disk\n",
    "filename = '../data/IMDB/imdb_stemmed_corpus.sav'\n",
    "pickle.dump(stem_corpus, open(filename, 'wb'))"
   ]
  },
  {
   "cell_type": "code",
   "execution_count": null,
   "metadata": {},
   "outputs": [],
   "source": [
    "# load from disk\n",
    "filename = 'C:/Users/thisi/Workspace/AI_dataset/IMDB/imdb_stemmed_corpus.sav'\n",
    "stem_corpus = pickle.load(open(filename, 'rb'))"
   ]
  },
  {
   "cell_type": "code",
   "execution_count": 16,
   "metadata": {},
   "outputs": [
    {
     "name": "stdout",
     "output_type": "stream",
     "text": [
      "['I rent I bit weari 80 nbc program appar I save lot money I noth actor credit good job show flaw premis br br We charact unlik He full flaw enlighten complet jerk good day yet reason anybodi care while creat american sitcom center around complet bullhead jackass revolutionari full potenti met within show most support charact fulli flesh charact rather sad punch bag want empathi audienc punch bag As sitcom one made normal audienc relat negat lead charact extent see bitting harm peopl stay there reason ani normal peopl would simpli left abus keep without real reason even realli unbeliev one given joanna cassidi special 2 part abort episod major problem show fall apart To simpli believ peopl put guy told heart gold mesh realiti situat If anyth even dramedi thi badli plot conceiv execut premis moment overal met fate deserv someon gut go make good idea execut haphazard look like weirdli script version jerri springer show someon abus tyrant suppos root told A show like requir deft touch actor could provid easili somehow abl and fatal error realli kill program br br chalk show infanc regardless show worth watch but realli screw tri aim star made whole enterpris could', 'thi anim simpl straightforward good vs evil plot action what set apart anim well human movement anim It realli beauti see flee woman run around screen left right look around movement done well whi use rotoscop techniqu day It quit effect br br fire ice prehistor set scarc dress women clearli devot show beauti damsel distress variou sexi way voluptu bodi serv pure eyecandi some may hate regard yet anoth moron male sexual fantasi other includ plenti women ador esthet qualiti I sure mind bakshi love anim lushiou voluptu babe also seen cool world I think apolig sinc pretti much anim adult but I also enjoy anim child I never forgot br br thi one special differ standard disney anim fare reason alon well worth watch sinc possibl bakshi finest for like anim lushiou women tri space adventur cobra well br br I give fire ice 8 10', 'the soprano stand airtight dynam explor american life american experi shape defin money By set stori milieu underworld david chase elimin barrier grunt low ground outright mean deconstruct post modern era br br everi charact repres facet american industri toni soprano exemplifi beleagu work stiff torn famili duti need keep busi even keel the converg two thing imper keep stori move forward the charact christoph pauli bobbi reflect loyal self serv underl present everi enterpris trust necess rather merit with charact ralph joe pantoliano essay brilliant interpret charismat psychopath twist businessman flourish violenc tragic outweigh stun earn power and domin chianes ultim symbol antiqu old guard maintain power establish relationship need comer deflect blame br br though abras occasion disturb the soprano earn place ultim TV drama br br PS A good companion piec chase seri would the shield anoth violent drama manag make ugliest charact interest']\n"
     ]
    }
   ],
   "source": [
    "print(stem_corpus[0:3])"
   ]
  },
  {
   "cell_type": "code",
   "execution_count": 17,
   "metadata": {},
   "outputs": [],
   "source": [
    "from nltk.stem import WordNetLemmatizer\n",
    "\n",
    "def lemma_normalize_text(reviews):\n",
    "    for i in range(reviews.shape[0]):\n",
    "        review = str(reviews[i]).lower()\n",
    "        review = re.sub('[^\\d\\w]', ' ', reviews[i])\n",
    "        tokens = st_parser.tokenize(review)\n",
    "        lem = WordNetLemmatizer()\n",
    "        review = [lem.lemmatize(word) for word in tokens if not word in set(stopwords.words('english'))]\n",
    "        review = ' '.join(review)\n",
    "        yield review"
   ]
  },
  {
   "cell_type": "code",
   "execution_count": 18,
   "metadata": {},
   "outputs": [],
   "source": [
    "#start_time = time.time()\n",
    "\n",
    "#lemma_corpus = []\n",
    "#for review in lemma_normalize_text(imdb_train['review']):\n",
    "#    lemma_corpus.append(review) \n",
    "    \n",
    "#end_time = time.time()\n",
    "#print(\"Time taken to execute: \", elapsed_time(start_time, end_time))\n",
    "\n",
    "#### Time taken to execute:  0:44:44"
   ]
  },
  {
   "cell_type": "code",
   "execution_count": 19,
   "metadata": {},
   "outputs": [],
   "source": [
    "# Save to disk\n",
    "#filename = 'C:/Users/thisi/Workspace/AI_dataset/IMDB/imdb_lemma_corpus.sav'\n",
    "#pickle.dump(lemma_corpus, open(filename, 'wb'))"
   ]
  },
  {
   "cell_type": "code",
   "execution_count": 20,
   "metadata": {},
   "outputs": [],
   "source": [
    "# load from disk\n",
    "filename = 'C:/Users/thisi/Workspace/AI_dataset/IMDB/imdb_lemma_corpus.sav'\n",
    "lemma_corpus = pickle.load(open(filename, 'rb'))"
   ]
  },
  {
   "cell_type": "code",
   "execution_count": 21,
   "metadata": {},
   "outputs": [
    {
     "name": "stdout",
     "output_type": "stream",
     "text": [
      "['I rented I bit weary 80 NBC programming apparently I saved lot money I nothing actor credit good job show flawed premise br br We character unlikable He full flaw enlightened complete jerk good day Yet reason anybody care While creating American sitcom centered around complete bullheaded jackass revolutionary full potential met within show Most supporting character fully fleshed character rather sad punching bag want empathy audience punching bag As sitcom one made normal audience relate negate lead character extent see Bittinger harming people stay There reason Any normal people would simply left abuse Keeping without real reason even really unbelievable one given Joanna Cassidy special 2 part abortion episode major problem show fall apart To simply believe people put guy told heart gold mesh reality situation If anything even dramedy This badly plotted conceived executed premise moment overall met fate deserved Someone gut go make good idea execution haphazard look like weirdly scripted version Jerry Springer show someone abused tyrant supposed root told A show like requires deft touch actor could provided easily somehow able And fatal error really killed program br br Chalk show infancy Regardless show worth watch But really screwed trying aim star made whole enterprise could', 'This animation simple straightforward good v evil plot action What set apart animation well human movement animated It really beautiful seeing fleeing woman running around screen left right look around movement done well Why use rotoscopic technique day It quite effective br br Fire Ice prehistoric setting scarcely dressed woman clearly devoted showing beautiful damsel distress various sexy way voluptuous body serving pure eyecandy Some may hate regard yet another moronic male sexual fantasy others including plenty woman adore esthetic quality I sure mind Bakshi love animating lushious voluptuous babe also seen Cool World I think apoligize since pretty much animation adult But I also enjoyed animation child I never forgot br br This one special different standard Disney Anime fare reason alone well worth watch since possibly Bakshi finest For like animation lushious woman try Space Adventure Cobra well br br I give Fire Ice 8 10', 'The Sopranos stand airtight dynamic exploration American life American experience shaped defined money By setting story milieu underworld David Chase eliminates barrier grunt low ground outright mean deconstruction post modern era br br Every character represents facet American industry Tony Soprano exemplifies beleaguered working stiff torn familial duty need keep business even keel The convergence two thing imperative keep story moving forward The character Christopher Paulie Bobby reflect loyal self serving underling present every enterprise trusted necessity rather merit With character Ralph Joe Pantoliano essay brilliant interpretation charismatic psychopath twisted businessman flourish violence tragically outweighed stunning earning power And Dominic Chianese ultimate symbol antiquated old guard maintains power established relationship need comer deflect blame br br Though abrasive occasionally disturbing The Sopranos earned place ultimate TV drama br br PS A good companion piece Chase series would The Shield another violent drama manages make ugliest character interesting']\n"
     ]
    }
   ],
   "source": [
    "print(lemma_corpus[0:3])"
   ]
  },
  {
   "cell_type": "code",
   "execution_count": 22,
   "metadata": {},
   "outputs": [
    {
     "data": {
      "text/plain": [
       "25000"
      ]
     },
     "execution_count": 22,
     "metadata": {},
     "output_type": "execute_result"
    }
   ],
   "source": [
    "len(lemma_corpus)"
   ]
  },
  {
   "cell_type": "code",
   "execution_count": 23,
   "metadata": {},
   "outputs": [
    {
     "name": "stdout",
     "output_type": "stream",
     "text": [
      "Time taken to execute:  0:00:18\n"
     ]
    }
   ],
   "source": [
    "from sklearn.feature_extraction.text import CountVectorizer\n",
    "\n",
    "start_time = time.time()\n",
    "cv = CountVectorizer(ngram_range=(1, 1))\n",
    "X = cv.fit_transform(lemma_corpus).toarray()\n",
    "y = imdb_train['polarity'].values\n",
    "end_time = time.time()\n",
    "\n",
    "print(\"Time taken to execute: \", elapsed_time(start_time, end_time))"
   ]
  },
  {
   "cell_type": "code",
   "execution_count": 29,
   "metadata": {},
   "outputs": [],
   "source": [
    "filename = './models/IMDB/imdb_count_vectorizer.pkl'\n",
    "pickle.dump(cv, open(filename, 'wb'))"
   ]
  },
  {
   "cell_type": "code",
   "execution_count": 24,
   "metadata": {},
   "outputs": [
    {
     "data": {
      "text/plain": [
       "(25000, 70340)"
      ]
     },
     "execution_count": 24,
     "metadata": {},
     "output_type": "execute_result"
    }
   ],
   "source": [
    "X.shape"
   ]
  },
  {
   "cell_type": "code",
   "execution_count": 25,
   "metadata": {},
   "outputs": [],
   "source": [
    "#cv.vocabulary_  # A mapping of terms to feature indices."
   ]
  },
  {
   "cell_type": "code",
   "execution_count": 26,
   "metadata": {},
   "outputs": [
    {
     "name": "stderr",
     "output_type": "stream",
     "text": [
      "C:\\Users\\thisi\\AppData\\Local\\Continuum\\anaconda3\\lib\\site-packages\\sklearn\\linear_model\\stochastic_gradient.py:166: FutureWarning: max_iter and tol parameters have been added in SGDClassifier in 0.19. If both are left unset, they default to max_iter=5 and tol=None. If tol is not None, max_iter defaults to max_iter=1000. From 0.21, default max_iter will be 1000, and default tol will be 1e-3.\n",
      "  FutureWarning)\n"
     ]
    },
    {
     "name": "stdout",
     "output_type": "stream",
     "text": [
      "0.93864\n"
     ]
    }
   ],
   "source": [
    "from sklearn.linear_model import SGDClassifier\n",
    "from sklearn.metrics import accuracy_score\n",
    "\n",
    "lm = SGDClassifier()\n",
    "lm = lm.fit(X, y)\n",
    "y_pred = lm.predict(X) \n",
    "accu = accuracy_score(y, y_pred)\n",
    "print(accu)\n",
    "## Got 0.93864 accuracy on TRAIN set"
   ]
  },
  {
   "cell_type": "code",
   "execution_count": 28,
   "metadata": {},
   "outputs": [],
   "source": [
    "filename = './models/IMDB/imdb_linear_model.pkl'\n",
    "pickle.dump(lm, open(filename, 'wb'))"
   ]
  },
  {
   "cell_type": "code",
   "execution_count": null,
   "metadata": {},
   "outputs": [],
   "source": []
  }
 ],
 "metadata": {
  "kernelspec": {
   "display_name": "Python 3",
   "language": "python",
   "name": "python3"
  },
  "language_info": {
   "codemirror_mode": {
    "name": "ipython",
    "version": 3
   },
   "file_extension": ".py",
   "mimetype": "text/x-python",
   "name": "python",
   "nbconvert_exporter": "python",
   "pygments_lexer": "ipython3",
   "version": "3.8.3"
  }
 },
 "nbformat": 4,
 "nbformat_minor": 2
}
