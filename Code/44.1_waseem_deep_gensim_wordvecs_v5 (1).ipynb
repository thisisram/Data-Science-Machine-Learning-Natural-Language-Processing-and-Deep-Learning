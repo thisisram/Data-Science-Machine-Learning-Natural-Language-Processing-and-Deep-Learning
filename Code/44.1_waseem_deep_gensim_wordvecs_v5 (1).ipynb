{
 "cells": [
  {
   "cell_type": "markdown",
   "metadata": {
    "colab_type": "text",
    "id": "-ZWMImPLmVZQ"
   },
   "source": [
    "## Word Embeding Lookup in Tensorflow"
   ]
  },
  {
   "cell_type": "markdown",
   "metadata": {
    "colab_type": "text",
    "id": "0h2qHOVkmVZR"
   },
   "source": [
    "* embedding_lookup function tf.nn.embedding_lookup(params, ids) retrieves rows of the params tensor. The behavior is similar to using indexing with arrays in numpy. E.g. "
   ]
  },
  {
   "cell_type": "code",
   "execution_count": 1,
   "metadata": {
    "colab": {},
    "colab_type": "code",
    "id": "dMqBtAtbmVZS"
   },
   "outputs": [],
   "source": [
    "import pandas as pd\n",
    "import numpy as np\n",
    "import matplotlib.pyplot as plt"
   ]
  },
  {
   "cell_type": "code",
   "execution_count": 2,
   "metadata": {
    "colab": {
     "base_uri": "https://localhost:8080/",
     "height": 156
    },
    "colab_type": "code",
    "id": "U3kXdIB1mVZW",
    "outputId": "b4ac44b5-24ae-4237-ba13-29b3a8052880"
   },
   "outputs": [
    {
     "name": "stdout",
     "output_type": "stream",
     "text": [
      "[[0.47683219 0.3707372  0.0595299  0.83992198 0.65760203 0.4200565\n",
      "  0.82105034 0.8583928 ]\n",
      " [0.04700379 0.94656176 0.51662768 0.1597142  0.10274959 0.83603413\n",
      "  0.15562806 0.49048239]\n",
      " [0.92462692 0.81844523 0.52353934 0.32676624 0.295074   0.55799232\n",
      "  0.94743009 0.48464278]\n",
      " [0.90370975 0.41935616 0.80846635 0.03774119 0.29778106 0.04125977\n",
      "  0.15568754 0.0874104 ]]\n"
     ]
    }
   ],
   "source": [
    "params = np.random.random([1000, 8])  # 8-dimensional embeddings of 1000 words\n",
    "ids = np.array([0, 5, 17, 33])\n",
    "print(params[ids])"
   ]
  },
  {
   "cell_type": "code",
   "execution_count": 3,
   "metadata": {
    "colab": {},
    "colab_type": "code",
    "id": "89puXB1mmVZb"
   },
   "outputs": [],
   "source": [
    "import tensorflow as tf"
   ]
  },
  {
   "cell_type": "code",
   "execution_count": 4,
   "metadata": {
    "colab": {
     "base_uri": "https://localhost:8080/",
     "height": 173
    },
    "colab_type": "code",
    "id": "HWUOEABkmVZf",
    "outputId": "b4cab89d-b929-462e-bf12-9df2d5ade318"
   },
   "outputs": [
    {
     "name": "stdout",
     "output_type": "stream",
     "text": [
      "tf.Tensor(\n",
      "[[0.47683219 0.3707372  0.0595299  0.83992198 0.65760203 0.4200565\n",
      "  0.82105034 0.8583928 ]\n",
      " [0.44939849 0.02426341 0.62101836 0.26578557 0.39666125 0.16318247\n",
      "  0.13286787 0.75674309]\n",
      " [0.83822355 0.4619539  0.10470012 0.89927618 0.03011998 0.82567564\n",
      "  0.62755961 0.76250667]\n",
      " [0.48969093 0.11536569 0.2422938  0.04647354 0.1829221  0.20245123\n",
      "  0.3756768  0.10197988]], shape=(4, 8), dtype=float64)\n"
     ]
    }
   ],
   "source": [
    "params = tf.constant(params)\n",
    "ids = tf.constant([0,1,2,3])\n",
    "print(tf.nn.embedding_lookup(params,ids))"
   ]
  },
  {
   "cell_type": "markdown",
   "metadata": {
    "colab_type": "text",
    "id": "1Oozw2bOmVZk"
   },
   "source": [
    "## CNN Model on Cyber Bullying data"
   ]
  },
  {
   "cell_type": "code",
   "execution_count": 5,
   "metadata": {
    "colab": {},
    "colab_type": "code",
    "id": "iUqIbU0f3L6I"
   },
   "outputs": [],
   "source": [
    "import pandas as pd\n",
    "import numpy as np\n",
    "import matplotlib.pyplot as plt"
   ]
  },
  {
   "cell_type": "code",
   "execution_count": 6,
   "metadata": {
    "colab": {},
    "colab_type": "code",
    "id": "1T4pXBC23L6M"
   },
   "outputs": [],
   "source": [
    "data = pd.read_csv('Waseem_clean_data.csv')"
   ]
  },
  {
   "cell_type": "code",
   "execution_count": 7,
   "metadata": {
    "colab": {
     "base_uri": "https://localhost:8080/",
     "height": 202
    },
    "colab_type": "code",
    "id": "3mMPXErp3L6P",
    "outputId": "78bf371d-35de-4e28-884c-5465db37bd8b"
   },
   "outputs": [
    {
     "data": {
      "text/html": [
       "<div>\n",
       "<style scoped>\n",
       "    .dataframe tbody tr th:only-of-type {\n",
       "        vertical-align: middle;\n",
       "    }\n",
       "\n",
       "    .dataframe tbody tr th {\n",
       "        vertical-align: top;\n",
       "    }\n",
       "\n",
       "    .dataframe thead th {\n",
       "        text-align: right;\n",
       "    }\n",
       "</style>\n",
       "<table border=\"1\" class=\"dataframe\">\n",
       "  <thead>\n",
       "    <tr style=\"text-align: right;\">\n",
       "      <th></th>\n",
       "      <th>Unnamed: 0</th>\n",
       "      <th>content</th>\n",
       "      <th>lable</th>\n",
       "    </tr>\n",
       "  </thead>\n",
       "  <tbody>\n",
       "    <tr>\n",
       "      <th>0</th>\n",
       "      <td>0</td>\n",
       "      <td>someone is going home &lt;hashtag&gt;mkr ..that obvi...</td>\n",
       "      <td>0.0</td>\n",
       "    </tr>\n",
       "    <tr>\n",
       "      <th>1</th>\n",
       "      <td>1</td>\n",
       "      <td>they didn't even wash the chicken emoticon_sad...</td>\n",
       "      <td>0.0</td>\n",
       "    </tr>\n",
       "    <tr>\n",
       "      <th>2</th>\n",
       "      <td>2</td>\n",
       "      <td>&lt;hashtag&gt;mkr is honestly so fucking staged. th...</td>\n",
       "      <td>0.0</td>\n",
       "    </tr>\n",
       "    <tr>\n",
       "      <th>3</th>\n",
       "      <td>3</td>\n",
       "      <td>can someone smash that bottle of rose &amp;amp; li...</td>\n",
       "      <td>0.0</td>\n",
       "    </tr>\n",
       "    <tr>\n",
       "      <th>4</th>\n",
       "      <td>4</td>\n",
       "      <td>will someone pls assist colin in the washing o...</td>\n",
       "      <td>0.0</td>\n",
       "    </tr>\n",
       "  </tbody>\n",
       "</table>\n",
       "</div>"
      ],
      "text/plain": [
       "   Unnamed: 0                                            content  lable\n",
       "0           0  someone is going home <hashtag>mkr ..that obvi...    0.0\n",
       "1           1  they didn't even wash the chicken emoticon_sad...    0.0\n",
       "2           2  <hashtag>mkr is honestly so fucking staged. th...    0.0\n",
       "3           3  can someone smash that bottle of rose &amp; li...    0.0\n",
       "4           4  will someone pls assist colin in the washing o...    0.0"
      ]
     },
     "execution_count": 7,
     "metadata": {},
     "output_type": "execute_result"
    }
   ],
   "source": [
    "data.head()"
   ]
  },
  {
   "cell_type": "code",
   "execution_count": 8,
   "metadata": {
    "colab": {},
    "colab_type": "code",
    "id": "x4TZtjPcm35F"
   },
   "outputs": [],
   "source": [
    "data.drop('Unnamed: 0', axis=1, inplace=True)"
   ]
  },
  {
   "cell_type": "code",
   "execution_count": 9,
   "metadata": {
    "colab": {
     "base_uri": "https://localhost:8080/",
     "height": 69
    },
    "colab_type": "code",
    "id": "fSKIZBaq3L6U",
    "outputId": "d1cbbf5e-1de5-4bb0-ebb8-142dffd33ca8"
   },
   "outputs": [
    {
     "data": {
      "text/plain": [
       "content    False\n",
       "lable      False\n",
       "dtype: bool"
      ]
     },
     "execution_count": 9,
     "metadata": {},
     "output_type": "execute_result"
    }
   ],
   "source": [
    "data.isnull().any()"
   ]
  },
  {
   "cell_type": "code",
   "execution_count": 10,
   "metadata": {
    "colab": {
     "base_uri": "https://localhost:8080/",
     "height": 35
    },
    "colab_type": "code",
    "id": "nAVv1pITmVZ8",
    "outputId": "ffc31873-6345-4fd5-d0b7-51a84a8b6ef2"
   },
   "outputs": [
    {
     "data": {
      "text/plain": [
       "(13763, 2)"
      ]
     },
     "execution_count": 10,
     "metadata": {},
     "output_type": "execute_result"
    }
   ],
   "source": [
    "data.shape"
   ]
  },
  {
   "cell_type": "code",
   "execution_count": 11,
   "metadata": {
    "colab": {
     "base_uri": "https://localhost:8080/",
     "height": 69
    },
    "colab_type": "code",
    "id": "xwvH1wunmVaK",
    "outputId": "32dfe0ca-bff8-4045-df61-d26bcf71da3e"
   },
   "outputs": [
    {
     "data": {
      "text/plain": [
       "0.0    9533\n",
       "1.0    4230\n",
       "Name: lable, dtype: int64"
      ]
     },
     "execution_count": 11,
     "metadata": {},
     "output_type": "execute_result"
    }
   ],
   "source": [
    "data['lable'].value_counts()"
   ]
  },
  {
   "cell_type": "code",
   "execution_count": 12,
   "metadata": {
    "colab": {},
    "colab_type": "code",
    "id": "p6D_zl8omVaN"
   },
   "outputs": [],
   "source": [
    "from sklearn.model_selection import train_test_split\n",
    "X_train, X_test, y_train, y_test = train_test_split(data['content'], data['lable'], test_size=0.10, random_state=30)"
   ]
  },
  {
   "cell_type": "code",
   "execution_count": 13,
   "metadata": {
    "colab": {
     "base_uri": "https://localhost:8080/",
     "height": 35
    },
    "colab_type": "code",
    "id": "qoexM0gtmVaQ",
    "outputId": "54336d4b-34a8-4a99-d7d7-6b88ddf9bbcc"
   },
   "outputs": [
    {
     "data": {
      "text/plain": [
       "((12386,), (1377,), (12386,), (1377,))"
      ]
     },
     "execution_count": 13,
     "metadata": {},
     "output_type": "execute_result"
    }
   ],
   "source": [
    "X_train.shape, X_test.shape, y_train.shape, y_test.shape"
   ]
  },
  {
   "cell_type": "code",
   "execution_count": 14,
   "metadata": {
    "colab": {
     "base_uri": "https://localhost:8080/",
     "height": 35
    },
    "colab_type": "code",
    "id": "2meAliGPmVaT",
    "outputId": "42b9f066-45d0-4e50-c58a-406b2fa8205b"
   },
   "outputs": [
    {
     "data": {
      "text/plain": [
       "pandas.core.series.Series"
      ]
     },
     "execution_count": 14,
     "metadata": {},
     "output_type": "execute_result"
    }
   ],
   "source": [
    "type(X_train)"
   ]
  },
  {
   "cell_type": "code",
   "execution_count": 15,
   "metadata": {
    "colab": {
     "base_uri": "https://localhost:8080/",
     "height": 121
    },
    "colab_type": "code",
    "id": "J7heIgmwmVaV",
    "outputId": "e6ce79c2-70e8-4bf7-e214-0ba33684aaf8"
   },
   "outputs": [
    {
     "data": {
      "text/plain": [
       "5570        user i don't know. but i feel like user would.\n",
       "5633     until twitter provides us with a way to filter...\n",
       "9315     “here’s the deal cooking is cooking!” ouch! yo...\n",
       "5937     today i am happy to announce the online abuse ...\n",
       "11633    rt user i'm not sexist..but man women's basket...\n",
       "Name: content, dtype: object"
      ]
     },
     "execution_count": 15,
     "metadata": {},
     "output_type": "execute_result"
    }
   ],
   "source": [
    "X_train.head()"
   ]
  },
  {
   "cell_type": "code",
   "execution_count": 16,
   "metadata": {
    "colab": {
     "base_uri": "https://localhost:8080/",
     "height": 35
    },
    "colab_type": "code",
    "id": "B0K2DctemVay",
    "outputId": "b2b5ae41-38fb-4e2a-fb44-2d8567f3c073"
   },
   "outputs": [
    {
     "data": {
      "text/plain": [
       "pandas.core.series.Series"
      ]
     },
     "execution_count": 16,
     "metadata": {},
     "output_type": "execute_result"
    }
   ],
   "source": [
    "type(X_train)"
   ]
  },
  {
   "cell_type": "code",
   "execution_count": 17,
   "metadata": {
    "colab": {},
    "colab_type": "code",
    "id": "f3KvRWlRmVa1"
   },
   "outputs": [],
   "source": [
    "def fun_max_len(data):\n",
    "    return max( len(t.split()) for t in data)"
   ]
  },
  {
   "cell_type": "code",
   "execution_count": 18,
   "metadata": {
    "colab": {
     "base_uri": "https://localhost:8080/",
     "height": 35
    },
    "colab_type": "code",
    "id": "_b9CDlkmmVa4",
    "outputId": "98af4f0c-63f4-4f92-a271-6ccf994107a4"
   },
   "outputs": [
    {
     "name": "stdout",
     "output_type": "stream",
     "text": [
      "Train data max lengthed String:  325\n"
     ]
    }
   ],
   "source": [
    "max_len = fun_max_len(X_train)\n",
    "print('Train data max lengthed String: ', max_len)"
   ]
  },
  {
   "cell_type": "code",
   "execution_count": 19,
   "metadata": {
    "colab": {},
    "colab_type": "code",
    "id": "2ysjuBXymVa8"
   },
   "outputs": [],
   "source": [
    "import tensorflow as tf"
   ]
  },
  {
   "cell_type": "code",
   "execution_count": 20,
   "metadata": {
    "colab": {
     "base_uri": "https://localhost:8080/",
     "height": 35
    },
    "colab_type": "code",
    "id": "KvgBsJGYmVa_",
    "outputId": "24495bcd-131f-459c-8e1b-a938ffe22677"
   },
   "outputs": [
    {
     "data": {
      "text/plain": [
       "'2.0.0'"
      ]
     },
     "execution_count": 20,
     "metadata": {},
     "output_type": "execute_result"
    }
   ],
   "source": [
    "tf.__version__"
   ]
  },
  {
   "cell_type": "code",
   "execution_count": 21,
   "metadata": {
    "colab": {},
    "colab_type": "code",
    "id": "ucbjMaSPmVbD"
   },
   "outputs": [],
   "source": [
    "text_tokenizer = tf.keras.preprocessing.text.Tokenizer(filters='')\n",
    "text_tokenizer.fit_on_texts(X_train)"
   ]
  },
  {
   "cell_type": "code",
   "execution_count": 22,
   "metadata": {
    "colab": {},
    "colab_type": "code",
    "id": "_eb-tcydmVbF"
   },
   "outputs": [],
   "source": [
    "X_train_seq_data = text_tokenizer.texts_to_sequences(X_train)"
   ]
  },
  {
   "cell_type": "code",
   "execution_count": 23,
   "metadata": {
    "colab": {
     "base_uri": "https://localhost:8080/",
     "height": 35
    },
    "colab_type": "code",
    "id": "80e-Naa7mVbH",
    "outputId": "b586bb26-a30f-4d83-8dce-0879c4662f5b"
   },
   "outputs": [
    {
     "name": "stdout",
     "output_type": "stream",
     "text": [
      "[[1, 6, 33, 690, 17, 6, 197, 34, 1, 3344], [264, 177, 3345, 171, 28, 5, 125, 4, 1880, 202, 1109, 57, 3345, 5, 1463, 8836, 4, 8837, 93, 16, 27, 691, 14, 257, 8838]]\n"
     ]
    }
   ],
   "source": [
    "print(X_train_seq_data[:2])"
   ]
  },
  {
   "cell_type": "code",
   "execution_count": 24,
   "metadata": {
    "colab": {},
    "colab_type": "code",
    "id": "VglYA0hpmVbM"
   },
   "outputs": [],
   "source": [
    "X_train_seq_to_text = text_tokenizer.sequences_to_texts(X_train_seq_data)"
   ]
  },
  {
   "cell_type": "code",
   "execution_count": 25,
   "metadata": {
    "colab": {
     "base_uri": "https://localhost:8080/",
     "height": 55
    },
    "colab_type": "code",
    "id": "vnGkZ1q-mVbO",
    "outputId": "570b2739-500a-4c41-b230-dd46244f7f58"
   },
   "outputs": [
    {
     "name": "stdout",
     "output_type": "stream",
     "text": [
      "[\"user i don't know. but i feel like user would.\", 'until twitter provides us with a way to filter new accounts or provides a higher barrier to entry these are just words that mean little.']\n"
     ]
    }
   ],
   "source": [
    "print(X_train_seq_to_text[:2])"
   ]
  },
  {
   "cell_type": "code",
   "execution_count": 26,
   "metadata": {
    "colab": {},
    "colab_type": "code",
    "id": "nPXd9ucMmVbR"
   },
   "outputs": [],
   "source": [
    "X_train_corpus = [x.split() for x in X_train_seq_to_text]"
   ]
  },
  {
   "cell_type": "code",
   "execution_count": 27,
   "metadata": {
    "colab": {
     "base_uri": "https://localhost:8080/",
     "height": 55
    },
    "colab_type": "code",
    "id": "EfYGJyYTmVbU",
    "outputId": "155e1758-428f-48f8-9c47-98883b52601e"
   },
   "outputs": [
    {
     "name": "stdout",
     "output_type": "stream",
     "text": [
      "[['user', 'i', \"don't\", 'know.', 'but', 'i', 'feel', 'like', 'user', 'would.'], ['until', 'twitter', 'provides', 'us', 'with', 'a', 'way', 'to', 'filter', 'new', 'accounts', 'or', 'provides', 'a', 'higher', 'barrier', 'to', 'entry', 'these', 'are', 'just', 'words', 'that', 'mean', 'little.']]\n"
     ]
    }
   ],
   "source": [
    "print(X_train_corpus[:2])"
   ]
  },
  {
   "cell_type": "code",
   "execution_count": 28,
   "metadata": {
    "colab": {},
    "colab_type": "code",
    "id": "s7uFlJ6_mVbW"
   },
   "outputs": [],
   "source": [
    "embedding_dim=150"
   ]
  },
  {
   "cell_type": "code",
   "execution_count": 29,
   "metadata": {
    "colab": {},
    "colab_type": "code",
    "id": "IkeXdbH8mVbb"
   },
   "outputs": [],
   "source": [
    "import gensim\n",
    "import pickle\n",
    "\n",
    "#wv_model = gensim.models.Word2Vec(size=embedding_dim, window=3, min_count=1, sg=1, workers=10)\n",
    "#wv_model.build_vocab(sentences=X_train_corpus)  # prepare the model vocabulary\n",
    "#wv_model.train(sentences=X_train_corpus, total_examples=len(X_train_corpus), epochs=100)\n",
    "\n",
    "#filename = 'waseem_train_word2vec_UNK_model.sav'\n",
    "#pickle.dump(wv_model, open(filename, 'wb'))"
   ]
  },
  {
   "cell_type": "code",
   "execution_count": 30,
   "metadata": {
    "colab": {},
    "colab_type": "code",
    "id": "19qBnph7mVbh"
   },
   "outputs": [],
   "source": [
    "filename = 'waseem_train_word2vec_UNK_model_surace_pro3.sav'\n",
    "wv_model = pickle.load(open(filename, 'rb'))"
   ]
  },
  {
   "cell_type": "code",
   "execution_count": 31,
   "metadata": {
    "colab": {
     "base_uri": "https://localhost:8080/",
     "height": 35
    },
    "colab_type": "code",
    "id": "3AE7czxumVbk",
    "outputId": "11a61cd2-bcc5-4180-c96e-1200e2080c2c"
   },
   "outputs": [
    {
     "data": {
      "text/plain": [
       "22354"
      ]
     },
     "execution_count": 31,
     "metadata": {},
     "output_type": "execute_result"
    }
   ],
   "source": [
    "len(wv_model.wv.vocab)"
   ]
  },
  {
   "cell_type": "code",
   "execution_count": 32,
   "metadata": {
    "colab": {
     "base_uri": "https://localhost:8080/",
     "height": 35
    },
    "colab_type": "code",
    "id": "IE71CjYCmVbn",
    "outputId": "c2178e2c-39de-47d8-9e31-9060e8d83f0a"
   },
   "outputs": [
    {
     "data": {
      "text/plain": [
       "dtype('float32')"
      ]
     },
     "execution_count": 32,
     "metadata": {},
     "output_type": "execute_result"
    }
   ],
   "source": [
    "vector = wv_model.wv[\"given\"] \n",
    "vector.dtype"
   ]
  },
  {
   "cell_type": "code",
   "execution_count": 33,
   "metadata": {
    "colab": {},
    "colab_type": "code",
    "id": "aL8emTgtmVbr"
   },
   "outputs": [],
   "source": [
    "#text_tokenizer.word_index"
   ]
  },
  {
   "cell_type": "code",
   "execution_count": 34,
   "metadata": {
    "colab": {},
    "colab_type": "code",
    "id": "zhfJ9353mVbw"
   },
   "outputs": [],
   "source": [
    "#text_tokenizer.index_word"
   ]
  },
  {
   "cell_type": "code",
   "execution_count": 35,
   "metadata": {
    "colab": {
     "base_uri": "https://localhost:8080/",
     "height": 35
    },
    "colab_type": "code",
    "id": "FpkNROCDmVb0",
    "outputId": "34e78c0c-d506-4936-db5b-7c605cbe93ff"
   },
   "outputs": [
    {
     "name": "stdout",
     "output_type": "stream",
     "text": [
      "vocab_size :  22366\n"
     ]
    }
   ],
   "source": [
    "vocab_size = len(text_tokenizer.word_index)+1  \n",
    "print('vocab_size : ', vocab_size)"
   ]
  },
  {
   "cell_type": "code",
   "execution_count": 36,
   "metadata": {
    "colab": {},
    "colab_type": "code",
    "id": "eh8NXQKsmVb3"
   },
   "outputs": [],
   "source": [
    "BATCH_SIZE = 64"
   ]
  },
  {
   "cell_type": "code",
   "execution_count": 37,
   "metadata": {
    "colab": {},
    "colab_type": "code",
    "id": "4sRr6SAlmVb5"
   },
   "outputs": [],
   "source": [
    "def generate_sent_word2vec_array(lst_sent):\n",
    "    word_array = np.zeros((max_len, embedding_dim))\n",
    "    for i, word in enumerate(lst_sent):\n",
    "        if word in wv_model.wv.vocab:\n",
    "            word_array[i] = wv_model.wv[word]\n",
    "        else:\n",
    "            word_array[i] = np.zeros(embedding_dim)\n",
    "    return word_array"
   ]
  },
  {
   "cell_type": "code",
   "execution_count": 38,
   "metadata": {
    "colab": {},
    "colab_type": "code",
    "id": "HICF4tlnmVb9"
   },
   "outputs": [],
   "source": [
    "def split_batch(X, y):\n",
    "    n_batches = len(y) // BATCH_SIZE\n",
    "       \n",
    "    for batch_idx in range(n_batches):\n",
    "        y_batch_labels = np.array(y[batch_idx*BATCH_SIZE : batch_idx*BATCH_SIZE + BATCH_SIZE])\n",
    "        \n",
    "        X_batch_sents = X[batch_idx*BATCH_SIZE : batch_idx*BATCH_SIZE + BATCH_SIZE]\n",
    "        X_batch = None\n",
    "        for lst_sent in X_batch_sents:\n",
    "            send_2d_arr = generate_sent_word2vec_array(lst_sent)\n",
    "            if X_batch is None:\n",
    "                X_batch = np.array([send_2d_arr])\n",
    "            else:\n",
    "                X_batch = np.append(X_batch, values=[send_2d_arr], axis=0)\n",
    "                \n",
    "                \n",
    "        yield X_batch, y_batch_labels"
   ]
  },
  {
   "cell_type": "code",
   "execution_count": 39,
   "metadata": {
    "colab": {
     "base_uri": "https://localhost:8080/",
     "height": 53
    },
    "colab_type": "code",
    "id": "I_iWF8d2mVb_",
    "outputId": "1df43877-962d-45f1-c0ca-9e9c1d9c2a69"
   },
   "outputs": [
    {
     "data": {
      "text/plain": [
       "'cnt = 0\\nfor x, y in split_batch(X_text_corpus, y_test):\\n    if cnt > 0:\\n        break;\\n    print(x.shape, x.dtype)\\n    print(y.shape, y.dtype)\\n    cnt = cnt +1'"
      ]
     },
     "execution_count": 39,
     "metadata": {},
     "output_type": "execute_result"
    }
   ],
   "source": [
    "'''cnt = 0\n",
    "for x, y in split_batch(X_text_corpus, y_test):\n",
    "    if cnt > 0:\n",
    "        break;\n",
    "    print(x.shape, x.dtype)\n",
    "    print(y.shape, y.dtype)\n",
    "    cnt = cnt +1'''"
   ]
  },
  {
   "cell_type": "markdown",
   "metadata": {
    "colab_type": "text",
    "id": "RadLSdZ-mVcC"
   },
   "source": [
    "* https://www.tensorflow.org/tutorials/text/word_embeddings\n",
    "* https://www.tensorflow.org/tutorials/text/text_classification_rnn"
   ]
  },
  {
   "cell_type": "code",
   "execution_count": 40,
   "metadata": {
    "colab": {
     "base_uri": "https://localhost:8080/",
     "height": 35
    },
    "colab_type": "code",
    "id": "MLiy73OomVcK",
    "outputId": "d1111584-10a1-491b-a75a-15b796505cbd"
   },
   "outputs": [
    {
     "name": "stdout",
     "output_type": "stream",
     "text": [
      "Test data max lengthed String:  271\n"
     ]
    }
   ],
   "source": [
    "print('Test data max lengthed String: ', fun_max_len(X_test))"
   ]
  },
  {
   "cell_type": "code",
   "execution_count": 41,
   "metadata": {
    "colab": {},
    "colab_type": "code",
    "id": "LYyo9oTamVcN"
   },
   "outputs": [],
   "source": [
    "X_test_seq_data = text_tokenizer.texts_to_sequences(X_test)\n",
    "#X_test_seq_data = tf.keras.preprocessing.sequence.pad_sequences(X_test_seq_data, padding='post', maxlen=max_len)"
   ]
  },
  {
   "cell_type": "code",
   "execution_count": 42,
   "metadata": {
    "colab": {
     "base_uri": "https://localhost:8080/",
     "height": 55
    },
    "colab_type": "code",
    "id": "vEie1mblmVcR",
    "outputId": "e01186aa-fdc8-4cd3-f171-a17c168dfe1b"
   },
   "outputs": [
    {
     "name": "stdout",
     "output_type": "stream",
     "text": [
      "[[23, 10, 1286, 4, 24, 5, 155, 186, 176, 15, 5, 1167, 9, 1209, 233, 5, 4996, 3], [7, 1, 37, 29, 47, 60, 6, 161, 22, 49, 2286, 70, 9, 3, 22, 16, 32, 2699, 31, 15, 1691, 12, 16, 27, 3447]]\n"
     ]
    }
   ],
   "source": [
    "print(X_test_seq_data[:2])"
   ]
  },
  {
   "cell_type": "code",
   "execution_count": 43,
   "metadata": {
    "colab": {},
    "colab_type": "code",
    "id": "5rFuGTyUmVcV"
   },
   "outputs": [],
   "source": [
    "X_test_seq_to_text = text_tokenizer.sequences_to_texts(X_test_seq_data)"
   ]
  },
  {
   "cell_type": "code",
   "execution_count": 44,
   "metadata": {
    "colab": {
     "base_uri": "https://localhost:8080/",
     "height": 55
    },
    "colab_type": "code",
    "id": "0G8lKckPmVcX",
    "outputId": "43430196-6582-422a-acb1-8568d0b04916"
   },
   "outputs": [
    {
     "name": "stdout",
     "output_type": "stream",
     "text": [
      "['this is supposed to be a fucking cooking show not a bunch of walking down a runway <hashtag>mkr', \"rt user if kat &amp; andre i hope they get kicked out of <hashtag>mkr they are so horrible. it's not editing you are just horrid.\"]\n"
     ]
    }
   ],
   "source": [
    "print(X_test_seq_to_text[:2])"
   ]
  },
  {
   "cell_type": "code",
   "execution_count": 45,
   "metadata": {
    "colab": {},
    "colab_type": "code",
    "id": "o3GXtGv3mVca"
   },
   "outputs": [],
   "source": [
    "X_text_corpus = [x.split() for x in X_test_seq_to_text]"
   ]
  },
  {
   "cell_type": "code",
   "execution_count": 46,
   "metadata": {
    "colab": {
     "base_uri": "https://localhost:8080/",
     "height": 55
    },
    "colab_type": "code",
    "id": "t4sBWsvbmVce",
    "outputId": "ccb23269-3e2e-4d44-a719-34d709cac69c"
   },
   "outputs": [
    {
     "name": "stdout",
     "output_type": "stream",
     "text": [
      "[['this', 'is', 'supposed', 'to', 'be', 'a', 'fucking', 'cooking', 'show', 'not', 'a', 'bunch', 'of', 'walking', 'down', 'a', 'runway', '<hashtag>mkr'], ['rt', 'user', 'if', 'kat', '&amp;', 'andre', 'i', 'hope', 'they', 'get', 'kicked', 'out', 'of', '<hashtag>mkr', 'they', 'are', 'so', 'horrible.', \"it's\", 'not', 'editing', 'you', 'are', 'just', 'horrid.']]\n"
     ]
    }
   ],
   "source": [
    "print(X_text_corpus[:2])"
   ]
  },
  {
   "cell_type": "code",
   "execution_count": 47,
   "metadata": {
    "colab": {
     "base_uri": "https://localhost:8080/",
     "height": 52
    },
    "colab_type": "code",
    "id": "-UeODKFqmVch",
    "outputId": "28d34540-0843-458a-9ad6-5e1465da9e00"
   },
   "outputs": [
    {
     "name": "stdout",
     "output_type": "stream",
     "text": [
      "TRAIN_BUFFER_SIZE :  12386\n",
      "TEST_BUFFER_SIZE :  1377\n"
     ]
    }
   ],
   "source": [
    "TRAIN_BUFFER_SIZE = len(X_train)\n",
    "print('TRAIN_BUFFER_SIZE : ', TRAIN_BUFFER_SIZE)\n",
    "TEST_BUFFER_SIZE = len(X_test)\n",
    "print('TEST_BUFFER_SIZE : ', TEST_BUFFER_SIZE)"
   ]
  },
  {
   "cell_type": "code",
   "execution_count": 48,
   "metadata": {
    "colab": {},
    "colab_type": "code",
    "id": "SekQSSUgmVcj"
   },
   "outputs": [],
   "source": [
    "#train_dataset = tf.data.Dataset.from_generator(lambda : split_batch(X_train_corpus, y_train) ,\n",
    "#                               output_types=(tf.float32, tf.int32), \n",
    "#                               output_shapes=( tf.TensorShape([BATCH_SIZE, max_len, embedding_dim]), tf.TensorShape([None]) )  )"
   ]
  },
  {
   "cell_type": "code",
   "execution_count": 49,
   "metadata": {
    "colab": {},
    "colab_type": "code",
    "id": "0E59NwsqmVcl"
   },
   "outputs": [],
   "source": [
    "#list(train_dataset.take(4).as_numpy_iterator())[0][:]"
   ]
  },
  {
   "cell_type": "code",
   "execution_count": 50,
   "metadata": {
    "colab": {},
    "colab_type": "code",
    "id": "-Q19usJRmVcp"
   },
   "outputs": [],
   "source": [
    "train_dataset = tf.data.Dataset.from_generator(lambda : split_batch(X_train_corpus, y_train),\n",
    "                               output_types=(tf.float32, tf.int32), \n",
    "                               output_shapes=( tf.TensorShape([BATCH_SIZE, max_len, embedding_dim]), tf.TensorShape([None]) )  )\n",
    "\n",
    "test_dataset = tf.data.Dataset.from_generator(lambda : split_batch(X_text_corpus, y_test),\n",
    "                               output_types=(tf.float32, tf.int32), \n",
    "                               output_shapes=( tf.TensorShape([BATCH_SIZE, max_len, embedding_dim]), tf.TensorShape([None]) )  )"
   ]
  },
  {
   "cell_type": "code",
   "execution_count": 51,
   "metadata": {
    "colab": {
     "base_uri": "https://localhost:8080/",
     "height": 69
    },
    "colab_type": "code",
    "id": "D5xWyT-AmVcr",
    "outputId": "e1714f8d-6b21-4587-9f05-04d5dec3990f"
   },
   "outputs": [
    {
     "data": {
      "text/plain": [
       "0.0    8589\n",
       "1.0    3797\n",
       "Name: lable, dtype: int64"
      ]
     },
     "execution_count": 51,
     "metadata": {},
     "output_type": "execute_result"
    }
   ],
   "source": [
    "y_train.value_counts()"
   ]
  },
  {
   "cell_type": "code",
   "execution_count": 52,
   "metadata": {
    "colab": {
     "base_uri": "https://localhost:8080/",
     "height": 503
    },
    "colab_type": "code",
    "id": "VzHmf0YemVct",
    "outputId": "b84b3c69-1dcf-4fad-d764-3322fceb512a"
   },
   "outputs": [
    {
     "name": "stdout",
     "output_type": "stream",
     "text": [
      "WARNING:tensorflow:Large dropout rate: 0.6 (>0.5). In TensorFlow 2.x, dropout() uses dropout rate instead of keep_prob. Please ensure that this is intended.\n",
      "Model: \"sequential\"\n",
      "_________________________________________________________________\n",
      "Layer (type)                 Output Shape              Param #   \n",
      "=================================================================\n",
      "conv1d (Conv1D)              (None, 325, 16)           21616     \n",
      "_________________________________________________________________\n",
      "max_pooling1d (MaxPooling1D) (None, 321, 16)           0         \n",
      "_________________________________________________________________\n",
      "conv1d_1 (Conv1D)            (None, 321, 8)            904       \n",
      "_________________________________________________________________\n",
      "max_pooling1d_1 (MaxPooling1 (None, 317, 8)            0         \n",
      "_________________________________________________________________\n",
      "conv1d_2 (Conv1D)            (None, 317, 4)            164       \n",
      "_________________________________________________________________\n",
      "max_pooling1d_2 (MaxPooling1 (None, 313, 4)            0         \n",
      "_________________________________________________________________\n",
      "flatten (Flatten)            (None, 1252)              0         \n",
      "_________________________________________________________________\n",
      "dense (Dense)                (None, 8)                 10024     \n",
      "_________________________________________________________________\n",
      "dropout (Dropout)            (None, 8)                 0         \n",
      "_________________________________________________________________\n",
      "dense_1 (Dense)              (None, 1)                 9         \n",
      "=================================================================\n",
      "Total params: 32,717\n",
      "Trainable params: 32,717\n",
      "Non-trainable params: 0\n",
      "_________________________________________________________________\n"
     ]
    }
   ],
   "source": [
    "model = tf.keras.Sequential([\n",
    "    \n",
    "    #tf.keras.layers.Embedding(vocab_size, embedding_dim),\n",
    "\n",
    "    tf.keras.layers.Conv1D(kernel_size=9, filters=16, padding='same', activation='relu', input_shape=(max_len,embedding_dim)),\n",
    "    tf.keras.layers.MaxPool1D(pool_size=5, strides=1),\n",
    "    tf.keras.layers.Conv1D(kernel_size=7, filters=8, padding='same', activation='relu'),\n",
    "    tf.keras.layers.MaxPool1D(pool_size=5, strides=1),    \n",
    "    tf.keras.layers.Conv1D(kernel_size=5, filters=4, padding='same', activation='relu'),\n",
    "    tf.keras.layers.MaxPool1D(pool_size=5, strides=1),    \n",
    "  \n",
    "    tf.keras.layers.Flatten(),\n",
    "\n",
    "    tf.keras.layers.Dense(8, activation='relu', kernel_regularizer=tf.keras.regularizers.l2(0.999)),\n",
    "    tf.keras.layers.Dropout(.6),\n",
    "\n",
    "    tf.keras.layers.Dense(1, activation='sigmoid')\n",
    "\n",
    "\n",
    "])\n",
    "\n",
    "model.summary()"
   ]
  },
  {
   "cell_type": "code",
   "execution_count": 53,
   "metadata": {
    "colab": {},
    "colab_type": "code",
    "id": "-AygPGiPmVcv"
   },
   "outputs": [],
   "source": [
    "model.compile(loss=tf.keras.losses.BinaryCrossentropy(from_logits=False),\n",
    "              optimizer=tf.keras.optimizers.Adam(),\n",
    "              metrics=['accuracy'])"
   ]
  },
  {
   "cell_type": "code",
   "execution_count": 54,
   "metadata": {
    "colab": {
     "base_uri": "https://localhost:8080/",
     "height": 1000
    },
    "colab_type": "code",
    "id": "-Z6-eCrmmVcx",
    "outputId": "92d381ec-1c66-4acb-ee2f-7fc8144cb46f",
    "scrolled": true
   },
   "outputs": [
    {
     "name": "stdout",
     "output_type": "stream",
     "text": [
      "Epoch 1/10\n",
      "WARNING:tensorflow:Large dropout rate: 0.6 (>0.5). In TensorFlow 2.x, dropout() uses dropout rate instead of keep_prob. Please ensure that this is intended.\n",
      "WARNING:tensorflow:Large dropout rate: 0.6 (>0.5). In TensorFlow 2.x, dropout() uses dropout rate instead of keep_prob. Please ensure that this is intended.\n",
      "193/193 [==============================] - 443s 2s/step - loss: 2.2291 - accuracy: 0.6932 - val_loss: 0.0000e+00 - val_accuracy: 0.0000e+00\n",
      "Epoch 2/10\n",
      "193/193 [==============================] - 426s 2s/step - loss: 0.5698 - accuracy: 0.7224 - val_loss: 0.5270 - val_accuracy: 0.7530\n",
      "Epoch 3/10\n",
      "193/193 [==============================] - 280s 1s/step - loss: 0.5357 - accuracy: 0.7331 - val_loss: 0.5339 - val_accuracy: 0.7433\n",
      "Epoch 4/10\n",
      "193/193 [==============================] - 239s 1s/step - loss: 0.5061 - accuracy: 0.7468 - val_loss: 0.5199 - val_accuracy: 0.7656\n",
      "Epoch 5/10\n",
      "193/193 [==============================] - 237s 1s/step - loss: 0.4900 - accuracy: 0.7465 - val_loss: 0.5305 - val_accuracy: 0.7686\n",
      "Epoch 6/10\n",
      "193/193 [==============================] - 220s 1s/step - loss: 0.4512 - accuracy: 0.7558 - val_loss: 0.6520 - val_accuracy: 0.7582\n",
      "Epoch 7/10\n",
      "193/193 [==============================] - 184s 954ms/step - loss: 0.4315 - accuracy: 0.7613 - val_loss: 0.6254 - val_accuracy: 0.7701\n",
      "Epoch 8/10\n",
      "193/193 [==============================] - 184s 956ms/step - loss: 0.4168 - accuracy: 0.7659 - val_loss: 0.5464 - val_accuracy: 0.7314\n",
      "Epoch 9/10\n",
      "193/193 [==============================] - 184s 951ms/step - loss: 0.4149 - accuracy: 0.7604 - val_loss: 0.6554 - val_accuracy: 0.7589\n",
      "Epoch 10/10\n",
      "193/193 [==============================] - 184s 954ms/step - loss: 0.3802 - accuracy: 0.8021 - val_loss: 0.6685 - val_accuracy: 0.7760\n"
     ]
    }
   ],
   "source": [
    "early_stopping_callback = tf.keras.callbacks.EarlyStopping(patience=10, restore_best_weights=True, monitor='val_accuracy')\n",
    "checkpoint_callback = tf.keras.callbacks.ModelCheckpoint(\"5_1_waseem_deep_gensim_wordvecs_v5.h5\", save_best_only=True)\n",
    "\n",
    "history = model.fit(train_dataset, epochs=10,\n",
    "                    validation_data=test_dataset,\n",
    "              callbacks=[checkpoint_callback, early_stopping_callback])"
   ]
  },
  {
   "cell_type": "code",
   "execution_count": 55,
   "metadata": {
    "colab": {
     "base_uri": "https://localhost:8080/",
     "height": 139
    },
    "colab_type": "code",
    "id": "JL8BeWGEmVcy",
    "outputId": "4d4900c2-bcb3-4000-a819-0aeec3868b95"
   },
   "outputs": [
    {
     "data": {
      "text/plain": [
       "array([[0.05845416],\n",
       "       [0.12475255],\n",
       "       [0.20287004],\n",
       "       ...,\n",
       "       [0.5134787 ],\n",
       "       [0.6369705 ],\n",
       "       [0.42394423]], dtype=float32)"
      ]
     },
     "execution_count": 55,
     "metadata": {},
     "output_type": "execute_result"
    }
   ],
   "source": [
    "model.predict(test_dataset)"
   ]
  },
  {
   "cell_type": "code",
   "execution_count": 56,
   "metadata": {
    "colab": {},
    "colab_type": "code",
    "id": "D6SwYMrAmVc0"
   },
   "outputs": [],
   "source": [
    "sample_text_x, sample_test_y = next(iter(test_dataset))"
   ]
  },
  {
   "cell_type": "code",
   "execution_count": 57,
   "metadata": {
    "colab": {},
    "colab_type": "code",
    "id": "ED-E22NRmVc4"
   },
   "outputs": [],
   "source": [
    "test_pred = model.predict_classes(sample_text_x)"
   ]
  },
  {
   "cell_type": "code",
   "execution_count": 58,
   "metadata": {
    "colab": {
     "base_uri": "https://localhost:8080/",
     "height": 35
    },
    "colab_type": "code",
    "id": "fOZMaLNMmVc6",
    "outputId": "fce9f8d2-1176-4c93-f997-cb86b01110d0"
   },
   "outputs": [
    {
     "data": {
      "text/plain": [
       "TensorShape([64, 325, 150])"
      ]
     },
     "execution_count": 58,
     "metadata": {},
     "output_type": "execute_result"
    }
   ],
   "source": [
    "sample_text_x.shape"
   ]
  },
  {
   "cell_type": "code",
   "execution_count": 59,
   "metadata": {
    "colab": {
     "base_uri": "https://localhost:8080/",
     "height": 35
    },
    "colab_type": "code",
    "id": "qUsWtE4YmVc9",
    "outputId": "ffdecea4-5346-48fe-e3ed-232266308e63"
   },
   "outputs": [
    {
     "data": {
      "text/plain": [
       "(64, 1)"
      ]
     },
     "execution_count": 59,
     "metadata": {},
     "output_type": "execute_result"
    }
   ],
   "source": [
    "test_pred.shape"
   ]
  },
  {
   "cell_type": "code",
   "execution_count": 60,
   "metadata": {
    "colab": {},
    "colab_type": "code",
    "id": "tx_SSRJImVc-"
   },
   "outputs": [],
   "source": [
    "import matplotlib.pyplot as plt\n",
    "\n",
    "def plot_graphs(history, metric):\n",
    "    plt.plot(history.history[metric])\n",
    "    plt.plot(history.history['val_'+metric], '')\n",
    "    plt.xlabel(\"Epochs\")\n",
    "    plt.ylabel(metric)\n",
    "    plt.legend([metric, 'val_'+metric])\n",
    "    plt.show()"
   ]
  },
  {
   "cell_type": "code",
   "execution_count": 61,
   "metadata": {
    "colab": {
     "base_uri": "https://localhost:8080/",
     "height": 279
    },
    "colab_type": "code",
    "id": "KZFIcktomVdA",
    "outputId": "898af894-2acf-415c-9e75-f16a3bbed04c"
   },
   "outputs": [
    {
     "data": {
      "image/png": "[encoded data removed]",
      "text/plain": [
       "<Figure size 432x288 with 1 Axes>"
      ]
     },
     "metadata": {
      "needs_background": "light"
     },
     "output_type": "display_data"
    }
   ],
   "source": [
    "plot_graphs(history, 'accuracy')"
   ]
  },
  {
   "cell_type": "code",
   "execution_count": 62,
   "metadata": {
    "colab": {
     "base_uri": "https://localhost:8080/",
     "height": 279
    },
    "colab_type": "code",
    "id": "UudGTohbmVdC",
    "outputId": "7462533c-9eb8-450a-cda1-ba8e46572795"
   },
   "outputs": [
    {
     "data": {
      "image/png": "[encoded data removed]",
      "text/plain": [
       "<Figure size 432x288 with 1 Axes>"
      ]
     },
     "metadata": {
      "needs_background": "light"
     },
     "output_type": "display_data"
    }
   ],
   "source": [
    "plot_graphs(history, 'loss')"
   ]
  },
  {
   "cell_type": "code",
   "execution_count": 63,
   "metadata": {
    "colab": {},
    "colab_type": "code",
    "id": "kxQIzAarmVdD"
   },
   "outputs": [],
   "source": [
    "#model.save(\"5.1_waseem_deep_gensim_wordvecs_v3.h5\")"
   ]
  },
  {
   "cell_type": "code",
   "execution_count": 64,
   "metadata": {
    "colab": {
     "base_uri": "https://localhost:8080/",
     "height": 201
    },
    "colab_type": "code",
    "id": "V1N3jSfbmVdI",
    "outputId": "0c969ba1-6900-4caa-c9aa-8b56774a04c3"
   },
   "outputs": [
    {
     "ename": "TypeError",
     "evalue": "can't pickle _thread._local objects",
     "output_type": "error",
     "traceback": [
      "\u001b[1;31m---------------------------------------------------------------------------\u001b[0m",
      "\u001b[1;31mTypeError\u001b[0m                                 Traceback (most recent call last)",
      "\u001b[1;32m<ipython-input-64-c2810f2efcb0>\u001b[0m in \u001b[0;36m<module>\u001b[1;34m\u001b[0m\n\u001b[0;32m      1\u001b[0m \u001b[1;32mimport\u001b[0m \u001b[0mpickle\u001b[0m\u001b[1;33m\u001b[0m\u001b[1;33m\u001b[0m\u001b[0m\n\u001b[0;32m      2\u001b[0m \u001b[0mhist_file\u001b[0m \u001b[1;33m=\u001b[0m \u001b[1;34m'5.1_waseem_deep_gensim_wordvecs_v3_history.sav'\u001b[0m\u001b[1;33m\u001b[0m\u001b[1;33m\u001b[0m\u001b[0m\n\u001b[1;32m----> 3\u001b[1;33m \u001b[0mpickle\u001b[0m\u001b[1;33m.\u001b[0m\u001b[0mdump\u001b[0m\u001b[1;33m(\u001b[0m\u001b[0mhistory\u001b[0m\u001b[1;33m,\u001b[0m \u001b[0mopen\u001b[0m\u001b[1;33m(\u001b[0m\u001b[0mhist_file\u001b[0m\u001b[1;33m,\u001b[0m \u001b[1;34m'wb'\u001b[0m\u001b[1;33m)\u001b[0m\u001b[1;33m)\u001b[0m\u001b[1;33m\u001b[0m\u001b[1;33m\u001b[0m\u001b[0m\n\u001b[0m",
      "\u001b[1;31mTypeError\u001b[0m: can't pickle _thread._local objects"
     ]
    }
   ],
   "source": [
    "import pickle\n",
    "hist_file = '5.1_waseem_deep_gensim_wordvecs_v3_history.sav'\n",
    "pickle.dump(history, open(hist_file, 'wb'))"
   ]
  },
  {
   "cell_type": "code",
   "execution_count": null,
   "metadata": {
    "colab": {},
    "colab_type": "code",
    "id": "uRV8S3nkmVdM"
   },
   "outputs": [],
   "source": []
  },
  {
   "cell_type": "code",
   "execution_count": null,
   "metadata": {
    "colab": {},
    "colab_type": "code",
    "id": "cxQOtaUHmVdQ"
   },
   "outputs": [],
   "source": []
  },
  {
   "cell_type": "code",
   "execution_count": null,
   "metadata": {
    "colab": {},
    "colab_type": "code",
    "id": "TV76opJgmVdR"
   },
   "outputs": [],
   "source": []
  },
  {
   "cell_type": "code",
   "execution_count": null,
   "metadata": {
    "colab": {},
    "colab_type": "code",
    "id": "9EAp9WyxmVdU"
   },
   "outputs": [],
   "source": [
    "text_tokenizer = tf.keras.preprocessing.text.Tokenizer(filters='')\n",
    "fit_text = [\"The earth is an awesome place live\"]\n",
    "text_tokenizer.fit_on_texts(fit_text)\n",
    "\n",
    "#fit_on_texts fits on sentences when list of sentences is passed to fit_on_texts() function. \n",
    "#ie - fit_on_texts( [ sent1, sent2, sent3,....sentN ] )\n",
    "\n",
    "#Similarly, list of sentences/single sentence in a list must be passed into texts_to_sequences.\n",
    "test_text1 = \"The earth is an great place live\"\n",
    "test_text2 = \"The is my program\"\n",
    "sequences = text_tokenizer.texts_to_sequences([test_text1, test_text2])\n",
    "\n",
    "print('sequences : ',sequences,'\\n')\n",
    "\n",
    "print('word_index : ',text_tokenizer.word_index)\n",
    "#texts_to_sequences() returns list of list. ie - [ [] ]"
   ]
  },
  {
   "cell_type": "code",
   "execution_count": null,
   "metadata": {
    "colab": {},
    "colab_type": "code",
    "id": "88MGW1DwmVdW"
   },
   "outputs": [],
   "source": [
    "lst = [1] \n",
    "lst * 3"
   ]
  },
  {
   "cell_type": "code",
   "execution_count": null,
   "metadata": {
    "colab": {},
    "colab_type": "code",
    "id": "u-r3gTzbmVda"
   },
   "outputs": [],
   "source": [
    "import itertools\n",
    "\n",
    "def gen():\n",
    "    for i in itertools.count(1):\n",
    "        yield (np.array([ [i, i, i], [i, i, i] ]) , [1] * i)\n",
    "\n",
    "dataset = tf.data.Dataset.from_generator(\n",
    "     gen,\n",
    "     (tf.int64, tf.int64),\n",
    "     (tf.TensorShape([2, 3]), tf.TensorShape([None])) )\n",
    "\n",
    "list(dataset.take(4).as_numpy_iterator())"
   ]
  }
 ],
 "metadata": {
  "accelerator": "GPU",
  "colab": {
   "collapsed_sections": [],
   "name": "5.1_waseem_deep_gensim_wordvecs_v3.ipynb",
   "provenance": [],
   "toc_visible": true
  },
  "kernelspec": {
   "display_name": "Python 3",
   "language": "python",
   "name": "python3"
  },
  "language_info": {
   "codemirror_mode": {
    "name": "ipython",
    "version": 3
   },
   "file_extension": ".py",
   "mimetype": "text/x-python",
   "name": "python",
   "nbconvert_exporter": "python",
   "pygments_lexer": "ipython3",
   "version": "3.8.5"
  }
 },
 "nbformat": 4,
 "nbformat_minor": 1
}
