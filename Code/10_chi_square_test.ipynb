{
 "cells": [
  {
   "cell_type": "markdown",
   "metadata": {},
   "source": [
    "<h1><center>Bivariate Analysis</center></h1>\n",
    "<h1><center><u>\"Categorical & Categorical\"</u></center></h1>\n",
    "<h1><center>features</center></h1>\n",
    "<h2><center><u>Visualization, Hypothesis Testing</u></center></h2>"
   ]
  },
  {
   "cell_type": "code",
   "execution_count": 14,
   "metadata": {},
   "outputs": [],
   "source": [
    "import pandas as pd\n",
    "import numpy as np\n",
    "import matplotlib.pyplot as plt\n",
    "import seaborn as sns\n",
    "import scipy.stats as stats"
   ]
  },
  {
   "cell_type": "code",
   "execution_count": 15,
   "metadata": {},
   "outputs": [
    {
     "data": {
      "text/html": [
       "<div>\n",
       "<style scoped>\n",
       "    .dataframe tbody tr th:only-of-type {\n",
       "        vertical-align: middle;\n",
       "    }\n",
       "\n",
       "    .dataframe tbody tr th {\n",
       "        vertical-align: top;\n",
       "    }\n",
       "\n",
       "    .dataframe thead th {\n",
       "        text-align: right;\n",
       "    }\n",
       "</style>\n",
       "<table border=\"1\" class=\"dataframe\">\n",
       "  <thead>\n",
       "    <tr style=\"text-align: right;\">\n",
       "      <th></th>\n",
       "      <th>Emp #</th>\n",
       "      <th>Designation</th>\n",
       "      <th>Experience</th>\n",
       "      <th>Salary</th>\n",
       "      <th>AggrBehavScore</th>\n",
       "      <th>ActivityScore</th>\n",
       "      <th>LinesOfCode</th>\n",
       "      <th>Qualification</th>\n",
       "      <th>Degree</th>\n",
       "      <th>YearsOfStudy</th>\n",
       "      <th>EducationalInstitute</th>\n",
       "      <th>Gender</th>\n",
       "      <th>Empl_Band</th>\n",
       "    </tr>\n",
       "  </thead>\n",
       "  <tbody>\n",
       "    <tr>\n",
       "      <th>0</th>\n",
       "      <td>e1</td>\n",
       "      <td>Director</td>\n",
       "      <td>15.0</td>\n",
       "      <td>85000</td>\n",
       "      <td>0.33</td>\n",
       "      <td>2</td>\n",
       "      <td>1332</td>\n",
       "      <td>Grad</td>\n",
       "      <td>NaN</td>\n",
       "      <td>15.0</td>\n",
       "      <td>clg</td>\n",
       "      <td>M</td>\n",
       "      <td>A</td>\n",
       "    </tr>\n",
       "    <tr>\n",
       "      <th>1</th>\n",
       "      <td>e2</td>\n",
       "      <td>Jr.Dev</td>\n",
       "      <td>3.0</td>\n",
       "      <td>25000</td>\n",
       "      <td>5.67</td>\n",
       "      <td>16</td>\n",
       "      <td>6666</td>\n",
       "      <td>Grad</td>\n",
       "      <td>Btech</td>\n",
       "      <td>16.0</td>\n",
       "      <td>clg</td>\n",
       "      <td>F</td>\n",
       "      <td>C</td>\n",
       "    </tr>\n",
       "    <tr>\n",
       "      <th>2</th>\n",
       "      <td>e3</td>\n",
       "      <td>Sr.Dev</td>\n",
       "      <td>6.0</td>\n",
       "      <td>36000</td>\n",
       "      <td>2.33</td>\n",
       "      <td>7</td>\n",
       "      <td>3332</td>\n",
       "      <td>PostGrad</td>\n",
       "      <td>Msc</td>\n",
       "      <td>17.0</td>\n",
       "      <td>unv</td>\n",
       "      <td>M</td>\n",
       "      <td>B</td>\n",
       "    </tr>\n",
       "    <tr>\n",
       "      <th>3</th>\n",
       "      <td>e4</td>\n",
       "      <td>Jr.Dev</td>\n",
       "      <td>2.0</td>\n",
       "      <td>20000</td>\n",
       "      <td>9.00</td>\n",
       "      <td>24</td>\n",
       "      <td>9999</td>\n",
       "      <td>NaN</td>\n",
       "      <td>Mtech</td>\n",
       "      <td>18.0</td>\n",
       "      <td>NaN</td>\n",
       "      <td>F</td>\n",
       "      <td>C</td>\n",
       "    </tr>\n",
       "    <tr>\n",
       "      <th>4</th>\n",
       "      <td>e5</td>\n",
       "      <td>Sr.Dev</td>\n",
       "      <td>5.0</td>\n",
       "      <td>37000</td>\n",
       "      <td>3.00</td>\n",
       "      <td>9</td>\n",
       "      <td>3999</td>\n",
       "      <td>NaN</td>\n",
       "      <td>Btech</td>\n",
       "      <td>16.0</td>\n",
       "      <td>NaN</td>\n",
       "      <td>F</td>\n",
       "      <td>B</td>\n",
       "    </tr>\n",
       "  </tbody>\n",
       "</table>\n",
       "</div>"
      ],
      "text/plain": [
       "  Emp # Designation  Experience  Salary  AggrBehavScore  ActivityScore  \\\n",
       "0    e1    Director        15.0   85000            0.33              2   \n",
       "1    e2      Jr.Dev         3.0   25000            5.67             16   \n",
       "2    e3      Sr.Dev         6.0   36000            2.33              7   \n",
       "3    e4      Jr.Dev         2.0   20000            9.00             24   \n",
       "4    e5      Sr.Dev         5.0   37000            3.00              9   \n",
       "\n",
       "   LinesOfCode Qualification Degree  YearsOfStudy EducationalInstitute Gender  \\\n",
       "0         1332          Grad    NaN          15.0                  clg      M   \n",
       "1         6666          Grad  Btech          16.0                  clg      F   \n",
       "2         3332      PostGrad    Msc          17.0                  unv      M   \n",
       "3         9999           NaN  Mtech          18.0                  NaN      F   \n",
       "4         3999           NaN  Btech          16.0                  NaN      F   \n",
       "\n",
       "  Empl_Band  \n",
       "0         A  \n",
       "1         C  \n",
       "2         B  \n",
       "3         C  \n",
       "4         B  "
      ]
     },
     "execution_count": 15,
     "metadata": {},
     "output_type": "execute_result"
    }
   ],
   "source": [
    "employee_data=pd.read_csv('../Data/employee_data.csv')\n",
    "employee_data.head()"
   ]
  },
  {
   "cell_type": "markdown",
   "metadata": {},
   "source": [
    "### Let's try to analyze two categorical columns \"Gender\" as input and \"Designation\" as output feature"
   ]
  },
  {
   "cell_type": "code",
   "execution_count": 16,
   "metadata": {},
   "outputs": [
    {
     "data": {
      "text/html": [
       "<div>\n",
       "<style scoped>\n",
       "    .dataframe tbody tr th:only-of-type {\n",
       "        vertical-align: middle;\n",
       "    }\n",
       "\n",
       "    .dataframe tbody tr th {\n",
       "        vertical-align: top;\n",
       "    }\n",
       "\n",
       "    .dataframe thead th {\n",
       "        text-align: right;\n",
       "    }\n",
       "</style>\n",
       "<table border=\"1\" class=\"dataframe\">\n",
       "  <thead>\n",
       "    <tr style=\"text-align: right;\">\n",
       "      <th></th>\n",
       "      <th>Gender</th>\n",
       "      <th>Designation</th>\n",
       "    </tr>\n",
       "  </thead>\n",
       "  <tbody>\n",
       "    <tr>\n",
       "      <th>0</th>\n",
       "      <td>M</td>\n",
       "      <td>Director</td>\n",
       "    </tr>\n",
       "    <tr>\n",
       "      <th>1</th>\n",
       "      <td>F</td>\n",
       "      <td>Jr.Dev</td>\n",
       "    </tr>\n",
       "    <tr>\n",
       "      <th>2</th>\n",
       "      <td>M</td>\n",
       "      <td>Sr.Dev</td>\n",
       "    </tr>\n",
       "    <tr>\n",
       "      <th>3</th>\n",
       "      <td>F</td>\n",
       "      <td>Jr.Dev</td>\n",
       "    </tr>\n",
       "    <tr>\n",
       "      <th>4</th>\n",
       "      <td>F</td>\n",
       "      <td>Sr.Dev</td>\n",
       "    </tr>\n",
       "  </tbody>\n",
       "</table>\n",
       "</div>"
      ],
      "text/plain": [
       "  Gender Designation\n",
       "0      M    Director\n",
       "1      F      Jr.Dev\n",
       "2      M      Sr.Dev\n",
       "3      F      Jr.Dev\n",
       "4      F      Sr.Dev"
      ]
     },
     "execution_count": 16,
     "metadata": {},
     "output_type": "execute_result"
    }
   ],
   "source": [
    "employee_data_chi_square = employee_data.loc[:, ['Gender','Designation']]\n",
    "employee_data_chi_square.head()"
   ]
  },
  {
   "cell_type": "code",
   "execution_count": 17,
   "metadata": {},
   "outputs": [
    {
     "data": {
      "text/plain": [
       "array(['M', 'F'], dtype=object)"
      ]
     },
     "execution_count": 17,
     "metadata": {},
     "output_type": "execute_result"
    }
   ],
   "source": [
    "employee_data_chi_square['Gender'].unique()"
   ]
  },
  {
   "cell_type": "code",
   "execution_count": 18,
   "metadata": {},
   "outputs": [
    {
     "data": {
      "text/plain": [
       "<matplotlib.axes._subplots.AxesSubplot at 0x1444d47f6d0>"
      ]
     },
     "execution_count": 18,
     "metadata": {},
     "output_type": "execute_result"
    },
    {
     "data": {
      "image/png": "[encoded data removed]",
      "text/plain": [
       "<Figure size 432x288 with 1 Axes>"
      ]
     },
     "metadata": {
      "needs_background": "light"
     },
     "output_type": "display_data"
    }
   ],
   "source": [
    "employee_data_chi_square['Gender'].value_counts().plot(kind='bar')"
   ]
  },
  {
   "cell_type": "code",
   "execution_count": 19,
   "metadata": {},
   "outputs": [
    {
     "data": {
      "text/plain": [
       "array(['Director', 'Jr.Dev', 'Sr.Dev', 'Manager', 'Sr.Analyst',\n",
       "       'Sr.Manager', 'Analyst'], dtype=object)"
      ]
     },
     "execution_count": 19,
     "metadata": {},
     "output_type": "execute_result"
    }
   ],
   "source": [
    "employee_data_chi_square['Designation'].unique()"
   ]
  },
  {
   "cell_type": "code",
   "execution_count": 20,
   "metadata": {},
   "outputs": [
    {
     "data": {
      "text/plain": [
       "<matplotlib.axes._subplots.AxesSubplot at 0x1444d4f7730>"
      ]
     },
     "execution_count": 20,
     "metadata": {},
     "output_type": "execute_result"
    },
    {
     "data": {
      "image/png": "[encoded data removed]",
      "text/plain": [
       "<Figure size 432x288 with 1 Axes>"
      ]
     },
     "metadata": {
      "needs_background": "light"
     },
     "output_type": "display_data"
    }
   ],
   "source": [
    "employee_data_chi_square['Designation'].value_counts().plot(kind='bar')"
   ]
  },
  {
   "cell_type": "markdown",
   "metadata": {},
   "source": [
    "<h1><center><u>Visualization</u></center></h1>"
   ]
  },
  {
   "cell_type": "markdown",
   "metadata": {},
   "source": [
    "## Let's try to understand the support for women in this orgnization (Empowering women at workplace)\n",
    "  * How much percentage of women are present in higher management roles (Manager and above)?.\n",
    "  \n",
    "  \n",
    "### Need to draw a bar graph between \"Gender\" and \"Designation\", first we need to answer below questions to do so.\n",
    "* Q1) What is the type of explanatory variable (Categorical/Quantitative) ?\n",
    "  * **Ans:** \"Gender\" is a Categorical variable\n",
    "  \n",
    "\n",
    "* Q2) What is the type of the response variable (Categorical/Quantitative) ?\n",
    "  * **Ans:** \"Designation\" is a Categorical variable\n",
    "  \n",
    "  \n",
    "* Q3) If response variable is Categorical - find out how many categories are in it ?. \n",
    "  * **<font color='red'>Note:</font>** <u>\"Only Two Categories Should Be Present in Response Variable\"</u> to generate a BAR graph - the response variable must be **collapsed to bi-variate**. \n",
    "  * **Ans:** As we are trying to understand the percentage of \"Managers and above designations (1)\" vs \"below Manager designations (0)\" "
   ]
  },
  {
   "cell_type": "code",
   "execution_count": 21,
   "metadata": {},
   "outputs": [
    {
     "name": "stdout",
     "output_type": "stream",
     "text": [
      "Gender column - datatype :  object\n",
      "Designation column - datatype :  object\n",
      "Number of categories in Designation column :  (7,)\n"
     ]
    }
   ],
   "source": [
    "print(\"Gender column - datatype : \", employee_data_chi_square['Gender'].dtype)\n",
    "print(\"Designation column - datatype : \", employee_data_chi_square['Designation'].dtype)\n",
    "\n",
    "print(\"Number of categories in Designation column : \", employee_data_chi_square['Designation'].unique().shape)"
   ]
  },
  {
   "cell_type": "markdown",
   "metadata": {},
   "source": [
    "### Collapsed \"Designation\" to 2 categories (0, 1) "
   ]
  },
  {
   "cell_type": "code",
   "execution_count": 22,
   "metadata": {},
   "outputs": [],
   "source": [
    "def mapDesignationToBinary(designation):\n",
    "    if(designation in ['Director', 'Manager', 'Sr.Analyst', 'Sr.Manager']):\n",
    "        return 1\n",
    "    else:\n",
    "        return 0"
   ]
  },
  {
   "cell_type": "code",
   "execution_count": 23,
   "metadata": {},
   "outputs": [],
   "source": [
    "employee_data_chi_square[\"Designation_binary\"] = \\\n",
    "                employee_data_chi_square[\"Designation\"].apply(lambda x: mapDesignationToBinary(x))"
   ]
  },
  {
   "cell_type": "code",
   "execution_count": 24,
   "metadata": {},
   "outputs": [
    {
     "data": {
      "text/plain": [
       "1    20\n",
       "0    12\n",
       "Name: Designation_binary, dtype: int64"
      ]
     },
     "execution_count": 24,
     "metadata": {},
     "output_type": "execute_result"
    }
   ],
   "source": [
    "employee_data_chi_square[\"Designation_binary\"].value_counts()"
   ]
  },
  {
   "cell_type": "markdown",
   "metadata": {},
   "source": [
    "### Bar height shows the percentage of 1's in each category(M/F), it seems women in manageral roles are less compared to men."
   ]
  },
  {
   "cell_type": "code",
   "execution_count": 25,
   "metadata": {},
   "outputs": [
    {
     "data": {
      "text/plain": [
       "Text(6.799999999999997, 0.5, 'Percentage of Managers')"
      ]
     },
     "execution_count": 25,
     "metadata": {},
     "output_type": "execute_result"
    },
    {
     "data": {
      "image/png": "[encoded data removed]",
      "text/plain": [
       "<Figure size 360x360 with 1 Axes>"
      ]
     },
     "metadata": {
      "needs_background": "light"
     },
     "output_type": "display_data"
    }
   ],
   "source": [
    "sns.catplot(data=employee_data_chi_square, \n",
    "            x=\"Gender\", y=\"Designation_binary\", \n",
    "            kind=\"bar\", ci=None)\n",
    "plt.xlabel(\"Genger\")\n",
    "plt.ylabel(\"Percentage of Managers\")"
   ]
  },
  {
   "cell_type": "markdown",
   "metadata": {},
   "source": [
    "### Non-Manager percentages"
   ]
  },
  {
   "cell_type": "code",
   "execution_count": 26,
   "metadata": {},
   "outputs": [],
   "source": [
    "def mapDesignationToBinary(designation):\n",
    "    if(designation in ['Jr.Dev', 'Sr.Dev', 'Analyst']):\n",
    "        return 1\n",
    "    else:\n",
    "        return 0"
   ]
  },
  {
   "cell_type": "code",
   "execution_count": 27,
   "metadata": {},
   "outputs": [],
   "source": [
    "employee_data_chi_square[\"Designation_binary\"] = \\\n",
    "                employee_data_chi_square[\"Designation\"].apply(lambda x: mapDesignationToBinary(x))"
   ]
  },
  {
   "cell_type": "code",
   "execution_count": 28,
   "metadata": {},
   "outputs": [
    {
     "data": {
      "text/plain": [
       "0    20\n",
       "1    12\n",
       "Name: Designation_binary, dtype: int64"
      ]
     },
     "execution_count": 28,
     "metadata": {},
     "output_type": "execute_result"
    }
   ],
   "source": [
    "employee_data_chi_square[\"Designation_binary\"].value_counts()"
   ]
  },
  {
   "cell_type": "code",
   "execution_count": 29,
   "metadata": {},
   "outputs": [
    {
     "data": {
      "text/plain": [
       "Text(0.42499999999999716, 0.5, 'Percentage of Managers')"
      ]
     },
     "execution_count": 29,
     "metadata": {},
     "output_type": "execute_result"
    },
    {
     "data": {
      "image/png": "[encoded data removed]",
      "text/plain": [
       "<Figure size 360x360 with 1 Axes>"
      ]
     },
     "metadata": {
      "needs_background": "light"
     },
     "output_type": "display_data"
    }
   ],
   "source": [
    "sns.catplot(data=employee_data_chi_square, x=\"Gender\", y=\"Designation_binary\", kind=\"bar\", ci=None)\n",
    "plt.xlabel(\"Genger\")\n",
    "plt.ylabel(\"Percentage of Managers\")"
   ]
  },
  {
   "cell_type": "markdown",
   "metadata": {},
   "source": [
    "<h1><center><u>Hypothesis Testing</u></center></h1>"
   ]
  },
  {
   "cell_type": "markdown",
   "metadata": {},
   "source": [
    "## Can we use \"Gender\" to predict \"Designation\" ?. Chi-Square Test for Independence can answer this question as \"Gender\" and \"Designation\" are categorical features."
   ]
  },
  {
   "cell_type": "markdown",
   "metadata": {},
   "source": [
    "### Hypothesis Testing : Chi-Square Test\n",
    "* **Null Hypothesis (H0):** \"Gender\" of the employee and \"Designation\" are independent\n",
    "* **Alternate Hypothesis (H1):** \"Gender\" of the employee and \"Designation\" are not independent(dependent)."
   ]
  },
  {
   "cell_type": "code",
   "execution_count": 30,
   "metadata": {},
   "outputs": [
    {
     "data": {
      "text/html": [
       "<div>\n",
       "<style scoped>\n",
       "    .dataframe tbody tr th:only-of-type {\n",
       "        vertical-align: middle;\n",
       "    }\n",
       "\n",
       "    .dataframe tbody tr th {\n",
       "        vertical-align: top;\n",
       "    }\n",
       "\n",
       "    .dataframe thead th {\n",
       "        text-align: right;\n",
       "    }\n",
       "</style>\n",
       "<table border=\"1\" class=\"dataframe\">\n",
       "  <thead>\n",
       "    <tr style=\"text-align: right;\">\n",
       "      <th>Designation</th>\n",
       "      <th>Analyst</th>\n",
       "      <th>Director</th>\n",
       "      <th>Jr.Dev</th>\n",
       "      <th>Manager</th>\n",
       "      <th>Sr.Analyst</th>\n",
       "      <th>Sr.Dev</th>\n",
       "      <th>Sr.Manager</th>\n",
       "      <th>All</th>\n",
       "    </tr>\n",
       "    <tr>\n",
       "      <th>Gender</th>\n",
       "      <th></th>\n",
       "      <th></th>\n",
       "      <th></th>\n",
       "      <th></th>\n",
       "      <th></th>\n",
       "      <th></th>\n",
       "      <th></th>\n",
       "      <th></th>\n",
       "    </tr>\n",
       "  </thead>\n",
       "  <tbody>\n",
       "    <tr>\n",
       "      <th>F</th>\n",
       "      <td>2</td>\n",
       "      <td>0</td>\n",
       "      <td>2</td>\n",
       "      <td>2</td>\n",
       "      <td>4</td>\n",
       "      <td>2</td>\n",
       "      <td>2</td>\n",
       "      <td>14</td>\n",
       "    </tr>\n",
       "    <tr>\n",
       "      <th>M</th>\n",
       "      <td>4</td>\n",
       "      <td>2</td>\n",
       "      <td>0</td>\n",
       "      <td>4</td>\n",
       "      <td>5</td>\n",
       "      <td>2</td>\n",
       "      <td>1</td>\n",
       "      <td>18</td>\n",
       "    </tr>\n",
       "    <tr>\n",
       "      <th>All</th>\n",
       "      <td>6</td>\n",
       "      <td>2</td>\n",
       "      <td>2</td>\n",
       "      <td>6</td>\n",
       "      <td>9</td>\n",
       "      <td>4</td>\n",
       "      <td>3</td>\n",
       "      <td>32</td>\n",
       "    </tr>\n",
       "  </tbody>\n",
       "</table>\n",
       "</div>"
      ],
      "text/plain": [
       "Designation  Analyst  Director  Jr.Dev  Manager  Sr.Analyst  Sr.Dev  \\\n",
       "Gender                                                                \n",
       "F                  2         0       2        2           4       2   \n",
       "M                  4         2       0        4           5       2   \n",
       "All                6         2       2        6           9       4   \n",
       "\n",
       "Designation  Sr.Manager  All  \n",
       "Gender                        \n",
       "F                     2   14  \n",
       "M                     1   18  \n",
       "All                   3   32  "
      ]
     },
     "execution_count": 30,
     "metadata": {},
     "output_type": "execute_result"
    }
   ],
   "source": [
    "cros_tab_gen_desig = pd.crosstab(employee_data_chi_square.Gender, employee_data_chi_square.Designation, margins = True)\n",
    "cros_tab_gen_desig"
   ]
  },
  {
   "cell_type": "code",
   "execution_count": 31,
   "metadata": {},
   "outputs": [],
   "source": [
    "chi2_value, p, dof, ex_table = stats.chi2_contingency(cros_tab_gen_desig, correction=False)"
   ]
  },
  {
   "cell_type": "code",
   "execution_count": 32,
   "metadata": {},
   "outputs": [
    {
     "name": "stdout",
     "output_type": "stream",
     "text": [
      "Expected Values:  [[ 2.625   0.875   0.875   2.625   3.9375  1.75    1.3125 14.    ]\n",
      " [ 3.375   1.125   1.125   3.375   5.0625  2.25    1.6875 18.    ]\n",
      " [ 6.      2.      2.      6.      9.      4.      3.     32.    ]]\n"
     ]
    }
   ],
   "source": [
    "print(\"Expected Values: \", ex_table)"
   ]
  },
  {
   "cell_type": "code",
   "execution_count": 33,
   "metadata": {},
   "outputs": [
    {
     "name": "stdout",
     "output_type": "stream",
     "text": [
      "P - Values:  0.9801175893588029\n"
     ]
    }
   ],
   "source": [
    "print(\"P - Values: \", p)"
   ]
  },
  {
   "cell_type": "code",
   "execution_count": 34,
   "metadata": {},
   "outputs": [
    {
     "data": {
      "text/plain": [
       "5.361552028218695"
      ]
     },
     "execution_count": 34,
     "metadata": {},
     "output_type": "execute_result"
    }
   ],
   "source": [
    "chi2_value"
   ]
  },
  {
   "cell_type": "code",
   "execution_count": 35,
   "metadata": {},
   "outputs": [
    {
     "name": "stdout",
     "output_type": "stream",
     "text": [
      "degrees of freedom :  14\n"
     ]
    }
   ],
   "source": [
    "print('degrees of freedom : ', dof)"
   ]
  },
  {
   "cell_type": "markdown",
   "metadata": {},
   "source": [
    "* P-Value 0.98 >0.05 (so calculated chi2-value greater than the p-value (level of marginal significance when null hypothesis is true))\n",
    "* We fail to reject null hypothesis so we **accept our null hypothesis H0**\n",
    "* i.e **Gender and designation are independent.**"
   ]
  },
  {
   "cell_type": "markdown",
   "metadata": {},
   "source": [
    "### How does it (Chi-Square Test for Independence) working ? - please refer to ppt."
   ]
  },
  {
   "cell_type": "markdown",
   "metadata": {},
   "source": [
    "## Chi-Square Test for Independence when Independent Variable has more than 2 Categories"
   ]
  },
  {
   "cell_type": "markdown",
   "metadata": {},
   "source": [
    "### Hypothesis Testing : Chi-Square Test\n",
    "* **Null Hypothesis (H0):** \"Empl_Band\" of the employee and \"Designation\" are independent\n",
    "* **Alternate Hypothesis (H1):** \"Empl_Band\" of the employee and \"Designation\" are not independent(dependent)."
   ]
  },
  {
   "cell_type": "code",
   "execution_count": 20,
   "metadata": {},
   "outputs": [
    {
     "data": {
      "text/plain": [
       "Empl_Band\n",
       "A    14\n",
       "B    10\n",
       "C     8\n",
       "dtype: int64"
      ]
     },
     "execution_count": 20,
     "metadata": {},
     "output_type": "execute_result"
    }
   ],
   "source": [
    "employee_data.groupby('Empl_Band').size()"
   ]
  },
  {
   "cell_type": "code",
   "execution_count": 21,
   "metadata": {},
   "outputs": [
    {
     "data": {
      "text/html": [
       "<div>\n",
       "<style scoped>\n",
       "    .dataframe tbody tr th:only-of-type {\n",
       "        vertical-align: middle;\n",
       "    }\n",
       "\n",
       "    .dataframe tbody tr th {\n",
       "        vertical-align: top;\n",
       "    }\n",
       "\n",
       "    .dataframe thead th {\n",
       "        text-align: right;\n",
       "    }\n",
       "</style>\n",
       "<table border=\"1\" class=\"dataframe\">\n",
       "  <thead>\n",
       "    <tr style=\"text-align: right;\">\n",
       "      <th></th>\n",
       "      <th>Empl_Band</th>\n",
       "      <th>Designation</th>\n",
       "    </tr>\n",
       "  </thead>\n",
       "  <tbody>\n",
       "    <tr>\n",
       "      <td>0</td>\n",
       "      <td>A</td>\n",
       "      <td>Director</td>\n",
       "    </tr>\n",
       "    <tr>\n",
       "      <td>1</td>\n",
       "      <td>C</td>\n",
       "      <td>Jr.Dev</td>\n",
       "    </tr>\n",
       "    <tr>\n",
       "      <td>2</td>\n",
       "      <td>B</td>\n",
       "      <td>Sr.Dev</td>\n",
       "    </tr>\n",
       "    <tr>\n",
       "      <td>3</td>\n",
       "      <td>C</td>\n",
       "      <td>Jr.Dev</td>\n",
       "    </tr>\n",
       "    <tr>\n",
       "      <td>4</td>\n",
       "      <td>B</td>\n",
       "      <td>Sr.Dev</td>\n",
       "    </tr>\n",
       "  </tbody>\n",
       "</table>\n",
       "</div>"
      ],
      "text/plain": [
       "  Empl_Band Designation\n",
       "0         A    Director\n",
       "1         C      Jr.Dev\n",
       "2         B      Sr.Dev\n",
       "3         C      Jr.Dev\n",
       "4         B      Sr.Dev"
      ]
     },
     "execution_count": 21,
     "metadata": {},
     "output_type": "execute_result"
    }
   ],
   "source": [
    "employee_data_chi_square2 = employee_data.loc[:, ['Empl_Band','Designation']]\n",
    "employee_data_chi_square2.head()"
   ]
  },
  {
   "cell_type": "code",
   "execution_count": 22,
   "metadata": {},
   "outputs": [
    {
     "data": {
      "text/html": [
       "<div>\n",
       "<style scoped>\n",
       "    .dataframe tbody tr th:only-of-type {\n",
       "        vertical-align: middle;\n",
       "    }\n",
       "\n",
       "    .dataframe tbody tr th {\n",
       "        vertical-align: top;\n",
       "    }\n",
       "\n",
       "    .dataframe thead th {\n",
       "        text-align: right;\n",
       "    }\n",
       "</style>\n",
       "<table border=\"1\" class=\"dataframe\">\n",
       "  <thead>\n",
       "    <tr style=\"text-align: right;\">\n",
       "      <th>Designation</th>\n",
       "      <th>Analyst</th>\n",
       "      <th>Director</th>\n",
       "      <th>Jr.Dev</th>\n",
       "      <th>Manager</th>\n",
       "      <th>Sr.Analyst</th>\n",
       "      <th>Sr.Dev</th>\n",
       "      <th>Sr.Manager</th>\n",
       "      <th>All</th>\n",
       "    </tr>\n",
       "    <tr>\n",
       "      <th>Empl_Band</th>\n",
       "      <th></th>\n",
       "      <th></th>\n",
       "      <th></th>\n",
       "      <th></th>\n",
       "      <th></th>\n",
       "      <th></th>\n",
       "      <th></th>\n",
       "      <th></th>\n",
       "    </tr>\n",
       "  </thead>\n",
       "  <tbody>\n",
       "    <tr>\n",
       "      <td>A</td>\n",
       "      <td>0</td>\n",
       "      <td>2</td>\n",
       "      <td>0</td>\n",
       "      <td>0</td>\n",
       "      <td>9</td>\n",
       "      <td>0</td>\n",
       "      <td>3</td>\n",
       "      <td>14</td>\n",
       "    </tr>\n",
       "    <tr>\n",
       "      <td>B</td>\n",
       "      <td>0</td>\n",
       "      <td>0</td>\n",
       "      <td>0</td>\n",
       "      <td>6</td>\n",
       "      <td>0</td>\n",
       "      <td>4</td>\n",
       "      <td>0</td>\n",
       "      <td>10</td>\n",
       "    </tr>\n",
       "    <tr>\n",
       "      <td>C</td>\n",
       "      <td>6</td>\n",
       "      <td>0</td>\n",
       "      <td>2</td>\n",
       "      <td>0</td>\n",
       "      <td>0</td>\n",
       "      <td>0</td>\n",
       "      <td>0</td>\n",
       "      <td>8</td>\n",
       "    </tr>\n",
       "    <tr>\n",
       "      <td>All</td>\n",
       "      <td>6</td>\n",
       "      <td>2</td>\n",
       "      <td>2</td>\n",
       "      <td>6</td>\n",
       "      <td>9</td>\n",
       "      <td>4</td>\n",
       "      <td>3</td>\n",
       "      <td>32</td>\n",
       "    </tr>\n",
       "  </tbody>\n",
       "</table>\n",
       "</div>"
      ],
      "text/plain": [
       "Designation  Analyst  Director  Jr.Dev  Manager  Sr.Analyst  Sr.Dev  \\\n",
       "Empl_Band                                                             \n",
       "A                  0         2       0        0           9       0   \n",
       "B                  0         0       0        6           0       4   \n",
       "C                  6         0       2        0           0       0   \n",
       "All                6         2       2        6           9       4   \n",
       "\n",
       "Designation  Sr.Manager  All  \n",
       "Empl_Band                     \n",
       "A                     3   14  \n",
       "B                     0   10  \n",
       "C                     0    8  \n",
       "All                   3   32  "
      ]
     },
     "execution_count": 22,
     "metadata": {},
     "output_type": "execute_result"
    }
   ],
   "source": [
    "cross_tab2_employ_desig = pd.crosstab(employee_data_chi_square2.Empl_Band, employee_data_chi_square2.Designation, margins = True)\n",
    "cross_tab2_employ_desig"
   ]
  },
  {
   "cell_type": "code",
   "execution_count": 23,
   "metadata": {},
   "outputs": [
    {
     "data": {
      "text/plain": [
       "(64.0,\n",
       " 3.1109581681732875e-06,\n",
       " 21,\n",
       " array([[ 2.625 ,  0.875 ,  0.875 ,  2.625 ,  3.9375,  1.75  ,  1.3125,\n",
       "         14.    ],\n",
       "        [ 1.875 ,  0.625 ,  0.625 ,  1.875 ,  2.8125,  1.25  ,  0.9375,\n",
       "         10.    ],\n",
       "        [ 1.5   ,  0.5   ,  0.5   ,  1.5   ,  2.25  ,  1.    ,  0.75  ,\n",
       "          8.    ],\n",
       "        [ 6.    ,  2.    ,  2.    ,  6.    ,  9.    ,  4.    ,  3.    ,\n",
       "         32.    ]]))"
      ]
     },
     "execution_count": 23,
     "metadata": {},
     "output_type": "execute_result"
    }
   ],
   "source": [
    "chi2_value2 = stats.chi2_contingency(cross_tab2_employ_desig)\n",
    "chi2_value2"
   ]
  },
  {
   "cell_type": "markdown",
   "metadata": {},
   "source": [
    "### Above outcome shows that P-Value 0.000003 < 0.05, by looking at this we may reject the null hypothersis.\n",
    "### We may conclude \"Empl_Band\" and \"Designation\" are dependent on each other.\n",
    "\n",
    "### <font color='red'>Caution: </font> The P-Value is unreliable as there are more than 2 categories in \"Empl_Band\" column. We should check significance againest pairs of categories (ex: 'A' to 'B', 'A' to 'C' and 'B' to 'C')\n",
    "### As P-Value is unreliable, we may do \"Type - I\" or \"Type - II\" error.\n",
    "  * Type I Error : An in-correct decision made \"to reject Null Hypothesis\" \n",
    "  * Type II Error : An in-correct decision made \"to accept Null Hypothesis\".\n",
    "  \n",
    "### In our case we might have done a \"Type - I\" error.  "
   ]
  },
  {
   "cell_type": "markdown",
   "metadata": {},
   "source": [
    "### To protect against \"Type - I \" or \"Type - II\" error, \n",
    "  * a) We use bonferroni adjustment for significance level\n",
    "  * b) The significance level is used in PAIR-WISE Chi-Square Test.\n",
    "\n",
    "### Bonferroni Adjustment for actual P-Value (0.05)\n",
    "  * Number of pairs out of \"Empl_Band\" categories is 3c2 = 3\n",
    "  * Adjusted P-Value = 0.05/3 = 0.0167."
   ]
  },
  {
   "cell_type": "code",
   "execution_count": 24,
   "metadata": {},
   "outputs": [
    {
     "name": "stdout",
     "output_type": "stream",
     "text": [
      "calculating chi-square test for \"A\"  - \"C\"PAIR\n",
      "Reject null hypothesis\n",
      "----------------------------------------------------------------------------------------------------\n",
      "calculating chi-square test for \"A\"  - \"B\"PAIR\n",
      "Reject null hypothesis\n",
      "----------------------------------------------------------------------------------------------------\n",
      "calculating chi-square test for \"C\"  - \"B\"PAIR\n",
      "Accept Null hypothesis\n",
      "----------------------------------------------------------------------------------------------------\n"
     ]
    }
   ],
   "source": [
    "uniq_cats = employee_data_chi_square2['Empl_Band'].unique()\n",
    "seen_cat = []\n",
    "accept_nh_list = []\n",
    "fail_to_accept_nh_list = []\n",
    "for cat1 in uniq_cats:\n",
    "    seen_cat.append(cat1)\n",
    "    for cat2 in uniq_cats:\n",
    "        if (cat2 not in seen_cat):\n",
    "            print(\"calculating chi-square test for \\\"{0}\\\"  - \\\"{1}\\\"PAIR\".format(cat1, cat2))\n",
    "            df2_copy = employee_data_chi_square2.copy()\n",
    "            df2_copy['Empl_Band'] = employee_data_chi_square2['Empl_Band'].map({cat1:cat1, cat2:cat2})\n",
    "            ct = pd.crosstab(df2_copy.Empl_Band, df2_copy.Designation, margins=True)\n",
    "            c2table = stats.chi2_contingency(ct)\n",
    "            pair = cat1, \"-\", cat2\n",
    "            if (c2table[1] < 0.0167):\n",
    "                print(\"Reject null hypothesis\")\n",
    "                fail_to_accept_nh_list.append(pair)    \n",
    "            else:\n",
    "                print('Accept Null hypothesis')\n",
    "                accept_nh_list.append(pair)\n",
    "            print(100*'-')"
   ]
  },
  {
   "cell_type": "code",
   "execution_count": null,
   "metadata": {},
   "outputs": [],
   "source": []
  }
 ],
 "metadata": {
  "kernelspec": {
   "display_name": "Python 3",
   "language": "python",
   "name": "python3"
  },
  "language_info": {
   "codemirror_mode": {
    "name": "ipython",
    "version": 3
   },
   "file_extension": ".py",
   "mimetype": "text/x-python",
   "name": "python",
   "nbconvert_exporter": "python",
   "pygments_lexer": "ipython3",
   "version": "3.8.3"
  }
 },
 "nbformat": 4,
 "nbformat_minor": 2
}
