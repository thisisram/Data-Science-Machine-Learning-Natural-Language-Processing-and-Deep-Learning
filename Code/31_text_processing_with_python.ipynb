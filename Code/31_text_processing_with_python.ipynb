{
 "cells": [
  {
   "cell_type": "markdown",
   "metadata": {},
   "source": [
    "## Natural Language Processing\n",
    "  * Natural language processing (NLP) is an area of computer science and artificial intelligence concerned with the interactions between computers and human (natural) languages, in particular how to program computers to process and analyze large amounts of natural language data.\n",
    "  \n",
    "## Computer Linguistics\n",
    "  * Computational linguistics is an interdisciplinary field concerned with the statistical or rule-based modeling of natural language from a computational perspective, as well as the study of appropriate computational approaches to linguistic questions.\n",
    "  * Example: computers and algorithms to perform linguistic tasks such as parts-of-speech tagging. \n",
    "\n",
    "## Text manipulation in Python"
   ]
  },
  {
   "cell_type": "code",
   "execution_count": 1,
   "metadata": {},
   "outputs": [],
   "source": [
    "import pandas as pd\n",
    "import numpy as np\n",
    "import matplotlib.pyplot as plt"
   ]
  },
  {
   "cell_type": "code",
   "execution_count": 2,
   "metadata": {},
   "outputs": [],
   "source": [
    "s = 'Kids are playing in ground. The ground is very neetly maintained'"
   ]
  },
  {
   "cell_type": "markdown",
   "metadata": {},
   "source": [
    "#### string 'count' method counts number of occurences of a given character or word."
   ]
  },
  {
   "cell_type": "code",
   "execution_count": 3,
   "metadata": {},
   "outputs": [
    {
     "name": "stdout",
     "output_type": "stream",
     "text": [
      "4\n"
     ]
    }
   ],
   "source": [
    "print(s.count('a'))"
   ]
  },
  {
   "cell_type": "code",
   "execution_count": 4,
   "metadata": {},
   "outputs": [
    {
     "name": "stdout",
     "output_type": "stream",
     "text": [
      "2\n"
     ]
    }
   ],
   "source": [
    "print(s.count('ground'))"
   ]
  },
  {
   "cell_type": "markdown",
   "metadata": {},
   "source": [
    "#### string 'find' method returns character-index of the first occurence of a given character or word."
   ]
  },
  {
   "cell_type": "code",
   "execution_count": 5,
   "metadata": {},
   "outputs": [
    {
     "name": "stdout",
     "output_type": "stream",
     "text": [
      "28\n"
     ]
    }
   ],
   "source": [
    "print(s.find('The'))"
   ]
  },
  {
   "cell_type": "code",
   "execution_count": 6,
   "metadata": {},
   "outputs": [
    {
     "name": "stdout",
     "output_type": "stream",
     "text": [
      "-1\n"
     ]
    }
   ],
   "source": [
    "print(s.find('kids'))"
   ]
  },
  {
   "cell_type": "code",
   "execution_count": 7,
   "metadata": {},
   "outputs": [
    {
     "name": "stdout",
     "output_type": "stream",
     "text": [
      "20\n"
     ]
    }
   ],
   "source": [
    "print(s.find('ground'))"
   ]
  },
  {
   "cell_type": "code",
   "execution_count": 8,
   "metadata": {},
   "outputs": [
    {
     "name": "stdout",
     "output_type": "stream",
     "text": [
      "5\n"
     ]
    }
   ],
   "source": [
    "print(s.find('a'))"
   ]
  },
  {
   "cell_type": "code",
   "execution_count": 9,
   "metadata": {},
   "outputs": [
    {
     "name": "stdout",
     "output_type": "stream",
     "text": [
      "20\n"
     ]
    }
   ],
   "source": [
    "print(s.index('ground'))"
   ]
  },
  {
   "cell_type": "markdown",
   "metadata": {},
   "source": [
    " #### upper will convert all characters into upper case"
   ]
  },
  {
   "cell_type": "code",
   "execution_count": 10,
   "metadata": {},
   "outputs": [
    {
     "name": "stdout",
     "output_type": "stream",
     "text": [
      "KIDS ARE PLAYING IN GROUND. THE GROUND IS VERY NEETLY MAINTAINED\n"
     ]
    }
   ],
   "source": [
    "print(s.upper())"
   ]
  },
  {
   "cell_type": "markdown",
   "metadata": {},
   "source": [
    "#### lower will convert all characters into lower case"
   ]
  },
  {
   "cell_type": "code",
   "execution_count": 11,
   "metadata": {},
   "outputs": [
    {
     "name": "stdout",
     "output_type": "stream",
     "text": [
      "kids are playing in ground. the ground is very neetly maintained\n"
     ]
    }
   ],
   "source": [
    "print(s.lower())"
   ]
  },
  {
   "cell_type": "markdown",
   "metadata": {},
   "source": [
    "#### title will convert all characters into title case"
   ]
  },
  {
   "cell_type": "code",
   "execution_count": 12,
   "metadata": {},
   "outputs": [
    {
     "name": "stdout",
     "output_type": "stream",
     "text": [
      "Kids Are Playing In Ground. The Ground Is Very Neetly Maintained\n"
     ]
    }
   ],
   "source": [
    "s_title = s.title()\n",
    "print(s_title)"
   ]
  },
  {
   "cell_type": "markdown",
   "metadata": {},
   "source": [
    "#### swapcase will convert all characters into upper-to-lower and lower-to-upper case"
   ]
  },
  {
   "cell_type": "code",
   "execution_count": 13,
   "metadata": {},
   "outputs": [
    {
     "name": "stdout",
     "output_type": "stream",
     "text": [
      "kIDS aRE pLAYING iN gROUND. tHE gROUND iS vERY nEETLY mAINTAINED\n"
     ]
    }
   ],
   "source": [
    "print(s_title.swapcase())"
   ]
  },
  {
   "cell_type": "markdown",
   "metadata": {},
   "source": [
    "#### replace will replace a sequence with given sequence"
   ]
  },
  {
   "cell_type": "code",
   "execution_count": 14,
   "metadata": {},
   "outputs": [
    {
     "name": "stdout",
     "output_type": "stream",
     "text": [
      "Kids are singing in ground. The ground is very neetly maintained\n"
     ]
    }
   ],
   "source": [
    "print(s.replace('play', 'sing'))"
   ]
  },
  {
   "cell_type": "markdown",
   "metadata": {},
   "source": [
    "#### startswith will return True if given word or sequence starts with."
   ]
  },
  {
   "cell_type": "code",
   "execution_count": 15,
   "metadata": {},
   "outputs": [
    {
     "name": "stdout",
     "output_type": "stream",
     "text": [
      "True\n"
     ]
    }
   ],
   "source": [
    "\n",
    "print(s.startswith('Ki'))"
   ]
  },
  {
   "cell_type": "code",
   "execution_count": 18,
   "metadata": {},
   "outputs": [
    {
     "name": "stdout",
     "output_type": "stream",
     "text": [
      "False\n"
     ]
    }
   ],
   "source": [
    "print(s.endswith('ing'))"
   ]
  },
  {
   "cell_type": "code",
   "execution_count": 19,
   "metadata": {},
   "outputs": [
    {
     "name": "stdout",
     "output_type": "stream",
     "text": [
      "True\n"
     ]
    }
   ],
   "source": [
    "print(s.endswith('ed'))"
   ]
  },
  {
   "cell_type": "markdown",
   "metadata": {},
   "source": [
    "#### join will join given work with sequence"
   ]
  },
  {
   "cell_type": "code",
   "execution_count": 20,
   "metadata": {},
   "outputs": [
    {
     "name": "stdout",
     "output_type": "stream",
     "text": [
      "r - a - m - a\n"
     ]
    }
   ],
   "source": [
    "print(\" - \".join('rama'))"
   ]
  },
  {
   "cell_type": "code",
   "execution_count": 21,
   "metadata": {},
   "outputs": [],
   "source": [
    "s1 = \"rama\""
   ]
  },
  {
   "cell_type": "code",
   "execution_count": 22,
   "metadata": {},
   "outputs": [
    {
     "name": "stdout",
     "output_type": "stream",
     "text": [
      "True\n"
     ]
    }
   ],
   "source": [
    "print(s1.isalnum())"
   ]
  },
  {
   "cell_type": "code",
   "execution_count": 23,
   "metadata": {},
   "outputs": [
    {
     "name": "stdout",
     "output_type": "stream",
     "text": [
      "True\n"
     ]
    }
   ],
   "source": [
    "print(s1.isalpha())"
   ]
  },
  {
   "cell_type": "code",
   "execution_count": 58,
   "metadata": {},
   "outputs": [],
   "source": [
    "num = \"2\""
   ]
  },
  {
   "cell_type": "code",
   "execution_count": 59,
   "metadata": {},
   "outputs": [
    {
     "name": "stdout",
     "output_type": "stream",
     "text": [
      "True\n"
     ]
    }
   ],
   "source": [
    "print(num.isdecimal())"
   ]
  },
  {
   "cell_type": "code",
   "execution_count": 60,
   "metadata": {},
   "outputs": [
    {
     "name": "stdout",
     "output_type": "stream",
     "text": [
      "True\n"
     ]
    }
   ],
   "source": [
    "print(num.isdigit())"
   ]
  },
  {
   "cell_type": "code",
   "execution_count": 68,
   "metadata": {},
   "outputs": [],
   "source": [
    "sp = \"\""
   ]
  },
  {
   "cell_type": "code",
   "execution_count": 69,
   "metadata": {},
   "outputs": [
    {
     "name": "stdout",
     "output_type": "stream",
     "text": [
      "False\n"
     ]
    }
   ],
   "source": [
    "print(sp.isspace())"
   ]
  },
  {
   "cell_type": "code",
   "execution_count": 74,
   "metadata": {},
   "outputs": [
    {
     "name": "stdout",
     "output_type": "stream",
     "text": [
      "stirng\n"
     ]
    }
   ],
   "source": [
    "s = \" \"\n",
    "if s:\n",
    "    print(\"stirng\")\n",
    "else:\n",
    "    print(\"blank\")"
   ]
  },
  {
   "cell_type": "markdown",
   "metadata": {},
   "source": [
    "## Regular Expressions:\n",
    "\n",
    "### Methods:\n",
    "<table>\n",
    "  <th>\n",
    "  <tr>\n",
    "      <td>Method/Attribute\n",
    "      </td>\n",
    "      <td>Purpose\n",
    "      </td>\n",
    "  </tr>    \n",
    "  </th>\n",
    "  <tbody>\n",
    "  <tr>\n",
    "      <td>match()</td>\n",
    "      <td>Determine if the RE matches at the beginning of the string.</td>\n",
    "  </tr>\n",
    "  <tr>\n",
    "      <td>search()</td>\n",
    "      <td>Scan through a string, looking for any location where this RE matches.</td>\n",
    "  </tr>\n",
    "  <tr>\n",
    "      <td>findall()</td>\n",
    "      <td>Find all substrings where the RE matches, and returns them as a list.</td>\n",
    "  </tr>\n",
    "  <tr>\n",
    "      <td>finditer()</td>\n",
    "      <td>Find all substrings where the RE matches, and returns them as an iterator.</td>\n",
    "  </tr>  \n",
    "  </tbody>\n",
    "</table>  \n",
    "\n",
    "### Method Attributes:\n",
    "<table>\n",
    "  <th>\n",
    "  <tr>\n",
    "      <td>Method/Attribute\n",
    "      </td>\n",
    "      <td>Purpose\n",
    "      </td>\n",
    "  </tr>    \n",
    "  </th>\n",
    "  <tbody>\n",
    "  <tr>\n",
    "      <td>group()</td>\n",
    "      <td>Return the string matched by the RE.</td>\n",
    "  </tr>\n",
    "  <tr>\n",
    "      <td>start()</td>\n",
    "      <td>Return the starting position of the match.</td>\n",
    "  </tr>\n",
    "  <tr>\n",
    "      <td>end()</td>\n",
    "      <td>Return the ending position of the match.</td>\n",
    "  </tr>\n",
    "  <tr>\n",
    "      <td>span()</td>\n",
    "      <td>Return a tuple containing the (start, end) positions of the match.</td>\n",
    "  </tr>  \n",
    "  </tbody>\n",
    "</table>    \n",
    "\n",
    "###  Metacharacters : . ^ $ * + ? { } [ ] \\ | ( )\n",
    "  * [ and ] : They’re used for specifying a character class, which is a set of characters that you wish to match. Characters can be listed individually, or a range of characters can be indicated by giving two characters and separating them by a '-'\n",
    "  \n",
    "  * s = 'Kids are playing in ground. The ground is very neetly maintained'"
   ]
  },
  {
   "cell_type": "code",
   "execution_count": 75,
   "metadata": {},
   "outputs": [],
   "source": [
    "import re"
   ]
  },
  {
   "cell_type": "code",
   "execution_count": 78,
   "metadata": {},
   "outputs": [],
   "source": [
    "s = 'Kids are playing in ground. \\nThe ground is very neetly maintained'"
   ]
  },
  {
   "cell_type": "code",
   "execution_count": 79,
   "metadata": {},
   "outputs": [
    {
     "name": "stdout",
     "output_type": "stream",
     "text": [
      "Kids are playing in ground. \n",
      "The ground is very neetly maintained\n"
     ]
    }
   ],
   "source": [
    "print(s)"
   ]
  },
  {
   "cell_type": "code",
   "execution_count": 82,
   "metadata": {},
   "outputs": [
    {
     "name": "stdout",
     "output_type": "stream",
     "text": [
      "match object :  <re.Match object; span=(0, 4), match='Kids'>\n",
      "Result :  Kids\n"
     ]
    }
   ],
   "source": [
    "p = re.compile('Kids')\n",
    "m = p.match(s)\n",
    "\n",
    "print(\"match object : \", m)\n",
    "\n",
    "if m:\n",
    "    print(\"Result : \", m.group())\n",
    "else:\n",
    "    print(\"None found : \", m)"
   ]
  },
  {
   "cell_type": "code",
   "execution_count": 83,
   "metadata": {},
   "outputs": [
    {
     "name": "stdout",
     "output_type": "stream",
     "text": [
      "(0, 4)\n"
     ]
    }
   ],
   "source": [
    "print(p.match(s).span())"
   ]
  },
  {
   "cell_type": "code",
   "execution_count": 85,
   "metadata": {},
   "outputs": [
    {
     "name": "stdout",
     "output_type": "stream",
     "text": [
      "(20, 26)\n"
     ]
    }
   ],
   "source": [
    "p = re.compile('ground')\n",
    "print(p.search(s).span())"
   ]
  },
  {
   "cell_type": "code",
   "execution_count": 86,
   "metadata": {},
   "outputs": [
    {
     "data": {
      "text/plain": [
       "<re.Match object; span=(20, 26), match='ground'>"
      ]
     },
     "execution_count": 86,
     "metadata": {},
     "output_type": "execute_result"
    }
   ],
   "source": [
    "p.search(s)"
   ]
  },
  {
   "cell_type": "code",
   "execution_count": 93,
   "metadata": {},
   "outputs": [
    {
     "name": "stdout",
     "output_type": "stream",
     "text": [
      "i\n"
     ]
    }
   ],
   "source": [
    "p = re.compile('[rie]')\n",
    "print(p.search(s).group())"
   ]
  },
  {
   "cell_type": "code",
   "execution_count": 94,
   "metadata": {},
   "outputs": [
    {
     "name": "stdout",
     "output_type": "stream",
     "text": [
      "<re.Match object; span=(9, 13), match='play'>\n"
     ]
    }
   ],
   "source": [
    "p = re.compile('play')\n",
    "print(p.search(s))"
   ]
  },
  {
   "cell_type": "code",
   "execution_count": 95,
   "metadata": {},
   "outputs": [
    {
     "name": "stdout",
     "output_type": "stream",
     "text": [
      "9\n"
     ]
    }
   ],
   "source": [
    "print(p.search(s).start())"
   ]
  },
  {
   "cell_type": "code",
   "execution_count": 96,
   "metadata": {},
   "outputs": [
    {
     "name": "stdout",
     "output_type": "stream",
     "text": [
      "13\n"
     ]
    }
   ],
   "source": [
    "print(p.search(s).end())"
   ]
  },
  {
   "cell_type": "code",
   "execution_count": 97,
   "metadata": {},
   "outputs": [
    {
     "name": "stdout",
     "output_type": "stream",
     "text": [
      "(9, 13)\n"
     ]
    }
   ],
   "source": [
    "print(p.search(s).span())"
   ]
  },
  {
   "cell_type": "code",
   "execution_count": 112,
   "metadata": {},
   "outputs": [],
   "source": [
    "s = 'Kids are playing in ground. \\nThe ground is very neetly maintained'"
   ]
  },
  {
   "cell_type": "code",
   "execution_count": 113,
   "metadata": {},
   "outputs": [
    {
     "name": "stdout",
     "output_type": "stream",
     "text": [
      "Kids are playing in ground. \n",
      "The ground is very neetly maintained\n"
     ]
    }
   ],
   "source": [
    "print(s)"
   ]
  },
  {
   "cell_type": "code",
   "execution_count": 116,
   "metadata": {},
   "outputs": [
    {
     "name": "stdout",
     "output_type": "stream",
     "text": [
      "['ground', 'ground']\n",
      "ground\n",
      "ground\n"
     ]
    }
   ],
   "source": [
    "p = re.compile('ground', re.I)\n",
    "print(p.findall(s))\n",
    "\n",
    "for i in p.findall(s):\n",
    "    print(i)"
   ]
  },
  {
   "cell_type": "code",
   "execution_count": 42,
   "metadata": {},
   "outputs": [
    {
     "name": "stdout",
     "output_type": "stream",
     "text": [
      "<callable_iterator object at 0x00000257E41E7040>\n"
     ]
    }
   ],
   "source": [
    "print(p.finditer(s))"
   ]
  },
  {
   "cell_type": "code",
   "execution_count": 43,
   "metadata": {},
   "outputs": [
    {
     "name": "stdout",
     "output_type": "stream",
     "text": [
      "<re.Match object; span=(20, 26), match='ground'>\n",
      "<re.Match object; span=(32, 38), match='ground'>\n"
     ]
    }
   ],
   "source": [
    "for x in p.finditer(s):\n",
    "    print(x)"
   ]
  },
  {
   "cell_type": "code",
   "execution_count": 44,
   "metadata": {},
   "outputs": [
    {
     "name": "stdout",
     "output_type": "stream",
     "text": [
      "ground  -  (20, 26)\n",
      "ground  -  (32, 38)\n"
     ]
    }
   ],
   "source": [
    "for x in p.finditer(s):\n",
    "    print(x.group(), ' - ' , x.span())"
   ]
  },
  {
   "cell_type": "code",
   "execution_count": 117,
   "metadata": {},
   "outputs": [],
   "source": [
    "p1 = re.compile('[zj]')"
   ]
  },
  {
   "cell_type": "code",
   "execution_count": 118,
   "metadata": {},
   "outputs": [
    {
     "name": "stdout",
     "output_type": "stream",
     "text": [
      "None\n"
     ]
    }
   ],
   "source": [
    "print(p1.search(s))"
   ]
  },
  {
   "cell_type": "code",
   "execution_count": 119,
   "metadata": {},
   "outputs": [
    {
     "name": "stdout",
     "output_type": "stream",
     "text": [
      "None\n"
     ]
    }
   ],
   "source": [
    "print(p1.match(s))"
   ]
  },
  {
   "cell_type": "code",
   "execution_count": 120,
   "metadata": {},
   "outputs": [],
   "source": [
    "s3 = 'there are 200 apples, \\n400 bananas in basket'"
   ]
  },
  {
   "cell_type": "code",
   "execution_count": 121,
   "metadata": {},
   "outputs": [
    {
     "name": "stdout",
     "output_type": "stream",
     "text": [
      "there are 200 apples, \n",
      "400 bananas in basket\n"
     ]
    }
   ],
   "source": [
    "print(s3)"
   ]
  },
  {
   "cell_type": "code",
   "execution_count": 122,
   "metadata": {},
   "outputs": [
    {
     "data": {
      "text/plain": [
       "'there are 200 apples, \\n400 bananas in basket'"
      ]
     },
     "execution_count": 122,
     "metadata": {},
     "output_type": "execute_result"
    }
   ],
   "source": [
    "s3"
   ]
  },
  {
   "cell_type": "code",
   "execution_count": 143,
   "metadata": {},
   "outputs": [],
   "source": [
    "p3 = re.compile('[^\\d]')"
   ]
  },
  {
   "cell_type": "code",
   "execution_count": 148,
   "metadata": {},
   "outputs": [
    {
     "name": "stdout",
     "output_type": "stream",
     "text": [
      "['t', 'h', 'e', 'r', 'e', ' ', 'a', 'r', 'e', ' ', ' ', 'a', 'p', 'p', 'l', 'e', 's', ',', ' ', '\\n', ' ', 'b', 'a', 'n', 'a', 'n', 'a', 's', ' ', 'i', 'n', ' ', 'b', 'a', 's', 'k', 'e', 't']\n"
     ]
    }
   ],
   "source": [
    "print(p3.findall(s3))"
   ]
  },
  {
   "cell_type": "markdown",
   "metadata": {},
   "source": [
    "### Basic Flags: re.I, re.L, re.M, re.S, re.U, res.X\n",
    "  * re.I - ignore case.\n",
    "  * re.L - local dependence.\n",
    "  * re.M - find pattern through multiple lines.\n",
    "  * re.S - find \".\" matches\n",
    "  * re.U - to work with unicode data.\n",
    "  * re.X - to write REGEX in more readable format."
   ]
  },
  {
   "cell_type": "code",
   "execution_count": 157,
   "metadata": {},
   "outputs": [
    {
     "name": "stdout",
     "output_type": "stream",
     "text": [
      "['K', 'i', 'd', 's', ' ', 'a', 'r', 'e', ' ', 'p', 'l', 'a', 'y', 'i', 'n', 'g', ' ', 'i', 'n', ' ', 'g', 'r', 'o', 'u', 'n', 'd', '.', ' ', '\\n', '\\t', ' ', 'T', 'h', 'e', ' ', 'g', 'r', 'o', 'u', 'n', 'd', ' ', 'i', 's', ' ', 'v', 'e', 'r', 'y', ' ', 'n', 'e', 'e', 't', 'l', 'y', ' ', 'm', 'a', 'i', 'n', 't', 'a', 'i', 'n', 'e', 'd', ' ', '3', '4', '3']\n"
     ]
    }
   ],
   "source": [
    "s = 'Kids are playing in ground. \\n\\t The ground is very neetly maintained 343'\n",
    "\n",
    "p = re.compile('.', re.S)\n",
    "\n",
    "print(p.findall(s))"
   ]
  },
  {
   "cell_type": "code",
   "execution_count": 158,
   "metadata": {},
   "outputs": [],
   "source": [
    "s = 'Kids are playing.\\nits raining while they are playing'"
   ]
  },
  {
   "cell_type": "code",
   "execution_count": 159,
   "metadata": {},
   "outputs": [
    {
     "name": "stdout",
     "output_type": "stream",
     "text": [
      "Kids are playing.\n",
      "its raining while they are playing\n"
     ]
    }
   ],
   "source": [
    "print(s)"
   ]
  },
  {
   "cell_type": "code",
   "execution_count": 162,
   "metadata": {},
   "outputs": [
    {
     "name": "stdout",
     "output_type": "stream",
     "text": [
      "Kids\n"
     ]
    }
   ],
   "source": [
    "p = re.compile('kids', re.I)\n",
    "match_obj1 = p.match(s)\n",
    "print(match_obj1.group())"
   ]
  },
  {
   "cell_type": "code",
   "execution_count": 164,
   "metadata": {},
   "outputs": [
    {
     "ename": "AttributeError",
     "evalue": "'NoneType' object has no attribute 'group'",
     "output_type": "error",
     "traceback": [
      "\u001b[1;31m---------------------------------------------------------------------------\u001b[0m",
      "\u001b[1;31mAttributeError\u001b[0m                            Traceback (most recent call last)",
      "\u001b[1;32m<ipython-input-164-a27892cabdec>\u001b[0m in \u001b[0;36m<module>\u001b[1;34m\u001b[0m\n\u001b[0;32m      1\u001b[0m \u001b[0mmatch_obj2\u001b[0m \u001b[1;33m=\u001b[0m \u001b[0mre\u001b[0m\u001b[1;33m.\u001b[0m\u001b[0mmatch\u001b[0m\u001b[1;33m(\u001b[0m\u001b[1;34m'playing'\u001b[0m\u001b[1;33m,\u001b[0m \u001b[0ms\u001b[0m\u001b[1;33m)\u001b[0m\u001b[1;33m\u001b[0m\u001b[1;33m\u001b[0m\u001b[0m\n\u001b[1;32m----> 2\u001b[1;33m \u001b[0mprint\u001b[0m\u001b[1;33m(\u001b[0m\u001b[0mmatch_obj2\u001b[0m\u001b[1;33m.\u001b[0m\u001b[0mgroup\u001b[0m\u001b[1;33m(\u001b[0m\u001b[1;33m)\u001b[0m\u001b[1;33m)\u001b[0m\u001b[1;33m\u001b[0m\u001b[1;33m\u001b[0m\u001b[0m\n\u001b[0m",
      "\u001b[1;31mAttributeError\u001b[0m: 'NoneType' object has no attribute 'group'"
     ]
    }
   ],
   "source": [
    "match_obj2 = re.match('playing', s)\n",
    "print(match_obj2.group())"
   ]
  },
  {
   "cell_type": "code",
   "execution_count": 165,
   "metadata": {},
   "outputs": [
    {
     "name": "stdout",
     "output_type": "stream",
     "text": [
      "Found none\n"
     ]
    }
   ],
   "source": [
    "if match_obj2:\n",
    "    print(match_obj2.group())\n",
    "else:\n",
    "    print('Found none')"
   ]
  },
  {
   "cell_type": "code",
   "execution_count": 167,
   "metadata": {},
   "outputs": [
    {
     "name": "stdout",
     "output_type": "stream",
     "text": [
      "Kids\n"
     ]
    }
   ],
   "source": [
    "search_obj1 = re.search('Kids', s)\n",
    "print(search_obj1.group())"
   ]
  },
  {
   "cell_type": "code",
   "execution_count": 168,
   "metadata": {},
   "outputs": [
    {
     "name": "stdout",
     "output_type": "stream",
     "text": [
      "playing\n"
     ]
    }
   ],
   "source": [
    "search_obj2 = re.search('playing', s)\n",
    "print(search_obj2.group())"
   ]
  },
  {
   "cell_type": "markdown",
   "metadata": {},
   "source": [
    "* **\\$ - Dollar**\n",
    "  * The dollar symbol $ is used to check if a string ends with a certain character."
   ]
  },
  {
   "cell_type": "code",
   "execution_count": 177,
   "metadata": {},
   "outputs": [],
   "source": [
    "#s = 'Kids are playing.\\n its raining while they are playing'\n",
    "s = '''Kids are playing\n",
    "\n",
    "\n",
    "its raining while they are Playing'''"
   ]
  },
  {
   "cell_type": "code",
   "execution_count": 181,
   "metadata": {},
   "outputs": [
    {
     "name": "stdout",
     "output_type": "stream",
     "text": [
      "<re.Match object; span=(9, 16), match='playing'>\n",
      "<re.Match object; span=(46, 53), match='Playing'>\n"
     ]
    }
   ],
   "source": [
    "p = re.compile('playing$',  re.M | re.I)\n",
    "search_obj2 = p.finditer(s)\n",
    "#print(search_obj2)\n",
    "for x in search_obj2:\n",
    "    print(x)"
   ]
  },
  {
   "cell_type": "code",
   "execution_count": 179,
   "metadata": {},
   "outputs": [
    {
     "name": "stdout",
     "output_type": "stream",
     "text": [
      "None\n"
     ]
    }
   ],
   "source": [
    "search_obj2 = re.search('kids$', s)\n",
    "print(search_obj2)"
   ]
  },
  {
   "cell_type": "markdown",
   "metadata": {},
   "source": [
    "#### Metacharacter \"$\" not active inside [ and ]"
   ]
  },
  {
   "cell_type": "code",
   "execution_count": 182,
   "metadata": {},
   "outputs": [],
   "source": [
    "import re\n",
    "s2 = 'kids are pl$aying'"
   ]
  },
  {
   "cell_type": "code",
   "execution_count": 191,
   "metadata": {},
   "outputs": [],
   "source": [
    "p2 = re.compile(r'\\$')"
   ]
  },
  {
   "cell_type": "code",
   "execution_count": 192,
   "metadata": {},
   "outputs": [
    {
     "name": "stdout",
     "output_type": "stream",
     "text": [
      "['$']\n"
     ]
    }
   ],
   "source": [
    "print(p2.findall(s2))"
   ]
  },
  {
   "cell_type": "code",
   "execution_count": 193,
   "metadata": {},
   "outputs": [],
   "source": [
    "p2 = re.compile(r'[akig$]')"
   ]
  },
  {
   "cell_type": "code",
   "execution_count": 194,
   "metadata": {},
   "outputs": [
    {
     "name": "stdout",
     "output_type": "stream",
     "text": [
      "['k', 'i', 'a', '$', 'a', 'i', 'g']\n"
     ]
    }
   ],
   "source": [
    "print(p2.findall(s2))"
   ]
  },
  {
   "cell_type": "markdown",
   "metadata": {},
   "source": [
    "* **^ - Caret**\n",
    "  * The caret symbol **^** is used to check if a string starts with a certain character."
   ]
  },
  {
   "cell_type": "code",
   "execution_count": 199,
   "metadata": {},
   "outputs": [
    {
     "name": "stdout",
     "output_type": "stream",
     "text": [
      "['kids']\n"
     ]
    }
   ],
   "source": [
    "search_obj2 = re.compile('^kids')\n",
    "print(search_obj2.findall(s2))"
   ]
  },
  {
   "cell_type": "code",
   "execution_count": 201,
   "metadata": {},
   "outputs": [
    {
     "name": "stdout",
     "output_type": "stream",
     "text": [
      "[]\n"
     ]
    }
   ],
   "source": [
    "search_obj2 = re.compile('kids$')\n",
    "print(search_obj2.findall(s2))"
   ]
  },
  {
   "cell_type": "markdown",
   "metadata": {},
   "source": [
    "* **. - Period**\n",
    "  * A period matches any single character (except newline '\\n')."
   ]
  },
  {
   "cell_type": "code",
   "execution_count": 203,
   "metadata": {},
   "outputs": [
    {
     "name": "stdout",
     "output_type": "stream",
     "text": [
      "['k', 'i', 'd', 's', ' ', 'a', 'r', 'e', ' ', 'p', 'l', 'a', 'y', 'i', 'n', 'g', '.', '\\n', 'i', 't', 's', ' ', 'r', 'a', 'i', 'n', 'i', 'n', 'g', ' ', 'w', 'h', 'i', 'l', 'e', ' ', '\\t', 't', 'h', 'e', 'y', ' ', 'a', 'r', 'e', ' ', 'p', 'l', 'a', 'y', 'i', 'n', 'g']\n",
      "kids are playing.\n",
      "its raining while \tthey are playing\n"
     ]
    }
   ],
   "source": [
    "s = 'kids are playing.\\nits raining while \\tthey are playing'\n",
    "search_re = re.compile('.', re.S)\n",
    "search_list = search_re.findall(s)\n",
    "print(search_list)\n",
    "print(\"\".join(search_list))"
   ]
  },
  {
   "cell_type": "markdown",
   "metadata": {},
   "source": [
    "* **\\* - Star**\n",
    "  * The star symbol * matches zero or more occurrences of the pattern left to it."
   ]
  },
  {
   "cell_type": "code",
   "execution_count": 214,
   "metadata": {},
   "outputs": [
    {
     "data": {
      "text/plain": [
       "['h', 'h', 'ha', 'ha', 'ha']"
      ]
     },
     "execution_count": 214,
     "metadata": {},
     "output_type": "execute_result"
    }
   ],
   "source": [
    "import re\n",
    "s = 'I won the match hahaha...'\n",
    "search_re = re.compile('ha*')\n",
    "\n",
    "search_re.findall(s)"
   ]
  },
  {
   "cell_type": "code",
   "execution_count": 217,
   "metadata": {},
   "outputs": [
    {
     "data": {
      "text/plain": [
       "['a', 'a']"
      ]
     },
     "execution_count": 217,
     "metadata": {},
     "output_type": "execute_result"
    }
   ],
   "source": [
    "s = 'I won a game...'\n",
    "search_re = re.compile('a+')\n",
    "\n",
    "search_re.findall(s)"
   ]
  },
  {
   "cell_type": "code",
   "execution_count": 162,
   "metadata": {},
   "outputs": [
    {
     "name": "stdout",
     "output_type": "stream",
     "text": [
      "h  -  (7, 8)\n",
      "h  -  (14, 15)\n",
      "ha  -  (16, 18)\n",
      "ha  -  (18, 20)\n",
      "ha  -  (20, 22)\n"
     ]
    }
   ],
   "source": [
    "for x in re.finditer('ha*', s):\n",
    "    print(x.group(), ' - ' , x.span())"
   ]
  },
  {
   "cell_type": "markdown",
   "metadata": {},
   "source": [
    "* **+ - Plus**\n",
    "  * The plus symbol + matches one or more occurrences of the pattern left to it."
   ]
  },
  {
   "cell_type": "code",
   "execution_count": 163,
   "metadata": {},
   "outputs": [
    {
     "data": {
      "text/plain": [
       "['ha', 'ha', 'ha']"
      ]
     },
     "execution_count": 163,
     "metadata": {},
     "output_type": "execute_result"
    }
   ],
   "source": [
    "re.findall('ha+', s)"
   ]
  },
  {
   "cell_type": "code",
   "execution_count": 164,
   "metadata": {},
   "outputs": [
    {
     "name": "stdout",
     "output_type": "stream",
     "text": [
      "ha  -  (16, 18)\n",
      "ha  -  (18, 20)\n",
      "ha  -  (20, 22)\n"
     ]
    }
   ],
   "source": [
    "for x in re.finditer('ha+', s):\n",
    "    print(x.group(), ' - ' , x.span())"
   ]
  },
  {
   "cell_type": "markdown",
   "metadata": {},
   "source": [
    "* **? - Question Mark**\n",
    "  * The question mark symbol ? matches zero or one occurrence of the pattern left to it."
   ]
  },
  {
   "cell_type": "code",
   "execution_count": 165,
   "metadata": {},
   "outputs": [],
   "source": [
    "s = 'maaan womaaaaan'"
   ]
  },
  {
   "cell_type": "code",
   "execution_count": 166,
   "metadata": {},
   "outputs": [
    {
     "name": "stdout",
     "output_type": "stream",
     "text": [
      "['', 'aaa', '', '', '', '', '', 'aaaaa', '', '']\n"
     ]
    }
   ],
   "source": [
    "print(re.findall('a*', s))"
   ]
  },
  {
   "cell_type": "code",
   "execution_count": 167,
   "metadata": {},
   "outputs": [
    {
     "name": "stdout",
     "output_type": "stream",
     "text": [
      "['aaa', 'aaaaa']\n"
     ]
    }
   ],
   "source": [
    "print(re.findall('a+', s))"
   ]
  },
  {
   "cell_type": "code",
   "execution_count": 168,
   "metadata": {},
   "outputs": [
    {
     "name": "stdout",
     "output_type": "stream",
     "text": [
      "maaan\n"
     ]
    }
   ],
   "source": [
    "print(re.search('ma*n', s).group())"
   ]
  },
  {
   "cell_type": "markdown",
   "metadata": {},
   "source": [
    "* **{} - Braces**\n",
    "  * Consider this code: {n,m}. This means at least n, and at most m repetitions of the pattern left to it."
   ]
  },
  {
   "cell_type": "code",
   "execution_count": 222,
   "metadata": {},
   "outputs": [],
   "source": [
    "s = 'maaan womaaaaan'"
   ]
  },
  {
   "cell_type": "code",
   "execution_count": 235,
   "metadata": {},
   "outputs": [
    {
     "name": "stdout",
     "output_type": "stream",
     "text": [
      "<callable_iterator object at 0x000001DE4A7409D0>\n",
      "<re.Match object; span=(1, 2), match='a'>\n",
      "<re.Match object; span=(2, 3), match='a'>\n",
      "<re.Match object; span=(3, 4), match='a'>\n",
      "<re.Match object; span=(9, 10), match='a'>\n",
      "<re.Match object; span=(10, 11), match='a'>\n",
      "<re.Match object; span=(11, 12), match='a'>\n",
      "<re.Match object; span=(12, 13), match='a'>\n",
      "<re.Match object; span=(13, 14), match='a'>\n"
     ]
    }
   ],
   "source": [
    "print(re.finditer('a{1,6}',s))\n",
    "\n",
    "for i in re.finditer('a{1}',s):\n",
    "    print(i)"
   ]
  },
  {
   "cell_type": "code",
   "execution_count": 237,
   "metadata": {},
   "outputs": [
    {
     "name": "stdout",
     "output_type": "stream",
     "text": [
      "<re.Match object; span=(1, 6), match='90202'>\n"
     ]
    }
   ],
   "source": [
    "s = 'E90202R'\n",
    "print(re.search('\\d{2,6}', s))"
   ]
  },
  {
   "cell_type": "code",
   "execution_count": 238,
   "metadata": {},
   "outputs": [
    {
     "name": "stdout",
     "output_type": "stream",
     "text": [
      "9020\n"
     ]
    }
   ],
   "source": [
    "print(re.search('[0-9]{2,4}', s).group())"
   ]
  },
  {
   "cell_type": "code",
   "execution_count": 239,
   "metadata": {},
   "outputs": [
    {
     "name": "stdout",
     "output_type": "stream",
     "text": [
      "90202\n"
     ]
    }
   ],
   "source": [
    "print(re.search('[0-9]{2,7}', s).group())"
   ]
  },
  {
   "cell_type": "markdown",
   "metadata": {},
   "source": [
    "* **| - Alternation**\n",
    "  * Vertical bar | is used for alternation (or operator)."
   ]
  },
  {
   "cell_type": "code",
   "execution_count": 242,
   "metadata": {},
   "outputs": [
    {
     "name": "stdout",
     "output_type": "stream",
     "text": [
      "a\n"
     ]
    }
   ],
   "source": [
    "s = 'aecbeca'\n",
    "print(re.search('a|b', s).group())"
   ]
  },
  {
   "cell_type": "code",
   "execution_count": 243,
   "metadata": {},
   "outputs": [
    {
     "name": "stdout",
     "output_type": "stream",
     "text": [
      "a\n"
     ]
    }
   ],
   "source": [
    "print(re.search('b|a', s).group())"
   ]
  },
  {
   "cell_type": "code",
   "execution_count": 245,
   "metadata": {},
   "outputs": [
    {
     "name": "stdout",
     "output_type": "stream",
     "text": [
      "['a', 'b', 'a']\n"
     ]
    }
   ],
   "source": [
    "print(re.findall('a|b', s))"
   ]
  },
  {
   "cell_type": "markdown",
   "metadata": {},
   "source": [
    "* ** () - Group **\n",
    "  * Parentheses () is used to group sub-patterns. \n",
    "  * For example, (a|b|c)xz match any string that matches either a or b or c followed by xz"
   ]
  },
  {
   "cell_type": "code",
   "execution_count": 251,
   "metadata": {},
   "outputs": [],
   "source": [
    "s = 'arecbreca'"
   ]
  },
  {
   "cell_type": "code",
   "execution_count": 253,
   "metadata": {},
   "outputs": [
    {
     "name": "stdout",
     "output_type": "stream",
     "text": [
      "['ar', 'br']\n",
      "<re.Match object; span=(0, 4), match='arec'>\n",
      "<re.Match object; span=(4, 8), match='brec'>\n"
     ]
    }
   ],
   "source": [
    "re.finditer('(ar|br)ec', s)\n",
    "\n",
    "print(re.findall('(ar|br)ec', s))\n",
    "\n",
    "#for i in re.finditer('[arbr]ec', s):\n",
    "for i in re.finditer('(ar|br)ec', s):\n",
    "    print(i)"
   ]
  },
  {
   "cell_type": "code",
   "execution_count": 260,
   "metadata": {},
   "outputs": [
    {
     "name": "stdout",
     "output_type": "stream",
     "text": [
      "<re.Match object; span=(11, 14), match='foo'>\n"
     ]
    }
   ],
   "source": [
    "s = \"foo The allfootball team foo\"\n",
    "c = re.compile(r'\\Bfoo')\n",
    "print(c.search(s))"
   ]
  },
  {
   "cell_type": "markdown",
   "metadata": {},
   "source": [
    "* [a-e] is the same as [abcde]\n",
    "* [1-4] is the same as [1234]\n",
    "* [0-39] is the same as [01239]\n",
    "* [^abc] means any character except a or b or c\n",
    "* [^0-9] means any non-digit character\n",
    "* \\ - Backslash - is used to escape various characters including all metacharacters. \n",
    "  * For example, \\\\$a match if a string contains \\\\$ followed by a. Here, $ is not interpreted by a RegEx engine in a special way.\n",
    "* \\A - Matches if the specified characters are at the start of a string.\n",
    "  * For example, \\Athe - \n",
    "    * \"the sun\" matches, \n",
    "    * \"In the sun\" no match as the is not in the begining of the sentence.\n",
    "* \\b - Matches if the specified characters are at the beginning or end of a word.\n",
    "  * For example, \\bfoo - \n",
    "    * \"football\" matches\n",
    "    * \"a football\" matches\n",
    "    * \"afootball\" no match\n",
    "  * For example, foo\\b\n",
    "    * \"the foo\" matches\n",
    "    * \"the afoo test\" matches\n",
    "    * \"the afootest\" no match\n",
    "* \\B - Opposite of \\b. Matches if the specified characters are not at the beginning or end of a word.\n",
    "* \\d - Matches any decimal digit. Equivalent to [0-9]\n",
    "* \\D - Matches any non-decimal digit. Equivalent to [^0-9]\n",
    "* \\s - Matches where a string contains any whitespace character. Equivalent to [ \\t\\n\\r\\f\\v]\n",
    "* \\S - Matches where a string contains any non-whitespace character. Equivalent to [^ \\t\\n\\r\\f\\v].\n",
    "* \\w - Matches any alphanumeric character (digits and alphabets). Equivalent to [a-zA-Z0-9_]. By the way, underscore _ is also considered an alphanumeric character.\n",
    "* \\W - Matches any non-alphanumeric character. Equivalent to [^a-zA-Z0-9_]\n",
    "* \\Z - Matches if the specified characters are at the end of a string."
   ]
  },
  {
   "cell_type": "markdown",
   "metadata": {},
   "source": [
    "https://www.programiz.com/python-programming/regex"
   ]
  }
 ],
 "metadata": {
  "kernelspec": {
   "display_name": "Python 3",
   "language": "python",
   "name": "python3"
  },
  "language_info": {
   "codemirror_mode": {
    "name": "ipython",
    "version": 3
   },
   "file_extension": ".py",
   "mimetype": "text/x-python",
   "name": "python",
   "nbconvert_exporter": "python",
   "pygments_lexer": "ipython3",
   "version": "3.8.3"
  }
 },
 "nbformat": 4,
 "nbformat_minor": 2
}
