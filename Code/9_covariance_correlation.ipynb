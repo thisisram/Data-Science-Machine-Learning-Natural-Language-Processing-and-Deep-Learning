{
 "cells": [
  {
   "cell_type": "markdown",
   "metadata": {},
   "source": [
    "<h1><center>Bivariate Analysis</center></h1>\n",
    "<h1><center><u>\"Quantitative & Quantitative\"</u></center></h1>\n",
    "<h1><center>features</center></h1>\n",
    "<h2><center><u>Visualization, Hypothesis Testing</u></center></h2>"
   ]
  },
  {
   "cell_type": "code",
   "execution_count": 1,
   "metadata": {},
   "outputs": [],
   "source": [
    "import pandas as pd\n",
    "import numpy as np\n",
    "import matplotlib.pyplot as plt\n",
    "import seaborn as sns"
   ]
  },
  {
   "cell_type": "code",
   "execution_count": 2,
   "metadata": {},
   "outputs": [],
   "source": [
    "emp_data_df_obj = pd.read_csv('../Data/normal_employee_data.csv')"
   ]
  },
  {
   "cell_type": "code",
   "execution_count": 3,
   "metadata": {},
   "outputs": [
    {
     "data": {
      "text/html": [
       "<div>\n",
       "<style scoped>\n",
       "    .dataframe tbody tr th:only-of-type {\n",
       "        vertical-align: middle;\n",
       "    }\n",
       "\n",
       "    .dataframe tbody tr th {\n",
       "        vertical-align: top;\n",
       "    }\n",
       "\n",
       "    .dataframe thead th {\n",
       "        text-align: right;\n",
       "    }\n",
       "</style>\n",
       "<table border=\"1\" class=\"dataframe\">\n",
       "  <thead>\n",
       "    <tr style=\"text-align: right;\">\n",
       "      <th></th>\n",
       "      <th>Emp #</th>\n",
       "      <th>Designation</th>\n",
       "      <th>Experience</th>\n",
       "      <th>Salary</th>\n",
       "      <th>AggrBehavScore</th>\n",
       "      <th>ActivityScore</th>\n",
       "      <th>LinesOfCode</th>\n",
       "    </tr>\n",
       "  </thead>\n",
       "  <tbody>\n",
       "    <tr>\n",
       "      <th>0</th>\n",
       "      <td>e1</td>\n",
       "      <td>Director</td>\n",
       "      <td>15.0</td>\n",
       "      <td>85000</td>\n",
       "      <td>0.33</td>\n",
       "      <td>2</td>\n",
       "      <td>1332</td>\n",
       "    </tr>\n",
       "    <tr>\n",
       "      <th>1</th>\n",
       "      <td>e2</td>\n",
       "      <td>Jr.Dev</td>\n",
       "      <td>3.0</td>\n",
       "      <td>25000</td>\n",
       "      <td>5.67</td>\n",
       "      <td>16</td>\n",
       "      <td>6666</td>\n",
       "    </tr>\n",
       "    <tr>\n",
       "      <th>2</th>\n",
       "      <td>e3</td>\n",
       "      <td>Sr.Dev</td>\n",
       "      <td>6.0</td>\n",
       "      <td>36000</td>\n",
       "      <td>2.33</td>\n",
       "      <td>7</td>\n",
       "      <td>3332</td>\n",
       "    </tr>\n",
       "    <tr>\n",
       "      <th>3</th>\n",
       "      <td>e4</td>\n",
       "      <td>Jr.Dev</td>\n",
       "      <td>2.0</td>\n",
       "      <td>20000</td>\n",
       "      <td>9.00</td>\n",
       "      <td>24</td>\n",
       "      <td>9999</td>\n",
       "    </tr>\n",
       "    <tr>\n",
       "      <th>4</th>\n",
       "      <td>e5</td>\n",
       "      <td>Sr.Dev</td>\n",
       "      <td>5.0</td>\n",
       "      <td>37000</td>\n",
       "      <td>3.00</td>\n",
       "      <td>9</td>\n",
       "      <td>3999</td>\n",
       "    </tr>\n",
       "  </tbody>\n",
       "</table>\n",
       "</div>"
      ],
      "text/plain": [
       "  Emp # Designation  Experience  Salary  AggrBehavScore  ActivityScore  \\\n",
       "0    e1    Director        15.0   85000            0.33              2   \n",
       "1    e2      Jr.Dev         3.0   25000            5.67             16   \n",
       "2    e3      Sr.Dev         6.0   36000            2.33              7   \n",
       "3    e4      Jr.Dev         2.0   20000            9.00             24   \n",
       "4    e5      Sr.Dev         5.0   37000            3.00              9   \n",
       "\n",
       "   LinesOfCode  \n",
       "0         1332  \n",
       "1         6666  \n",
       "2         3332  \n",
       "3         9999  \n",
       "4         3999  "
      ]
     },
     "execution_count": 3,
     "metadata": {},
     "output_type": "execute_result"
    }
   ],
   "source": [
    "emp_data_df_obj.head()"
   ]
  },
  {
   "cell_type": "code",
   "execution_count": 4,
   "metadata": {},
   "outputs": [
    {
     "data": {
      "text/plain": [
       "Sr.Analyst    9\n",
       "Analyst       6\n",
       "Manager       6\n",
       "Sr.Dev        4\n",
       "Sr.Manager    3\n",
       "Director      2\n",
       "Jr.Dev        2\n",
       "Name: Designation, dtype: int64"
      ]
     },
     "execution_count": 4,
     "metadata": {},
     "output_type": "execute_result"
    }
   ],
   "source": [
    "emp_data_df_obj.Designation.value_counts()"
   ]
  },
  {
   "cell_type": "markdown",
   "metadata": {},
   "source": [
    "### Covariance"
   ]
  },
  {
   "cell_type": "code",
   "execution_count": 5,
   "metadata": {},
   "outputs": [
    {
     "data": {
      "text/plain": [
       "51554.4908266129"
      ]
     },
     "execution_count": 5,
     "metadata": {},
     "output_type": "execute_result"
    }
   ],
   "source": [
    "emp_data_df_obj['Experience'].cov(emp_data_df_obj['Salary'])"
   ]
  },
  {
   "cell_type": "code",
   "execution_count": 6,
   "metadata": {},
   "outputs": [
    {
     "data": {
      "text/plain": [
       "-21349.76554435484"
      ]
     },
     "execution_count": 6,
     "metadata": {},
     "output_type": "execute_result"
    }
   ],
   "source": [
    "emp_data_df_obj['AggrBehavScore'].cov(emp_data_df_obj['Salary'])"
   ]
  },
  {
   "cell_type": "code",
   "execution_count": 7,
   "metadata": {},
   "outputs": [
    {
     "data": {
      "text/plain": [
       "-53394.38205645161"
      ]
     },
     "execution_count": 7,
     "metadata": {},
     "output_type": "execute_result"
    }
   ],
   "source": [
    "emp_data_df_obj['ActivityScore'].cov(emp_data_df_obj['Salary'])"
   ]
  },
  {
   "cell_type": "code",
   "execution_count": 8,
   "metadata": {},
   "outputs": [
    {
     "data": {
      "text/html": [
       "<div>\n",
       "<style scoped>\n",
       "    .dataframe tbody tr th:only-of-type {\n",
       "        vertical-align: middle;\n",
       "    }\n",
       "\n",
       "    .dataframe tbody tr th {\n",
       "        vertical-align: top;\n",
       "    }\n",
       "\n",
       "    .dataframe thead th {\n",
       "        text-align: right;\n",
       "    }\n",
       "</style>\n",
       "<table border=\"1\" class=\"dataframe\">\n",
       "  <thead>\n",
       "    <tr style=\"text-align: right;\">\n",
       "      <th></th>\n",
       "      <th>Experience</th>\n",
       "      <th>Salary</th>\n",
       "      <th>AggrBehavScore</th>\n",
       "      <th>ActivityScore</th>\n",
       "      <th>LinesOfCode</th>\n",
       "    </tr>\n",
       "  </thead>\n",
       "  <tbody>\n",
       "    <tr>\n",
       "      <th>Experience</th>\n",
       "      <td>9.968296</td>\n",
       "      <td>5.155449e+04</td>\n",
       "      <td>-4.189937</td>\n",
       "      <td>-10.529940</td>\n",
       "      <td>-4.191287e+03</td>\n",
       "    </tr>\n",
       "    <tr>\n",
       "      <th>Salary</th>\n",
       "      <td>51554.490827</td>\n",
       "      <td>2.937718e+08</td>\n",
       "      <td>-21349.765544</td>\n",
       "      <td>-53394.382056</td>\n",
       "      <td>-2.135475e+07</td>\n",
       "    </tr>\n",
       "    <tr>\n",
       "      <th>AggrBehavScore</th>\n",
       "      <td>-4.189937</td>\n",
       "      <td>-2.134977e+04</td>\n",
       "      <td>2.806461</td>\n",
       "      <td>7.068690</td>\n",
       "      <td>2.806869e+03</td>\n",
       "    </tr>\n",
       "    <tr>\n",
       "      <th>ActivityScore</th>\n",
       "      <td>-10.529940</td>\n",
       "      <td>-5.339438e+04</td>\n",
       "      <td>7.068690</td>\n",
       "      <td>17.861895</td>\n",
       "      <td>7.069644e+03</td>\n",
       "    </tr>\n",
       "    <tr>\n",
       "      <th>LinesOfCode</th>\n",
       "      <td>-4191.287198</td>\n",
       "      <td>-2.135475e+07</td>\n",
       "      <td>2806.868851</td>\n",
       "      <td>7069.644153</td>\n",
       "      <td>2.807284e+06</td>\n",
       "    </tr>\n",
       "  </tbody>\n",
       "</table>\n",
       "</div>"
      ],
      "text/plain": [
       "                  Experience        Salary  AggrBehavScore  ActivityScore  \\\n",
       "Experience          9.968296  5.155449e+04       -4.189937     -10.529940   \n",
       "Salary          51554.490827  2.937718e+08   -21349.765544  -53394.382056   \n",
       "AggrBehavScore     -4.189937 -2.134977e+04        2.806461       7.068690   \n",
       "ActivityScore     -10.529940 -5.339438e+04        7.068690      17.861895   \n",
       "LinesOfCode     -4191.287198 -2.135475e+07     2806.868851    7069.644153   \n",
       "\n",
       "                 LinesOfCode  \n",
       "Experience     -4.191287e+03  \n",
       "Salary         -2.135475e+07  \n",
       "AggrBehavScore  2.806869e+03  \n",
       "ActivityScore   7.069644e+03  \n",
       "LinesOfCode     2.807284e+06  "
      ]
     },
     "execution_count": 8,
     "metadata": {},
     "output_type": "execute_result"
    }
   ],
   "source": [
    "emp_data_df_obj.cov()"
   ]
  },
  {
   "cell_type": "code",
   "execution_count": 9,
   "metadata": {},
   "outputs": [
    {
     "data": {
      "image/png": "[encoded data removed]",
      "text/plain": [
       "<Figure size 864x648 with 2 Axes>"
      ]
     },
     "metadata": {
      "needs_background": "light"
     },
     "output_type": "display_data"
    }
   ],
   "source": [
    "#plt.rcParams['xtick.major.pad']=60  # matplotlib customization - https://matplotlib.org/tutorials/introductory/customizing.html\n",
    "\n",
    "fig, ax = plt.subplots(figsize=(12,9)) \n",
    "heatmap = sns.heatmap(emp_data_df_obj.cov(), cmap='RdYlGn_r', fmt='.1f', annot=True,  \n",
    "                      xticklabels=True, vmin=-200000, vmax=200000, linewidth=2, square=True)\n",
    "heatmap = plt.yticks(rotation=0)"
   ]
  },
  {
   "cell_type": "markdown",
   "metadata": {},
   "source": [
    "#### Let's experiment on Quiz Dataset"
   ]
  },
  {
   "cell_type": "code",
   "execution_count": 10,
   "metadata": {},
   "outputs": [],
   "source": [
    "quiz_df_obj = pd.DataFrame({'Stud #':['s1','s2','s3','s4','s5','s6','s7','s8','s9','s10','s11','s12','s13','s14','s15','s16','s17','s18','s19','s20'],\n",
    "                            'Quiz-1':[5,6,9,7,5,7,9,6,9,6,8,7,8,6,8,8,7,6,7,6],\n",
    "                            'Quiz-2':[6,6,7,5,8,8,4,9,7,4,5,9,10,6,10,9,5,10,5,7]})"
   ]
  },
  {
   "cell_type": "code",
   "execution_count": 11,
   "metadata": {},
   "outputs": [
    {
     "data": {
      "text/plain": [
       "0.0"
      ]
     },
     "execution_count": 11,
     "metadata": {},
     "output_type": "execute_result"
    }
   ],
   "source": [
    "quiz_df_obj['Quiz-1'].cov(quiz_df_obj['Quiz-2'])"
   ]
  },
  {
   "cell_type": "code",
   "execution_count": 12,
   "metadata": {},
   "outputs": [
    {
     "data": {
      "text/html": [
       "<div>\n",
       "<style scoped>\n",
       "    .dataframe tbody tr th:only-of-type {\n",
       "        vertical-align: middle;\n",
       "    }\n",
       "\n",
       "    .dataframe tbody tr th {\n",
       "        vertical-align: top;\n",
       "    }\n",
       "\n",
       "    .dataframe thead th {\n",
       "        text-align: right;\n",
       "    }\n",
       "</style>\n",
       "<table border=\"1\" class=\"dataframe\">\n",
       "  <thead>\n",
       "    <tr style=\"text-align: right;\">\n",
       "      <th></th>\n",
       "      <th>Quiz-1</th>\n",
       "      <th>Quiz-2</th>\n",
       "    </tr>\n",
       "  </thead>\n",
       "  <tbody>\n",
       "    <tr>\n",
       "      <th>Quiz-1</th>\n",
       "      <td>1.578947</td>\n",
       "      <td>0.000000</td>\n",
       "    </tr>\n",
       "    <tr>\n",
       "      <th>Quiz-2</th>\n",
       "      <td>0.000000</td>\n",
       "      <td>4.105263</td>\n",
       "    </tr>\n",
       "  </tbody>\n",
       "</table>\n",
       "</div>"
      ],
      "text/plain": [
       "          Quiz-1    Quiz-2\n",
       "Quiz-1  1.578947  0.000000\n",
       "Quiz-2  0.000000  4.105263"
      ]
     },
     "execution_count": 12,
     "metadata": {},
     "output_type": "execute_result"
    }
   ],
   "source": [
    "quiz_df_obj.cov()"
   ]
  },
  {
   "cell_type": "code",
   "execution_count": 13,
   "metadata": {},
   "outputs": [
    {
     "data": {
      "text/plain": [
       "<matplotlib.collections.PathCollection at 0x1ab7ab71190>"
      ]
     },
     "execution_count": 13,
     "metadata": {},
     "output_type": "execute_result"
    },
    {
     "data": {
      "image/png": "[encoded data removed]",
      "text/plain": [
       "<Figure size 432x288 with 1 Axes>"
      ]
     },
     "metadata": {
      "needs_background": "light"
     },
     "output_type": "display_data"
    }
   ],
   "source": [
    "plt.rcParams['xtick.major.pad']=10\n",
    "plt.scatter(quiz_df_obj[\"Quiz-1\"], quiz_df_obj[\"Quiz-2\"])"
   ]
  },
  {
   "cell_type": "markdown",
   "metadata": {},
   "source": [
    "### Correlation"
   ]
  },
  {
   "cell_type": "code",
   "execution_count": 14,
   "metadata": {},
   "outputs": [
    {
     "data": {
      "text/plain": [
       "0.9526886611352036"
      ]
     },
     "execution_count": 14,
     "metadata": {},
     "output_type": "execute_result"
    }
   ],
   "source": [
    "emp_data_df_obj['Experience'].corr(emp_data_df_obj['Salary'])"
   ]
  },
  {
   "cell_type": "code",
   "execution_count": 15,
   "metadata": {},
   "outputs": [
    {
     "data": {
      "text/plain": [
       "-0.7435472612914101"
      ]
     },
     "execution_count": 15,
     "metadata": {},
     "output_type": "execute_result"
    }
   ],
   "source": [
    "emp_data_df_obj['AggrBehavScore'].corr(emp_data_df_obj['Salary'])"
   ]
  },
  {
   "cell_type": "code",
   "execution_count": 16,
   "metadata": {},
   "outputs": [
    {
     "data": {
      "text/plain": [
       "-0.7371005952086742"
      ]
     },
     "execution_count": 16,
     "metadata": {},
     "output_type": "execute_result"
    }
   ],
   "source": [
    "emp_data_df_obj['ActivityScore'].corr(emp_data_df_obj['Salary'])"
   ]
  },
  {
   "cell_type": "code",
   "execution_count": 17,
   "metadata": {},
   "outputs": [
    {
     "data": {
      "text/html": [
       "<div>\n",
       "<style scoped>\n",
       "    .dataframe tbody tr th:only-of-type {\n",
       "        vertical-align: middle;\n",
       "    }\n",
       "\n",
       "    .dataframe tbody tr th {\n",
       "        vertical-align: top;\n",
       "    }\n",
       "\n",
       "    .dataframe thead th {\n",
       "        text-align: right;\n",
       "    }\n",
       "</style>\n",
       "<table border=\"1\" class=\"dataframe\">\n",
       "  <thead>\n",
       "    <tr style=\"text-align: right;\">\n",
       "      <th></th>\n",
       "      <th>Experience</th>\n",
       "      <th>Salary</th>\n",
       "      <th>AggrBehavScore</th>\n",
       "      <th>ActivityScore</th>\n",
       "      <th>LinesOfCode</th>\n",
       "    </tr>\n",
       "  </thead>\n",
       "  <tbody>\n",
       "    <tr>\n",
       "      <th>Experience</th>\n",
       "      <td>1.000000</td>\n",
       "      <td>0.952689</td>\n",
       "      <td>-0.792169</td>\n",
       "      <td>-0.789136</td>\n",
       "      <td>-0.792308</td>\n",
       "    </tr>\n",
       "    <tr>\n",
       "      <th>Salary</th>\n",
       "      <td>0.952689</td>\n",
       "      <td>1.000000</td>\n",
       "      <td>-0.743547</td>\n",
       "      <td>-0.737101</td>\n",
       "      <td>-0.743612</td>\n",
       "    </tr>\n",
       "    <tr>\n",
       "      <th>AggrBehavScore</th>\n",
       "      <td>-0.792169</td>\n",
       "      <td>-0.743547</td>\n",
       "      <td>1.000000</td>\n",
       "      <td>0.998379</td>\n",
       "      <td>0.999999</td>\n",
       "    </tr>\n",
       "    <tr>\n",
       "      <th>ActivityScore</th>\n",
       "      <td>-0.789136</td>\n",
       "      <td>-0.737101</td>\n",
       "      <td>0.998379</td>\n",
       "      <td>1.000000</td>\n",
       "      <td>0.998368</td>\n",
       "    </tr>\n",
       "    <tr>\n",
       "      <th>LinesOfCode</th>\n",
       "      <td>-0.792308</td>\n",
       "      <td>-0.743612</td>\n",
       "      <td>0.999999</td>\n",
       "      <td>0.998368</td>\n",
       "      <td>1.000000</td>\n",
       "    </tr>\n",
       "  </tbody>\n",
       "</table>\n",
       "</div>"
      ],
      "text/plain": [
       "                Experience    Salary  AggrBehavScore  ActivityScore  \\\n",
       "Experience        1.000000  0.952689       -0.792169      -0.789136   \n",
       "Salary            0.952689  1.000000       -0.743547      -0.737101   \n",
       "AggrBehavScore   -0.792169 -0.743547        1.000000       0.998379   \n",
       "ActivityScore    -0.789136 -0.737101        0.998379       1.000000   \n",
       "LinesOfCode      -0.792308 -0.743612        0.999999       0.998368   \n",
       "\n",
       "                LinesOfCode  \n",
       "Experience        -0.792308  \n",
       "Salary            -0.743612  \n",
       "AggrBehavScore     0.999999  \n",
       "ActivityScore      0.998368  \n",
       "LinesOfCode        1.000000  "
      ]
     },
     "execution_count": 17,
     "metadata": {},
     "output_type": "execute_result"
    }
   ],
   "source": [
    "emp_data_df_obj.corr()"
   ]
  },
  {
   "cell_type": "code",
   "execution_count": 18,
   "metadata": {},
   "outputs": [
    {
     "data": {
      "image/png": "[encoded data removed]",
      "text/plain": [
       "<Figure size 864x648 with 2 Axes>"
      ]
     },
     "metadata": {
      "needs_background": "light"
     },
     "output_type": "display_data"
    }
   ],
   "source": [
    "plt.rcParams['xtick.major.pad']=60\n",
    "\n",
    "fig, ax = plt.subplots(figsize=(12,9)) \n",
    "heatmap = sns.heatmap(emp_data_df_obj.corr(), cmap='RdYlGn_r', fmt='.3f', annot=True,  \n",
    "                      clip_on=False, xticklabels=True, vmin=-1, vmax=1, linewidth=0.5, square=True)\n",
    "heatmap = plt.yticks(rotation=0)"
   ]
  },
  {
   "cell_type": "markdown",
   "metadata": {},
   "source": [
    "### Correlation coefficient show strength of Linear Relation only"
   ]
  },
  {
   "cell_type": "code",
   "execution_count": 20,
   "metadata": {},
   "outputs": [],
   "source": [
    "linear_set = pd.read_csv(\"../Data/linear_set.csv\")"
   ]
  },
  {
   "cell_type": "code",
   "execution_count": 21,
   "metadata": {},
   "outputs": [
    {
     "data": {
      "text/html": [
       "<div>\n",
       "<style scoped>\n",
       "    .dataframe tbody tr th:only-of-type {\n",
       "        vertical-align: middle;\n",
       "    }\n",
       "\n",
       "    .dataframe tbody tr th {\n",
       "        vertical-align: top;\n",
       "    }\n",
       "\n",
       "    .dataframe thead th {\n",
       "        text-align: right;\n",
       "    }\n",
       "</style>\n",
       "<table border=\"1\" class=\"dataframe\">\n",
       "  <thead>\n",
       "    <tr style=\"text-align: right;\">\n",
       "      <th></th>\n",
       "      <th>input_feature</th>\n",
       "      <th>output_feature</th>\n",
       "    </tr>\n",
       "  </thead>\n",
       "  <tbody>\n",
       "    <tr>\n",
       "      <th>0</th>\n",
       "      <td>1.056596</td>\n",
       "      <td>18.636465</td>\n",
       "    </tr>\n",
       "    <tr>\n",
       "      <th>1</th>\n",
       "      <td>0.894970</td>\n",
       "      <td>19.625405</td>\n",
       "    </tr>\n",
       "    <tr>\n",
       "      <th>2</th>\n",
       "      <td>1.342256</td>\n",
       "      <td>23.827783</td>\n",
       "    </tr>\n",
       "    <tr>\n",
       "      <th>3</th>\n",
       "      <td>0.586106</td>\n",
       "      <td>15.675223</td>\n",
       "    </tr>\n",
       "    <tr>\n",
       "      <th>4</th>\n",
       "      <td>0.293716</td>\n",
       "      <td>13.756129</td>\n",
       "    </tr>\n",
       "  </tbody>\n",
       "</table>\n",
       "</div>"
      ],
      "text/plain": [
       "   input_feature  output_feature\n",
       "0       1.056596       18.636465\n",
       "1       0.894970       19.625405\n",
       "2       1.342256       23.827783\n",
       "3       0.586106       15.675223\n",
       "4       0.293716       13.756129"
      ]
     },
     "execution_count": 21,
     "metadata": {},
     "output_type": "execute_result"
    }
   ],
   "source": [
    "linear_set.head()"
   ]
  },
  {
   "cell_type": "markdown",
   "metadata": {},
   "source": [
    "* Correlation coefficient shows strong positive relations"
   ]
  },
  {
   "cell_type": "code",
   "execution_count": 22,
   "metadata": {},
   "outputs": [
    {
     "name": "stdout",
     "output_type": "stream",
     "text": [
      "Correlation:  0.9789739146450531\n"
     ]
    }
   ],
   "source": [
    "print(\"Correlation: \", linear_set['input_feature'].corr(linear_set['output_feature']))"
   ]
  },
  {
   "cell_type": "markdown",
   "metadata": {},
   "source": [
    "* Scatter plot show the same strong positive "
   ]
  },
  {
   "cell_type": "code",
   "execution_count": 23,
   "metadata": {
    "scrolled": true
   },
   "outputs": [
    {
     "data": {
      "image/png": "[encoded data removed]",
      "text/plain": [
       "<Figure size 432x288 with 1 Axes>"
      ]
     },
     "metadata": {
      "needs_background": "light"
     },
     "output_type": "display_data"
    }
   ],
   "source": [
    "plt.rcParams['xtick.major.pad']=10\n",
    "scatter_plot = plt.scatter(linear_set.input_feature,\n",
    "                linear_set.output_feature, c=\"green\")"
   ]
  },
  {
   "cell_type": "code",
   "execution_count": 27,
   "metadata": {},
   "outputs": [],
   "source": [
    "ploy_set = pd.read_csv(\"../Data/polynomial_set.csv\")"
   ]
  },
  {
   "cell_type": "code",
   "execution_count": 28,
   "metadata": {},
   "outputs": [
    {
     "data": {
      "text/html": [
       "<div>\n",
       "<style scoped>\n",
       "    .dataframe tbody tr th:only-of-type {\n",
       "        vertical-align: middle;\n",
       "    }\n",
       "\n",
       "    .dataframe tbody tr th {\n",
       "        vertical-align: top;\n",
       "    }\n",
       "\n",
       "    .dataframe thead th {\n",
       "        text-align: right;\n",
       "    }\n",
       "</style>\n",
       "<table border=\"1\" class=\"dataframe\">\n",
       "  <thead>\n",
       "    <tr style=\"text-align: right;\">\n",
       "      <th></th>\n",
       "      <th>input_feature</th>\n",
       "      <th>output_feature</th>\n",
       "    </tr>\n",
       "  </thead>\n",
       "  <tbody>\n",
       "    <tr>\n",
       "      <th>0</th>\n",
       "      <td>0.753663</td>\n",
       "      <td>0.568008</td>\n",
       "    </tr>\n",
       "    <tr>\n",
       "      <th>1</th>\n",
       "      <td>-0.422477</td>\n",
       "      <td>0.178486</td>\n",
       "    </tr>\n",
       "    <tr>\n",
       "      <th>2</th>\n",
       "      <td>-0.998436</td>\n",
       "      <td>0.996874</td>\n",
       "    </tr>\n",
       "    <tr>\n",
       "      <th>3</th>\n",
       "      <td>0.885196</td>\n",
       "      <td>0.783571</td>\n",
       "    </tr>\n",
       "    <tr>\n",
       "      <th>4</th>\n",
       "      <td>2.882935</td>\n",
       "      <td>8.311313</td>\n",
       "    </tr>\n",
       "  </tbody>\n",
       "</table>\n",
       "</div>"
      ],
      "text/plain": [
       "   input_feature  output_feature\n",
       "0       0.753663        0.568008\n",
       "1      -0.422477        0.178486\n",
       "2      -0.998436        0.996874\n",
       "3       0.885196        0.783571\n",
       "4       2.882935        8.311313"
      ]
     },
     "execution_count": 28,
     "metadata": {},
     "output_type": "execute_result"
    }
   ],
   "source": [
    "ploy_set.head()"
   ]
  },
  {
   "cell_type": "markdown",
   "metadata": {},
   "source": [
    "* Correlation coefficient shows weak negetive relations"
   ]
  },
  {
   "cell_type": "code",
   "execution_count": 29,
   "metadata": {},
   "outputs": [
    {
     "name": "stdout",
     "output_type": "stream",
     "text": [
      "Correlation:  -0.2291649753066453\n"
     ]
    }
   ],
   "source": [
    "print(\"Correlation: \", ploy_set['input_feature'].corr(ploy_set['output_feature']))"
   ]
  },
  {
   "cell_type": "markdown",
   "metadata": {},
   "source": [
    "* Scatter plot show **STRONG** non-linear relationship, Correlation Coefficient failed to represent the same."
   ]
  },
  {
   "cell_type": "code",
   "execution_count": 30,
   "metadata": {},
   "outputs": [
    {
     "data": {
      "image/png": "[encoded data removed]",
      "text/plain": [
       "<Figure size 432x288 with 1 Axes>"
      ]
     },
     "metadata": {
      "needs_background": "light"
     },
     "output_type": "display_data"
    }
   ],
   "source": [
    "plt.rcParams['xtick.major.pad']=10\n",
    "scatter_plot = plt.scatter(ploy_set.input_feature,\n",
    "                ploy_set.output_feature, c=\"red\")"
   ]
  },
  {
   "cell_type": "markdown",
   "metadata": {},
   "source": [
    "### Hypothesis way of finding correlation"
   ]
  },
  {
   "cell_type": "code",
   "execution_count": 31,
   "metadata": {},
   "outputs": [],
   "source": [
    "import scipy as scipy"
   ]
  },
  {
   "cell_type": "code",
   "execution_count": 32,
   "metadata": {},
   "outputs": [
    {
     "name": "stdout",
     "output_type": "stream",
     "text": [
      "(0.9526886611352036, 4.606936903375533e-17)\n"
     ]
    }
   ],
   "source": [
    "from scipy.stats import pearsonr\n",
    "print(pearsonr(emp_data_df_obj['Experience'], emp_data_df_obj['Salary']))"
   ]
  },
  {
   "cell_type": "markdown",
   "metadata": {},
   "source": [
    "### Spearman Rank correlation \n",
    "  * When two columns are not on same/similar scale, Spearman Rank correlation is the best measure."
   ]
  },
  {
   "cell_type": "code",
   "execution_count": 33,
   "metadata": {},
   "outputs": [],
   "source": [
    "subject_df_obj = pd.DataFrame({'Stud #':['s1','s2','s3','s4','s5','s6','s7','s8','s9','s10','s11','s12','s13','s14','s15','s16','s17','s18','s19','s20'],\n",
    "                            'Subj-1':[1,6,9,7,22,35,47,68,51,69,78,79,82,91,85,98,99,99,100,100],\n",
    "                            'Subj-2':[1,2,3,3,3,4,4,5,5,5,5,7,3,7,9,9,10,10,10,10]})"
   ]
  },
  {
   "cell_type": "code",
   "execution_count": 34,
   "metadata": {},
   "outputs": [
    {
     "name": "stdout",
     "output_type": "stream",
     "text": [
      "(0.8735853242293616, 4.905560394811002e-07)\n"
     ]
    }
   ],
   "source": [
    "print(pearsonr(subject_df_obj['Subj-1'], subject_df_obj['Subj-2']))"
   ]
  },
  {
   "cell_type": "code",
   "execution_count": 35,
   "metadata": {},
   "outputs": [],
   "source": [
    "#subject_df_obj['Subj-2'].sample(20).reset_index(drop=True)"
   ]
  },
  {
   "cell_type": "code",
   "execution_count": 38,
   "metadata": {},
   "outputs": [
    {
     "name": "stdout",
     "output_type": "stream",
     "text": [
      "10000\n"
     ]
    }
   ],
   "source": [
    "corr_value = []\n",
    "for _ in range(10000):\n",
    "    sample_ser = subject_df_obj['Subj-2'].sample(20).reset_index(drop=True)\n",
    "    corr_value.append(subject_df_obj['Subj-1'].corr(sample_ser))\n",
    "    \n",
    "print(len(corr_value))    "
   ]
  },
  {
   "cell_type": "code",
   "execution_count": 39,
   "metadata": {},
   "outputs": [
    {
     "data": {
      "text/plain": [
       "<matplotlib.axes._subplots.AxesSubplot at 0x1ab7b11b4c0>"
      ]
     },
     "execution_count": 39,
     "metadata": {},
     "output_type": "execute_result"
    },
    {
     "data": {
      "image/png": "[encoded data removed]",
      "text/plain": [
       "<Figure size 432x288 with 1 Axes>"
      ]
     },
     "metadata": {
      "needs_background": "light"
     },
     "output_type": "display_data"
    }
   ],
   "source": [
    "ser_corr_values = pd.Series(corr_value)\n",
    "ser_corr_values.hist(bins=100)"
   ]
  },
  {
   "cell_type": "code",
   "execution_count": 40,
   "metadata": {},
   "outputs": [
    {
     "data": {
      "text/plain": [
       "-0.00017316272898955493"
      ]
     },
     "execution_count": 40,
     "metadata": {},
     "output_type": "execute_result"
    }
   ],
   "source": [
    "ser_corr_values.mean()"
   ]
  },
  {
   "cell_type": "code",
   "execution_count": 41,
   "metadata": {},
   "outputs": [
    {
     "data": {
      "text/plain": [
       "0.22735612050090626"
      ]
     },
     "execution_count": 41,
     "metadata": {},
     "output_type": "execute_result"
    }
   ],
   "source": [
    "ser_corr_values.std()"
   ]
  },
  {
   "cell_type": "code",
   "execution_count": 42,
   "metadata": {},
   "outputs": [
    {
     "name": "stdout",
     "output_type": "stream",
     "text": [
      "z_socre_0_8735853242293616 :  3.843127183175473\n"
     ]
    }
   ],
   "source": [
    "z_socre_0_8735853242293616 = (0.8735853242293616 - ser_corr_values.mean())/ser_corr_values.std()\n",
    "print('z_socre_0_8735853242293616 : ', z_socre_0_8735853242293616)"
   ]
  },
  {
   "cell_type": "code",
   "execution_count": 121,
   "metadata": {},
   "outputs": [
    {
     "data": {
      "text/plain": [
       "12     3\n",
       "4      3\n",
       "0      1\n",
       "10     5\n",
       "18    10\n",
       "19    10\n",
       "2      3\n",
       "1      2\n",
       "5      4\n",
       "17    10\n",
       "14     9\n",
       "9      5\n",
       "6      4\n",
       "11     7\n",
       "16    10\n",
       "8      5\n",
       "15     9\n",
       "13     7\n",
       "3      3\n",
       "7      5\n",
       "Name: Subj-2, dtype: int64"
      ]
     },
     "execution_count": 121,
     "metadata": {},
     "output_type": "execute_result"
    }
   ],
   "source": [
    "sample_ser"
   ]
  },
  {
   "cell_type": "code",
   "execution_count": null,
   "metadata": {},
   "outputs": [],
   "source": []
  },
  {
   "cell_type": "code",
   "execution_count": null,
   "metadata": {},
   "outputs": [],
   "source": []
  },
  {
   "cell_type": "code",
   "execution_count": 40,
   "metadata": {},
   "outputs": [
    {
     "name": "stdout",
     "output_type": "stream",
     "text": [
      "SpearmanrResult(correlation=0.9257788447703607, pvalue=4.947873505394008e-09)\n"
     ]
    }
   ],
   "source": [
    "from scipy.stats import spearmanr\n",
    "print(spearmanr(subject_df_obj['Subj-1'], subject_df_obj['Subj-2']))"
   ]
  },
  {
   "cell_type": "code",
   "execution_count": 41,
   "metadata": {},
   "outputs": [
    {
     "name": "stdout",
     "output_type": "stream",
     "text": [
      "0      1.0\n",
      "1      2.0\n",
      "2      4.0\n",
      "3      3.0\n",
      "4      5.0\n",
      "5      6.0\n",
      "6      7.0\n",
      "7      9.0\n",
      "8      8.0\n",
      "9     10.0\n",
      "10    11.0\n",
      "11    12.0\n",
      "12    13.0\n",
      "13    15.0\n",
      "14    14.0\n",
      "15    16.0\n",
      "16    17.5\n",
      "17    17.5\n",
      "18    19.5\n",
      "19    19.5\n",
      "Name: Subj-1, dtype: float64\n"
     ]
    }
   ],
   "source": [
    "subj1_rank = subject_df_obj['Subj-1'].rank()\n",
    "print(subj1_rank)"
   ]
  },
  {
   "cell_type": "code",
   "execution_count": 42,
   "metadata": {},
   "outputs": [
    {
     "name": "stdout",
     "output_type": "stream",
     "text": [
      "0      1.0\n",
      "1      2.0\n",
      "2      4.5\n",
      "3      4.5\n",
      "4      4.5\n",
      "5      7.5\n",
      "6      7.5\n",
      "7     10.5\n",
      "8     10.5\n",
      "9     10.5\n",
      "10    10.5\n",
      "11    13.5\n",
      "12     4.5\n",
      "13    13.5\n",
      "14    15.5\n",
      "15    15.5\n",
      "16    18.5\n",
      "17    18.5\n",
      "18    18.5\n",
      "19    18.5\n",
      "Name: Subj-2, dtype: float64\n"
     ]
    }
   ],
   "source": [
    "subj2_rank = subject_df_obj['Subj-2'].rank()\n",
    "print(subj2_rank)"
   ]
  },
  {
   "cell_type": "code",
   "execution_count": 43,
   "metadata": {},
   "outputs": [
    {
     "name": "stdout",
     "output_type": "stream",
     "text": [
      "(0.9257788447703605, 4.947873505394076e-09)\n"
     ]
    }
   ],
   "source": [
    "print(pearsonr(subj1_rank, subj2_rank))"
   ]
  },
  {
   "cell_type": "markdown",
   "metadata": {},
   "source": [
    "### Correlation is not causation - Confounding Variables"
   ]
  },
  {
   "cell_type": "code",
   "execution_count": 44,
   "metadata": {},
   "outputs": [],
   "source": [
    "df_fire_fighter = pd.DataFrame({'Fire Fighter Count':[10, 20,30,40,50],\n",
    "                            'Num of Casualties':[1,2,3,4,5],\n",
    "                            'Area Sq km':[10,20,30,40,50]})"
   ]
  },
  {
   "cell_type": "code",
   "execution_count": 45,
   "metadata": {},
   "outputs": [
    {
     "data": {
      "text/plain": [
       "<Figure size 720x360 with 0 Axes>"
      ]
     },
     "metadata": {},
     "output_type": "display_data"
    },
    {
     "data": {
      "image/png": "[encoded data removed]",
      "text/plain": [
       "<Figure size 360x360 with 1 Axes>"
      ]
     },
     "metadata": {
      "needs_background": "light"
     },
     "output_type": "display_data"
    },
    {
     "data": {
      "image/png": "[encoded data removed]",
      "text/plain": [
       "<Figure size 360x360 with 1 Axes>"
      ]
     },
     "metadata": {
      "needs_background": "light"
     },
     "output_type": "display_data"
    }
   ],
   "source": [
    "fig = plt.figure(figsize=(10, 5))\n",
    "\n",
    "g1 = sns.catplot(x='Fire Fighter Count', y='Num of Casualties',\n",
    "                data=df_fire_fighter,\n",
    "                kind=\"bar\", ci=None)\n",
    "\n",
    "g2 =sns.catplot(x='Area Sq km', y='Num of Casualties',\n",
    "                data=df_fire_fighter,\n",
    "                kind=\"bar\", ci=None)"
   ]
  },
  {
   "cell_type": "code",
   "execution_count": 46,
   "metadata": {},
   "outputs": [
    {
     "data": {
      "text/plain": [
       "Index(['Emp #', 'Designation', 'Experience', 'Salary', 'AggrBehavScore',\n",
       "       'ActivityScore', 'LinesOfCode'],\n",
       "      dtype='object')"
      ]
     },
     "execution_count": 46,
     "metadata": {},
     "output_type": "execute_result"
    }
   ],
   "source": [
    "emp_data_df_obj.columns"
   ]
  },
  {
   "cell_type": "code",
   "execution_count": 47,
   "metadata": {},
   "outputs": [
    {
     "data": {
      "text/plain": [
       "Text(0, 0.5, 'LinesOfCode')"
      ]
     },
     "execution_count": 47,
     "metadata": {},
     "output_type": "execute_result"
    },
    {
     "data": {
      "image/png": "[encoded data removed]",
      "text/plain": [
       "<Figure size 432x288 with 1 Axes>"
      ]
     },
     "metadata": {
      "needs_background": "light"
     },
     "output_type": "display_data"
    }
   ],
   "source": [
    "plt.rcParams['xtick.major.pad']=10\n",
    "scatter_plot = plt.scatter(emp_data_df_obj.Salary, emp_data_df_obj.LinesOfCode, color='red')\n",
    "plt.xlabel(\"Salary\")\n",
    "plt.ylabel(\"LinesOfCode\")"
   ]
  },
  {
   "cell_type": "code",
   "execution_count": 48,
   "metadata": {},
   "outputs": [
    {
     "data": {
      "text/plain": [
       "Text(0, 0.5, 'Experience')"
      ]
     },
     "execution_count": 48,
     "metadata": {},
     "output_type": "execute_result"
    },
    {
     "data": {
      "image/png": "[encoded data removed]",
      "text/plain": [
       "<Figure size 432x288 with 1 Axes>"
      ]
     },
     "metadata": {
      "needs_background": "light"
     },
     "output_type": "display_data"
    }
   ],
   "source": [
    "scatter_plot = plt.scatter(emp_data_df_obj.Salary, emp_data_df_obj.Experience,  color='green')\n",
    "plt.xlabel(\"Salary\")\n",
    "plt.ylabel(\"Experience\")"
   ]
  },
  {
   "cell_type": "code",
   "execution_count": 63,
   "metadata": {},
   "outputs": [],
   "source": [
    "subject_df_obj1 = pd.DataFrame({'Stud #':['s1','s2','s3','s4','s5','s6','s7','s8','s9','s10','s11','s12','s13','s14','s15','s16','s17','s18','s19','s20'],\n",
    "                            'Subj-1':[5,5,5,5,5,5,5,5,5,5,5,7,5,5,8,5,5,5,5,5],\n",
    "                            'Subj-2':[5,5,5,5,5,5,5,5,5,5,5,5,7,5,5,6,5,5,5,5]})"
   ]
  },
  {
   "cell_type": "code",
   "execution_count": 64,
   "metadata": {},
   "outputs": [
    {
     "name": "stdout",
     "output_type": "stream",
     "text": [
      "(-0.10257384413249268, 0.6669589740461499)\n"
     ]
    }
   ],
   "source": [
    "print(pearsonr(subject_df_obj1['Subj-1'], subject_df_obj1['Subj-2']))"
   ]
  },
  {
   "cell_type": "code",
   "execution_count": 65,
   "metadata": {},
   "outputs": [
    {
     "data": {
      "text/plain": [
       "-0.1025738441324927"
      ]
     },
     "execution_count": 65,
     "metadata": {},
     "output_type": "execute_result"
    }
   ],
   "source": [
    "subject_df_obj1['Subj-1'].corr(subject_df_obj1['Subj-2'])"
   ]
  },
  {
   "cell_type": "code",
   "execution_count": 67,
   "metadata": {},
   "outputs": [
    {
     "data": {
      "text/plain": [
       "5     5\n",
       "2     5\n",
       "13    5\n",
       "6     5\n",
       "18    5\n",
       "8     5\n",
       "17    5\n",
       "19    5\n",
       "3     5\n",
       "1     5\n",
       "7     5\n",
       "9     5\n",
       "16    5\n",
       "15    6\n",
       "4     5\n",
       "14    5\n",
       "11    5\n",
       "12    7\n",
       "0     5\n",
       "10    5\n",
       "Name: Subj-2, dtype: int64"
      ]
     },
     "execution_count": 67,
     "metadata": {},
     "output_type": "execute_result"
    }
   ],
   "source": []
  },
  {
   "cell_type": "code",
   "execution_count": 228,
   "metadata": {},
   "outputs": [
    {
     "data": {
      "text/plain": [
       "0.4444866579074683"
      ]
     },
     "execution_count": 228,
     "metadata": {},
     "output_type": "execute_result"
    }
   ],
   "source": [
    "sample_ser1 = subject_df_obj1['Subj-2'].sample(20).reset_index(drop=True)\n",
    "subject_df_obj1['Subj-1'].corr(sample_ser1)"
   ]
  }
 ],
 "metadata": {
  "kernelspec": {
   "display_name": "Python 3",
   "language": "python",
   "name": "python3"
  },
  "language_info": {
   "codemirror_mode": {
    "name": "ipython",
    "version": 3
   },
   "file_extension": ".py",
   "mimetype": "text/x-python",
   "name": "python",
   "nbconvert_exporter": "python",
   "pygments_lexer": "ipython3",
   "version": "3.8.3"
  }
 },
 "nbformat": 4,
 "nbformat_minor": 2
}
