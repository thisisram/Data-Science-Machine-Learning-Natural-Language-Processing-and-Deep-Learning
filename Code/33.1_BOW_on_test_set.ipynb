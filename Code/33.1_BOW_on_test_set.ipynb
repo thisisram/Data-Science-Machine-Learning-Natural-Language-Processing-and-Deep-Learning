{
 "cells": [
  {
   "cell_type": "code",
   "execution_count": 1,
   "metadata": {},
   "outputs": [],
   "source": [
    "import numpy as np\n",
    "import matplotlib.pyplot as plt\n",
    "import pandas as pd\n",
    "import os\n",
    "\n",
    "import re\n",
    "import nltk\n",
    "from nltk.corpus import stopwords\n",
    "from nltk.stem.porter import PorterStemmer\n",
    "\n",
    "import time\n",
    "from datetime import timedelta\n",
    "\n",
    "import pickle"
   ]
  },
  {
   "cell_type": "code",
   "execution_count": 2,
   "metadata": {},
   "outputs": [],
   "source": [
    "# time = time.time()\n",
    "def elapsed_time(start_time, end_time):\n",
    "    elapsed_time_secs = end_time - start_time\n",
    "    return timedelta(seconds=round(elapsed_time_secs))"
   ]
  },
  {
   "cell_type": "code",
   "execution_count": 3,
   "metadata": {},
   "outputs": [],
   "source": [
    "imdb_test = pd.read_csv('C:/Users/thisi/Workspace/AI_dataset/IMDB/imdb_test.csv')"
   ]
  },
  {
   "cell_type": "code",
   "execution_count": 4,
   "metadata": {},
   "outputs": [
    {
     "data": {
      "text/plain": [
       "(25000, 3)"
      ]
     },
     "execution_count": 4,
     "metadata": {},
     "output_type": "execute_result"
    }
   ],
   "source": [
    "imdb_test.shape"
   ]
  },
  {
   "cell_type": "code",
   "execution_count": 5,
   "metadata": {},
   "outputs": [
    {
     "data": {
      "text/plain": [
       "Index(['row_number', 'review', 'polarity'], dtype='object')"
      ]
     },
     "execution_count": 5,
     "metadata": {},
     "output_type": "execute_result"
    }
   ],
   "source": [
    "imdb_test.columns"
   ]
  },
  {
   "cell_type": "code",
   "execution_count": 6,
   "metadata": {},
   "outputs": [
    {
     "data": {
      "text/html": [
       "<div>\n",
       "<style scoped>\n",
       "    .dataframe tbody tr th:only-of-type {\n",
       "        vertical-align: middle;\n",
       "    }\n",
       "\n",
       "    .dataframe tbody tr th {\n",
       "        vertical-align: top;\n",
       "    }\n",
       "\n",
       "    .dataframe thead th {\n",
       "        text-align: right;\n",
       "    }\n",
       "</style>\n",
       "<table border=\"1\" class=\"dataframe\">\n",
       "  <thead>\n",
       "    <tr style=\"text-align: right;\">\n",
       "      <th></th>\n",
       "      <th>row_number</th>\n",
       "      <th>review</th>\n",
       "      <th>polarity</th>\n",
       "    </tr>\n",
       "  </thead>\n",
       "  <tbody>\n",
       "    <tr>\n",
       "      <th>0</th>\n",
       "      <td>3748</td>\n",
       "      <td>A perennial fixture in the IMDb Bottom 100, up...</td>\n",
       "      <td>0</td>\n",
       "    </tr>\n",
       "    <tr>\n",
       "      <th>1</th>\n",
       "      <td>9583</td>\n",
       "      <td>I originally posted the first user comment on ...</td>\n",
       "      <td>1</td>\n",
       "    </tr>\n",
       "    <tr>\n",
       "      <th>2</th>\n",
       "      <td>11270</td>\n",
       "      <td>For those who have enjoyed the Asterix books a...</td>\n",
       "      <td>1</td>\n",
       "    </tr>\n",
       "    <tr>\n",
       "      <th>3</th>\n",
       "      <td>1759</td>\n",
       "      <td>When moviegoers hear two popular villains/char...</td>\n",
       "      <td>0</td>\n",
       "    </tr>\n",
       "    <tr>\n",
       "      <th>4</th>\n",
       "      <td>2480</td>\n",
       "      <td>This movie was a suprise for me while I was su...</td>\n",
       "      <td>1</td>\n",
       "    </tr>\n",
       "  </tbody>\n",
       "</table>\n",
       "</div>"
      ],
      "text/plain": [
       "   row_number                                             review  polarity\n",
       "0        3748  A perennial fixture in the IMDb Bottom 100, up...         0\n",
       "1        9583  I originally posted the first user comment on ...         1\n",
       "2       11270  For those who have enjoyed the Asterix books a...         1\n",
       "3        1759  When moviegoers hear two popular villains/char...         0\n",
       "4        2480  This movie was a suprise for me while I was su...         1"
      ]
     },
     "execution_count": 6,
     "metadata": {},
     "output_type": "execute_result"
    }
   ],
   "source": [
    "imdb_test.head()"
   ]
  },
  {
   "cell_type": "code",
   "execution_count": 7,
   "metadata": {},
   "outputs": [],
   "source": [
    "from nltk.stem import WordNetLemmatizer\n",
    "\n",
    "from nltk.parse.corenlp import CoreNLPParser \n",
    "st_parser = CoreNLPParser(url='http://localhost:9000')\n",
    "\n",
    "def lemma_normalize_text(reviews):\n",
    "    for i in range(reviews.shape[0]):\n",
    "        review = str(reviews[i]).lower()\n",
    "        review = re.sub('[^\\d\\w]', ' ', reviews[i])\n",
    "        tokens = st_parser.tokenize(review)\n",
    "        lem = WordNetLemmatizer()\n",
    "        review = [lem.lemmatize(word) for word in tokens if not word in set(stopwords.words('english'))]\n",
    "        review = ' '.join(review)\n",
    "        yield review"
   ]
  },
  {
   "cell_type": "code",
   "execution_count": 8,
   "metadata": {},
   "outputs": [],
   "source": [
    "#start_time = time.time()\n",
    "\n",
    "#lemma_corpus = []\n",
    "#for review in lemma_normalize_text(imdb_test['review']):\n",
    "#    lemma_corpus.append(review) \n",
    "    \n",
    "#end_time = time.time()\n",
    "#print(\"Time taken to execute: \", elapsed_time(start_time, end_time))\n",
    "\n",
    "#### Time taken to execute:  0:55:57"
   ]
  },
  {
   "cell_type": "code",
   "execution_count": 9,
   "metadata": {},
   "outputs": [],
   "source": [
    "\n",
    "# Save to disk\n",
    "#filename = 'C:/Users/thisi/Workspace/AI_dataset/IMDB/imdb_test_lemma_corpus.sav'\n",
    "#pickle.dump(lemma_corpus, open(filename, 'wb'))"
   ]
  },
  {
   "cell_type": "code",
   "execution_count": 10,
   "metadata": {},
   "outputs": [],
   "source": [
    "# load from disk\n",
    "filename = 'C:/Users/thisi/Workspace/AI_dataset/IMDB/imdb_test_lemma_corpus.sav'\n",
    "lemma_corpus = pickle.load(open(filename, 'rb'))"
   ]
  },
  {
   "cell_type": "code",
   "execution_count": 11,
   "metadata": {},
   "outputs": [
    {
     "name": "stdout",
     "output_type": "stream",
     "text": [
      "['A perennial fixture IMDb Bottom 100 upon viewing hard see exactly prof fail utterly miserably every bloody department going br br Take editing start call choppy would overly complimentary Indeed maker got drunk one night sliced diced film reel scissors child glue resulting mess could hardly worse actually Added inane story drag mercilessly seems like torturous infinity finally reach decidedly lacklustre climax br br Aside ever game Michael Sopkiw poor performance rest cast exactly help matter either actual beastie causing trouble somewhat le convincing put mildly Yay verily complete pile crap ever I seen one br br Deary deary think Lamberto Bava directed tut tut indeed br br Note This released UK alternative title Devouring Waves although bereft gore scene ironically reason may worth watching', 'I originally posted first user comment movie claimed crap didnt make sense I DIDNT MAKE SENSE Campfire tale thoroughly enjoying film im 2 year older watched last night The actor famous TOO famous The acting acceptable rather good I rate movie per segment film br br 1 The black white scene A K A The Hook This one rather pointless looked good didnt hold much grip disappointing one dont think even included segment Here scare meter br br Poor br br 2 The R V Story honeymooner stuck wood Possibly entertaining tale acting good one dissapointing bout typical caravan sex scene Yet intruiging think WHo knocking door It suspense gory Liked one br br Very Good br br 3 Internet Chat Tale Little Girl Meets Psycho This smart addition gore left minimal fright left EXTREME Although dull time last minute entertaining dont get wrong still fun watch Real creepy could happen anybody watch youre talking br br Very Good br br 4 Ghost Tale Man kiss ghost Not best wasnt atmospheric ghost tale This one strange aspect rather good playing music screaming everything real ghastly although good quiet bloody could better idea br br Acceptable br br 5 The Ending 4 lost teenager These 2 attractive gal guy telling tale film The best thing film definantley ending set great impression ending totally un expected Watch well done realism spectacular br br TOP NOTCH br br 6 THE FILM OVERALL Campfire tale used take actually like much im buying video cause truly entertaining horror movie forget trash see day like many im dissapointed didnt really go nowhere straight video better hype horror see day Overall Campfire Tales br br Very Good br br 8 10', 'For enjoyed Asterix book film LOVE film Yes I admit mix book film character brilliant people showing CGI left right centre I already seen several time laughed sock br br Of course contains main hero Asterix AstÃ rix Obelix ObÃ lix Dogmatix IdÃ fix time someone new deal br br With sense humour like Gauls go Bless em']\n"
     ]
    }
   ],
   "source": [
    "print(lemma_corpus[0:3])"
   ]
  },
  {
   "cell_type": "code",
   "execution_count": 12,
   "metadata": {},
   "outputs": [
    {
     "data": {
      "text/plain": [
       "25000"
      ]
     },
     "execution_count": 12,
     "metadata": {},
     "output_type": "execute_result"
    }
   ],
   "source": [
    "len(lemma_corpus)"
   ]
  },
  {
   "cell_type": "code",
   "execution_count": 13,
   "metadata": {},
   "outputs": [
    {
     "name": "stdout",
     "output_type": "stream",
     "text": [
      "Time taken to execute:  0:00:13\n"
     ]
    }
   ],
   "source": [
    "#from sklearn.feature_extraction.text import CountVectorizer\n",
    "\n",
    "filename = './models/IMDB/imdb_count_vectorizer.pkl'\n",
    "cv = pickle.load(open(filename, 'rb'))\n",
    "\n",
    "start_time = time.time()\n",
    "X_test = cv.transform(lemma_corpus).toarray()\n",
    "y_test = imdb_test['polarity'].values\n",
    "end_time = time.time()\n",
    "\n",
    "print(\"Time taken to execute: \", elapsed_time(start_time, end_time))"
   ]
  },
  {
   "cell_type": "code",
   "execution_count": 15,
   "metadata": {},
   "outputs": [
    {
     "data": {
      "text/plain": [
       "(25000, 70340)"
      ]
     },
     "execution_count": 15,
     "metadata": {},
     "output_type": "execute_result"
    }
   ],
   "source": [
    "X_test.shape"
   ]
  },
  {
   "cell_type": "code",
   "execution_count": 16,
   "metadata": {},
   "outputs": [
    {
     "name": "stdout",
     "output_type": "stream",
     "text": [
      "0.8484\n"
     ]
    }
   ],
   "source": [
    "#from sklearn.linear_model import SGDClassifier\n",
    "from sklearn.metrics import accuracy_score\n",
    "\n",
    "filename = './models/IMDB/imdb_linear_model.pkl'\n",
    "lm = pickle.load(open(filename, 'rb'))\n",
    "\n",
    "y_test_pred = lm.predict(X_test) \n",
    "accu = accuracy_score(y_test, y_test_pred)\n",
    "print(accu)\n",
    "## Got 0.93864 accuracy on TRAIN set"
   ]
  },
  {
   "cell_type": "code",
   "execution_count": null,
   "metadata": {},
   "outputs": [],
   "source": []
  }
 ],
 "metadata": {
  "kernelspec": {
   "display_name": "Python 3",
   "language": "python",
   "name": "python3"
  },
  "language_info": {
   "codemirror_mode": {
    "name": "ipython",
    "version": 3
   },
   "file_extension": ".py",
   "mimetype": "text/x-python",
   "name": "python",
   "nbconvert_exporter": "python",
   "pygments_lexer": "ipython3",
   "version": "3.8.3"
  }
 },
 "nbformat": 4,
 "nbformat_minor": 2
}
