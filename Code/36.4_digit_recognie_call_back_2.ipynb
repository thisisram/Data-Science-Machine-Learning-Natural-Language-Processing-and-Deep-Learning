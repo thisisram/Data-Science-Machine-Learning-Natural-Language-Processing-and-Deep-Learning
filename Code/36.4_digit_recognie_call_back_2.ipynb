{
 "cells": [
  {
   "cell_type": "code",
   "execution_count": 1,
   "metadata": {},
   "outputs": [],
   "source": [
    "import tensorflow as tf\n",
    "import pandas as pd\n",
    "import numpy as np"
   ]
  },
  {
   "cell_type": "code",
   "execution_count": 2,
   "metadata": {},
   "outputs": [
    {
     "name": "stdout",
     "output_type": "stream",
     "text": [
      "2.4.1\n"
     ]
    }
   ],
   "source": [
    "print(tf.__version__)"
   ]
  },
  {
   "cell_type": "code",
   "execution_count": 3,
   "metadata": {},
   "outputs": [],
   "source": [
    "digits = pd.read_csv('../data/digit_recognizer_train.csv')"
   ]
  },
  {
   "cell_type": "code",
   "execution_count": 4,
   "metadata": {},
   "outputs": [
    {
     "data": {
      "text/plain": [
       "(42000, 785)"
      ]
     },
     "execution_count": 4,
     "metadata": {},
     "output_type": "execute_result"
    }
   ],
   "source": [
    "digits.shape"
   ]
  },
  {
   "cell_type": "code",
   "execution_count": 5,
   "metadata": {},
   "outputs": [
    {
     "data": {
      "text/plain": [
       "Index(['label', 'pixel0', 'pixel1', 'pixel2', 'pixel3', 'pixel4', 'pixel5',\n",
       "       'pixel6', 'pixel7', 'pixel8',\n",
       "       ...\n",
       "       'pixel774', 'pixel775', 'pixel776', 'pixel777', 'pixel778', 'pixel779',\n",
       "       'pixel780', 'pixel781', 'pixel782', 'pixel783'],\n",
       "      dtype='object', length=785)"
      ]
     },
     "execution_count": 5,
     "metadata": {},
     "output_type": "execute_result"
    }
   ],
   "source": [
    "digits.columns"
   ]
  },
  {
   "cell_type": "code",
   "execution_count": 6,
   "metadata": {},
   "outputs": [],
   "source": [
    "X = digits.iloc[:, 1:]\n",
    "y = digits.iloc[:, 0]"
   ]
  },
  {
   "cell_type": "code",
   "execution_count": 7,
   "metadata": {},
   "outputs": [],
   "source": [
    "from sklearn.model_selection import train_test_split"
   ]
  },
  {
   "cell_type": "code",
   "execution_count": 8,
   "metadata": {},
   "outputs": [],
   "source": [
    "X_train, X_test, y_train, y_test = train_test_split(X, y, test_size=0.2, random_state=42)"
   ]
  },
  {
   "cell_type": "code",
   "execution_count": 9,
   "metadata": {},
   "outputs": [],
   "source": [
    "from sklearn.preprocessing import StandardScaler"
   ]
  },
  {
   "cell_type": "code",
   "execution_count": 10,
   "metadata": {},
   "outputs": [],
   "source": [
    "X_train = X_train.astype(np.float64)\n",
    "X_test = X_test.astype(np.float64)"
   ]
  },
  {
   "cell_type": "code",
   "execution_count": 11,
   "metadata": {},
   "outputs": [],
   "source": [
    "X_train, X_valid, y_train, y_valid = train_test_split(X_train, y_train, test_size=0.2, random_state=42)"
   ]
  },
  {
   "cell_type": "code",
   "execution_count": 12,
   "metadata": {},
   "outputs": [],
   "source": [
    "sc = StandardScaler()\n",
    "X_train = sc.fit_transform(X_train)\n",
    "X_valid = sc.fit_transform(X_valid)\n",
    "\n",
    "X_test = sc.transform(X_test)"
   ]
  },
  {
   "cell_type": "code",
   "execution_count": 13,
   "metadata": {},
   "outputs": [],
   "source": [
    "from tensorflow.keras import Sequential\n",
    "from tensorflow.keras.layers import Flatten, Dense\n",
    "from tensorflow.keras.callbacks import ModelCheckpoint\n",
    "from tensorflow.keras.models import load_model"
   ]
  },
  {
   "cell_type": "code",
   "execution_count": 15,
   "metadata": {},
   "outputs": [],
   "source": [
    "model = Sequential()\n",
    "model.add(Flatten())\n",
    "model.add( Dense(128, activation = 'relu', kernel_regularizer=tf.keras.regularizers.l1(l=0.001))   )\n",
    "model.add( Dense(64, activation = 'relu', kernel_regularizer=tf.keras.regularizers.l1(l=0.001))  )\n",
    "model.add( Dense(10, activation = 'softmax'))"
   ]
  },
  {
   "cell_type": "markdown",
   "metadata": {},
   "source": [
    "#### Model Check Point Call Back"
   ]
  },
  {
   "cell_type": "code",
   "execution_count": 16,
   "metadata": {},
   "outputs": [
    {
     "name": "stdout",
     "output_type": "stream",
     "text": [
      "Epoch 1/10\n",
      "840/840 [==============================] - 1s 1ms/step - loss: 5.7074 - val_loss: 4.3020\n",
      "Epoch 2/10\n",
      "840/840 [==============================] - 1s 1ms/step - loss: 4.0676 - val_loss: 3.4821\n",
      "Epoch 3/10\n",
      "840/840 [==============================] - 1s 1ms/step - loss: 3.2821 - val_loss: 2.7989\n",
      "Epoch 4/10\n",
      "840/840 [==============================] - 1s 1ms/step - loss: 2.6210 - val_loss: 2.2272\n",
      "Epoch 5/10\n",
      "840/840 [==============================] - 1s 1ms/step - loss: 2.0780 - val_loss: 1.7542\n",
      "Epoch 6/10\n",
      "840/840 [==============================] - 1s 1ms/step - loss: 1.6306 - val_loss: 1.3920\n",
      "Epoch 7/10\n",
      "840/840 [==============================] - 1s 1ms/step - loss: 1.2924 - val_loss: 1.1188\n",
      "Epoch 8/10\n",
      "840/840 [==============================] - 1s 1ms/step - loss: 1.0508 - val_loss: 0.9360\n",
      "Epoch 9/10\n",
      "840/840 [==============================] - 1s 1ms/step - loss: 0.8775 - val_loss: 0.8166\n",
      "Epoch 10/10\n",
      "840/840 [==============================] - 1s 1ms/step - loss: 0.7737 - val_loss: 0.7543\n",
      "263/263 [==============================] - 0s 661us/step - loss: 0.8095\n",
      "0.8095034956932068\n"
     ]
    }
   ],
   "source": [
    "model.compile(loss=\"sparse_categorical_crossentropy\", optimizer=tf.keras.optimizers.SGD())\n",
    "\n",
    "checkpoint_callback = ModelCheckpoint(\"./models/1/digit_ckpt_keras_model.{epoch:02d}-{val_loss:.2f}.h5\", save_best_only=True)\n",
    "\n",
    "history = model.fit(X_train, y_train.values, epochs=10,\n",
    "                    validation_data=(X_valid, y_valid.values),\n",
    "                    callbacks=[checkpoint_callback])\n",
    "\n",
    "model.save(\"digit_ckpt_keras_model.h5\")\n",
    "\n",
    "model = load_model(\"digit_ckpt_keras_model.h5\") # rollback to best model\n",
    "print(model.evaluate(X_test, y_test.values))"
   ]
  },
  {
   "cell_type": "code",
   "execution_count": 17,
   "metadata": {},
   "outputs": [],
   "source": [
    "from sklearn.metrics import accuracy_score"
   ]
  },
  {
   "cell_type": "code",
   "execution_count": 27,
   "metadata": {},
   "outputs": [],
   "source": [
    "y_pred = model.predict(X_test)"
   ]
  },
  {
   "cell_type": "code",
   "execution_count": 28,
   "metadata": {},
   "outputs": [
    {
     "data": {
      "text/plain": [
       "(8400, 10)"
      ]
     },
     "execution_count": 28,
     "metadata": {},
     "output_type": "execute_result"
    }
   ],
   "source": [
    "y_pred.shape"
   ]
  },
  {
   "cell_type": "code",
   "execution_count": 32,
   "metadata": {},
   "outputs": [
    {
     "data": {
      "text/plain": [
       "array([1.6268167e-04, 9.8381084e-01, 2.3262992e-03, 2.0189798e-03,\n",
       "       4.4764986e-04, 1.9343352e-03, 1.2929513e-03, 1.9880263e-03,\n",
       "       5.3740940e-03, 6.4420037e-04], dtype=float32)"
      ]
     },
     "execution_count": 32,
     "metadata": {},
     "output_type": "execute_result"
    }
   ],
   "source": [
    "y_pred[1]"
   ]
  },
  {
   "cell_type": "code",
   "execution_count": 33,
   "metadata": {},
   "outputs": [
    {
     "data": {
      "text/plain": [
       "1"
      ]
     },
     "execution_count": 33,
     "metadata": {},
     "output_type": "execute_result"
    }
   ],
   "source": [
    "np.argmax(y_pred[1])"
   ]
  },
  {
   "cell_type": "code",
   "execution_count": 34,
   "metadata": {},
   "outputs": [
    {
     "name": "stdout",
     "output_type": "stream",
     "text": [
      "[8 1 9 ... 3 0 9]\n"
     ]
    }
   ],
   "source": [
    "y_pred = np.argmax(y_pred, axis =1)\n",
    "print(y_pred)"
   ]
  },
  {
   "cell_type": "code",
   "execution_count": 36,
   "metadata": {},
   "outputs": [
    {
     "data": {
      "text/plain": [
       "0.9441666666666667"
      ]
     },
     "execution_count": 36,
     "metadata": {},
     "output_type": "execute_result"
    }
   ],
   "source": [
    "accuracy_score(y_test, y_pred)"
   ]
  },
  {
   "cell_type": "code",
   "execution_count": 37,
   "metadata": {},
   "outputs": [
    {
     "data": {
      "text/plain": [
       "array([[9.7506400e-04, 1.7963130e-02, 3.5624377e-02, ..., 8.3646580e-04,\n",
       "        9.3254596e-01, 4.3755109e-04],\n",
       "       [1.6268167e-04, 9.8381084e-01, 2.3262992e-03, ..., 1.9880263e-03,\n",
       "        5.3740940e-03, 6.4420037e-04],\n",
       "       [2.6364459e-04, 2.8586353e-04, 9.3295428e-05, ..., 3.0094042e-02,\n",
       "        1.6881042e-03, 9.3501198e-01],\n",
       "       ...,\n",
       "       [7.9149926e-05, 3.9242712e-04, 4.8487663e-04, ..., 9.3709496e-05,\n",
       "        9.7047072e-04, 2.1824983e-04],\n",
       "       [9.8072219e-01, 2.0462276e-04, 2.6375107e-03, ..., 3.7204067e-03,\n",
       "        2.4155817e-04, 5.0028990e-04],\n",
       "       [3.6802128e-04, 3.1165319e-04, 1.3954145e-03, ..., 7.8226263e-03,\n",
       "        5.0225728e-03, 9.5235503e-01]], dtype=float32)"
      ]
     },
     "execution_count": 37,
     "metadata": {},
     "output_type": "execute_result"
    }
   ],
   "source": [
    "model.predict(X_test)"
   ]
  },
  {
   "cell_type": "markdown",
   "metadata": {},
   "source": [
    "#### Early Stopping & Model Check Point call back"
   ]
  },
  {
   "cell_type": "code",
   "execution_count": 38,
   "metadata": {
    "scrolled": true
   },
   "outputs": [
    {
     "name": "stdout",
     "output_type": "stream",
     "text": [
      "Epoch 1/100\n",
      "840/840 [==============================] - 1s 1ms/step - loss: 0.7170 - val_loss: 0.7055\n",
      "Epoch 2/100\n",
      "840/840 [==============================] - 1s 1ms/step - loss: 0.6711 - val_loss: 0.6570\n",
      "Epoch 3/100\n",
      "840/840 [==============================] - 1s 1ms/step - loss: 0.6249 - val_loss: 0.6246\n",
      "Epoch 4/100\n",
      "840/840 [==============================] - 1s 1ms/step - loss: 0.5894 - val_loss: 0.5935\n",
      "Epoch 5/100\n",
      "840/840 [==============================] - 1s 1ms/step - loss: 0.5618 - val_loss: 0.5637\n",
      "Epoch 6/100\n",
      "840/840 [==============================] - 1s 1ms/step - loss: 0.5364 - val_loss: 0.5389\n",
      "Epoch 7/100\n",
      "840/840 [==============================] - 1s 1ms/step - loss: 0.5073 - val_loss: 0.5180\n",
      "Epoch 8/100\n",
      "840/840 [==============================] - 1s 1ms/step - loss: 0.4935 - val_loss: 0.5090\n",
      "Epoch 9/100\n",
      "840/840 [==============================] - 1s 1ms/step - loss: 0.4750 - val_loss: 0.4938\n",
      "Epoch 10/100\n",
      "840/840 [==============================] - 1s 1ms/step - loss: 0.4583 - val_loss: 0.4709\n",
      "Epoch 11/100\n",
      "840/840 [==============================] - 1s 1ms/step - loss: 0.4347 - val_loss: 0.4674\n",
      "Epoch 12/100\n",
      "840/840 [==============================] - 1s 1ms/step - loss: 0.4197 - val_loss: 0.4407\n",
      "Epoch 13/100\n",
      "840/840 [==============================] - 1s 1ms/step - loss: 0.4109 - val_loss: 0.4321\n",
      "Epoch 14/100\n",
      "840/840 [==============================] - 1s 1ms/step - loss: 0.3934 - val_loss: 0.4281\n",
      "Epoch 15/100\n",
      "840/840 [==============================] - 1s 1ms/step - loss: 0.3914 - val_loss: 0.4185\n",
      "Epoch 16/100\n",
      "840/840 [==============================] - 1s 1ms/step - loss: 0.3738 - val_loss: 0.4105\n",
      "Epoch 17/100\n",
      "840/840 [==============================] - 1s 1ms/step - loss: 0.3743 - val_loss: 0.4065\n",
      "Epoch 18/100\n",
      "840/840 [==============================] - 1s 1ms/step - loss: 0.3696 - val_loss: 0.4089\n",
      "Epoch 19/100\n",
      "840/840 [==============================] - 1s 1ms/step - loss: 0.3641 - val_loss: 0.3930\n",
      "Epoch 20/100\n",
      "840/840 [==============================] - 1s 1ms/step - loss: 0.3542 - val_loss: 0.3921\n",
      "Epoch 21/100\n",
      "840/840 [==============================] - 1s 1ms/step - loss: 0.3487 - val_loss: 0.3894\n",
      "Epoch 22/100\n",
      "840/840 [==============================] - 1s 1ms/step - loss: 0.3462 - val_loss: 0.3853\n",
      "Epoch 23/100\n",
      "840/840 [==============================] - 1s 1ms/step - loss: 0.3431 - val_loss: 0.3855\n",
      "Epoch 24/100\n",
      "840/840 [==============================] - 1s 1ms/step - loss: 0.3445 - val_loss: 0.3788\n",
      "Epoch 25/100\n",
      "840/840 [==============================] - 1s 1ms/step - loss: 0.3319 - val_loss: 0.3789\n",
      "Epoch 26/100\n",
      "840/840 [==============================] - 1s 1ms/step - loss: 0.3372 - val_loss: 0.3778\n",
      "Epoch 27/100\n",
      "840/840 [==============================] - 1s 1ms/step - loss: 0.3387 - val_loss: 0.3745\n",
      "Epoch 28/100\n",
      "840/840 [==============================] - 1s 1ms/step - loss: 0.3314 - val_loss: 0.3687\n",
      "Epoch 29/100\n",
      "840/840 [==============================] - 1s 1ms/step - loss: 0.3261 - val_loss: 0.3797\n",
      "Epoch 30/100\n",
      "840/840 [==============================] - 1s 1ms/step - loss: 0.3268 - val_loss: 0.3669\n",
      "Epoch 31/100\n",
      "840/840 [==============================] - 1s 1ms/step - loss: 0.3216 - val_loss: 0.3657\n",
      "Epoch 32/100\n",
      "840/840 [==============================] - 1s 1ms/step - loss: 0.3178 - val_loss: 0.3562\n",
      "Epoch 33/100\n",
      "840/840 [==============================] - 1s 1ms/step - loss: 0.3133 - val_loss: 0.3564\n",
      "Epoch 34/100\n",
      "840/840 [==============================] - 1s 2ms/step - loss: 0.3163 - val_loss: 0.3603\n",
      "Epoch 35/100\n",
      "840/840 [==============================] - 1s 2ms/step - loss: 0.3200 - val_loss: 0.3708\n",
      "Epoch 36/100\n",
      "840/840 [==============================] - 1s 2ms/step - loss: 0.3255 - val_loss: 0.3676\n",
      "Epoch 37/100\n",
      "840/840 [==============================] - 1s 2ms/step - loss: 0.3236 - val_loss: 0.3652\n",
      "Epoch 38/100\n",
      "840/840 [==============================] - 1s 1ms/step - loss: 0.3155 - val_loss: 0.3639\n",
      "Epoch 39/100\n",
      "840/840 [==============================] - 1s 1ms/step - loss: 0.3132 - val_loss: 0.3559\n",
      "Epoch 40/100\n",
      "840/840 [==============================] - 1s 1ms/step - loss: 0.3049 - val_loss: 0.3495\n",
      "Epoch 41/100\n",
      "840/840 [==============================] - 1s 1ms/step - loss: 0.3013 - val_loss: 0.3570\n",
      "Epoch 42/100\n",
      "840/840 [==============================] - 1s 1ms/step - loss: 0.3034 - val_loss: 0.3492\n",
      "Epoch 43/100\n",
      "840/840 [==============================] - 1s 2ms/step - loss: 0.3013 - val_loss: 0.3677\n",
      "Epoch 44/100\n",
      "840/840 [==============================] - 1s 1ms/step - loss: 0.3082 - val_loss: 0.3712\n",
      "Epoch 45/100\n",
      "840/840 [==============================] - 1s 2ms/step - loss: 0.3000 - val_loss: 0.3539\n",
      "Epoch 46/100\n",
      "840/840 [==============================] - 1s 1ms/step - loss: 0.2997 - val_loss: 0.3531\n",
      "Epoch 47/100\n",
      "840/840 [==============================] - 1s 2ms/step - loss: 0.2979 - val_loss: 0.3567\n",
      "Epoch 48/100\n",
      "840/840 [==============================] - 2s 2ms/step - loss: 0.3113 - val_loss: 0.3604\n",
      "Epoch 49/100\n",
      "840/840 [==============================] - 1s 1ms/step - loss: 0.2967 - val_loss: 0.3536\n",
      "Epoch 50/100\n",
      "840/840 [==============================] - 1s 2ms/step - loss: 0.2915 - val_loss: 0.3410\n",
      "Epoch 51/100\n",
      "840/840 [==============================] - 1s 2ms/step - loss: 0.2891 - val_loss: 0.3387\n",
      "Epoch 52/100\n",
      "840/840 [==============================] - 1s 1ms/step - loss: 0.2909 - val_loss: 0.3699\n",
      "Epoch 53/100\n",
      "840/840 [==============================] - 1s 1ms/step - loss: 0.2990 - val_loss: 0.3524\n",
      "Epoch 54/100\n",
      "840/840 [==============================] - 1s 1ms/step - loss: 0.2971 - val_loss: 0.3588\n",
      "Epoch 55/100\n",
      "840/840 [==============================] - 1s 1ms/step - loss: 0.3017 - val_loss: 0.3568\n",
      "Epoch 56/100\n",
      "840/840 [==============================] - 1s 1ms/step - loss: 0.2953 - val_loss: 0.3476\n",
      "Epoch 57/100\n",
      "840/840 [==============================] - 1s 1ms/step - loss: 0.2888 - val_loss: 0.3647\n",
      "Epoch 58/100\n",
      "840/840 [==============================] - 1s 2ms/step - loss: 0.2917 - val_loss: 0.3491\n",
      "Epoch 59/100\n",
      "840/840 [==============================] - 1s 1ms/step - loss: 0.2892 - val_loss: 0.3413\n",
      "Epoch 60/100\n",
      "840/840 [==============================] - 1s 1ms/step - loss: 0.2879 - val_loss: 0.3595\n",
      "Epoch 61/100\n",
      "840/840 [==============================] - 1s 2ms/step - loss: 0.2842 - val_loss: 0.3524\n",
      "263/263 [==============================] - 0s 1ms/step - loss: 0.8095\n",
      "0.8095034956932068\n"
     ]
    }
   ],
   "source": [
    "early_stopping_callback = tf.keras.callbacks.EarlyStopping(patience=10, restore_best_weights=True)\n",
    "checkpoint_callback = ModelCheckpoint(\"./models/digit_ckpt_keras_model.h5\", save_best_only=True)\n",
    "\n",
    "model.compile(loss=\"sparse_categorical_crossentropy\", optimizer=tf.keras.optimizers.SGD())\n",
    "\n",
    "history = model.fit(X_train, y_train.values, epochs=100,\n",
    "                    validation_data=(X_valid, y_valid.values),\n",
    "                    callbacks=[checkpoint_callback, early_stopping_callback])\n",
    "\n",
    "model = load_model(\"digit_ckpt_keras_model.h5\") # rollback to best model\n",
    "print(model.evaluate(X_test, y_test.values))"
   ]
  },
  {
   "cell_type": "code",
   "execution_count": 39,
   "metadata": {},
   "outputs": [
    {
     "data": {
      "text/plain": [
       "0.9441666666666667"
      ]
     },
     "execution_count": 39,
     "metadata": {},
     "output_type": "execute_result"
    }
   ],
   "source": [
    "y_pred = model.predict(X_test)\n",
    "y_pred = np.argmax(y_pred, axis =1)\n",
    "accuracy_score(y_test, y_pred)"
   ]
  },
  {
   "cell_type": "markdown",
   "metadata": {},
   "source": [
    "#### Custom Call Back - Print Debug every n-epoches"
   ]
  },
  {
   "cell_type": "code",
   "execution_count": 44,
   "metadata": {},
   "outputs": [],
   "source": [
    "def conditalPrint(batch_num, logs):\n",
    "    if(batch_num%128 == 0):\n",
    "        print(batch_num , \" :::: \", logs)\n",
    "\n",
    "batch_print_callback = tf.keras.callbacks.LambdaCallback(\n",
    "    on_batch_begin=lambda batch,logs: conditalPrint(batch, logs))"
   ]
  },
  {
   "cell_type": "code",
   "execution_count": 45,
   "metadata": {},
   "outputs": [
    {
     "name": "stdout",
     "output_type": "stream",
     "text": [
      "Epoch 1/10\n",
      "0  ::::  {}\n",
      "126/840 [===>..........................] - ETA: 0s - loss: 0.4477 128  ::::  {}\n",
      "236/840 [=======>......................] - ETA: 0s - loss: 0.4450256  ::::  {}\n",
      "355/840 [===========>..................] - ETA: 0s - loss: 0.4446384  ::::  {}\n",
      "512/840 [=================>............] - ETA: 0s - loss: 0.4429512  ::::  {}\n",
      "625/840 [=====================>........] - ETA: 0s - loss: 0.4417640  ::::  {}\n",
      "764/840 [==========================>...] - ETA: 0s - loss: 0.4410768  ::::  {}\n",
      "840/840 [==============================] - 1s 1ms/step - loss: 0.4407 - val_loss: 0.4561\n",
      "Epoch 2/10\n",
      "0  ::::  {}\n",
      "109/840 [==>...........................] - ETA: 0s - loss: 0.4004128  ::::  {}\n",
      "215/840 [======>.......................] - ETA: 0s - loss: 0.4086256  ::::  {}\n",
      "364/840 [============>.................] - ETA: 0s - loss: 0.4132384  ::::  {}\n",
      "505/840 [=================>............] - ETA: 0s - loss: 0.4159512  ::::  {}\n",
      "624/840 [=====================>........] - ETA: 0s - loss: 0.4171640  ::::  {}\n",
      "747/840 [=========================>....] - ETA: 0s - loss: 0.4177768  ::::  {}\n",
      "840/840 [==============================] - 1s 1ms/step - loss: 0.4180 - val_loss: 0.4482\n",
      "Epoch 3/10\n",
      "0  ::::  {}\n",
      "116/840 [===>..........................] - ETA: 0s - loss: 0.4185128  ::::  {}\n",
      "245/840 [=======>......................] - ETA: 0s - loss: 0.4169256  ::::  {}\n",
      "370/840 [============>.................] - ETA: 0s - loss: 0.4159384  ::::  {}\n",
      "482/840 [================>.............] - ETA: 0s - loss: 0.4155512  ::::  {}\n",
      "631/840 [=====================>........] - ETA: 0s - loss: 0.4150640  ::::  {}\n",
      "752/840 [=========================>....] - ETA: 0s - loss: 0.4147768  ::::  {}\n",
      "840/840 [==============================] - 1s 1ms/step - loss: 0.4144 - val_loss: 0.4466\n",
      "Epoch 4/10\n",
      "0  ::::  {}\n",
      " 99/840 [==>...........................] - ETA: 0s - loss: 0.4026128  ::::  {}\n",
      "222/840 [======>.......................] - ETA: 0s - loss: 0.4012256  ::::  {}\n",
      "346/840 [===========>..................] - ETA: 0s - loss: 0.4021384  ::::  {}\n",
      "488/840 [================>.............] - ETA: 0s - loss: 0.4019512  ::::  {}\n",
      "607/840 [====================>.........] - ETA: 0s - loss: 0.4014640  ::::  {}\n",
      "728/840 [=========================>....] - ETA: 0s - loss: 0.4009768  ::::  {}\n",
      "840/840 [==============================] - 1s 1ms/step - loss: 0.4009 - val_loss: 0.4300\n",
      "Epoch 5/10\n",
      "0  ::::  {}\n",
      "101/840 [==>...........................] - ETA: 0s - loss: 0.3787128  ::::  {}\n",
      "255/840 [========>.....................] - ETA: 0s - loss: 0.3816256  ::::  {}\n",
      "380/840 [============>.................] - ETA: 0s - loss: 0.3843384  ::::  {}\n",
      "491/840 [================>.............] - ETA: 0s - loss: 0.3852512  ::::  {}\n",
      "639/840 [=====================>........] - ETA: 0s - loss: 0.3862640  ::::  {}\n",
      "762/840 [==========================>...] - ETA: 0s - loss: 0.3868768  ::::  {}\n",
      "840/840 [==============================] - 1s 1ms/step - loss: 0.3871 - val_loss: 0.4252\n",
      "Epoch 6/10\n",
      "0  ::::  {}\n",
      "118/840 [===>..........................] - ETA: 0s - loss: 0.3899128  ::::  {}\n",
      "255/840 [========>.....................] - ETA: 0s - loss: 0.3876256  ::::  {}\n",
      "380/840 [============>.................] - ETA: 0s - loss: 0.3873384  ::::  {}\n",
      "473/840 [===============>..............] - ETA: 0s - loss: 0.3877512  ::::  {}\n",
      "600/840 [====================>.........] - ETA: 0s - loss: 0.3882640  ::::  {}\n",
      "729/840 [=========================>....] - ETA: 0s - loss: 0.3882768  ::::  {}\n",
      "840/840 [==============================] - 1s 1ms/step - loss: 0.3881 - val_loss: 0.4156\n",
      "Epoch 7/10\n",
      "0  ::::  {}\n",
      " 93/840 [==>...........................] - ETA: 0s - loss: 0.3859128  ::::  {}\n",
      "245/840 [=======>......................] - ETA: 0s - loss: 0.3807256  ::::  {}\n",
      "345/840 [===========>..................] - ETA: 0s - loss: 0.3804384  ::::  {}\n",
      "489/840 [================>.............] - ETA: 0s - loss: 0.3798512  ::::  {}\n",
      "582/840 [===================>..........] - ETA: 0s - loss: 0.3792640  ::::  {}\n",
      "740/840 [=========================>....] - ETA: 0s - loss: 0.3782768  ::::  {}\n",
      "840/840 [==============================] - 1s 1ms/step - loss: 0.3779 - val_loss: 0.4038\n",
      "Epoch 8/10\n",
      "0  ::::  {}\n",
      " 99/840 [==>...........................] - ETA: 0s - loss: 0.3481128  ::::  {}\n",
      "237/840 [=======>......................] - ETA: 0s - loss: 0.3540256  ::::  {}\n",
      "341/840 [===========>..................] - ETA: 0s - loss: 0.3558384  ::::  {}\n",
      "480/840 [================>.............] - ETA: 0s - loss: 0.3575512  ::::  {}\n",
      "631/840 [=====================>........] - ETA: 0s - loss: 0.3594640  ::::  {}\n",
      "724/840 [========================>.....] - ETA: 0s - loss: 0.3604768  ::::  {}\n",
      "840/840 [==============================] - 1s 1ms/step - loss: 0.3615 - val_loss: 0.3995\n",
      "Epoch 9/10\n",
      "0  ::::  {}\n",
      "104/840 [==>...........................] - ETA: 0s - loss: 0.3574128  ::::  {}\n",
      "204/840 [======>.......................] - ETA: 0s - loss: 0.3600256  ::::  {}\n",
      "362/840 [===========>..................] - ETA: 0s - loss: 0.3597384  ::::  {}\n",
      "507/840 [=================>............] - ETA: 0s - loss: 0.3594512  ::::  {}\n",
      "601/840 [====================>.........] - ETA: 0s - loss: 0.3592640  ::::  {}\n",
      "747/840 [=========================>....] - ETA: 0s - loss: 0.3592768  ::::  {}\n",
      "840/840 [==============================] - 1s 1ms/step - loss: 0.3594 - val_loss: 0.3986\n",
      "Epoch 10/10\n",
      "0  ::::  {}\n",
      "103/840 [==>...........................] - ETA: 0s - loss: 0.3576128  ::::  {}\n",
      "206/840 [======>.......................] - ETA: 0s - loss: 0.3544256  ::::  {}\n",
      "356/840 [===========>..................] - ETA: 0s - loss: 0.3560384  ::::  {}\n",
      "500/840 [================>.............] - ETA: 0s - loss: 0.3575512  ::::  {}\n",
      "639/840 [=====================>........] - ETA: 0s - loss: 0.3585640  ::::  {}\n",
      "759/840 [==========================>...] - ETA: 0s - loss: 0.3590768  ::::  {}\n",
      "840/840 [==============================] - 1s 1ms/step - loss: 0.3591 - val_loss: 0.3864\n",
      "263/263 [==============================] - 0s 952us/step - loss: 0.4124\n",
      "0.41236239671707153\n"
     ]
    }
   ],
   "source": [
    "model.compile(loss=\"sparse_categorical_crossentropy\", optimizer=tf.keras.optimizers.SGD())\n",
    "\n",
    "history = model.fit(X_train, y_train.values, epochs=10,\n",
    "                    validation_data=(X_valid, y_valid.values),\n",
    "                    callbacks=[batch_print_callback])\n",
    "\n",
    "print(model.evaluate(X_test, y_test.values))"
   ]
  },
  {
   "cell_type": "code",
   "execution_count": null,
   "metadata": {},
   "outputs": [],
   "source": []
  }
 ],
 "metadata": {
  "kernelspec": {
   "display_name": "Python 3",
   "language": "python",
   "name": "python3"
  },
  "language_info": {
   "codemirror_mode": {
    "name": "ipython",
    "version": 3
   },
   "file_extension": ".py",
   "mimetype": "text/x-python",
   "name": "python",
   "nbconvert_exporter": "python",
   "pygments_lexer": "ipython3",
   "version": "3.8.5"
  }
 },
 "nbformat": 4,
 "nbformat_minor": 2
}
