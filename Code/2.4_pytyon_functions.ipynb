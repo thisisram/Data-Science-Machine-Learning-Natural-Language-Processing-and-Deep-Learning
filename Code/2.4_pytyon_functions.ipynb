{
 "cells": [
  {
   "cell_type": "markdown",
   "metadata": {},
   "source": [
    "### Functions"
   ]
  },
  {
   "cell_type": "code",
   "execution_count": 16,
   "metadata": {},
   "outputs": [],
   "source": [
    "def simpleMethod(var1, var2, var3):\n",
    "    print(\"Printing var1 : \", var1)\n",
    "    print(\"Printing var2 : \", var2)\n",
    "    print(\"Printing var3 : \", var3)"
   ]
  },
  {
   "cell_type": "code",
   "execution_count": 18,
   "metadata": {},
   "outputs": [
    {
     "name": "stdout",
     "output_type": "stream",
     "text": [
      "Printing var1 :  6\n",
      "Printing var2 :  abc\n",
      "Printing var3 :  999\n"
     ]
    }
   ],
   "source": [
    "simpleMethod(6, 'abc', 'xyz')"
   ]
  },
  {
   "cell_type": "markdown",
   "metadata": {},
   "source": [
    "* Variable-length argument"
   ]
  },
  {
   "cell_type": "code",
   "execution_count": 9,
   "metadata": {},
   "outputs": [],
   "source": [
    "def starArgs(*vals):\n",
    "    #print('inside : ', type(vals))\n",
    "    for x in vals:\n",
    "        print(x)  "
   ]
  },
  {
   "cell_type": "code",
   "execution_count": 12,
   "metadata": {},
   "outputs": [
    {
     "name": "stdout",
     "output_type": "stream",
     "text": [
      "839\n",
      "2929\n",
      "Rama\n",
      "True\n",
      "89\n",
      "282\n",
      "919\n",
      "2920\n",
      "101\n",
      "[89, 'aaa', 9292, 99]\n"
     ]
    }
   ],
   "source": [
    "starArgs(839, 2929, 'Rama', True, 89, 282, 919,2920,101, [89, \"aaa\", 9292, 99])"
   ]
  },
  {
   "cell_type": "code",
   "execution_count": 18,
   "metadata": {},
   "outputs": [
    {
     "name": "stdout",
     "output_type": "stream",
     "text": [
      "10\n",
      "['rama', 'gopal', 'madan', 'krishna']\n",
      "123\n",
      "8\n",
      "9\n",
      "9\n",
      "1221\n",
      "990\n"
     ]
    }
   ],
   "source": [
    "lst = ['rama', 'gopal', 'madan', 'krishna']\n",
    "\n",
    "starArgs(10, lst, 123, 8, 9,9,1221,990)"
   ]
  },
  {
   "cell_type": "markdown",
   "metadata": {},
   "source": [
    "* Default arguments"
   ]
  },
  {
   "cell_type": "code",
   "execution_count": 19,
   "metadata": {},
   "outputs": [],
   "source": [
    "def fib(n = 100):    # write Fibonacci series up to n\n",
    "    \"\"\"Print a Fibonacci series up to n.\"\"\"\n",
    "    result = []\n",
    "    a, b = 0, 1\n",
    "    while a < n:\n",
    "        result.append(a)\n",
    "        a, b = b, a+b   \n",
    "    return result"
   ]
  },
  {
   "cell_type": "code",
   "execution_count": 22,
   "metadata": {},
   "outputs": [
    {
     "data": {
      "text/plain": [
       "[0, 1, 1, 2, 3, 5, 8, 13, 21, 34, 55, 89, 144, 233, 377]"
      ]
     },
     "execution_count": 22,
     "metadata": {},
     "output_type": "execute_result"
    }
   ],
   "source": [
    "fib(500)"
   ]
  },
  {
   "cell_type": "markdown",
   "metadata": {},
   "source": [
    "* Keyworded, variable-length argument list, the arguments will receive key, value pairs as values"
   ]
  },
  {
   "cell_type": "code",
   "execution_count": 37,
   "metadata": {},
   "outputs": [],
   "source": [
    "def kwargs(**keywords):\n",
    "    print(type(keywords))\n",
    "    for k, v in enumerate(keywords.items()):\n",
    "        print(k, \":\", v)    "
   ]
  },
  {
   "cell_type": "code",
   "execution_count": 38,
   "metadata": {},
   "outputs": [
    {
     "name": "stdout",
     "output_type": "stream",
     "text": [
      "<class 'dict'>\n",
      "0 : ('shopkeeper', 'John')\n",
      "1 : ('client', 'Mark')\n",
      "2 : ('cheese_type', 'Fresh Cheese')\n"
     ]
    }
   ],
   "source": [
    "kwargs(shopkeeper=\"John\",\n",
    "           client=\"Mark\", \n",
    "           cheese_type=\"Fresh Cheese\")"
   ]
  },
  {
   "cell_type": "code",
   "execution_count": 62,
   "metadata": {},
   "outputs": [],
   "source": [
    "def cheeseshop(kind1, kind2=\"Form Cheese\", *arguments, **keywords):\n",
    "    print(\"Q) Do you have any\", kind1, \"--\", kind2, \"?\")\n",
    "    print(\"Ans) We do have \")\n",
    "    for arg in arguments:\n",
    "        print(arg)\n",
    "    print(\"-\" * 40)\n",
    "    for kw in keywords:\n",
    "        print(kw, \":\", keywords[kw])"
   ]
  },
  {
   "cell_type": "code",
   "execution_count": 63,
   "metadata": {},
   "outputs": [
    {
     "name": "stdout",
     "output_type": "stream",
     "text": [
      "Q) Do you have any Cheese -- Second Cheese ?\n",
      "Ans) We do have \n",
      "Third Cheese\n",
      "Fourth Cheese\n",
      "----------------------------------------\n"
     ]
    }
   ],
   "source": [
    "cheeseshop(\"Cheese\", \"Second Cheese\", \"Third Cheese\", \"Fourth Cheese\")"
   ]
  },
  {
   "cell_type": "markdown",
   "metadata": {},
   "source": [
    "### Built-in Functions \n",
    "  * https://docs.python.org/3/library/functions.html"
   ]
  },
  {
   "cell_type": "markdown",
   "metadata": {},
   "source": [
    "* range function"
   ]
  },
  {
   "cell_type": "code",
   "execution_count": 51,
   "metadata": {},
   "outputs": [
    {
     "data": {
      "text/plain": [
       "range(0, 10)"
      ]
     },
     "execution_count": 51,
     "metadata": {},
     "output_type": "execute_result"
    }
   ],
   "source": [
    "range(10)"
   ]
  },
  {
   "cell_type": "code",
   "execution_count": 54,
   "metadata": {},
   "outputs": [
    {
     "name": "stdout",
     "output_type": "stream",
     "text": [
      "0\n",
      "2\n",
      "4\n",
      "6\n",
      "8\n"
     ]
    }
   ],
   "source": [
    "for i in range(0,10, 2):\n",
    "    print(i)"
   ]
  },
  {
   "cell_type": "markdown",
   "metadata": {},
   "source": [
    "* enumerate function"
   ]
  },
  {
   "cell_type": "code",
   "execution_count": 1,
   "metadata": {},
   "outputs": [
    {
     "name": "stdout",
     "output_type": "stream",
     "text": [
      "0  --  Rama\n",
      "1  --  Krishna\n",
      "2  --  John\n",
      "3  --  Ali\n"
     ]
    }
   ],
   "source": [
    "lst1 = ['Rama', 'Krishna', 'John', 'Ali']\n",
    "for k, v in enumerate(lst1):\n",
    "    print(k, ' -- ', v)"
   ]
  },
  {
   "cell_type": "markdown",
   "metadata": {},
   "source": [
    "* zip() function : To loop over two or more sequences at the same time, the entries can be paired with the zip() function."
   ]
  },
  {
   "cell_type": "code",
   "execution_count": 4,
   "metadata": {},
   "outputs": [
    {
     "name": "stdout",
     "output_type": "stream",
     "text": [
      "('Ajay', 'Vikram', 'Karteek')\n",
      "('1500', '1000', '2000')\n",
      "('Feb 9th 2016', 'Jan 1st 2010', 'Dec 5th 2017')\n"
     ]
    }
   ],
   "source": [
    "emp1 = ['Ajay', '1500', 'Feb 9th 2016']\n",
    "emp2 = ['Vikram', '1000', 'Jan 1st 2010']\n",
    "emp3 = ['Karteek', '2000', 'Dec 5th 2017']\n",
    "for tup in zip(emp1, emp2, emp3):\n",
    "    print(tup)"
   ]
  },
  {
   "cell_type": "code",
   "execution_count": 27,
   "metadata": {},
   "outputs": [
    {
     "data": {
      "text/plain": [
       "zip"
      ]
     },
     "execution_count": 27,
     "metadata": {},
     "output_type": "execute_result"
    }
   ],
   "source": [
    "type(zip(emp1, emp2, emp3))"
   ]
  },
  {
   "cell_type": "code",
   "execution_count": 5,
   "metadata": {},
   "outputs": [
    {
     "name": "stdout",
     "output_type": "stream",
     "text": [
      "[('Ajay', 'Vikram', 'Karteek'), ('1500', '1000', '2000'), ('Feb 9th 2016', 'Jan 1st 2010', 'Dec 5th 2017')]\n"
     ]
    }
   ],
   "source": [
    "zp = zip(emp1, emp2, emp3)\n",
    "print(list(zp))"
   ]
  },
  {
   "cell_type": "markdown",
   "metadata": {},
   "source": [
    "### lambda functions"
   ]
  },
  {
   "cell_type": "code",
   "execution_count": 8,
   "metadata": {},
   "outputs": [
    {
     "name": "stdout",
     "output_type": "stream",
     "text": [
      "original list ['Orange', 'Mango', 'Apple']\n",
      "sorter list ['Apple', 'Mango', 'Orange']\n"
     ]
    }
   ],
   "source": [
    "lst = ['Orange', 'Mango', 'Apple']\n",
    "print('original list', lst)\n",
    "print('sorter list', sorted(lst))"
   ]
  },
  {
   "cell_type": "code",
   "execution_count": 28,
   "metadata": {},
   "outputs": [],
   "source": [
    "fruits_cals = {\"Apple\": 95, \"Orange\": 2, \"Mango\": 202}"
   ]
  },
  {
   "cell_type": "code",
   "execution_count": 29,
   "metadata": {},
   "outputs": [
    {
     "name": "stdout",
     "output_type": "stream",
     "text": [
      "<class 'dict'>\n"
     ]
    }
   ],
   "source": [
    "print(type(fruits_cals))"
   ]
  },
  {
   "cell_type": "code",
   "execution_count": 30,
   "metadata": {},
   "outputs": [
    {
     "data": {
      "text/plain": [
       "['Apple', 'Mango', 'Orange']"
      ]
     },
     "execution_count": 30,
     "metadata": {},
     "output_type": "execute_result"
    }
   ],
   "source": [
    "sorted(fruits_cals)"
   ]
  },
  {
   "cell_type": "code",
   "execution_count": 83,
   "metadata": {},
   "outputs": [
    {
     "name": "stdout",
     "output_type": "stream",
     "text": [
      "('Apple', 95)\n",
      "('Orange', 2)\n",
      "('Mango', 202)\n"
     ]
    }
   ],
   "source": [
    "for kv in fruits_cals.items():\n",
    "    print(kv)"
   ]
  },
  {
   "cell_type": "code",
   "execution_count": 84,
   "metadata": {},
   "outputs": [
    {
     "data": {
      "text/plain": [
       "['Mango', 'Apple', 'Orange']"
      ]
     },
     "execution_count": 84,
     "metadata": {},
     "output_type": "execute_result"
    }
   ],
   "source": [
    "sorted(fruits_cals, key = lambda x: x[1])"
   ]
  },
  {
   "cell_type": "code",
   "execution_count": 57,
   "metadata": {},
   "outputs": [],
   "source": [
    "def fun2(x):\n",
    "    print(x)\n",
    "    return x[0]"
   ]
  },
  {
   "cell_type": "code",
   "execution_count": 58,
   "metadata": {},
   "outputs": [
    {
     "name": "stdout",
     "output_type": "stream",
     "text": [
      "('Apple', 95)\n",
      "('Orange', 2)\n",
      "('Mango', 202)\n"
     ]
    },
    {
     "data": {
      "text/plain": [
       "[('Apple', 95), ('Mango', 202), ('Orange', 2)]"
      ]
     },
     "execution_count": 58,
     "metadata": {},
     "output_type": "execute_result"
    }
   ],
   "source": [
    "sorted(fruits_cals.items(), key=lambda item: fun2(item)) "
   ]
  },
  {
   "cell_type": "code",
   "execution_count": 56,
   "metadata": {},
   "outputs": [
    {
     "data": {
      "text/plain": [
       "{'Orange': 2, 'Apple': 95, 'Mango': 202}"
      ]
     },
     "execution_count": 56,
     "metadata": {},
     "output_type": "execute_result"
    }
   ],
   "source": [
    "{k:v for k, v in sorted(fruits_cals.items(), key=lambda item: item[1])   }"
   ]
  },
  {
   "cell_type": "code",
   "execution_count": null,
   "metadata": {},
   "outputs": [],
   "source": []
  }
 ],
 "metadata": {
  "kernelspec": {
   "display_name": "Python 3",
   "language": "python",
   "name": "python3"
  },
  "language_info": {
   "codemirror_mode": {
    "name": "ipython",
    "version": 3
   },
   "file_extension": ".py",
   "mimetype": "text/x-python",
   "name": "python",
   "nbconvert_exporter": "python",
   "pygments_lexer": "ipython3",
   "version": "3.7.7"
  }
 },
 "nbformat": 4,
 "nbformat_minor": 2
}
