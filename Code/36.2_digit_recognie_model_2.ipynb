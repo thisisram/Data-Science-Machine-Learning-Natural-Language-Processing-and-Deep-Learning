{
 "cells": [
  {
   "cell_type": "code",
   "execution_count": 1,
   "metadata": {},
   "outputs": [],
   "source": [
    "import tensorflow as tf\n",
    "import pandas as pd\n",
    "import numpy as np"
   ]
  },
  {
   "cell_type": "code",
   "execution_count": 2,
   "metadata": {},
   "outputs": [
    {
     "name": "stdout",
     "output_type": "stream",
     "text": [
      "2.4.1\n"
     ]
    }
   ],
   "source": [
    "print(tf.__version__)"
   ]
  },
  {
   "cell_type": "code",
   "execution_count": 4,
   "metadata": {},
   "outputs": [],
   "source": [
    "digits = pd.read_csv('../data/digit_recognizer_train.csv')"
   ]
  },
  {
   "cell_type": "code",
   "execution_count": 5,
   "metadata": {},
   "outputs": [
    {
     "data": {
      "text/plain": [
       "(42000, 785)"
      ]
     },
     "execution_count": 5,
     "metadata": {},
     "output_type": "execute_result"
    }
   ],
   "source": [
    "digits.shape"
   ]
  },
  {
   "cell_type": "code",
   "execution_count": 6,
   "metadata": {},
   "outputs": [
    {
     "data": {
      "text/plain": [
       "Index(['label', 'pixel0', 'pixel1', 'pixel2', 'pixel3', 'pixel4', 'pixel5',\n",
       "       'pixel6', 'pixel7', 'pixel8',\n",
       "       ...\n",
       "       'pixel774', 'pixel775', 'pixel776', 'pixel777', 'pixel778', 'pixel779',\n",
       "       'pixel780', 'pixel781', 'pixel782', 'pixel783'],\n",
       "      dtype='object', length=785)"
      ]
     },
     "execution_count": 6,
     "metadata": {},
     "output_type": "execute_result"
    }
   ],
   "source": [
    "digits.columns"
   ]
  },
  {
   "cell_type": "code",
   "execution_count": 7,
   "metadata": {},
   "outputs": [],
   "source": [
    "X = digits.iloc[:, 1:]\n",
    "y = digits.iloc[:, 0]"
   ]
  },
  {
   "cell_type": "code",
   "execution_count": 8,
   "metadata": {},
   "outputs": [],
   "source": [
    "from sklearn.model_selection import train_test_split"
   ]
  },
  {
   "cell_type": "code",
   "execution_count": 9,
   "metadata": {},
   "outputs": [],
   "source": [
    "X_train, X_test, y_train, y_test = train_test_split(X, y, test_size=0.33, random_state=42)"
   ]
  },
  {
   "cell_type": "code",
   "execution_count": 10,
   "metadata": {},
   "outputs": [],
   "source": [
    "from sklearn.preprocessing import StandardScaler"
   ]
  },
  {
   "cell_type": "code",
   "execution_count": 11,
   "metadata": {},
   "outputs": [],
   "source": [
    "X_train = X_train.astype(np.float64)\n",
    "X_test = X_test.astype(np.float64)"
   ]
  },
  {
   "cell_type": "code",
   "execution_count": 12,
   "metadata": {},
   "outputs": [],
   "source": [
    "sc = StandardScaler()\n",
    "X_train = sc.fit_transform(X_train)\n",
    "X_test = sc.transform(X_test)"
   ]
  },
  {
   "cell_type": "code",
   "execution_count": 13,
   "metadata": {},
   "outputs": [],
   "source": [
    "from tensorflow.keras import Model\n",
    "from tensorflow.keras.layers import Flatten, Dense, Input, concatenate"
   ]
  },
  {
   "cell_type": "code",
   "execution_count": 14,
   "metadata": {},
   "outputs": [],
   "source": [
    "input_wide = Input(shape=784, name=\"wide_input\")\n",
    "\n",
    "input_deep = Input(shape=784, name=\"deep_input\")\n",
    "hidden1 = Dense(16, activation=\"relu\")(input_deep)\n",
    "hidden2 = Dense(16, activation=\"relu\")(hidden1)\n",
    "\n",
    "concat = concatenate([input_wide, hidden2])\n",
    "\n",
    "output = Dense(10, name=\"main_output\", activation = 'softmax')(concat)\n",
    "\n",
    "aux_output = Dense(10, name=\"aux_output\", activation = 'softmax')(hidden2)\n",
    "\n",
    "model = Model(inputs=[input_wide, input_deep],\n",
    "                           outputs=[output, aux_output])"
   ]
  },
  {
   "cell_type": "code",
   "execution_count": 15,
   "metadata": {},
   "outputs": [],
   "source": [
    "model.compile(optimizer='sgd', loss ='sparse_categorical_crossentropy', metrics = ['accuracy'])"
   ]
  },
  {
   "cell_type": "code",
   "execution_count": 16,
   "metadata": {
    "scrolled": false
   },
   "outputs": [
    {
     "name": "stdout",
     "output_type": "stream",
     "text": [
      "Epoch 1/10\n",
      "880/880 [==============================] - 1s 864us/step - loss: 2.2955 - main_output_loss: 0.8695 - aux_output_loss: 1.4260 - main_output_accuracy: 0.7391 - aux_output_accuracy: 0.5522\n",
      "Epoch 2/10\n",
      "880/880 [==============================] - 1s 831us/step - loss: 0.7200 - main_output_loss: 0.3302 - aux_output_loss: 0.3898 - main_output_accuracy: 0.9059 - aux_output_accuracy: 0.8859\n",
      "Epoch 3/10\n",
      "880/880 [==============================] - 1s 841us/step - loss: 0.5796 - main_output_loss: 0.2781 - aux_output_loss: 0.3015 - main_output_accuracy: 0.9211 - aux_output_accuracy: 0.9121\n",
      "Epoch 4/10\n",
      "880/880 [==============================] - 1s 862us/step - loss: 0.5012 - main_output_loss: 0.2457 - aux_output_loss: 0.2555 - main_output_accuracy: 0.9290 - aux_output_accuracy: 0.9242\n",
      "Epoch 5/10\n",
      "880/880 [==============================] - 1s 818us/step - loss: 0.4342 - main_output_loss: 0.2147 - aux_output_loss: 0.2196 - main_output_accuracy: 0.9369 - aux_output_accuracy: 0.9356\n",
      "Epoch 6/10\n",
      "880/880 [==============================] - 1s 833us/step - loss: 0.4112 - main_output_loss: 0.2075 - aux_output_loss: 0.2037 - main_output_accuracy: 0.9388 - aux_output_accuracy: 0.9397\n",
      "Epoch 7/10\n",
      "880/880 [==============================] - 1s 876us/step - loss: 0.3869 - main_output_loss: 0.1914 - aux_output_loss: 0.1955 - main_output_accuracy: 0.9436 - aux_output_accuracy: 0.9426\n",
      "Epoch 8/10\n",
      "880/880 [==============================] - 1s 850us/step - loss: 0.3304 - main_output_loss: 0.1656 - aux_output_loss: 0.1648 - main_output_accuracy: 0.9500 - aux_output_accuracy: 0.9496\n",
      "Epoch 9/10\n",
      "880/880 [==============================] - 1s 880us/step - loss: 0.3173 - main_output_loss: 0.1581 - aux_output_loss: 0.1592 - main_output_accuracy: 0.9527 - aux_output_accuracy: 0.9530\n",
      "Epoch 10/10\n",
      "880/880 [==============================] - 1s 864us/step - loss: 0.2978 - main_output_loss: 0.1488 - aux_output_loss: 0.1489 - main_output_accuracy: 0.9552 - aux_output_accuracy: 0.9541\n"
     ]
    },
    {
     "data": {
      "text/plain": [
       "<tensorflow.python.keras.callbacks.History at 0x7f2f1c179160>"
      ]
     },
     "execution_count": 16,
     "metadata": {},
     "output_type": "execute_result"
    }
   ],
   "source": [
    "model.fit([X_train, X_train], [y_train.values, y_train.values], epochs = 10, batch_size= 32)"
   ]
  },
  {
   "cell_type": "code",
   "execution_count": 17,
   "metadata": {},
   "outputs": [
    {
     "name": "stdout",
     "output_type": "stream",
     "text": [
      "Model: \"model\"\n",
      "__________________________________________________________________________________________________\n",
      "Layer (type)                    Output Shape         Param #     Connected to                     \n",
      "==================================================================================================\n",
      "deep_input (InputLayer)         [(None, 784)]        0                                            \n",
      "__________________________________________________________________________________________________\n",
      "dense (Dense)                   (None, 16)           12560       deep_input[0][0]                 \n",
      "__________________________________________________________________________________________________\n",
      "wide_input (InputLayer)         [(None, 784)]        0                                            \n",
      "__________________________________________________________________________________________________\n",
      "dense_1 (Dense)                 (None, 16)           272         dense[0][0]                      \n",
      "__________________________________________________________________________________________________\n",
      "concatenate (Concatenate)       (None, 800)          0           wide_input[0][0]                 \n",
      "                                                                 dense_1[0][0]                    \n",
      "__________________________________________________________________________________________________\n",
      "main_output (Dense)             (None, 10)           8010        concatenate[0][0]                \n",
      "__________________________________________________________________________________________________\n",
      "aux_output (Dense)              (None, 10)           170         dense_1[0][0]                    \n",
      "==================================================================================================\n",
      "Total params: 21,012\n",
      "Trainable params: 21,012\n",
      "Non-trainable params: 0\n",
      "__________________________________________________________________________________________________\n"
     ]
    }
   ],
   "source": [
    "model.summary()"
   ]
  },
  {
   "cell_type": "code",
   "execution_count": 18,
   "metadata": {},
   "outputs": [
    {
     "name": "stdout",
     "output_type": "stream",
     "text": [
      "880/880 [==============================] - 1s 657us/step - loss: 0.2705 - main_output_loss: 0.1345 - aux_output_loss: 0.1360 - main_output_accuracy: 0.9604 - aux_output_accuracy: 0.9603\n"
     ]
    },
    {
     "data": {
      "text/plain": [
       "[0.2705462872982025,\n",
       " 0.13450349867343903,\n",
       " 0.13604296743869781,\n",
       " 0.9604477882385254,\n",
       " 0.9603056311607361]"
      ]
     },
     "execution_count": 18,
     "metadata": {},
     "output_type": "execute_result"
    }
   ],
   "source": [
    "model.evaluate([X_train, X_train], [y_train, y_train])   #Output:[Loss, accuracy_score]"
   ]
  },
  {
   "cell_type": "code",
   "execution_count": 19,
   "metadata": {},
   "outputs": [],
   "source": [
    "from sklearn.metrics import accuracy_score"
   ]
  },
  {
   "cell_type": "code",
   "execution_count": 20,
   "metadata": {},
   "outputs": [],
   "source": [
    "output, aux_output = model.predict([X_test, X_test])"
   ]
  },
  {
   "cell_type": "code",
   "execution_count": 21,
   "metadata": {},
   "outputs": [
    {
     "data": {
      "text/plain": [
       "array([8, 1, 9, ..., 6, 3, 2])"
      ]
     },
     "execution_count": 21,
     "metadata": {},
     "output_type": "execute_result"
    }
   ],
   "source": [
    "np.argmax(output, axis=1)"
   ]
  },
  {
   "cell_type": "code",
   "execution_count": 22,
   "metadata": {},
   "outputs": [
    {
     "data": {
      "text/plain": [
       "0.9378066378066378"
      ]
     },
     "execution_count": 22,
     "metadata": {},
     "output_type": "execute_result"
    }
   ],
   "source": [
    "accuracy_score(y_test, np.argmax(output, axis=1))"
   ]
  },
  {
   "cell_type": "code",
   "execution_count": 23,
   "metadata": {},
   "outputs": [
    {
     "data": {
      "text/plain": [
       "0.9341991341991343"
      ]
     },
     "execution_count": 23,
     "metadata": {},
     "output_type": "execute_result"
    }
   ],
   "source": [
    "accuracy_score(y_test, np.argmax(aux_output, axis=1))"
   ]
  },
  {
   "cell_type": "code",
   "execution_count": null,
   "metadata": {},
   "outputs": [],
   "source": []
  }
 ],
 "metadata": {
  "kernelspec": {
   "display_name": "Python 3",
   "language": "python",
   "name": "python3"
  },
  "language_info": {
   "codemirror_mode": {
    "name": "ipython",
    "version": 3
   },
   "file_extension": ".py",
   "mimetype": "text/x-python",
   "name": "python",
   "nbconvert_exporter": "python",
   "pygments_lexer": "ipython3",
   "version": "3.8.5"
  }
 },
 "nbformat": 4,
 "nbformat_minor": 2
}
