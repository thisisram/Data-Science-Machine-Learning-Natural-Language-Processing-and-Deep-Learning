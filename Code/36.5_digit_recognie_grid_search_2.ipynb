{
 "cells": [
  {
   "cell_type": "code",
   "execution_count": 1,
   "metadata": {},
   "outputs": [],
   "source": [
    "import tensorflow as tf\n",
    "import pandas as pd\n",
    "import numpy as np"
   ]
  },
  {
   "cell_type": "code",
   "execution_count": 2,
   "metadata": {},
   "outputs": [
    {
     "name": "stdout",
     "output_type": "stream",
     "text": [
      "2.4.1\n"
     ]
    }
   ],
   "source": [
    "print(tf.__version__)"
   ]
  },
  {
   "cell_type": "code",
   "execution_count": 3,
   "metadata": {},
   "outputs": [],
   "source": [
    "tf.keras.backend.clear_session()\n",
    "np.random.seed(42)\n",
    "tf.random.set_seed(42)"
   ]
  },
  {
   "cell_type": "code",
   "execution_count": 4,
   "metadata": {},
   "outputs": [],
   "source": [
    "digits = pd.read_csv('../data/digit_recognizer_train.csv')"
   ]
  },
  {
   "cell_type": "code",
   "execution_count": 5,
   "metadata": {},
   "outputs": [
    {
     "data": {
      "text/plain": [
       "(42000, 785)"
      ]
     },
     "execution_count": 5,
     "metadata": {},
     "output_type": "execute_result"
    }
   ],
   "source": [
    "digits.shape"
   ]
  },
  {
   "cell_type": "code",
   "execution_count": 6,
   "metadata": {},
   "outputs": [
    {
     "data": {
      "text/plain": [
       "Index(['label', 'pixel0', 'pixel1', 'pixel2', 'pixel3', 'pixel4', 'pixel5',\n",
       "       'pixel6', 'pixel7', 'pixel8',\n",
       "       ...\n",
       "       'pixel774', 'pixel775', 'pixel776', 'pixel777', 'pixel778', 'pixel779',\n",
       "       'pixel780', 'pixel781', 'pixel782', 'pixel783'],\n",
       "      dtype='object', length=785)"
      ]
     },
     "execution_count": 6,
     "metadata": {},
     "output_type": "execute_result"
    }
   ],
   "source": [
    "digits.columns"
   ]
  },
  {
   "cell_type": "code",
   "execution_count": 7,
   "metadata": {},
   "outputs": [],
   "source": [
    "X = digits.iloc[:, 1:]\n",
    "y = digits.iloc[:, 0]"
   ]
  },
  {
   "cell_type": "code",
   "execution_count": 8,
   "metadata": {},
   "outputs": [],
   "source": [
    "from sklearn.model_selection import train_test_split"
   ]
  },
  {
   "cell_type": "code",
   "execution_count": 9,
   "metadata": {},
   "outputs": [],
   "source": [
    "X_train, X_test, y_train, y_test = train_test_split(X, y, test_size=0.2, random_state=42)"
   ]
  },
  {
   "cell_type": "code",
   "execution_count": 10,
   "metadata": {},
   "outputs": [],
   "source": [
    "from sklearn.preprocessing import StandardScaler"
   ]
  },
  {
   "cell_type": "code",
   "execution_count": 11,
   "metadata": {},
   "outputs": [],
   "source": [
    "X_train = X_train.astype(np.float64)\n",
    "X_test = X_test.astype(np.float64)"
   ]
  },
  {
   "cell_type": "code",
   "execution_count": 12,
   "metadata": {},
   "outputs": [],
   "source": [
    "sc = StandardScaler()\n",
    "X_train = sc.fit_transform(X_train)\n",
    "X_test = sc.transform(X_test)"
   ]
  },
  {
   "cell_type": "code",
   "execution_count": 13,
   "metadata": {},
   "outputs": [],
   "source": [
    "from tensorflow.keras import Sequential\n",
    "from tensorflow.keras.layers import Flatten, Dense, InputLayer\n",
    "from tensorflow.keras.callbacks import ModelCheckpoint\n",
    "from tensorflow.keras.models import load_model"
   ]
  },
  {
   "cell_type": "markdown",
   "metadata": {},
   "source": [
    "#### GridSearchCV"
   ]
  },
  {
   "cell_type": "code",
   "execution_count": 14,
   "metadata": {},
   "outputs": [],
   "source": [
    "def build_model(n_hidden=3, n_neurons=32, learning_rate=3e-3, input_shape=784):\n",
    "    model = Sequential()\n",
    "    \n",
    "    model.add(InputLayer(input_shape=input_shape))\n",
    "    for _ in range(n_hidden):\n",
    "        model.add(Dense(n_neurons, activation=\"relu\"))\n",
    "    model.add(Dense(10, activation=\"softmax\"))\n",
    "    \n",
    "    optimizer = tf.keras.optimizers.SGD(lr=learning_rate)\n",
    "    model.compile(loss=\"sparse_categorical_crossentropy\", optimizer=optimizer, metrics = ['accuracy'])\n",
    "    \n",
    "    return model"
   ]
  },
  {
   "cell_type": "code",
   "execution_count": 15,
   "metadata": {},
   "outputs": [],
   "source": [
    "keras_class = tf.keras.wrappers.scikit_learn.KerasClassifier(build_model)"
   ]
  },
  {
   "cell_type": "code",
   "execution_count": 16,
   "metadata": {
    "scrolled": true
   },
   "outputs": [
    {
     "name": "stdout",
     "output_type": "stream",
     "text": [
      "Fitting 3 folds for each of 2 candidates, totalling 6 fits\n",
      "[CV] learning_rate=0.01, n_hidden=2, n_neurons=8 .....................\n"
     ]
    },
    {
     "name": "stderr",
     "output_type": "stream",
     "text": [
      "[Parallel(n_jobs=1)]: Using backend SequentialBackend with 1 concurrent workers.\n"
     ]
    },
    {
     "name": "stdout",
     "output_type": "stream",
     "text": [
      "Epoch 1/10\n",
      "560/560 [==============================] - 1s 1ms/step - loss: 1.7011 - accuracy: 0.4190 - val_loss: 0.8280 - val_accuracy: 0.7246\n",
      "Epoch 2/10\n",
      "560/560 [==============================] - 0s 870us/step - loss: 0.7486 - accuracy: 0.7489 - val_loss: 0.5825 - val_accuracy: 0.8234\n",
      "Epoch 3/10\n",
      "560/560 [==============================] - 0s 884us/step - loss: 0.5401 - accuracy: 0.8365 - val_loss: 0.4770 - val_accuracy: 0.8650\n",
      "Epoch 4/10\n",
      "560/560 [==============================] - 1s 924us/step - loss: 0.4329 - accuracy: 0.8720 - val_loss: 0.4267 - val_accuracy: 0.8797\n",
      "Epoch 5/10\n",
      "560/560 [==============================] - 0s 874us/step - loss: 0.3862 - accuracy: 0.8843 - val_loss: 0.3969 - val_accuracy: 0.8906\n",
      "Epoch 6/10\n",
      "560/560 [==============================] - 1s 992us/step - loss: 0.3426 - accuracy: 0.8961 - val_loss: 0.3798 - val_accuracy: 0.8978\n",
      "Epoch 7/10\n",
      "560/560 [==============================] - 0s 820us/step - loss: 0.3227 - accuracy: 0.9059 - val_loss: 0.3689 - val_accuracy: 0.9025\n",
      "Epoch 8/10\n",
      "560/560 [==============================] - 0s 826us/step - loss: 0.3134 - accuracy: 0.9096 - val_loss: 0.3659 - val_accuracy: 0.9004\n",
      "Epoch 9/10\n",
      "560/560 [==============================] - 0s 781us/step - loss: 0.2908 - accuracy: 0.9135 - val_loss: 0.3524 - val_accuracy: 0.9085\n",
      "Epoch 10/10\n",
      "560/560 [==============================] - 1s 898us/step - loss: 0.2723 - accuracy: 0.9193 - val_loss: 0.3506 - val_accuracy: 0.9092\n",
      "350/350 [==============================] - 0s 510us/step - loss: 0.3654 - accuracy: 0.8974\n",
      "[CV] ...... learning_rate=0.01, n_hidden=2, n_neurons=8, total=   6.1s\n",
      "[CV] learning_rate=0.01, n_hidden=2, n_neurons=8 .....................\n",
      "Epoch 1/10\n"
     ]
    },
    {
     "name": "stderr",
     "output_type": "stream",
     "text": [
      "[Parallel(n_jobs=1)]: Done   1 out of   1 | elapsed:    6.1s remaining:    0.0s\n"
     ]
    },
    {
     "name": "stdout",
     "output_type": "stream",
     "text": [
      "560/560 [==============================] - 1s 993us/step - loss: 1.9072 - accuracy: 0.3278 - val_loss: 1.0237 - val_accuracy: 0.6812\n",
      "Epoch 2/10\n",
      "560/560 [==============================] - 0s 835us/step - loss: 0.9264 - accuracy: 0.7174 - val_loss: 0.7372 - val_accuracy: 0.7942\n",
      "Epoch 3/10\n",
      "560/560 [==============================] - 0s 862us/step - loss: 0.6859 - accuracy: 0.8024 - val_loss: 0.6282 - val_accuracy: 0.8223\n",
      "Epoch 4/10\n",
      "560/560 [==============================] - 0s 785us/step - loss: 0.5795 - accuracy: 0.8310 - val_loss: 0.5642 - val_accuracy: 0.8397\n",
      "Epoch 5/10\n",
      "560/560 [==============================] - 0s 857us/step - loss: 0.5063 - accuracy: 0.8539 - val_loss: 0.5191 - val_accuracy: 0.8571\n",
      "Epoch 6/10\n",
      "560/560 [==============================] - 0s 818us/step - loss: 0.4640 - accuracy: 0.8681 - val_loss: 0.4827 - val_accuracy: 0.8652\n",
      "Epoch 7/10\n",
      "560/560 [==============================] - 0s 840us/step - loss: 0.4436 - accuracy: 0.8720 - val_loss: 0.4552 - val_accuracy: 0.8717\n",
      "Epoch 8/10\n",
      "560/560 [==============================] - 1s 917us/step - loss: 0.4083 - accuracy: 0.8844 - val_loss: 0.4369 - val_accuracy: 0.8754\n",
      "Epoch 9/10\n",
      "560/560 [==============================] - 0s 837us/step - loss: 0.3689 - accuracy: 0.8939 - val_loss: 0.4191 - val_accuracy: 0.8842\n",
      "Epoch 10/10\n",
      "560/560 [==============================] - 1s 900us/step - loss: 0.3543 - accuracy: 0.8988 - val_loss: 0.4137 - val_accuracy: 0.8844\n",
      "350/350 [==============================] - 0s 534us/step - loss: 0.4364 - accuracy: 0.8782\n",
      "[CV] ...... learning_rate=0.01, n_hidden=2, n_neurons=8, total=   5.5s\n",
      "[CV] learning_rate=0.01, n_hidden=2, n_neurons=8 .....................\n",
      "Epoch 1/10\n",
      "560/560 [==============================] - 1s 1ms/step - loss: 1.9542 - accuracy: 0.3728 - val_loss: 1.1632 - val_accuracy: 0.6167\n",
      "Epoch 2/10\n",
      "560/560 [==============================] - 0s 852us/step - loss: 1.0333 - accuracy: 0.6614 - val_loss: 0.7611 - val_accuracy: 0.7576\n",
      "Epoch 3/10\n",
      "560/560 [==============================] - 0s 887us/step - loss: 0.6719 - accuracy: 0.7891 - val_loss: 0.6070 - val_accuracy: 0.8243\n",
      "Epoch 4/10\n",
      "560/560 [==============================] - 0s 858us/step - loss: 0.5384 - accuracy: 0.8361 - val_loss: 0.5239 - val_accuracy: 0.8509\n",
      "Epoch 5/10\n",
      "560/560 [==============================] - 1s 953us/step - loss: 0.4448 - accuracy: 0.8659 - val_loss: 0.4771 - val_accuracy: 0.8683\n",
      "Epoch 6/10\n",
      "560/560 [==============================] - 1s 942us/step - loss: 0.4028 - accuracy: 0.8839 - val_loss: 0.4485 - val_accuracy: 0.8770\n",
      "Epoch 7/10\n",
      "560/560 [==============================] - 0s 858us/step - loss: 0.3714 - accuracy: 0.8927 - val_loss: 0.4322 - val_accuracy: 0.8846\n",
      "Epoch 8/10\n",
      "560/560 [==============================] - 0s 845us/step - loss: 0.3448 - accuracy: 0.8975 - val_loss: 0.4222 - val_accuracy: 0.8839\n",
      "Epoch 9/10\n",
      "560/560 [==============================] - 1s 977us/step - loss: 0.3160 - accuracy: 0.9034 - val_loss: 0.4119 - val_accuracy: 0.8886\n",
      "Epoch 10/10\n",
      "560/560 [==============================] - 1s 966us/step - loss: 0.3218 - accuracy: 0.9053 - val_loss: 0.4071 - val_accuracy: 0.8893\n",
      "350/350 [==============================] - 0s 671us/step - loss: 0.3880 - accuracy: 0.8946\n",
      "[CV] ...... learning_rate=0.01, n_hidden=2, n_neurons=8, total=   5.9s\n",
      "[CV] learning_rate=0.001, n_hidden=2, n_neurons=8 ....................\n",
      "Epoch 1/10\n",
      "560/560 [==============================] - 1s 1ms/step - loss: 2.3822 - accuracy: 0.0875 - val_loss: 2.1635 - val_accuracy: 0.2326\n",
      "Epoch 2/10\n",
      "560/560 [==============================] - 1s 911us/step - loss: 2.1076 - accuracy: 0.2545 - val_loss: 1.9398 - val_accuracy: 0.3386\n",
      "Epoch 3/10\n",
      "560/560 [==============================] - 1s 1ms/step - loss: 1.8775 - accuracy: 0.3641 - val_loss: 1.7018 - val_accuracy: 0.4493\n",
      "Epoch 4/10\n",
      "560/560 [==============================] - 0s 888us/step - loss: 1.6504 - accuracy: 0.4576 - val_loss: 1.5116 - val_accuracy: 0.5107\n",
      "Epoch 5/10\n",
      "560/560 [==============================] - 1s 955us/step - loss: 1.4607 - accuracy: 0.5134 - val_loss: 1.3616 - val_accuracy: 0.5498\n",
      "Epoch 6/10\n",
      "560/560 [==============================] - 1s 1ms/step - loss: 1.3198 - accuracy: 0.5561 - val_loss: 1.2362 - val_accuracy: 0.5886\n",
      "Epoch 7/10\n",
      "560/560 [==============================] - 1s 1ms/step - loss: 1.2088 - accuracy: 0.5885 - val_loss: 1.1340 - val_accuracy: 0.6165\n",
      "Epoch 8/10\n",
      "560/560 [==============================] - 1s 940us/step - loss: 1.1079 - accuracy: 0.6130 - val_loss: 1.0560 - val_accuracy: 0.6386\n",
      "Epoch 9/10\n",
      "560/560 [==============================] - 1s 987us/step - loss: 1.0232 - accuracy: 0.6369 - val_loss: 0.9967 - val_accuracy: 0.6603\n",
      "Epoch 10/10\n",
      "560/560 [==============================] - 1s 991us/step - loss: 0.9669 - accuracy: 0.6607 - val_loss: 0.9496 - val_accuracy: 0.6835\n",
      "350/350 [==============================] - 0s 833us/step - loss: 0.9539 - accuracy: 0.6760\n",
      "[CV] ..... learning_rate=0.001, n_hidden=2, n_neurons=8, total=   6.6s\n",
      "[CV] learning_rate=0.001, n_hidden=2, n_neurons=8 ....................\n",
      "Epoch 1/10\n",
      "560/560 [==============================] - 1s 1ms/step - loss: 2.3818 - accuracy: 0.1324 - val_loss: 2.1138 - val_accuracy: 0.2170\n",
      "Epoch 2/10\n",
      "560/560 [==============================] - 0s 886us/step - loss: 2.0603 - accuracy: 0.2511 - val_loss: 1.8852 - val_accuracy: 0.3386\n",
      "Epoch 3/10\n",
      "560/560 [==============================] - 1s 944us/step - loss: 1.8361 - accuracy: 0.3605 - val_loss: 1.6788 - val_accuracy: 0.4328\n",
      "Epoch 4/10\n",
      "560/560 [==============================] - 1s 936us/step - loss: 1.6479 - accuracy: 0.4482 - val_loss: 1.4868 - val_accuracy: 0.5201\n",
      "Epoch 5/10\n",
      "560/560 [==============================] - 1s 906us/step - loss: 1.4494 - accuracy: 0.5386 - val_loss: 1.3226 - val_accuracy: 0.5929\n",
      "Epoch 6/10\n",
      "560/560 [==============================] - 1s 995us/step - loss: 1.3004 - accuracy: 0.6005 - val_loss: 1.1918 - val_accuracy: 0.6578\n",
      "Epoch 7/10\n",
      "560/560 [==============================] - 1s 940us/step - loss: 1.1821 - accuracy: 0.6672 - val_loss: 1.0884 - val_accuracy: 0.7045\n",
      "Epoch 8/10\n",
      "560/560 [==============================] - 1s 1ms/step - loss: 1.0871 - accuracy: 0.7088 - val_loss: 1.0077 - val_accuracy: 0.7395\n",
      "Epoch 9/10\n",
      "560/560 [==============================] - 1s 1ms/step - loss: 0.9942 - accuracy: 0.7416 - val_loss: 0.9442 - val_accuracy: 0.7578\n",
      "Epoch 10/10\n",
      "560/560 [==============================] - 1s 938us/step - loss: 0.9392 - accuracy: 0.7592 - val_loss: 0.8937 - val_accuracy: 0.7743\n",
      "350/350 [==============================] - 0s 760us/step - loss: 0.9256 - accuracy: 0.7642\n",
      "[CV] ..... learning_rate=0.001, n_hidden=2, n_neurons=8, total=   6.3s\n",
      "[CV] learning_rate=0.001, n_hidden=2, n_neurons=8 ....................\n",
      "Epoch 1/10\n",
      "560/560 [==============================] - 1s 1ms/step - loss: 2.3762 - accuracy: 0.0888 - val_loss: 2.1865 - val_accuracy: 0.1368\n",
      "Epoch 2/10\n",
      "560/560 [==============================] - 1s 961us/step - loss: 2.1209 - accuracy: 0.1631 - val_loss: 2.0134 - val_accuracy: 0.2279\n",
      "Epoch 3/10\n",
      "560/560 [==============================] - 1s 1ms/step - loss: 1.9531 - accuracy: 0.2392 - val_loss: 1.8725 - val_accuracy: 0.2830\n",
      "Epoch 4/10\n",
      "560/560 [==============================] - 1s 918us/step - loss: 1.8203 - accuracy: 0.3075 - val_loss: 1.7488 - val_accuracy: 0.3580\n",
      "Epoch 5/10\n",
      "560/560 [==============================] - 1s 963us/step - loss: 1.6879 - accuracy: 0.3869 - val_loss: 1.6374 - val_accuracy: 0.4254\n",
      "Epoch 6/10\n",
      "560/560 [==============================] - 1s 975us/step - loss: 1.5738 - accuracy: 0.4574 - val_loss: 1.5342 - val_accuracy: 0.5243\n",
      "Epoch 7/10\n",
      "560/560 [==============================] - 1s 979us/step - loss: 1.4901 - accuracy: 0.5301 - val_loss: 1.4345 - val_accuracy: 0.5614\n",
      "Epoch 8/10\n",
      "560/560 [==============================] - 1s 1ms/step - loss: 1.3835 - accuracy: 0.5756 - val_loss: 1.3384 - val_accuracy: 0.5987\n",
      "Epoch 9/10\n",
      "560/560 [==============================] - 1s 1ms/step - loss: 1.2961 - accuracy: 0.6076 - val_loss: 1.2489 - val_accuracy: 0.6281\n",
      "Epoch 10/10\n",
      "560/560 [==============================] - 1s 979us/step - loss: 1.2095 - accuracy: 0.6358 - val_loss: 1.1697 - val_accuracy: 0.6522\n",
      "350/350 [==============================] - 0s 635us/step - loss: 1.1660 - accuracy: 0.6551\n"
     ]
    },
    {
     "name": "stdout",
     "output_type": "stream",
     "text": [
      "[CV] ..... learning_rate=0.001, n_hidden=2, n_neurons=8, total=   6.4s\n",
      "Epoch 1/10\n"
     ]
    },
    {
     "name": "stderr",
     "output_type": "stream",
     "text": [
      "[Parallel(n_jobs=1)]: Done   6 out of   6 | elapsed:   36.8s finished\n"
     ]
    },
    {
     "name": "stdout",
     "output_type": "stream",
     "text": [
      "840/840 [==============================] - 1s 1ms/step - loss: 1.8260 - accuracy: 0.3733 - val_loss: 1.0052 - val_accuracy: 0.7326\n",
      "Epoch 2/10\n",
      "840/840 [==============================] - 1s 856us/step - loss: 0.8676 - accuracy: 0.7682 - val_loss: 0.6567 - val_accuracy: 0.8327\n",
      "Epoch 3/10\n",
      "840/840 [==============================] - 1s 927us/step - loss: 0.5815 - accuracy: 0.8450 - val_loss: 0.5331 - val_accuracy: 0.8571\n",
      "Epoch 4/10\n",
      "840/840 [==============================] - 1s 912us/step - loss: 0.4759 - accuracy: 0.8704 - val_loss: 0.4667 - val_accuracy: 0.8786\n",
      "Epoch 5/10\n",
      "840/840 [==============================] - 1s 1ms/step - loss: 0.4082 - accuracy: 0.8897 - val_loss: 0.4176 - val_accuracy: 0.8891\n",
      "Epoch 6/10\n",
      "840/840 [==============================] - 1s 1ms/step - loss: 0.3511 - accuracy: 0.9025 - val_loss: 0.3931 - val_accuracy: 0.8929\n",
      "Epoch 7/10\n",
      "840/840 [==============================] - 1s 953us/step - loss: 0.3339 - accuracy: 0.9052 - val_loss: 0.3778 - val_accuracy: 0.8952\n",
      "Epoch 8/10\n",
      "840/840 [==============================] - 1s 919us/step - loss: 0.3054 - accuracy: 0.9112 - val_loss: 0.3611 - val_accuracy: 0.9034\n",
      "Epoch 9/10\n",
      "840/840 [==============================] - 1s 943us/step - loss: 0.2945 - accuracy: 0.9161 - val_loss: 0.3547 - val_accuracy: 0.9030\n",
      "Epoch 10/10\n",
      "840/840 [==============================] - 1s 925us/step - loss: 0.2742 - accuracy: 0.9198 - val_loss: 0.3474 - val_accuracy: 0.9048\n"
     ]
    },
    {
     "data": {
      "text/plain": [
       "GridSearchCV(cv=3,\n",
       "             estimator=<tensorflow.python.keras.wrappers.scikit_learn.KerasClassifier object at 0x7ff83d6b4040>,\n",
       "             param_grid={'learning_rate': [0.01, 0.001], 'n_hidden': [2],\n",
       "                         'n_neurons': [8]},\n",
       "             verbose=2)"
      ]
     },
     "execution_count": 16,
     "metadata": {},
     "output_type": "execute_result"
    }
   ],
   "source": [
    "#from sklearn.model_selection import RandomizedSearchCV\n",
    "from sklearn.model_selection import GridSearchCV\n",
    "\n",
    "param_distribs = {\n",
    "    \"n_hidden\": [2],\n",
    "    \"n_neurons\": [8],\n",
    "    \"learning_rate\": [0.01, 0.001]\n",
    "}\n",
    "\n",
    "search_cv = GridSearchCV(keras_class, param_distribs, cv=3, verbose=2)\n",
    "search_cv.fit(X_train, y_train.values, epochs=10, validation_split=0.2,\n",
    "                  callbacks=[tf.keras.callbacks.EarlyStopping(patience=2)])"
   ]
  },
  {
   "cell_type": "code",
   "execution_count": 17,
   "metadata": {},
   "outputs": [
    {
     "name": "stdout",
     "output_type": "stream",
     "text": [
      "Best Parameters:  {'learning_rate': 0.01, 'n_hidden': 2, 'n_neurons': 8}\n",
      "Best Scores:  0.8900595108668009\n",
      "Best Estimator:  <tensorflow.python.keras.wrappers.scikit_learn.KerasClassifier object at 0x7ff808456df0>\n"
     ]
    }
   ],
   "source": [
    "print(\"Best Parameters: \", search_cv.best_params_)\n",
    "print(\"Best Scores: \", search_cv.best_score_)\n",
    "print(\"Best Estimator: \", search_cv.best_estimator_)"
   ]
  },
  {
   "cell_type": "code",
   "execution_count": 18,
   "metadata": {},
   "outputs": [],
   "source": [
    "model = search_cv.best_estimator_"
   ]
  },
  {
   "cell_type": "code",
   "execution_count": 19,
   "metadata": {},
   "outputs": [],
   "source": [
    "from sklearn.metrics import accuracy_score"
   ]
  },
  {
   "cell_type": "code",
   "execution_count": 38,
   "metadata": {},
   "outputs": [
    {
     "data": {
      "text/plain": [
       "array([8, 1, 9, ..., 3, 0, 9])"
      ]
     },
     "execution_count": 38,
     "metadata": {},
     "output_type": "execute_result"
    }
   ],
   "source": [
    "model.predict(X_test)"
   ]
  },
  {
   "cell_type": "code",
   "execution_count": 39,
   "metadata": {},
   "outputs": [],
   "source": [
    "y_pred = model.predict(X_test)"
   ]
  },
  {
   "cell_type": "code",
   "execution_count": 40,
   "metadata": {},
   "outputs": [
    {
     "data": {
      "text/plain": [
       "array([8, 1, 9, ..., 3, 0, 9])"
      ]
     },
     "execution_count": 40,
     "metadata": {},
     "output_type": "execute_result"
    }
   ],
   "source": [
    "y_pred"
   ]
  },
  {
   "cell_type": "code",
   "execution_count": 41,
   "metadata": {},
   "outputs": [
    {
     "data": {
      "text/plain": [
       "0.9060714285714285"
      ]
     },
     "execution_count": 41,
     "metadata": {},
     "output_type": "execute_result"
    }
   ],
   "source": [
    "accuracy_score(y_test, y_pred)"
   ]
  },
  {
   "cell_type": "code",
   "execution_count": null,
   "metadata": {},
   "outputs": [],
   "source": []
  },
  {
   "cell_type": "code",
   "execution_count": null,
   "metadata": {},
   "outputs": [],
   "source": []
  }
 ],
 "metadata": {
  "kernelspec": {
   "display_name": "Python 3",
   "language": "python",
   "name": "python3"
  },
  "language_info": {
   "codemirror_mode": {
    "name": "ipython",
    "version": 3
   },
   "file_extension": ".py",
   "mimetype": "text/x-python",
   "name": "python",
   "nbconvert_exporter": "python",
   "pygments_lexer": "ipython3",
   "version": "3.8.5"
  }
 },
 "nbformat": 4,
 "nbformat_minor": 2
}
