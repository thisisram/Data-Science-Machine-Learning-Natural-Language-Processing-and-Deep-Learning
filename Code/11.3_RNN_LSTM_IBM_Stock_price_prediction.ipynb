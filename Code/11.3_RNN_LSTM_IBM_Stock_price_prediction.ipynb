{
 "cells": [
  {
   "cell_type": "code",
   "execution_count": 1,
   "metadata": {},
   "outputs": [
    {
     "name": "stderr",
     "output_type": "stream",
     "text": [
      "Using TensorFlow backend.\n"
     ]
    }
   ],
   "source": [
    "import pandas as pd\n",
    "import numpy as np\n",
    "\n",
    "import tensorflow as tf\n",
    "\n",
    "import keras\n",
    "\n",
    "import matplotlib.pyplot as plt\n",
    "import seaborn as sns"
   ]
  },
  {
   "cell_type": "code",
   "execution_count": 2,
   "metadata": {},
   "outputs": [],
   "source": [
    "ibm_stock_data = pd.read_csv('../data/ibm_stock_prices.csv')"
   ]
  },
  {
   "cell_type": "code",
   "execution_count": 3,
   "metadata": {},
   "outputs": [
    {
     "data": {
      "text/plain": [
       "(14059, 7)"
      ]
     },
     "execution_count": 3,
     "metadata": {},
     "output_type": "execute_result"
    }
   ],
   "source": [
    "ibm_stock_data.shape"
   ]
  },
  {
   "cell_type": "code",
   "execution_count": 4,
   "metadata": {},
   "outputs": [
    {
     "data": {
      "text/html": [
       "<div>\n",
       "<style scoped>\n",
       "    .dataframe tbody tr th:only-of-type {\n",
       "        vertical-align: middle;\n",
       "    }\n",
       "\n",
       "    .dataframe tbody tr th {\n",
       "        vertical-align: top;\n",
       "    }\n",
       "\n",
       "    .dataframe thead th {\n",
       "        text-align: right;\n",
       "    }\n",
       "</style>\n",
       "<table border=\"1\" class=\"dataframe\">\n",
       "  <thead>\n",
       "    <tr style=\"text-align: right;\">\n",
       "      <th></th>\n",
       "      <th>Date</th>\n",
       "      <th>Open</th>\n",
       "      <th>High</th>\n",
       "      <th>Low</th>\n",
       "      <th>Close</th>\n",
       "      <th>Volume</th>\n",
       "      <th>OpenInt</th>\n",
       "    </tr>\n",
       "  </thead>\n",
       "  <tbody>\n",
       "    <tr>\n",
       "      <th>0</th>\n",
       "      <td>1962-01-02</td>\n",
       "      <td>6.4130</td>\n",
       "      <td>6.4130</td>\n",
       "      <td>6.3378</td>\n",
       "      <td>6.3378</td>\n",
       "      <td>467056</td>\n",
       "      <td>0</td>\n",
       "    </tr>\n",
       "    <tr>\n",
       "      <th>1</th>\n",
       "      <td>1962-01-03</td>\n",
       "      <td>6.3378</td>\n",
       "      <td>6.3963</td>\n",
       "      <td>6.3378</td>\n",
       "      <td>6.3963</td>\n",
       "      <td>350294</td>\n",
       "      <td>0</td>\n",
       "    </tr>\n",
       "    <tr>\n",
       "      <th>2</th>\n",
       "      <td>1962-01-04</td>\n",
       "      <td>6.3963</td>\n",
       "      <td>6.3963</td>\n",
       "      <td>6.3295</td>\n",
       "      <td>6.3295</td>\n",
       "      <td>314365</td>\n",
       "      <td>0</td>\n",
       "    </tr>\n",
       "    <tr>\n",
       "      <th>3</th>\n",
       "      <td>1962-01-05</td>\n",
       "      <td>6.3211</td>\n",
       "      <td>6.3211</td>\n",
       "      <td>6.1958</td>\n",
       "      <td>6.2041</td>\n",
       "      <td>440112</td>\n",
       "      <td>0</td>\n",
       "    </tr>\n",
       "    <tr>\n",
       "      <th>4</th>\n",
       "      <td>1962-01-08</td>\n",
       "      <td>6.2041</td>\n",
       "      <td>6.2041</td>\n",
       "      <td>6.0373</td>\n",
       "      <td>6.0870</td>\n",
       "      <td>655676</td>\n",
       "      <td>0</td>\n",
       "    </tr>\n",
       "  </tbody>\n",
       "</table>\n",
       "</div>"
      ],
      "text/plain": [
       "         Date    Open    High     Low   Close  Volume  OpenInt\n",
       "0  1962-01-02  6.4130  6.4130  6.3378  6.3378  467056        0\n",
       "1  1962-01-03  6.3378  6.3963  6.3378  6.3963  350294        0\n",
       "2  1962-01-04  6.3963  6.3963  6.3295  6.3295  314365        0\n",
       "3  1962-01-05  6.3211  6.3211  6.1958  6.2041  440112        0\n",
       "4  1962-01-08  6.2041  6.2041  6.0373  6.0870  655676        0"
      ]
     },
     "execution_count": 4,
     "metadata": {},
     "output_type": "execute_result"
    }
   ],
   "source": [
    "ibm_stock_data.head()"
   ]
  },
  {
   "cell_type": "code",
   "execution_count": 5,
   "metadata": {},
   "outputs": [],
   "source": [
    "ibm_stock_data.drop('OpenInt', axis=1, inplace=True)"
   ]
  },
  {
   "cell_type": "code",
   "execution_count": 6,
   "metadata": {},
   "outputs": [
    {
     "data": {
      "text/plain": [
       "Date      False\n",
       "Open      False\n",
       "High      False\n",
       "Low       False\n",
       "Close     False\n",
       "Volume    False\n",
       "dtype: bool"
      ]
     },
     "execution_count": 6,
     "metadata": {},
     "output_type": "execute_result"
    }
   ],
   "source": [
    "ibm_stock_data.isnull().any()"
   ]
  },
  {
   "cell_type": "markdown",
   "metadata": {},
   "source": [
    "#### Convert data to number"
   ]
  },
  {
   "cell_type": "code",
   "execution_count": 7,
   "metadata": {},
   "outputs": [
    {
     "data": {
      "text/plain": [
       "Date       object\n",
       "Open      float64\n",
       "High      float64\n",
       "Low       float64\n",
       "Close     float64\n",
       "Volume      int64\n",
       "dtype: object"
      ]
     },
     "execution_count": 7,
     "metadata": {},
     "output_type": "execute_result"
    }
   ],
   "source": [
    "ibm_stock_data.dtypes"
   ]
  },
  {
   "cell_type": "code",
   "execution_count": 8,
   "metadata": {},
   "outputs": [],
   "source": [
    "ibm_stock_data['Date'] = ibm_stock_data['Date'].astype('datetime64')"
   ]
  },
  {
   "cell_type": "code",
   "execution_count": 9,
   "metadata": {},
   "outputs": [
    {
     "data": {
      "text/html": [
       "<div>\n",
       "<style scoped>\n",
       "    .dataframe tbody tr th:only-of-type {\n",
       "        vertical-align: middle;\n",
       "    }\n",
       "\n",
       "    .dataframe tbody tr th {\n",
       "        vertical-align: top;\n",
       "    }\n",
       "\n",
       "    .dataframe thead th {\n",
       "        text-align: right;\n",
       "    }\n",
       "</style>\n",
       "<table border=\"1\" class=\"dataframe\">\n",
       "  <thead>\n",
       "    <tr style=\"text-align: right;\">\n",
       "      <th></th>\n",
       "      <th>Date</th>\n",
       "      <th>Open</th>\n",
       "      <th>High</th>\n",
       "      <th>Low</th>\n",
       "      <th>Close</th>\n",
       "      <th>Volume</th>\n",
       "    </tr>\n",
       "  </thead>\n",
       "  <tbody>\n",
       "    <tr>\n",
       "      <th>0</th>\n",
       "      <td>1962-01-02</td>\n",
       "      <td>6.4130</td>\n",
       "      <td>6.4130</td>\n",
       "      <td>6.3378</td>\n",
       "      <td>6.3378</td>\n",
       "      <td>467056</td>\n",
       "    </tr>\n",
       "    <tr>\n",
       "      <th>1</th>\n",
       "      <td>1962-01-03</td>\n",
       "      <td>6.3378</td>\n",
       "      <td>6.3963</td>\n",
       "      <td>6.3378</td>\n",
       "      <td>6.3963</td>\n",
       "      <td>350294</td>\n",
       "    </tr>\n",
       "    <tr>\n",
       "      <th>2</th>\n",
       "      <td>1962-01-04</td>\n",
       "      <td>6.3963</td>\n",
       "      <td>6.3963</td>\n",
       "      <td>6.3295</td>\n",
       "      <td>6.3295</td>\n",
       "      <td>314365</td>\n",
       "    </tr>\n",
       "    <tr>\n",
       "      <th>3</th>\n",
       "      <td>1962-01-05</td>\n",
       "      <td>6.3211</td>\n",
       "      <td>6.3211</td>\n",
       "      <td>6.1958</td>\n",
       "      <td>6.2041</td>\n",
       "      <td>440112</td>\n",
       "    </tr>\n",
       "    <tr>\n",
       "      <th>4</th>\n",
       "      <td>1962-01-08</td>\n",
       "      <td>6.2041</td>\n",
       "      <td>6.2041</td>\n",
       "      <td>6.0373</td>\n",
       "      <td>6.0870</td>\n",
       "      <td>655676</td>\n",
       "    </tr>\n",
       "  </tbody>\n",
       "</table>\n",
       "</div>"
      ],
      "text/plain": [
       "        Date    Open    High     Low   Close  Volume\n",
       "0 1962-01-02  6.4130  6.4130  6.3378  6.3378  467056\n",
       "1 1962-01-03  6.3378  6.3963  6.3378  6.3963  350294\n",
       "2 1962-01-04  6.3963  6.3963  6.3295  6.3295  314365\n",
       "3 1962-01-05  6.3211  6.3211  6.1958  6.2041  440112\n",
       "4 1962-01-08  6.2041  6.2041  6.0373  6.0870  655676"
      ]
     },
     "execution_count": 9,
     "metadata": {},
     "output_type": "execute_result"
    }
   ],
   "source": [
    "ibm_stock_data.head()"
   ]
  },
  {
   "cell_type": "code",
   "execution_count": 10,
   "metadata": {},
   "outputs": [
    {
     "data": {
      "text/plain": [
       "Date      datetime64[ns]\n",
       "Open             float64\n",
       "High             float64\n",
       "Low              float64\n",
       "Close            float64\n",
       "Volume             int64\n",
       "dtype: object"
      ]
     },
     "execution_count": 10,
     "metadata": {},
     "output_type": "execute_result"
    }
   ],
   "source": [
    "ibm_stock_data.dtypes"
   ]
  },
  {
   "cell_type": "code",
   "execution_count": 11,
   "metadata": {},
   "outputs": [
    {
     "name": "stdout",
     "output_type": "stream",
     "text": [
      "min_date :  1962-01-02 00:00:00\n"
     ]
    }
   ],
   "source": [
    "min_date = ibm_stock_data['Date'].min()\n",
    "print(\"min_date : \", min_date)"
   ]
  },
  {
   "cell_type": "code",
   "execution_count": 12,
   "metadata": {},
   "outputs": [
    {
     "name": "stdout",
     "output_type": "stream",
     "text": [
      "max_date :  2017-11-10 00:00:00\n"
     ]
    }
   ],
   "source": [
    "max_date = ibm_stock_data['Date'].max()\n",
    "print(\"max_date : \", max_date)"
   ]
  },
  {
   "cell_type": "code",
   "execution_count": 13,
   "metadata": {},
   "outputs": [],
   "source": [
    "def calculate_days_since_min_date(row_date):\n",
    "    return row_date - min_date"
   ]
  },
  {
   "cell_type": "code",
   "execution_count": 14,
   "metadata": {},
   "outputs": [],
   "source": [
    "ibm_stock_data['numeric_date'] = ibm_stock_data['Date'].apply(lambda x:calculate_days_since_min_date(x))"
   ]
  },
  {
   "cell_type": "code",
   "execution_count": 15,
   "metadata": {},
   "outputs": [
    {
     "data": {
      "text/html": [
       "<div>\n",
       "<style scoped>\n",
       "    .dataframe tbody tr th:only-of-type {\n",
       "        vertical-align: middle;\n",
       "    }\n",
       "\n",
       "    .dataframe tbody tr th {\n",
       "        vertical-align: top;\n",
       "    }\n",
       "\n",
       "    .dataframe thead th {\n",
       "        text-align: right;\n",
       "    }\n",
       "</style>\n",
       "<table border=\"1\" class=\"dataframe\">\n",
       "  <thead>\n",
       "    <tr style=\"text-align: right;\">\n",
       "      <th></th>\n",
       "      <th>Date</th>\n",
       "      <th>Open</th>\n",
       "      <th>High</th>\n",
       "      <th>Low</th>\n",
       "      <th>Close</th>\n",
       "      <th>Volume</th>\n",
       "      <th>numeric_date</th>\n",
       "    </tr>\n",
       "  </thead>\n",
       "  <tbody>\n",
       "    <tr>\n",
       "      <th>0</th>\n",
       "      <td>1962-01-02</td>\n",
       "      <td>6.4130</td>\n",
       "      <td>6.4130</td>\n",
       "      <td>6.3378</td>\n",
       "      <td>6.3378</td>\n",
       "      <td>467056</td>\n",
       "      <td>0 days</td>\n",
       "    </tr>\n",
       "    <tr>\n",
       "      <th>1</th>\n",
       "      <td>1962-01-03</td>\n",
       "      <td>6.3378</td>\n",
       "      <td>6.3963</td>\n",
       "      <td>6.3378</td>\n",
       "      <td>6.3963</td>\n",
       "      <td>350294</td>\n",
       "      <td>1 days</td>\n",
       "    </tr>\n",
       "    <tr>\n",
       "      <th>2</th>\n",
       "      <td>1962-01-04</td>\n",
       "      <td>6.3963</td>\n",
       "      <td>6.3963</td>\n",
       "      <td>6.3295</td>\n",
       "      <td>6.3295</td>\n",
       "      <td>314365</td>\n",
       "      <td>2 days</td>\n",
       "    </tr>\n",
       "    <tr>\n",
       "      <th>3</th>\n",
       "      <td>1962-01-05</td>\n",
       "      <td>6.3211</td>\n",
       "      <td>6.3211</td>\n",
       "      <td>6.1958</td>\n",
       "      <td>6.2041</td>\n",
       "      <td>440112</td>\n",
       "      <td>3 days</td>\n",
       "    </tr>\n",
       "    <tr>\n",
       "      <th>4</th>\n",
       "      <td>1962-01-08</td>\n",
       "      <td>6.2041</td>\n",
       "      <td>6.2041</td>\n",
       "      <td>6.0373</td>\n",
       "      <td>6.0870</td>\n",
       "      <td>655676</td>\n",
       "      <td>6 days</td>\n",
       "    </tr>\n",
       "  </tbody>\n",
       "</table>\n",
       "</div>"
      ],
      "text/plain": [
       "        Date    Open    High     Low   Close  Volume numeric_date\n",
       "0 1962-01-02  6.4130  6.4130  6.3378  6.3378  467056       0 days\n",
       "1 1962-01-03  6.3378  6.3963  6.3378  6.3963  350294       1 days\n",
       "2 1962-01-04  6.3963  6.3963  6.3295  6.3295  314365       2 days\n",
       "3 1962-01-05  6.3211  6.3211  6.1958  6.2041  440112       3 days\n",
       "4 1962-01-08  6.2041  6.2041  6.0373  6.0870  655676       6 days"
      ]
     },
     "execution_count": 15,
     "metadata": {},
     "output_type": "execute_result"
    }
   ],
   "source": [
    "ibm_stock_data.head()"
   ]
  },
  {
   "cell_type": "code",
   "execution_count": 16,
   "metadata": {},
   "outputs": [
    {
     "data": {
      "text/plain": [
       "Date             datetime64[ns]\n",
       "Open                    float64\n",
       "High                    float64\n",
       "Low                     float64\n",
       "Close                   float64\n",
       "Volume                    int64\n",
       "numeric_date    timedelta64[ns]\n",
       "dtype: object"
      ]
     },
     "execution_count": 16,
     "metadata": {},
     "output_type": "execute_result"
    }
   ],
   "source": [
    "ibm_stock_data.dtypes"
   ]
  },
  {
   "cell_type": "code",
   "execution_count": 17,
   "metadata": {},
   "outputs": [],
   "source": [
    "ibm_stock_data['numeric_date'] = ibm_stock_data['numeric_date'].astype('timedelta64[D]')"
   ]
  },
  {
   "cell_type": "code",
   "execution_count": 18,
   "metadata": {},
   "outputs": [
    {
     "data": {
      "text/plain": [
       "Date            datetime64[ns]\n",
       "Open                   float64\n",
       "High                   float64\n",
       "Low                    float64\n",
       "Close                  float64\n",
       "Volume                   int64\n",
       "numeric_date           float64\n",
       "dtype: object"
      ]
     },
     "execution_count": 18,
     "metadata": {},
     "output_type": "execute_result"
    }
   ],
   "source": [
    "ibm_stock_data.dtypes"
   ]
  },
  {
   "cell_type": "code",
   "execution_count": 19,
   "metadata": {},
   "outputs": [
    {
     "data": {
      "image/png": "[encoded data removed]",
      "text/plain": [
       "<Figure size 432x288 with 1 Axes>"
      ]
     },
     "metadata": {
      "needs_background": "light"
     },
     "output_type": "display_data"
    }
   ],
   "source": [
    "plt.figure()\n",
    "plt.plot(ibm_stock_data[\"Volume\"])\n",
    "plt.title('IBM stock volume history')\n",
    "plt.ylabel('Volume')\n",
    "plt.xlabel('Days')\n",
    "plt.show()"
   ]
  },
  {
   "cell_type": "code",
   "execution_count": 20,
   "metadata": {},
   "outputs": [
    {
     "data": {
      "image/png": "[encoded data removed]",
      "text/plain": [
       "<Figure size 720x720 with 1 Axes>"
      ]
     },
     "metadata": {
      "needs_background": "light"
     },
     "output_type": "display_data"
    }
   ],
   "source": [
    "plt.figure(figsize=(10,10))\n",
    "plt.plot(ibm_stock_data[\"numeric_date\"], ibm_stock_data[\"Close\"])\n",
    "plt.title('IBM stock Closeing Price history')\n",
    "plt.ylabel('Closing Price')\n",
    "plt.xlabel('Days')\n",
    "plt.show()"
   ]
  },
  {
   "cell_type": "code",
   "execution_count": 21,
   "metadata": {},
   "outputs": [],
   "source": [
    "ibm_stock_data.drop('Date', axis=1, inplace=True)"
   ]
  },
  {
   "cell_type": "code",
   "execution_count": 22,
   "metadata": {},
   "outputs": [
    {
     "data": {
      "text/plain": [
       "0.0"
      ]
     },
     "execution_count": 22,
     "metadata": {},
     "output_type": "execute_result"
    }
   ],
   "source": [
    "ibm_stock_data['numeric_date'].min()"
   ]
  },
  {
   "cell_type": "code",
   "execution_count": 23,
   "metadata": {},
   "outputs": [
    {
     "data": {
      "text/plain": [
       "20401.0"
      ]
     },
     "execution_count": 23,
     "metadata": {},
     "output_type": "execute_result"
    }
   ],
   "source": [
    "ibm_stock_data['numeric_date'].max()"
   ]
  },
  {
   "cell_type": "code",
   "execution_count": 24,
   "metadata": {},
   "outputs": [],
   "source": [
    "stock_train_set = ibm_stock_data[ibm_stock_data.numeric_date <= 19000.0]\n",
    "stock_test_set = ibm_stock_data[ibm_stock_data.numeric_date > 19000.0]"
   ]
  },
  {
   "cell_type": "code",
   "execution_count": 25,
   "metadata": {},
   "outputs": [
    {
     "data": {
      "text/plain": [
       "(13091, 6)"
      ]
     },
     "execution_count": 25,
     "metadata": {},
     "output_type": "execute_result"
    }
   ],
   "source": [
    "stock_train_set.shape"
   ]
  },
  {
   "cell_type": "code",
   "execution_count": 26,
   "metadata": {},
   "outputs": [
    {
     "data": {
      "text/html": [
       "<div>\n",
       "<style scoped>\n",
       "    .dataframe tbody tr th:only-of-type {\n",
       "        vertical-align: middle;\n",
       "    }\n",
       "\n",
       "    .dataframe tbody tr th {\n",
       "        vertical-align: top;\n",
       "    }\n",
       "\n",
       "    .dataframe thead th {\n",
       "        text-align: right;\n",
       "    }\n",
       "</style>\n",
       "<table border=\"1\" class=\"dataframe\">\n",
       "  <thead>\n",
       "    <tr style=\"text-align: right;\">\n",
       "      <th></th>\n",
       "      <th>Open</th>\n",
       "      <th>High</th>\n",
       "      <th>Low</th>\n",
       "      <th>Close</th>\n",
       "      <th>Volume</th>\n",
       "      <th>numeric_date</th>\n",
       "    </tr>\n",
       "  </thead>\n",
       "  <tbody>\n",
       "    <tr>\n",
       "      <th>13091</th>\n",
       "      <td>165.10</td>\n",
       "      <td>165.32</td>\n",
       "      <td>163.31</td>\n",
       "      <td>164.17</td>\n",
       "      <td>4588713</td>\n",
       "      <td>19001.0</td>\n",
       "    </tr>\n",
       "    <tr>\n",
       "      <th>13092</th>\n",
       "      <td>163.29</td>\n",
       "      <td>163.90</td>\n",
       "      <td>161.19</td>\n",
       "      <td>161.47</td>\n",
       "      <td>6603072</td>\n",
       "      <td>19004.0</td>\n",
       "    </tr>\n",
       "    <tr>\n",
       "      <th>13093</th>\n",
       "      <td>162.22</td>\n",
       "      <td>163.45</td>\n",
       "      <td>161.21</td>\n",
       "      <td>163.00</td>\n",
       "      <td>5269052</td>\n",
       "      <td>19005.0</td>\n",
       "    </tr>\n",
       "    <tr>\n",
       "      <th>13094</th>\n",
       "      <td>162.92</td>\n",
       "      <td>165.40</td>\n",
       "      <td>162.62</td>\n",
       "      <td>164.60</td>\n",
       "      <td>5508395</td>\n",
       "      <td>19006.0</td>\n",
       "    </tr>\n",
       "    <tr>\n",
       "      <th>13095</th>\n",
       "      <td>164.41</td>\n",
       "      <td>165.67</td>\n",
       "      <td>163.76</td>\n",
       "      <td>165.49</td>\n",
       "      <td>5445978</td>\n",
       "      <td>19007.0</td>\n",
       "    </tr>\n",
       "    <tr>\n",
       "      <th>13096</th>\n",
       "      <td>164.86</td>\n",
       "      <td>167.29</td>\n",
       "      <td>164.69</td>\n",
       "      <td>166.64</td>\n",
       "      <td>8749664</td>\n",
       "      <td>19008.0</td>\n",
       "    </tr>\n",
       "    <tr>\n",
       "      <th>13097</th>\n",
       "      <td>166.76</td>\n",
       "      <td>166.92</td>\n",
       "      <td>163.75</td>\n",
       "      <td>165.19</td>\n",
       "      <td>12665338</td>\n",
       "      <td>19012.0</td>\n",
       "    </tr>\n",
       "    <tr>\n",
       "      <th>13098</th>\n",
       "      <td>158.93</td>\n",
       "      <td>160.86</td>\n",
       "      <td>157.54</td>\n",
       "      <td>159.77</td>\n",
       "      <td>15739030</td>\n",
       "      <td>19013.0</td>\n",
       "    </tr>\n",
       "    <tr>\n",
       "      <th>13099</th>\n",
       "      <td>158.87</td>\n",
       "      <td>161.05</td>\n",
       "      <td>158.43</td>\n",
       "      <td>160.20</td>\n",
       "      <td>7955042</td>\n",
       "      <td>19014.0</td>\n",
       "    </tr>\n",
       "    <tr>\n",
       "      <th>13100</th>\n",
       "      <td>158.92</td>\n",
       "      <td>160.27</td>\n",
       "      <td>157.51</td>\n",
       "      <td>157.51</td>\n",
       "      <td>7913760</td>\n",
       "      <td>19015.0</td>\n",
       "    </tr>\n",
       "    <tr>\n",
       "      <th>13101</th>\n",
       "      <td>157.48</td>\n",
       "      <td>157.52</td>\n",
       "      <td>155.75</td>\n",
       "      <td>155.97</td>\n",
       "      <td>5941692</td>\n",
       "      <td>19018.0</td>\n",
       "    </tr>\n",
       "    <tr>\n",
       "      <th>13102</th>\n",
       "      <td>156.09</td>\n",
       "      <td>156.46</td>\n",
       "      <td>154.44</td>\n",
       "      <td>155.06</td>\n",
       "      <td>6087170</td>\n",
       "      <td>19019.0</td>\n",
       "    </tr>\n",
       "    <tr>\n",
       "      <th>13103</th>\n",
       "      <td>154.29</td>\n",
       "      <td>156.52</td>\n",
       "      <td>154.20</td>\n",
       "      <td>154.64</td>\n",
       "      <td>5670131</td>\n",
       "      <td>19020.0</td>\n",
       "    </tr>\n",
       "    <tr>\n",
       "      <th>13104</th>\n",
       "      <td>155.34</td>\n",
       "      <td>155.94</td>\n",
       "      <td>154.60</td>\n",
       "      <td>155.48</td>\n",
       "      <td>5536864</td>\n",
       "      <td>19021.0</td>\n",
       "    </tr>\n",
       "    <tr>\n",
       "      <th>13105</th>\n",
       "      <td>154.39</td>\n",
       "      <td>155.92</td>\n",
       "      <td>153.72</td>\n",
       "      <td>154.90</td>\n",
       "      <td>5925924</td>\n",
       "      <td>19022.0</td>\n",
       "    </tr>\n",
       "    <tr>\n",
       "      <th>13106</th>\n",
       "      <td>154.15</td>\n",
       "      <td>154.33</td>\n",
       "      <td>151.44</td>\n",
       "      <td>151.57</td>\n",
       "      <td>8198355</td>\n",
       "      <td>19025.0</td>\n",
       "    </tr>\n",
       "    <tr>\n",
       "      <th>13107</th>\n",
       "      <td>152.14</td>\n",
       "      <td>152.32</td>\n",
       "      <td>151.11</td>\n",
       "      <td>151.54</td>\n",
       "      <td>4961772</td>\n",
       "      <td>19026.0</td>\n",
       "    </tr>\n",
       "    <tr>\n",
       "      <th>13108</th>\n",
       "      <td>151.08</td>\n",
       "      <td>153.39</td>\n",
       "      <td>150.96</td>\n",
       "      <td>152.76</td>\n",
       "      <td>5377323</td>\n",
       "      <td>19027.0</td>\n",
       "    </tr>\n",
       "    <tr>\n",
       "      <th>13109</th>\n",
       "      <td>153.35</td>\n",
       "      <td>154.14</td>\n",
       "      <td>153.20</td>\n",
       "      <td>153.99</td>\n",
       "      <td>4869253</td>\n",
       "      <td>19028.0</td>\n",
       "    </tr>\n",
       "    <tr>\n",
       "      <th>13110</th>\n",
       "      <td>154.82</td>\n",
       "      <td>156.52</td>\n",
       "      <td>154.34</td>\n",
       "      <td>156.26</td>\n",
       "      <td>5360791</td>\n",
       "      <td>19029.0</td>\n",
       "    </tr>\n",
       "    <tr>\n",
       "      <th>13111</th>\n",
       "      <td>155.97</td>\n",
       "      <td>156.59</td>\n",
       "      <td>155.37</td>\n",
       "      <td>156.15</td>\n",
       "      <td>4020349</td>\n",
       "      <td>19032.0</td>\n",
       "    </tr>\n",
       "    <tr>\n",
       "      <th>13112</th>\n",
       "      <td>155.88</td>\n",
       "      <td>159.02</td>\n",
       "      <td>155.86</td>\n",
       "      <td>158.41</td>\n",
       "      <td>5279623</td>\n",
       "      <td>19033.0</td>\n",
       "    </tr>\n",
       "    <tr>\n",
       "      <th>13113</th>\n",
       "      <td>158.25</td>\n",
       "      <td>159.77</td>\n",
       "      <td>158.01</td>\n",
       "      <td>158.89</td>\n",
       "      <td>4519631</td>\n",
       "      <td>19034.0</td>\n",
       "    </tr>\n",
       "    <tr>\n",
       "      <th>13114</th>\n",
       "      <td>157.11</td>\n",
       "      <td>160.73</td>\n",
       "      <td>156.78</td>\n",
       "      <td>160.30</td>\n",
       "      <td>5084655</td>\n",
       "      <td>19035.0</td>\n",
       "    </tr>\n",
       "    <tr>\n",
       "      <th>13115</th>\n",
       "      <td>159.77</td>\n",
       "      <td>162.58</td>\n",
       "      <td>159.55</td>\n",
       "      <td>161.93</td>\n",
       "      <td>5292928</td>\n",
       "      <td>19036.0</td>\n",
       "    </tr>\n",
       "    <tr>\n",
       "      <th>13116</th>\n",
       "      <td>161.49</td>\n",
       "      <td>162.18</td>\n",
       "      <td>160.72</td>\n",
       "      <td>161.50</td>\n",
       "      <td>5031629</td>\n",
       "      <td>19040.0</td>\n",
       "    </tr>\n",
       "    <tr>\n",
       "      <th>13117</th>\n",
       "      <td>161.07</td>\n",
       "      <td>163.65</td>\n",
       "      <td>160.77</td>\n",
       "      <td>161.27</td>\n",
       "      <td>5299598</td>\n",
       "      <td>19041.0</td>\n",
       "    </tr>\n",
       "    <tr>\n",
       "      <th>13118</th>\n",
       "      <td>161.28</td>\n",
       "      <td>162.96</td>\n",
       "      <td>161.12</td>\n",
       "      <td>162.43</td>\n",
       "      <td>5636020</td>\n",
       "      <td>19042.0</td>\n",
       "    </tr>\n",
       "    <tr>\n",
       "      <th>13119</th>\n",
       "      <td>162.43</td>\n",
       "      <td>163.71</td>\n",
       "      <td>160.97</td>\n",
       "      <td>161.12</td>\n",
       "      <td>6465340</td>\n",
       "      <td>19043.0</td>\n",
       "    </tr>\n",
       "    <tr>\n",
       "      <th>13120</th>\n",
       "      <td>161.15</td>\n",
       "      <td>163.22</td>\n",
       "      <td>161.15</td>\n",
       "      <td>161.73</td>\n",
       "      <td>5212936</td>\n",
       "      <td>19046.0</td>\n",
       "    </tr>\n",
       "    <tr>\n",
       "      <th>...</th>\n",
       "      <td>...</td>\n",
       "      <td>...</td>\n",
       "      <td>...</td>\n",
       "      <td>...</td>\n",
       "      <td>...</td>\n",
       "      <td>...</td>\n",
       "    </tr>\n",
       "    <tr>\n",
       "      <th>13161</th>\n",
       "      <td>169.07</td>\n",
       "      <td>169.61</td>\n",
       "      <td>167.58</td>\n",
       "      <td>169.02</td>\n",
       "      <td>5373105</td>\n",
       "      <td>19104.0</td>\n",
       "    </tr>\n",
       "    <tr>\n",
       "      <th>13162</th>\n",
       "      <td>169.43</td>\n",
       "      <td>169.46</td>\n",
       "      <td>167.51</td>\n",
       "      <td>167.67</td>\n",
       "      <td>4999715</td>\n",
       "      <td>19105.0</td>\n",
       "    </tr>\n",
       "    <tr>\n",
       "      <th>13163</th>\n",
       "      <td>167.98</td>\n",
       "      <td>168.09</td>\n",
       "      <td>166.70</td>\n",
       "      <td>167.16</td>\n",
       "      <td>4391624</td>\n",
       "      <td>19106.0</td>\n",
       "    </tr>\n",
       "    <tr>\n",
       "      <th>13164</th>\n",
       "      <td>168.49</td>\n",
       "      <td>171.02</td>\n",
       "      <td>168.01</td>\n",
       "      <td>170.25</td>\n",
       "      <td>6395484</td>\n",
       "      <td>19109.0</td>\n",
       "    </tr>\n",
       "    <tr>\n",
       "      <th>13165</th>\n",
       "      <td>170.66</td>\n",
       "      <td>172.73</td>\n",
       "      <td>170.50</td>\n",
       "      <td>172.00</td>\n",
       "      <td>5248089</td>\n",
       "      <td>19110.0</td>\n",
       "    </tr>\n",
       "    <tr>\n",
       "      <th>13166</th>\n",
       "      <td>171.77</td>\n",
       "      <td>173.54</td>\n",
       "      <td>171.31</td>\n",
       "      <td>173.19</td>\n",
       "      <td>4772189</td>\n",
       "      <td>19111.0</td>\n",
       "    </tr>\n",
       "    <tr>\n",
       "      <th>13167</th>\n",
       "      <td>173.03</td>\n",
       "      <td>173.44</td>\n",
       "      <td>170.26</td>\n",
       "      <td>170.60</td>\n",
       "      <td>4169866</td>\n",
       "      <td>19112.0</td>\n",
       "    </tr>\n",
       "    <tr>\n",
       "      <th>13168</th>\n",
       "      <td>170.58</td>\n",
       "      <td>170.89</td>\n",
       "      <td>168.58</td>\n",
       "      <td>168.75</td>\n",
       "      <td>3463110</td>\n",
       "      <td>19113.0</td>\n",
       "    </tr>\n",
       "    <tr>\n",
       "      <th>13169</th>\n",
       "      <td>168.41</td>\n",
       "      <td>168.79</td>\n",
       "      <td>167.31</td>\n",
       "      <td>168.59</td>\n",
       "      <td>2520836</td>\n",
       "      <td>19116.0</td>\n",
       "    </tr>\n",
       "    <tr>\n",
       "      <th>13170</th>\n",
       "      <td>168.29</td>\n",
       "      <td>168.31</td>\n",
       "      <td>166.82</td>\n",
       "      <td>167.51</td>\n",
       "      <td>3616939</td>\n",
       "      <td>19117.0</td>\n",
       "    </tr>\n",
       "    <tr>\n",
       "      <th>13171</th>\n",
       "      <td>167.92</td>\n",
       "      <td>168.73</td>\n",
       "      <td>165.73</td>\n",
       "      <td>167.85</td>\n",
       "      <td>4309491</td>\n",
       "      <td>19118.0</td>\n",
       "    </tr>\n",
       "    <tr>\n",
       "      <th>13172</th>\n",
       "      <td>167.71</td>\n",
       "      <td>168.98</td>\n",
       "      <td>166.90</td>\n",
       "      <td>167.50</td>\n",
       "      <td>2742838</td>\n",
       "      <td>19119.0</td>\n",
       "    </tr>\n",
       "    <tr>\n",
       "      <th>13173</th>\n",
       "      <td>167.56</td>\n",
       "      <td>169.00</td>\n",
       "      <td>167.02</td>\n",
       "      <td>168.54</td>\n",
       "      <td>2550865</td>\n",
       "      <td>19120.0</td>\n",
       "    </tr>\n",
       "    <tr>\n",
       "      <th>13174</th>\n",
       "      <td>169.47</td>\n",
       "      <td>171.14</td>\n",
       "      <td>169.29</td>\n",
       "      <td>170.75</td>\n",
       "      <td>4260304</td>\n",
       "      <td>19123.0</td>\n",
       "    </tr>\n",
       "    <tr>\n",
       "      <th>13175</th>\n",
       "      <td>170.96</td>\n",
       "      <td>171.15</td>\n",
       "      <td>170.02</td>\n",
       "      <td>170.40</td>\n",
       "      <td>2511668</td>\n",
       "      <td>19124.0</td>\n",
       "    </tr>\n",
       "    <tr>\n",
       "      <th>13176</th>\n",
       "      <td>170.14</td>\n",
       "      <td>170.22</td>\n",
       "      <td>166.84</td>\n",
       "      <td>167.33</td>\n",
       "      <td>5927856</td>\n",
       "      <td>19125.0</td>\n",
       "    </tr>\n",
       "    <tr>\n",
       "      <th>13177</th>\n",
       "      <td>167.63</td>\n",
       "      <td>167.64</td>\n",
       "      <td>165.08</td>\n",
       "      <td>165.33</td>\n",
       "      <td>4739492</td>\n",
       "      <td>19126.0</td>\n",
       "    </tr>\n",
       "    <tr>\n",
       "      <th>13178</th>\n",
       "      <td>165.14</td>\n",
       "      <td>166.17</td>\n",
       "      <td>164.86</td>\n",
       "      <td>165.86</td>\n",
       "      <td>4454554</td>\n",
       "      <td>19127.0</td>\n",
       "    </tr>\n",
       "    <tr>\n",
       "      <th>13179</th>\n",
       "      <td>165.46</td>\n",
       "      <td>165.93</td>\n",
       "      <td>164.97</td>\n",
       "      <td>165.80</td>\n",
       "      <td>3688784</td>\n",
       "      <td>19130.0</td>\n",
       "    </tr>\n",
       "    <tr>\n",
       "      <th>13180</th>\n",
       "      <td>165.13</td>\n",
       "      <td>165.54</td>\n",
       "      <td>163.76</td>\n",
       "      <td>163.94</td>\n",
       "      <td>3419274</td>\n",
       "      <td>19131.0</td>\n",
       "    </tr>\n",
       "    <tr>\n",
       "      <th>13181</th>\n",
       "      <td>164.78</td>\n",
       "      <td>165.96</td>\n",
       "      <td>163.98</td>\n",
       "      <td>165.26</td>\n",
       "      <td>3370370</td>\n",
       "      <td>19132.0</td>\n",
       "    </tr>\n",
       "    <tr>\n",
       "      <th>13182</th>\n",
       "      <td>165.32</td>\n",
       "      <td>165.32</td>\n",
       "      <td>164.05</td>\n",
       "      <td>164.62</td>\n",
       "      <td>2501529</td>\n",
       "      <td>19133.0</td>\n",
       "    </tr>\n",
       "    <tr>\n",
       "      <th>13183</th>\n",
       "      <td>164.77</td>\n",
       "      <td>165.04</td>\n",
       "      <td>164.32</td>\n",
       "      <td>164.87</td>\n",
       "      <td>2890899</td>\n",
       "      <td>19134.0</td>\n",
       "    </tr>\n",
       "    <tr>\n",
       "      <th>13184</th>\n",
       "      <td>163.85</td>\n",
       "      <td>164.60</td>\n",
       "      <td>163.08</td>\n",
       "      <td>163.83</td>\n",
       "      <td>5407135</td>\n",
       "      <td>19138.0</td>\n",
       "    </tr>\n",
       "    <tr>\n",
       "      <th>13185</th>\n",
       "      <td>163.58</td>\n",
       "      <td>163.93</td>\n",
       "      <td>162.19</td>\n",
       "      <td>162.32</td>\n",
       "      <td>4199495</td>\n",
       "      <td>19139.0</td>\n",
       "    </tr>\n",
       "    <tr>\n",
       "      <th>13186</th>\n",
       "      <td>162.83</td>\n",
       "      <td>162.95</td>\n",
       "      <td>161.67</td>\n",
       "      <td>162.93</td>\n",
       "      <td>3112753</td>\n",
       "      <td>19140.0</td>\n",
       "    </tr>\n",
       "    <tr>\n",
       "      <th>13187</th>\n",
       "      <td>162.59</td>\n",
       "      <td>163.64</td>\n",
       "      <td>161.82</td>\n",
       "      <td>163.47</td>\n",
       "      <td>5210842</td>\n",
       "      <td>19141.0</td>\n",
       "    </tr>\n",
       "    <tr>\n",
       "      <th>13188</th>\n",
       "      <td>163.82</td>\n",
       "      <td>165.15</td>\n",
       "      <td>163.73</td>\n",
       "      <td>164.63</td>\n",
       "      <td>3613577</td>\n",
       "      <td>19144.0</td>\n",
       "    </tr>\n",
       "    <tr>\n",
       "      <th>13189</th>\n",
       "      <td>164.52</td>\n",
       "      <td>164.69</td>\n",
       "      <td>163.24</td>\n",
       "      <td>163.48</td>\n",
       "      <td>2838904</td>\n",
       "      <td>19145.0</td>\n",
       "    </tr>\n",
       "    <tr>\n",
       "      <th>13190</th>\n",
       "      <td>163.77</td>\n",
       "      <td>164.43</td>\n",
       "      <td>163.32</td>\n",
       "      <td>163.60</td>\n",
       "      <td>2680659</td>\n",
       "      <td>19146.0</td>\n",
       "    </tr>\n",
       "  </tbody>\n",
       "</table>\n",
       "<p>100 rows × 6 columns</p>\n",
       "</div>"
      ],
      "text/plain": [
       "         Open    High     Low   Close    Volume  numeric_date\n",
       "13091  165.10  165.32  163.31  164.17   4588713       19001.0\n",
       "13092  163.29  163.90  161.19  161.47   6603072       19004.0\n",
       "13093  162.22  163.45  161.21  163.00   5269052       19005.0\n",
       "13094  162.92  165.40  162.62  164.60   5508395       19006.0\n",
       "13095  164.41  165.67  163.76  165.49   5445978       19007.0\n",
       "13096  164.86  167.29  164.69  166.64   8749664       19008.0\n",
       "13097  166.76  166.92  163.75  165.19  12665338       19012.0\n",
       "13098  158.93  160.86  157.54  159.77  15739030       19013.0\n",
       "13099  158.87  161.05  158.43  160.20   7955042       19014.0\n",
       "13100  158.92  160.27  157.51  157.51   7913760       19015.0\n",
       "13101  157.48  157.52  155.75  155.97   5941692       19018.0\n",
       "13102  156.09  156.46  154.44  155.06   6087170       19019.0\n",
       "13103  154.29  156.52  154.20  154.64   5670131       19020.0\n",
       "13104  155.34  155.94  154.60  155.48   5536864       19021.0\n",
       "13105  154.39  155.92  153.72  154.90   5925924       19022.0\n",
       "13106  154.15  154.33  151.44  151.57   8198355       19025.0\n",
       "13107  152.14  152.32  151.11  151.54   4961772       19026.0\n",
       "13108  151.08  153.39  150.96  152.76   5377323       19027.0\n",
       "13109  153.35  154.14  153.20  153.99   4869253       19028.0\n",
       "13110  154.82  156.52  154.34  156.26   5360791       19029.0\n",
       "13111  155.97  156.59  155.37  156.15   4020349       19032.0\n",
       "13112  155.88  159.02  155.86  158.41   5279623       19033.0\n",
       "13113  158.25  159.77  158.01  158.89   4519631       19034.0\n",
       "13114  157.11  160.73  156.78  160.30   5084655       19035.0\n",
       "13115  159.77  162.58  159.55  161.93   5292928       19036.0\n",
       "13116  161.49  162.18  160.72  161.50   5031629       19040.0\n",
       "13117  161.07  163.65  160.77  161.27   5299598       19041.0\n",
       "13118  161.28  162.96  161.12  162.43   5636020       19042.0\n",
       "13119  162.43  163.71  160.97  161.12   6465340       19043.0\n",
       "13120  161.15  163.22  161.15  161.73   5212936       19046.0\n",
       "...       ...     ...     ...     ...       ...           ...\n",
       "13161  169.07  169.61  167.58  169.02   5373105       19104.0\n",
       "13162  169.43  169.46  167.51  167.67   4999715       19105.0\n",
       "13163  167.98  168.09  166.70  167.16   4391624       19106.0\n",
       "13164  168.49  171.02  168.01  170.25   6395484       19109.0\n",
       "13165  170.66  172.73  170.50  172.00   5248089       19110.0\n",
       "13166  171.77  173.54  171.31  173.19   4772189       19111.0\n",
       "13167  173.03  173.44  170.26  170.60   4169866       19112.0\n",
       "13168  170.58  170.89  168.58  168.75   3463110       19113.0\n",
       "13169  168.41  168.79  167.31  168.59   2520836       19116.0\n",
       "13170  168.29  168.31  166.82  167.51   3616939       19117.0\n",
       "13171  167.92  168.73  165.73  167.85   4309491       19118.0\n",
       "13172  167.71  168.98  166.90  167.50   2742838       19119.0\n",
       "13173  167.56  169.00  167.02  168.54   2550865       19120.0\n",
       "13174  169.47  171.14  169.29  170.75   4260304       19123.0\n",
       "13175  170.96  171.15  170.02  170.40   2511668       19124.0\n",
       "13176  170.14  170.22  166.84  167.33   5927856       19125.0\n",
       "13177  167.63  167.64  165.08  165.33   4739492       19126.0\n",
       "13178  165.14  166.17  164.86  165.86   4454554       19127.0\n",
       "13179  165.46  165.93  164.97  165.80   3688784       19130.0\n",
       "13180  165.13  165.54  163.76  163.94   3419274       19131.0\n",
       "13181  164.78  165.96  163.98  165.26   3370370       19132.0\n",
       "13182  165.32  165.32  164.05  164.62   2501529       19133.0\n",
       "13183  164.77  165.04  164.32  164.87   2890899       19134.0\n",
       "13184  163.85  164.60  163.08  163.83   5407135       19138.0\n",
       "13185  163.58  163.93  162.19  162.32   4199495       19139.0\n",
       "13186  162.83  162.95  161.67  162.93   3112753       19140.0\n",
       "13187  162.59  163.64  161.82  163.47   5210842       19141.0\n",
       "13188  163.82  165.15  163.73  164.63   3613577       19144.0\n",
       "13189  164.52  164.69  163.24  163.48   2838904       19145.0\n",
       "13190  163.77  164.43  163.32  163.60   2680659       19146.0\n",
       "\n",
       "[100 rows x 6 columns]"
      ]
     },
     "execution_count": 26,
     "metadata": {},
     "output_type": "execute_result"
    }
   ],
   "source": [
    "stock_test_set[:100]"
   ]
  },
  {
   "cell_type": "code",
   "execution_count": 27,
   "metadata": {},
   "outputs": [
    {
     "data": {
      "text/plain": [
       "(968, 6)"
      ]
     },
     "execution_count": 27,
     "metadata": {},
     "output_type": "execute_result"
    }
   ],
   "source": [
    "stock_test_set.shape"
   ]
  },
  {
   "cell_type": "code",
   "execution_count": 28,
   "metadata": {},
   "outputs": [],
   "source": [
    "X_train_orig = stock_train_set[['Open']].values\n",
    "y_train = stock_train_set['Close'].values       "
   ]
  },
  {
   "cell_type": "code",
   "execution_count": 29,
   "metadata": {},
   "outputs": [],
   "source": [
    "X_test_orig = stock_test_set[['Open']].values\n",
    "y_test = stock_test_set['Close'].values"
   ]
  },
  {
   "cell_type": "code",
   "execution_count": 30,
   "metadata": {},
   "outputs": [],
   "source": [
    "from sklearn.preprocessing import MinMaxScaler\n",
    "\n",
    "sc = MinMaxScaler(feature_range = (0, 1))\n",
    "X_train = sc.fit_transform(X_train_orig)\n",
    "X_test = sc.transform(X_test_orig)"
   ]
  },
  {
   "cell_type": "code",
   "execution_count": 31,
   "metadata": {},
   "outputs": [],
   "source": [
    "TIME_STEPS = 60\n"
   ]
  },
  {
   "cell_type": "code",
   "execution_count": 32,
   "metadata": {},
   "outputs": [
    {
     "name": "stdout",
     "output_type": "stream",
     "text": [
      "[0, 1, 2, 3, 4, 5, 6, 7]\n",
      "[2, 3, 4, 5, 6, 7, 8, 9]\n",
      "(0,1:2), (1,2:3), (2,3:4), (3,4:5), (4,5:6), (5,6:7),(6,7:8), (7,8:9)\n"
     ]
    }
   ],
   "source": [
    "a = [0,1,2,3,4,5,6,7,8,9]\n",
    "print(a[:-2])\n",
    "print(a[2:])\n",
    "print('(0,1:2), (1,2:3), (2,3:4), (3,4:5), (4,5:6), (5,6:7),(6,7:8), (7,8:9)')"
   ]
  },
  {
   "cell_type": "code",
   "execution_count": 35,
   "metadata": {},
   "outputs": [],
   "source": [
    "# Each TIME_STEP is a row 'Open', 'High', 'Low', 'Volume', 'numeric_date', we are considering 4 of these to predict 5th. \n",
    "# Hence number of TIME_STEPS = 4\n",
    "\n",
    "def build_time_series_data(x, y):\n",
    "\n",
    "    #iters = x.shape[0]//TIME_STEPS\n",
    "    \n",
    "    row_dim = TIME_STEPS\n",
    "    col_dim = x.shape[1]\n",
    "    third_dim = x.shape[0] - TIME_STEPS\n",
    "    \n",
    "    x_time_series_data = np.zeros((third_dim, row_dim, col_dim))\n",
    "    y_time_series_data = np.zeros((third_dim))\n",
    "    num_date_corresponding_to_y = np.zeros((third_dim))\n",
    "    \n",
    "    for i in range(third_dim):\n",
    "        x_time_series_data[i] = x[i:TIME_STEPS+i]\n",
    "        y_time_series_data[i] = y[TIME_STEPS+i]\n",
    "        \n",
    "        \n",
    "        num_date_corresponding_to_y[i] = sc.inverse_transform(x)[TIME_STEPS+i]  # as 5th columns in X is the \"numeric_date\"\n",
    "        \n",
    "    return x_time_series_data, y_time_series_data, num_date_corresponding_to_y"
   ]
  },
  {
   "cell_type": "code",
   "execution_count": 36,
   "metadata": {},
   "outputs": [],
   "source": [
    "x_train_time_series_data, y_train_time_series_data, train_num_date_corresponding_to_y = build_time_series_data(X_train, y_train)\n",
    "x_test_time_series_data, y_test_time_series_data, test_num_date_corresponding_to_y = build_time_series_data(X_test, y_test)"
   ]
  },
  {
   "cell_type": "code",
   "execution_count": 37,
   "metadata": {},
   "outputs": [
    {
     "data": {
      "text/plain": [
       "(13031,)"
      ]
     },
     "execution_count": 37,
     "metadata": {},
     "output_type": "execute_result"
    }
   ],
   "source": [
    "y_train_time_series_data.shape"
   ]
  },
  {
   "cell_type": "code",
   "execution_count": 38,
   "metadata": {},
   "outputs": [
    {
     "data": {
      "text/plain": [
       "(13031,)"
      ]
     },
     "execution_count": 38,
     "metadata": {},
     "output_type": "execute_result"
    }
   ],
   "source": [
    "y_train_time_series_data[y_train_time_series_data!=0].shape"
   ]
  },
  {
   "cell_type": "code",
   "execution_count": 39,
   "metadata": {},
   "outputs": [],
   "source": [
    "from keras import Sequential\n",
    "from keras.layers import LSTM\n",
    "from keras.layers import Dense\n",
    "from keras.layers.core import Dropout\n",
    "from keras.layers.core import Flatten\n",
    "from keras.layers import GRU\n",
    "from keras import optimizers\n",
    "\n",
    "from keras import regularizers"
   ]
  },
  {
   "cell_type": "code",
   "execution_count": 40,
   "metadata": {},
   "outputs": [],
   "source": [
    "BATCH_SIZE = 8\n",
    "\n",
    "t_row_dim = TIME_STEPS\n",
    "t_col_dim = X_train.shape[1]\n",
    "t_third_dim = X_train.shape[0] - TIME_STEPS"
   ]
  },
  {
   "cell_type": "code",
   "execution_count": 41,
   "metadata": {},
   "outputs": [
    {
     "name": "stdout",
     "output_type": "stream",
     "text": [
      "WARNING:tensorflow:From C:\\Users\\thisi\\AppData\\Local\\Continuum\\anaconda3\\lib\\site-packages\\tensorflow\\python\\framework\\op_def_library.py:263: colocate_with (from tensorflow.python.framework.ops) is deprecated and will be removed in a future version.\n",
      "Instructions for updating:\n",
      "Colocations handled automatically by placer.\n",
      "WARNING:tensorflow:From C:\\Users\\thisi\\AppData\\Local\\Continuum\\anaconda3\\lib\\site-packages\\keras\\backend\\tensorflow_backend.py:3445: calling dropout (from tensorflow.python.ops.nn_ops) with keep_prob is deprecated and will be removed in a future version.\n",
      "Instructions for updating:\n",
      "Please use `rate` instead of `keep_prob`. Rate should be set to `rate = 1 - keep_prob`.\n"
     ]
    }
   ],
   "source": [
    "rnn_model = Sequential()\n",
    "rnn_model.add(LSTM(50, return_sequences=True, dropout=0.2, input_shape=(t_row_dim, t_col_dim) ))\n",
    "\n",
    "#rnn_model.add(LSTM(50, return_sequences=True, dropout=0.2 ))\n",
    "\n",
    "#rnn_model.add(LSTM(50, return_sequences=True, dropout=0.2 ))\n",
    "\n",
    "rnn_model.add(LSTM(50, return_sequences=False, dropout=0.2 ))\n",
    "#rnn_model.add(Flatten())\n",
    "#rnn_model.add(Dense(80))\n",
    "rnn_model.add(Dense(20))\n",
    "rnn_model.add(Dense(1))\n",
    "\n",
    "optimizer = optimizers.Adam(lr=0.0001)\n",
    "rnn_model.compile(optimizer = 'adam', loss = 'mean_squared_error')"
   ]
  },
  {
   "cell_type": "code",
   "execution_count": 42,
   "metadata": {},
   "outputs": [
    {
     "name": "stdout",
     "output_type": "stream",
     "text": [
      "WARNING:tensorflow:From C:\\Users\\thisi\\AppData\\Local\\Continuum\\anaconda3\\lib\\site-packages\\tensorflow\\python\\ops\\math_ops.py:3066: to_int32 (from tensorflow.python.ops.math_ops) is deprecated and will be removed in a future version.\n",
      "Instructions for updating:\n",
      "Use tf.cast instead.\n",
      "Train on 13031 samples, validate on 908 samples\n",
      "Epoch 1/5\n",
      " - 151s - loss: 40.0309 - val_loss: 396.6357\n",
      "Epoch 2/5\n"
     ]
    },
    {
     "ename": "KeyboardInterrupt",
     "evalue": "",
     "output_type": "error",
     "traceback": [
      "\u001b[1;31m---------------------------------------------------------------------------\u001b[0m",
      "\u001b[1;31mKeyboardInterrupt\u001b[0m                         Traceback (most recent call last)",
      "\u001b[1;32m<ipython-input-42-96d54d60389c>\u001b[0m in \u001b[0;36m<module>\u001b[1;34m\u001b[0m\n\u001b[0;32m      1\u001b[0m rnn_model.fit(x_train_time_series_data, y_train_time_series_data,\n\u001b[0;32m      2\u001b[0m           \u001b[0mbatch_size\u001b[0m\u001b[1;33m=\u001b[0m\u001b[0mBATCH_SIZE\u001b[0m\u001b[1;33m,\u001b[0m \u001b[0mepochs\u001b[0m\u001b[1;33m=\u001b[0m\u001b[1;36m5\u001b[0m\u001b[1;33m,\u001b[0m \u001b[0mshuffle\u001b[0m\u001b[1;33m=\u001b[0m\u001b[1;32mFalse\u001b[0m\u001b[1;33m,\u001b[0m\u001b[1;33m\u001b[0m\u001b[1;33m\u001b[0m\u001b[0m\n\u001b[1;32m----> 3\u001b[1;33m           validation_data=(x_test_time_series_data, y_test_time_series_data), verbose=2)\n\u001b[0m",
      "\u001b[1;32m~\\AppData\\Local\\Continuum\\anaconda3\\lib\\site-packages\\keras\\engine\\training.py\u001b[0m in \u001b[0;36mfit\u001b[1;34m(self, x, y, batch_size, epochs, verbose, callbacks, validation_split, validation_data, shuffle, class_weight, sample_weight, initial_epoch, steps_per_epoch, validation_steps, **kwargs)\u001b[0m\n\u001b[0;32m   1037\u001b[0m                                         \u001b[0minitial_epoch\u001b[0m\u001b[1;33m=\u001b[0m\u001b[0minitial_epoch\u001b[0m\u001b[1;33m,\u001b[0m\u001b[1;33m\u001b[0m\u001b[1;33m\u001b[0m\u001b[0m\n\u001b[0;32m   1038\u001b[0m                                         \u001b[0msteps_per_epoch\u001b[0m\u001b[1;33m=\u001b[0m\u001b[0msteps_per_epoch\u001b[0m\u001b[1;33m,\u001b[0m\u001b[1;33m\u001b[0m\u001b[1;33m\u001b[0m\u001b[0m\n\u001b[1;32m-> 1039\u001b[1;33m                                         validation_steps=validation_steps)\n\u001b[0m\u001b[0;32m   1040\u001b[0m \u001b[1;33m\u001b[0m\u001b[0m\n\u001b[0;32m   1041\u001b[0m     def evaluate(self, x=None, y=None,\n",
      "\u001b[1;32m~\\AppData\\Local\\Continuum\\anaconda3\\lib\\site-packages\\keras\\engine\\training_arrays.py\u001b[0m in \u001b[0;36mfit_loop\u001b[1;34m(model, f, ins, out_labels, batch_size, epochs, verbose, callbacks, val_f, val_ins, shuffle, callback_metrics, initial_epoch, steps_per_epoch, validation_steps)\u001b[0m\n\u001b[0;32m    197\u001b[0m                     \u001b[0mins_batch\u001b[0m\u001b[1;33m[\u001b[0m\u001b[0mi\u001b[0m\u001b[1;33m]\u001b[0m \u001b[1;33m=\u001b[0m \u001b[0mins_batch\u001b[0m\u001b[1;33m[\u001b[0m\u001b[0mi\u001b[0m\u001b[1;33m]\u001b[0m\u001b[1;33m.\u001b[0m\u001b[0mtoarray\u001b[0m\u001b[1;33m(\u001b[0m\u001b[1;33m)\u001b[0m\u001b[1;33m\u001b[0m\u001b[1;33m\u001b[0m\u001b[0m\n\u001b[0;32m    198\u001b[0m \u001b[1;33m\u001b[0m\u001b[0m\n\u001b[1;32m--> 199\u001b[1;33m                 \u001b[0mouts\u001b[0m \u001b[1;33m=\u001b[0m \u001b[0mf\u001b[0m\u001b[1;33m(\u001b[0m\u001b[0mins_batch\u001b[0m\u001b[1;33m)\u001b[0m\u001b[1;33m\u001b[0m\u001b[1;33m\u001b[0m\u001b[0m\n\u001b[0m\u001b[0;32m    200\u001b[0m                 \u001b[0mouts\u001b[0m \u001b[1;33m=\u001b[0m \u001b[0mto_list\u001b[0m\u001b[1;33m(\u001b[0m\u001b[0mouts\u001b[0m\u001b[1;33m)\u001b[0m\u001b[1;33m\u001b[0m\u001b[1;33m\u001b[0m\u001b[0m\n\u001b[0;32m    201\u001b[0m                 \u001b[1;32mfor\u001b[0m \u001b[0ml\u001b[0m\u001b[1;33m,\u001b[0m \u001b[0mo\u001b[0m \u001b[1;32min\u001b[0m \u001b[0mzip\u001b[0m\u001b[1;33m(\u001b[0m\u001b[0mout_labels\u001b[0m\u001b[1;33m,\u001b[0m \u001b[0mouts\u001b[0m\u001b[1;33m)\u001b[0m\u001b[1;33m:\u001b[0m\u001b[1;33m\u001b[0m\u001b[1;33m\u001b[0m\u001b[0m\n",
      "\u001b[1;32m~\\AppData\\Local\\Continuum\\anaconda3\\lib\\site-packages\\keras\\backend\\tensorflow_backend.py\u001b[0m in \u001b[0;36m__call__\u001b[1;34m(self, inputs)\u001b[0m\n\u001b[0;32m   2713\u001b[0m                 \u001b[1;32mreturn\u001b[0m \u001b[0mself\u001b[0m\u001b[1;33m.\u001b[0m\u001b[0m_legacy_call\u001b[0m\u001b[1;33m(\u001b[0m\u001b[0minputs\u001b[0m\u001b[1;33m)\u001b[0m\u001b[1;33m\u001b[0m\u001b[1;33m\u001b[0m\u001b[0m\n\u001b[0;32m   2714\u001b[0m \u001b[1;33m\u001b[0m\u001b[0m\n\u001b[1;32m-> 2715\u001b[1;33m             \u001b[1;32mreturn\u001b[0m \u001b[0mself\u001b[0m\u001b[1;33m.\u001b[0m\u001b[0m_call\u001b[0m\u001b[1;33m(\u001b[0m\u001b[0minputs\u001b[0m\u001b[1;33m)\u001b[0m\u001b[1;33m\u001b[0m\u001b[1;33m\u001b[0m\u001b[0m\n\u001b[0m\u001b[0;32m   2716\u001b[0m         \u001b[1;32melse\u001b[0m\u001b[1;33m:\u001b[0m\u001b[1;33m\u001b[0m\u001b[1;33m\u001b[0m\u001b[0m\n\u001b[0;32m   2717\u001b[0m             \u001b[1;32mif\u001b[0m \u001b[0mpy_any\u001b[0m\u001b[1;33m(\u001b[0m\u001b[0mis_tensor\u001b[0m\u001b[1;33m(\u001b[0m\u001b[0mx\u001b[0m\u001b[1;33m)\u001b[0m \u001b[1;32mfor\u001b[0m \u001b[0mx\u001b[0m \u001b[1;32min\u001b[0m \u001b[0minputs\u001b[0m\u001b[1;33m)\u001b[0m\u001b[1;33m:\u001b[0m\u001b[1;33m\u001b[0m\u001b[1;33m\u001b[0m\u001b[0m\n",
      "\u001b[1;32m~\\AppData\\Local\\Continuum\\anaconda3\\lib\\site-packages\\keras\\backend\\tensorflow_backend.py\u001b[0m in \u001b[0;36m_call\u001b[1;34m(self, inputs)\u001b[0m\n\u001b[0;32m   2673\u001b[0m             \u001b[0mfetched\u001b[0m \u001b[1;33m=\u001b[0m \u001b[0mself\u001b[0m\u001b[1;33m.\u001b[0m\u001b[0m_callable_fn\u001b[0m\u001b[1;33m(\u001b[0m\u001b[1;33m*\u001b[0m\u001b[0marray_vals\u001b[0m\u001b[1;33m,\u001b[0m \u001b[0mrun_metadata\u001b[0m\u001b[1;33m=\u001b[0m\u001b[0mself\u001b[0m\u001b[1;33m.\u001b[0m\u001b[0mrun_metadata\u001b[0m\u001b[1;33m)\u001b[0m\u001b[1;33m\u001b[0m\u001b[1;33m\u001b[0m\u001b[0m\n\u001b[0;32m   2674\u001b[0m         \u001b[1;32melse\u001b[0m\u001b[1;33m:\u001b[0m\u001b[1;33m\u001b[0m\u001b[1;33m\u001b[0m\u001b[0m\n\u001b[1;32m-> 2675\u001b[1;33m             \u001b[0mfetched\u001b[0m \u001b[1;33m=\u001b[0m \u001b[0mself\u001b[0m\u001b[1;33m.\u001b[0m\u001b[0m_callable_fn\u001b[0m\u001b[1;33m(\u001b[0m\u001b[1;33m*\u001b[0m\u001b[0marray_vals\u001b[0m\u001b[1;33m)\u001b[0m\u001b[1;33m\u001b[0m\u001b[1;33m\u001b[0m\u001b[0m\n\u001b[0m\u001b[0;32m   2676\u001b[0m         \u001b[1;32mreturn\u001b[0m \u001b[0mfetched\u001b[0m\u001b[1;33m[\u001b[0m\u001b[1;33m:\u001b[0m\u001b[0mlen\u001b[0m\u001b[1;33m(\u001b[0m\u001b[0mself\u001b[0m\u001b[1;33m.\u001b[0m\u001b[0moutputs\u001b[0m\u001b[1;33m)\u001b[0m\u001b[1;33m]\u001b[0m\u001b[1;33m\u001b[0m\u001b[1;33m\u001b[0m\u001b[0m\n\u001b[0;32m   2677\u001b[0m \u001b[1;33m\u001b[0m\u001b[0m\n",
      "\u001b[1;32m~\\AppData\\Local\\Continuum\\anaconda3\\lib\\site-packages\\tensorflow\\python\\client\\session.py\u001b[0m in \u001b[0;36m__call__\u001b[1;34m(self, *args, **kwargs)\u001b[0m\n\u001b[0;32m   1437\u001b[0m           ret = tf_session.TF_SessionRunCallable(\n\u001b[0;32m   1438\u001b[0m               \u001b[0mself\u001b[0m\u001b[1;33m.\u001b[0m\u001b[0m_session\u001b[0m\u001b[1;33m.\u001b[0m\u001b[0m_session\u001b[0m\u001b[1;33m,\u001b[0m \u001b[0mself\u001b[0m\u001b[1;33m.\u001b[0m\u001b[0m_handle\u001b[0m\u001b[1;33m,\u001b[0m \u001b[0margs\u001b[0m\u001b[1;33m,\u001b[0m \u001b[0mstatus\u001b[0m\u001b[1;33m,\u001b[0m\u001b[1;33m\u001b[0m\u001b[1;33m\u001b[0m\u001b[0m\n\u001b[1;32m-> 1439\u001b[1;33m               run_metadata_ptr)\n\u001b[0m\u001b[0;32m   1440\u001b[0m         \u001b[1;32mif\u001b[0m \u001b[0mrun_metadata\u001b[0m\u001b[1;33m:\u001b[0m\u001b[1;33m\u001b[0m\u001b[1;33m\u001b[0m\u001b[0m\n\u001b[0;32m   1441\u001b[0m           \u001b[0mproto_data\u001b[0m \u001b[1;33m=\u001b[0m \u001b[0mtf_session\u001b[0m\u001b[1;33m.\u001b[0m\u001b[0mTF_GetBuffer\u001b[0m\u001b[1;33m(\u001b[0m\u001b[0mrun_metadata_ptr\u001b[0m\u001b[1;33m)\u001b[0m\u001b[1;33m\u001b[0m\u001b[1;33m\u001b[0m\u001b[0m\n",
      "\u001b[1;31mKeyboardInterrupt\u001b[0m: "
     ]
    }
   ],
   "source": [
    "rnn_model.fit(x_train_time_series_data, y_train_time_series_data,\n",
    "          batch_size=BATCH_SIZE, epochs=5, shuffle=False,\n",
    "          validation_data=(x_test_time_series_data, y_test_time_series_data), verbose=2)"
   ]
  },
  {
   "cell_type": "code",
   "execution_count": null,
   "metadata": {},
   "outputs": [],
   "source": [
    "rnn_model.summary()"
   ]
  },
  {
   "cell_type": "code",
   "execution_count": null,
   "metadata": {},
   "outputs": [],
   "source": [
    "rnn_model.save('./models/simple_RNN_stock_price_model.h5')"
   ]
  },
  {
   "cell_type": "code",
   "execution_count": null,
   "metadata": {},
   "outputs": [],
   "source": [
    "train_predict= rnn_model.predict(x_train_time_series_data)"
   ]
  },
  {
   "cell_type": "code",
   "execution_count": null,
   "metadata": {},
   "outputs": [],
   "source": [
    "x_train_time_series_data.shape"
   ]
  },
  {
   "cell_type": "code",
   "execution_count": null,
   "metadata": {},
   "outputs": [],
   "source": [
    "train_num_date_corresponding_to_y.shape"
   ]
  },
  {
   "cell_type": "code",
   "execution_count": null,
   "metadata": {},
   "outputs": [],
   "source": [
    "y_train_time_series_data"
   ]
  },
  {
   "cell_type": "code",
   "execution_count": null,
   "metadata": {},
   "outputs": [],
   "source": [
    "y_train_time_series_data"
   ]
  },
  {
   "cell_type": "code",
   "execution_count": null,
   "metadata": {},
   "outputs": [],
   "source": [
    "plt.figure(figsize=(10,10))\n",
    "plt.scatter(train_num_date_corresponding_to_y, y_train_time_series_data)\n",
    "plt.scatter(train_num_date_corresponding_to_y, train_predict.ravel())\n",
    "plt.title('IBM stock Closeing Price history')\n",
    "plt.ylabel('Closing Price')\n",
    "plt.xlabel('Days')\n",
    "plt.show()"
   ]
  },
  {
   "cell_type": "markdown",
   "metadata": {},
   "source": [
    "https://www.dlology.com/blog/how-to-use-return_state-or-return_sequences-in-keras/"
   ]
  }
 ],
 "metadata": {
  "kernelspec": {
   "display_name": "Python 3",
   "language": "python",
   "name": "python3"
  },
  "language_info": {
   "codemirror_mode": {
    "name": "ipython",
    "version": 3
   },
   "file_extension": ".py",
   "mimetype": "text/x-python",
   "name": "python",
   "nbconvert_exporter": "python",
   "pygments_lexer": "ipython3",
   "version": "3.7.4"
  }
 },
 "nbformat": 4,
 "nbformat_minor": 2
}
