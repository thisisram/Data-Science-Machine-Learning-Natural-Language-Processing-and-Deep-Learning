{
 "cells": [
  {
   "cell_type": "code",
   "execution_count": 1,
   "metadata": {},
   "outputs": [],
   "source": [
    "import numpy as np\n",
    "import nltk\n",
    "from nltk import bigrams\n",
    "from nltk.tokenize import SpaceTokenizer\n",
    "import pandas as pd"
   ]
  },
  {
   "cell_type": "code",
   "execution_count": 2,
   "metadata": {},
   "outputs": [],
   "source": [
    "# three example centences\n",
    "sents = [\"I enjoy flying\", \"I like flying\", \"I enjoy NLP\", \"I like NLP\",  \"I like deep_learning\", \"I like deep_learning\"]"
   ]
  },
  {
   "cell_type": "code",
   "execution_count": 3,
   "metadata": {},
   "outputs": [],
   "source": [
    "sent_list = [word for word in [sent.split() for sent in sents] ]"
   ]
  },
  {
   "cell_type": "code",
   "execution_count": 4,
   "metadata": {},
   "outputs": [
    {
     "data": {
      "text/plain": [
       "[['I', 'enjoy', 'flying'],\n",
       " ['I', 'like', 'flying'],\n",
       " ['I', 'enjoy', 'NLP'],\n",
       " ['I', 'like', 'NLP'],\n",
       " ['I', 'like', 'deep_learning'],\n",
       " ['I', 'like', 'deep_learning']]"
      ]
     },
     "execution_count": 4,
     "metadata": {},
     "output_type": "execute_result"
    }
   ],
   "source": [
    "sent_list"
   ]
  },
  {
   "cell_type": "code",
   "execution_count": 5,
   "metadata": {},
   "outputs": [
    {
     "name": "stdout",
     "output_type": "stream",
     "text": [
      "['I', 'enjoy', 'flying', 'like', 'NLP', 'deep_learning']\n"
     ]
    }
   ],
   "source": [
    "unique_words = []\n",
    "for sent in sents:\n",
    "    for w in sent.split():\n",
    "        if w not in unique_words: \n",
    "            unique_words.append(w)\n",
    "print(unique_words)"
   ]
  },
  {
   "cell_type": "code",
   "execution_count": 6,
   "metadata": {},
   "outputs": [
    {
     "data": {
      "text/plain": [
       "3"
      ]
     },
     "execution_count": 6,
     "metadata": {},
     "output_type": "execute_result"
    }
   ],
   "source": [
    "unique_words.index('like')"
   ]
  },
  {
   "cell_type": "code",
   "execution_count": 7,
   "metadata": {},
   "outputs": [],
   "source": [
    "I = pd.Index(unique_words)\n",
    "C = pd.Index(unique_words)\n",
    "df = pd.DataFrame(data=np.zeros((len(unique_words), len(unique_words))), index=I, columns=C)"
   ]
  },
  {
   "cell_type": "code",
   "execution_count": 8,
   "metadata": {},
   "outputs": [
    {
     "data": {
      "text/html": [
       "<div>\n",
       "<style scoped>\n",
       "    .dataframe tbody tr th:only-of-type {\n",
       "        vertical-align: middle;\n",
       "    }\n",
       "\n",
       "    .dataframe tbody tr th {\n",
       "        vertical-align: top;\n",
       "    }\n",
       "\n",
       "    .dataframe thead th {\n",
       "        text-align: right;\n",
       "    }\n",
       "</style>\n",
       "<table border=\"1\" class=\"dataframe\">\n",
       "  <thead>\n",
       "    <tr style=\"text-align: right;\">\n",
       "      <th></th>\n",
       "      <th>I</th>\n",
       "      <th>enjoy</th>\n",
       "      <th>flying</th>\n",
       "      <th>like</th>\n",
       "      <th>NLP</th>\n",
       "      <th>deep_learning</th>\n",
       "    </tr>\n",
       "  </thead>\n",
       "  <tbody>\n",
       "    <tr>\n",
       "      <th>I</th>\n",
       "      <td>0.0</td>\n",
       "      <td>0.0</td>\n",
       "      <td>0.0</td>\n",
       "      <td>0.0</td>\n",
       "      <td>0.0</td>\n",
       "      <td>0.0</td>\n",
       "    </tr>\n",
       "    <tr>\n",
       "      <th>enjoy</th>\n",
       "      <td>0.0</td>\n",
       "      <td>0.0</td>\n",
       "      <td>0.0</td>\n",
       "      <td>0.0</td>\n",
       "      <td>0.0</td>\n",
       "      <td>0.0</td>\n",
       "    </tr>\n",
       "    <tr>\n",
       "      <th>flying</th>\n",
       "      <td>0.0</td>\n",
       "      <td>0.0</td>\n",
       "      <td>0.0</td>\n",
       "      <td>0.0</td>\n",
       "      <td>0.0</td>\n",
       "      <td>0.0</td>\n",
       "    </tr>\n",
       "    <tr>\n",
       "      <th>like</th>\n",
       "      <td>0.0</td>\n",
       "      <td>0.0</td>\n",
       "      <td>0.0</td>\n",
       "      <td>0.0</td>\n",
       "      <td>0.0</td>\n",
       "      <td>0.0</td>\n",
       "    </tr>\n",
       "    <tr>\n",
       "      <th>NLP</th>\n",
       "      <td>0.0</td>\n",
       "      <td>0.0</td>\n",
       "      <td>0.0</td>\n",
       "      <td>0.0</td>\n",
       "      <td>0.0</td>\n",
       "      <td>0.0</td>\n",
       "    </tr>\n",
       "    <tr>\n",
       "      <th>deep_learning</th>\n",
       "      <td>0.0</td>\n",
       "      <td>0.0</td>\n",
       "      <td>0.0</td>\n",
       "      <td>0.0</td>\n",
       "      <td>0.0</td>\n",
       "      <td>0.0</td>\n",
       "    </tr>\n",
       "  </tbody>\n",
       "</table>\n",
       "</div>"
      ],
      "text/plain": [
       "                 I  enjoy  flying  like  NLP  deep_learning\n",
       "I              0.0    0.0     0.0   0.0  0.0            0.0\n",
       "enjoy          0.0    0.0     0.0   0.0  0.0            0.0\n",
       "flying         0.0    0.0     0.0   0.0  0.0            0.0\n",
       "like           0.0    0.0     0.0   0.0  0.0            0.0\n",
       "NLP            0.0    0.0     0.0   0.0  0.0            0.0\n",
       "deep_learning  0.0    0.0     0.0   0.0  0.0            0.0"
      ]
     },
     "execution_count": 8,
     "metadata": {},
     "output_type": "execute_result"
    }
   ],
   "source": [
    "df"
   ]
  },
  {
   "cell_type": "code",
   "execution_count": 9,
   "metadata": {},
   "outputs": [
    {
     "name": "stdout",
     "output_type": "stream",
     "text": [
      "I\n",
      "I\n",
      "I\n",
      "I\n",
      "I\n",
      "I\n",
      "enjoy\n",
      "enjoy\n",
      "flying\n",
      "flying\n",
      "like\n",
      "like\n",
      "like\n",
      "like\n",
      "NLP\n",
      "NLP\n",
      "deep_learning\n",
      "deep_learning\n"
     ]
    }
   ],
   "source": [
    "for w in unique_words:\n",
    "    for sent in sent_list:\n",
    "        if w in sent:\n",
    "            print(w)\n",
    "            if sent.index(w) < len(sent)-1:\n",
    "                df.loc[w, sent[sent.index(w)+1]] = df.loc[w, sent[sent.index(w)+1]] + 1\n",
    "            if sent.index(w) > 0:\n",
    "                df.loc[w, sent[sent.index(w)-1]] = df.loc[w, sent[sent.index(w)-1]] + 1"
   ]
  },
  {
   "cell_type": "code",
   "execution_count": 10,
   "metadata": {},
   "outputs": [
    {
     "data": {
      "text/html": [
       "<div>\n",
       "<style scoped>\n",
       "    .dataframe tbody tr th:only-of-type {\n",
       "        vertical-align: middle;\n",
       "    }\n",
       "\n",
       "    .dataframe tbody tr th {\n",
       "        vertical-align: top;\n",
       "    }\n",
       "\n",
       "    .dataframe thead th {\n",
       "        text-align: right;\n",
       "    }\n",
       "</style>\n",
       "<table border=\"1\" class=\"dataframe\">\n",
       "  <thead>\n",
       "    <tr style=\"text-align: right;\">\n",
       "      <th></th>\n",
       "      <th>I</th>\n",
       "      <th>enjoy</th>\n",
       "      <th>flying</th>\n",
       "      <th>like</th>\n",
       "      <th>NLP</th>\n",
       "      <th>deep_learning</th>\n",
       "    </tr>\n",
       "  </thead>\n",
       "  <tbody>\n",
       "    <tr>\n",
       "      <th>I</th>\n",
       "      <td>0.0</td>\n",
       "      <td>2.0</td>\n",
       "      <td>0.0</td>\n",
       "      <td>4.0</td>\n",
       "      <td>0.0</td>\n",
       "      <td>0.0</td>\n",
       "    </tr>\n",
       "    <tr>\n",
       "      <th>enjoy</th>\n",
       "      <td>2.0</td>\n",
       "      <td>0.0</td>\n",
       "      <td>1.0</td>\n",
       "      <td>0.0</td>\n",
       "      <td>1.0</td>\n",
       "      <td>0.0</td>\n",
       "    </tr>\n",
       "    <tr>\n",
       "      <th>flying</th>\n",
       "      <td>0.0</td>\n",
       "      <td>1.0</td>\n",
       "      <td>0.0</td>\n",
       "      <td>1.0</td>\n",
       "      <td>0.0</td>\n",
       "      <td>0.0</td>\n",
       "    </tr>\n",
       "    <tr>\n",
       "      <th>like</th>\n",
       "      <td>4.0</td>\n",
       "      <td>0.0</td>\n",
       "      <td>1.0</td>\n",
       "      <td>0.0</td>\n",
       "      <td>1.0</td>\n",
       "      <td>2.0</td>\n",
       "    </tr>\n",
       "    <tr>\n",
       "      <th>NLP</th>\n",
       "      <td>0.0</td>\n",
       "      <td>1.0</td>\n",
       "      <td>0.0</td>\n",
       "      <td>1.0</td>\n",
       "      <td>0.0</td>\n",
       "      <td>0.0</td>\n",
       "    </tr>\n",
       "    <tr>\n",
       "      <th>deep_learning</th>\n",
       "      <td>0.0</td>\n",
       "      <td>0.0</td>\n",
       "      <td>0.0</td>\n",
       "      <td>2.0</td>\n",
       "      <td>0.0</td>\n",
       "      <td>0.0</td>\n",
       "    </tr>\n",
       "  </tbody>\n",
       "</table>\n",
       "</div>"
      ],
      "text/plain": [
       "                 I  enjoy  flying  like  NLP  deep_learning\n",
       "I              0.0    2.0     0.0   4.0  0.0            0.0\n",
       "enjoy          2.0    0.0     1.0   0.0  1.0            0.0\n",
       "flying         0.0    1.0     0.0   1.0  0.0            0.0\n",
       "like           4.0    0.0     1.0   0.0  1.0            2.0\n",
       "NLP            0.0    1.0     0.0   1.0  0.0            0.0\n",
       "deep_learning  0.0    0.0     0.0   2.0  0.0            0.0"
      ]
     },
     "execution_count": 10,
     "metadata": {},
     "output_type": "execute_result"
    }
   ],
   "source": [
    "df"
   ]
  },
  {
   "cell_type": "code",
   "execution_count": 11,
   "metadata": {},
   "outputs": [],
   "source": [
    "vecs = df.values"
   ]
  },
  {
   "cell_type": "code",
   "execution_count": 12,
   "metadata": {},
   "outputs": [
    {
     "data": {
      "text/plain": [
       "array([[0., 2., 0., 4., 0., 0.],\n",
       "       [2., 0., 1., 0., 1., 0.],\n",
       "       [0., 1., 0., 1., 0., 0.],\n",
       "       [4., 0., 1., 0., 1., 2.],\n",
       "       [0., 1., 0., 1., 0., 0.],\n",
       "       [0., 0., 0., 2., 0., 0.]])"
      ]
     },
     "execution_count": 12,
     "metadata": {},
     "output_type": "execute_result"
    }
   ],
   "source": [
    "vecs"
   ]
  },
  {
   "cell_type": "code",
   "execution_count": 13,
   "metadata": {},
   "outputs": [],
   "source": [
    "# Source https://towardsdatascience.com/using-fasttext-and-svd-to-visualise-word-embeddings-instantly-5b8fa870c3d1\n",
    "# Carrying out Singular Value Decomposition\n",
    "U, s, Vh = np.linalg.svd(vecs,full_matrices=False) "
   ]
  },
  {
   "cell_type": "code",
   "execution_count": 17,
   "metadata": {},
   "outputs": [
    {
     "name": "stdout",
     "output_type": "stream",
     "text": [
      "[[ 0.00000000e+00  8.63662367e-01  8.48129504e-04 -6.39264905e-02 -4.89659376e-01 -1.01161730e-01]\n",
      " [-4.33188730e-01  3.50882943e-17 -9.01223923e-01 -1.19567740e-02  5.61825144e-17  5.88807660e-18]\n",
      " [ 1.01986142e-18  2.57749567e-01  5.68379256e-03 -4.28407347e-01  6.32723667e-01 -5.91321200e-01]\n",
      " [-9.01303236e-01 -4.08457138e-17  4.33150611e-01  5.74672267e-03  1.34272624e-18 -2.10163460e-18]\n",
      " [ 1.01986142e-18  2.57749567e-01  5.68379256e-03 -4.28407347e-01  3.46595085e-01  7.93644661e-01]\n",
      " [ 1.29379432e-18  3.48163233e-01 -1.05194556e-02  7.92888204e-01  4.89659376e-01  1.01161730e-01]]\n",
      "(6, 6)\n"
     ]
    }
   ],
   "source": [
    "np.set_printoptions(linewidth=115)\n",
    "print(U)\n",
    "print(U.shape)"
   ]
  },
  {
   "cell_type": "code",
   "execution_count": 16,
   "metadata": {},
   "outputs": [
    {
     "name": "stdout",
     "output_type": "stream",
     "text": [
      "[5.17747511e+00 5.17747511e+00 1.09258937e+00 1.09258937e+00 1.47032472e-16 2.16885055e-18]\n"
     ]
    }
   ],
   "source": [
    "print(s)"
   ]
  },
  {
   "cell_type": "code",
   "execution_count": 19,
   "metadata": {},
   "outputs": [
    {
     "name": "stdout",
     "output_type": "stream",
     "text": [
      "[[5.17747511e+00 0.00000000e+00 0.00000000e+00 0.00000000e+00 0.00000000e+00 0.00000000e+00]\n",
      " [0.00000000e+00 5.17747511e+00 0.00000000e+00 0.00000000e+00 0.00000000e+00 0.00000000e+00]\n",
      " [0.00000000e+00 0.00000000e+00 1.09258937e+00 0.00000000e+00 0.00000000e+00 0.00000000e+00]\n",
      " [0.00000000e+00 0.00000000e+00 0.00000000e+00 1.09258937e+00 0.00000000e+00 0.00000000e+00]\n",
      " [0.00000000e+00 0.00000000e+00 0.00000000e+00 0.00000000e+00 1.47032472e-16 0.00000000e+00]\n",
      " [0.00000000e+00 0.00000000e+00 0.00000000e+00 0.00000000e+00 0.00000000e+00 2.16885055e-18]]\n"
     ]
    }
   ],
   "source": [
    "s_diag = np.diag(s)\n",
    "print(s_diag)"
   ]
  },
  {
   "cell_type": "markdown",
   "metadata": {},
   "source": [
    "### Reduce dimensionality by selecting the first k singular features\n",
    "  * Reduce the text to 2 (k=2) dimentional word embedding"
   ]
  },
  {
   "cell_type": "code",
   "execution_count": 23,
   "metadata": {},
   "outputs": [
    {
     "data": {
      "text/plain": [
       "array([[5.17747511, 0.        ],\n",
       "       [0.        , 5.17747511],\n",
       "       [0.        , 0.        ],\n",
       "       [0.        , 0.        ],\n",
       "       [0.        , 0.        ],\n",
       "       [0.        , 0.        ]])"
      ]
     },
     "execution_count": 23,
     "metadata": {},
     "output_type": "execute_result"
    }
   ],
   "source": [
    "s_diag[:, :2]"
   ]
  },
  {
   "cell_type": "code",
   "execution_count": 24,
   "metadata": {},
   "outputs": [],
   "source": [
    "embeddings = np.dot(U, s_diag[:, :2])"
   ]
  },
  {
   "cell_type": "code",
   "execution_count": 25,
   "metadata": {},
   "outputs": [
    {
     "name": "stdout",
     "output_type": "stream",
     "text": [
      "[[ 0.00000000e+00  4.47159041e+00]\n",
      " [-2.24282387e+00  1.81668770e-16]\n",
      " [ 5.28030713e-18  1.33449197e+00]\n",
      " [-4.66647507e+00 -2.11477666e-16]\n",
      " [ 5.28030713e-18  1.33449197e+00]\n",
      " [ 6.69858789e-18  1.80260647e+00]]\n"
     ]
    }
   ],
   "source": [
    "print(embeddings)"
   ]
  },
  {
   "cell_type": "code",
   "execution_count": 26,
   "metadata": {},
   "outputs": [
    {
     "name": "stdout",
     "output_type": "stream",
     "text": [
      "Word Embedding for - \"enjoy\" -  [-2.24282387e+00  1.81668770e-16]\n",
      "Word Embedding for - \"like\" -  [-4.66647507e+00 -2.11477666e-16]\n"
     ]
    }
   ],
   "source": [
    "print(\"Word Embedding for - \\\"enjoy\\\" - \", embeddings[1])\n",
    "print(\"Word Embedding for - \\\"like\\\" - \", embeddings[3])"
   ]
  },
  {
   "cell_type": "code",
   "execution_count": null,
   "metadata": {},
   "outputs": [],
   "source": [
    "from numpy import dot\n",
    "from numpy.linalg import norm\n",
    "\n",
    "cos_sim = dot(embeddings[1].T, embeddings[3])/(norm(embeddings[1])*norm(embeddings[3]))\n",
    "print(cos_sim)"
   ]
  },
  {
   "cell_type": "code",
   "execution_count": 29,
   "metadata": {},
   "outputs": [
    {
     "data": {
      "image/png": "[encoded data removed]",
      "text/plain": [
       "<Figure size 432x288 with 1 Axes>"
      ]
     },
     "metadata": {
      "needs_background": "light"
     },
     "output_type": "display_data"
    }
   ],
   "source": [
    "import matplotlib.pyplot as plt\n",
    "\n",
    "# Plotting words and their vector representations\n",
    "\n",
    "xmin = np.min(embeddings)\n",
    "xmax = np.max(embeddings)\n",
    "\n",
    "for i in range(len(embeddings)):\n",
    "        fig = plt.gcf()\n",
    "        #fig.set_size_inches(18.5, 10.5)\n",
    "        plt.text(embeddings[i,0], embeddings[i,1], unique_words[i])\n",
    "        plt.xlim((xmin,xmax))\n",
    "        plt.ylim((xmin,xmax))\n",
    "        \n",
    "plt.show()"
   ]
  },
  {
   "cell_type": "code",
   "execution_count": null,
   "metadata": {},
   "outputs": [],
   "source": []
  }
 ],
 "metadata": {
  "kernelspec": {
   "display_name": "Python 3",
   "language": "python",
   "name": "python3"
  },
  "language_info": {
   "codemirror_mode": {
    "name": "ipython",
    "version": 3
   },
   "file_extension": ".py",
   "mimetype": "text/x-python",
   "name": "python",
   "nbconvert_exporter": "python",
   "pygments_lexer": "ipython3",
   "version": "3.8.5"
  }
 },
 "nbformat": 4,
 "nbformat_minor": 2
}
