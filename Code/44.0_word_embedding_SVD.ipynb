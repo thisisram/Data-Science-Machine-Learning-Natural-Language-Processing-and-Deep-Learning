{
 "cells": [
  {
   "cell_type": "code",
   "execution_count": 1,
   "metadata": {},
   "outputs": [],
   "source": [
    "import numpy as np\n",
    "import nltk\n",
    "from nltk import bigrams\n",
    "from nltk.tokenize import SpaceTokenizer\n",
    "import pandas as pd"
   ]
  },
  {
   "cell_type": "code",
   "execution_count": 2,
   "metadata": {},
   "outputs": [],
   "source": [
    "# three example centences\n",
    "#sents = [\"I enjoy flying\", \"I like flying\", \"I enjoy NLP\", \"I like NLP\",  \"I like deep_learning\", \"I enjoy deep_learning\"]"
   ]
  },
  {
   "cell_type": "code",
   "execution_count": 3,
   "metadata": {},
   "outputs": [],
   "source": [
    "sents = [\"I like banana\", \"I like orange\", \"I like apple\", \"I like jack_fruit\",  \"I like grape\", \"I like water_mellon\"]"
   ]
  },
  {
   "cell_type": "code",
   "execution_count": 4,
   "metadata": {},
   "outputs": [],
   "source": [
    "sent_list = [word for word in [sent.split() for sent in sents] ]"
   ]
  },
  {
   "cell_type": "code",
   "execution_count": 5,
   "metadata": {},
   "outputs": [
    {
     "data": {
      "text/plain": [
       "[['I', 'like', 'banana'],\n",
       " ['I', 'like', 'orange'],\n",
       " ['I', 'like', 'apple'],\n",
       " ['I', 'like', 'jack_fruit'],\n",
       " ['I', 'like', 'grape'],\n",
       " ['I', 'like', 'water_mellon']]"
      ]
     },
     "execution_count": 5,
     "metadata": {},
     "output_type": "execute_result"
    }
   ],
   "source": [
    "sent_list"
   ]
  },
  {
   "cell_type": "code",
   "execution_count": 6,
   "metadata": {},
   "outputs": [
    {
     "name": "stdout",
     "output_type": "stream",
     "text": [
      "['I', 'like', 'banana', 'orange', 'apple', 'jack_fruit', 'grape', 'water_mellon']\n"
     ]
    }
   ],
   "source": [
    "unique_words = []\n",
    "for sent in sents:\n",
    "    for w in sent.split():\n",
    "        if w not in unique_words: \n",
    "            unique_words.append(w)\n",
    "print(unique_words)"
   ]
  },
  {
   "cell_type": "code",
   "execution_count": 7,
   "metadata": {},
   "outputs": [
    {
     "data": {
      "text/plain": [
       "1"
      ]
     },
     "execution_count": 7,
     "metadata": {},
     "output_type": "execute_result"
    }
   ],
   "source": [
    "unique_words.index('like')"
   ]
  },
  {
   "cell_type": "code",
   "execution_count": 8,
   "metadata": {},
   "outputs": [],
   "source": [
    "I = pd.Index(unique_words)\n",
    "C = pd.Index(unique_words)\n",
    "df = pd.DataFrame(data=np.zeros((len(unique_words), len(unique_words))), index=I, columns=C)"
   ]
  },
  {
   "cell_type": "code",
   "execution_count": 9,
   "metadata": {},
   "outputs": [
    {
     "data": {
      "text/html": [
       "<div>\n",
       "<style scoped>\n",
       "    .dataframe tbody tr th:only-of-type {\n",
       "        vertical-align: middle;\n",
       "    }\n",
       "\n",
       "    .dataframe tbody tr th {\n",
       "        vertical-align: top;\n",
       "    }\n",
       "\n",
       "    .dataframe thead th {\n",
       "        text-align: right;\n",
       "    }\n",
       "</style>\n",
       "<table border=\"1\" class=\"dataframe\">\n",
       "  <thead>\n",
       "    <tr style=\"text-align: right;\">\n",
       "      <th></th>\n",
       "      <th>I</th>\n",
       "      <th>like</th>\n",
       "      <th>banana</th>\n",
       "      <th>orange</th>\n",
       "      <th>apple</th>\n",
       "      <th>jack_fruit</th>\n",
       "      <th>grape</th>\n",
       "      <th>water_mellon</th>\n",
       "    </tr>\n",
       "  </thead>\n",
       "  <tbody>\n",
       "    <tr>\n",
       "      <th>I</th>\n",
       "      <td>0.0</td>\n",
       "      <td>0.0</td>\n",
       "      <td>0.0</td>\n",
       "      <td>0.0</td>\n",
       "      <td>0.0</td>\n",
       "      <td>0.0</td>\n",
       "      <td>0.0</td>\n",
       "      <td>0.0</td>\n",
       "    </tr>\n",
       "    <tr>\n",
       "      <th>like</th>\n",
       "      <td>0.0</td>\n",
       "      <td>0.0</td>\n",
       "      <td>0.0</td>\n",
       "      <td>0.0</td>\n",
       "      <td>0.0</td>\n",
       "      <td>0.0</td>\n",
       "      <td>0.0</td>\n",
       "      <td>0.0</td>\n",
       "    </tr>\n",
       "    <tr>\n",
       "      <th>banana</th>\n",
       "      <td>0.0</td>\n",
       "      <td>0.0</td>\n",
       "      <td>0.0</td>\n",
       "      <td>0.0</td>\n",
       "      <td>0.0</td>\n",
       "      <td>0.0</td>\n",
       "      <td>0.0</td>\n",
       "      <td>0.0</td>\n",
       "    </tr>\n",
       "    <tr>\n",
       "      <th>orange</th>\n",
       "      <td>0.0</td>\n",
       "      <td>0.0</td>\n",
       "      <td>0.0</td>\n",
       "      <td>0.0</td>\n",
       "      <td>0.0</td>\n",
       "      <td>0.0</td>\n",
       "      <td>0.0</td>\n",
       "      <td>0.0</td>\n",
       "    </tr>\n",
       "    <tr>\n",
       "      <th>apple</th>\n",
       "      <td>0.0</td>\n",
       "      <td>0.0</td>\n",
       "      <td>0.0</td>\n",
       "      <td>0.0</td>\n",
       "      <td>0.0</td>\n",
       "      <td>0.0</td>\n",
       "      <td>0.0</td>\n",
       "      <td>0.0</td>\n",
       "    </tr>\n",
       "    <tr>\n",
       "      <th>jack_fruit</th>\n",
       "      <td>0.0</td>\n",
       "      <td>0.0</td>\n",
       "      <td>0.0</td>\n",
       "      <td>0.0</td>\n",
       "      <td>0.0</td>\n",
       "      <td>0.0</td>\n",
       "      <td>0.0</td>\n",
       "      <td>0.0</td>\n",
       "    </tr>\n",
       "    <tr>\n",
       "      <th>grape</th>\n",
       "      <td>0.0</td>\n",
       "      <td>0.0</td>\n",
       "      <td>0.0</td>\n",
       "      <td>0.0</td>\n",
       "      <td>0.0</td>\n",
       "      <td>0.0</td>\n",
       "      <td>0.0</td>\n",
       "      <td>0.0</td>\n",
       "    </tr>\n",
       "    <tr>\n",
       "      <th>water_mellon</th>\n",
       "      <td>0.0</td>\n",
       "      <td>0.0</td>\n",
       "      <td>0.0</td>\n",
       "      <td>0.0</td>\n",
       "      <td>0.0</td>\n",
       "      <td>0.0</td>\n",
       "      <td>0.0</td>\n",
       "      <td>0.0</td>\n",
       "    </tr>\n",
       "  </tbody>\n",
       "</table>\n",
       "</div>"
      ],
      "text/plain": [
       "                I  like  banana  orange  apple  jack_fruit  grape  \\\n",
       "I             0.0   0.0     0.0     0.0    0.0         0.0    0.0   \n",
       "like          0.0   0.0     0.0     0.0    0.0         0.0    0.0   \n",
       "banana        0.0   0.0     0.0     0.0    0.0         0.0    0.0   \n",
       "orange        0.0   0.0     0.0     0.0    0.0         0.0    0.0   \n",
       "apple         0.0   0.0     0.0     0.0    0.0         0.0    0.0   \n",
       "jack_fruit    0.0   0.0     0.0     0.0    0.0         0.0    0.0   \n",
       "grape         0.0   0.0     0.0     0.0    0.0         0.0    0.0   \n",
       "water_mellon  0.0   0.0     0.0     0.0    0.0         0.0    0.0   \n",
       "\n",
       "              water_mellon  \n",
       "I                      0.0  \n",
       "like                   0.0  \n",
       "banana                 0.0  \n",
       "orange                 0.0  \n",
       "apple                  0.0  \n",
       "jack_fruit             0.0  \n",
       "grape                  0.0  \n",
       "water_mellon           0.0  "
      ]
     },
     "execution_count": 9,
     "metadata": {},
     "output_type": "execute_result"
    }
   ],
   "source": [
    "df"
   ]
  },
  {
   "cell_type": "code",
   "execution_count": 10,
   "metadata": {},
   "outputs": [
    {
     "name": "stdout",
     "output_type": "stream",
     "text": [
      "I\n",
      "I\n",
      "I\n",
      "I\n",
      "I\n",
      "I\n",
      "like\n",
      "like\n",
      "like\n",
      "like\n",
      "like\n",
      "like\n",
      "banana\n",
      "orange\n",
      "apple\n",
      "jack_fruit\n",
      "grape\n",
      "water_mellon\n"
     ]
    }
   ],
   "source": [
    "for w in unique_words:\n",
    "    for sent in sent_list:\n",
    "        if w in sent:\n",
    "            print(w)\n",
    "            if sent.index(w) < len(sent)-1:\n",
    "                df.loc[w, sent[sent.index(w)+1]] = df.loc[w, sent[sent.index(w)+1]] + 1\n",
    "            if sent.index(w) > 0:\n",
    "                df.loc[w, sent[sent.index(w)-1]] = df.loc[w, sent[sent.index(w)-1]] + 1"
   ]
  },
  {
   "cell_type": "code",
   "execution_count": 11,
   "metadata": {},
   "outputs": [
    {
     "data": {
      "text/html": [
       "<div>\n",
       "<style scoped>\n",
       "    .dataframe tbody tr th:only-of-type {\n",
       "        vertical-align: middle;\n",
       "    }\n",
       "\n",
       "    .dataframe tbody tr th {\n",
       "        vertical-align: top;\n",
       "    }\n",
       "\n",
       "    .dataframe thead th {\n",
       "        text-align: right;\n",
       "    }\n",
       "</style>\n",
       "<table border=\"1\" class=\"dataframe\">\n",
       "  <thead>\n",
       "    <tr style=\"text-align: right;\">\n",
       "      <th></th>\n",
       "      <th>I</th>\n",
       "      <th>like</th>\n",
       "      <th>banana</th>\n",
       "      <th>orange</th>\n",
       "      <th>apple</th>\n",
       "      <th>jack_fruit</th>\n",
       "      <th>grape</th>\n",
       "      <th>water_mellon</th>\n",
       "    </tr>\n",
       "  </thead>\n",
       "  <tbody>\n",
       "    <tr>\n",
       "      <th>I</th>\n",
       "      <td>0.0</td>\n",
       "      <td>6.0</td>\n",
       "      <td>0.0</td>\n",
       "      <td>0.0</td>\n",
       "      <td>0.0</td>\n",
       "      <td>0.0</td>\n",
       "      <td>0.0</td>\n",
       "      <td>0.0</td>\n",
       "    </tr>\n",
       "    <tr>\n",
       "      <th>like</th>\n",
       "      <td>6.0</td>\n",
       "      <td>0.0</td>\n",
       "      <td>1.0</td>\n",
       "      <td>1.0</td>\n",
       "      <td>1.0</td>\n",
       "      <td>1.0</td>\n",
       "      <td>1.0</td>\n",
       "      <td>1.0</td>\n",
       "    </tr>\n",
       "    <tr>\n",
       "      <th>banana</th>\n",
       "      <td>0.0</td>\n",
       "      <td>1.0</td>\n",
       "      <td>0.0</td>\n",
       "      <td>0.0</td>\n",
       "      <td>0.0</td>\n",
       "      <td>0.0</td>\n",
       "      <td>0.0</td>\n",
       "      <td>0.0</td>\n",
       "    </tr>\n",
       "    <tr>\n",
       "      <th>orange</th>\n",
       "      <td>0.0</td>\n",
       "      <td>1.0</td>\n",
       "      <td>0.0</td>\n",
       "      <td>0.0</td>\n",
       "      <td>0.0</td>\n",
       "      <td>0.0</td>\n",
       "      <td>0.0</td>\n",
       "      <td>0.0</td>\n",
       "    </tr>\n",
       "    <tr>\n",
       "      <th>apple</th>\n",
       "      <td>0.0</td>\n",
       "      <td>1.0</td>\n",
       "      <td>0.0</td>\n",
       "      <td>0.0</td>\n",
       "      <td>0.0</td>\n",
       "      <td>0.0</td>\n",
       "      <td>0.0</td>\n",
       "      <td>0.0</td>\n",
       "    </tr>\n",
       "    <tr>\n",
       "      <th>jack_fruit</th>\n",
       "      <td>0.0</td>\n",
       "      <td>1.0</td>\n",
       "      <td>0.0</td>\n",
       "      <td>0.0</td>\n",
       "      <td>0.0</td>\n",
       "      <td>0.0</td>\n",
       "      <td>0.0</td>\n",
       "      <td>0.0</td>\n",
       "    </tr>\n",
       "    <tr>\n",
       "      <th>grape</th>\n",
       "      <td>0.0</td>\n",
       "      <td>1.0</td>\n",
       "      <td>0.0</td>\n",
       "      <td>0.0</td>\n",
       "      <td>0.0</td>\n",
       "      <td>0.0</td>\n",
       "      <td>0.0</td>\n",
       "      <td>0.0</td>\n",
       "    </tr>\n",
       "    <tr>\n",
       "      <th>water_mellon</th>\n",
       "      <td>0.0</td>\n",
       "      <td>1.0</td>\n",
       "      <td>0.0</td>\n",
       "      <td>0.0</td>\n",
       "      <td>0.0</td>\n",
       "      <td>0.0</td>\n",
       "      <td>0.0</td>\n",
       "      <td>0.0</td>\n",
       "    </tr>\n",
       "  </tbody>\n",
       "</table>\n",
       "</div>"
      ],
      "text/plain": [
       "                I  like  banana  orange  apple  jack_fruit  grape  \\\n",
       "I             0.0   6.0     0.0     0.0    0.0         0.0    0.0   \n",
       "like          6.0   0.0     1.0     1.0    1.0         1.0    1.0   \n",
       "banana        0.0   1.0     0.0     0.0    0.0         0.0    0.0   \n",
       "orange        0.0   1.0     0.0     0.0    0.0         0.0    0.0   \n",
       "apple         0.0   1.0     0.0     0.0    0.0         0.0    0.0   \n",
       "jack_fruit    0.0   1.0     0.0     0.0    0.0         0.0    0.0   \n",
       "grape         0.0   1.0     0.0     0.0    0.0         0.0    0.0   \n",
       "water_mellon  0.0   1.0     0.0     0.0    0.0         0.0    0.0   \n",
       "\n",
       "              water_mellon  \n",
       "I                      0.0  \n",
       "like                   1.0  \n",
       "banana                 0.0  \n",
       "orange                 0.0  \n",
       "apple                  0.0  \n",
       "jack_fruit             0.0  \n",
       "grape                  0.0  \n",
       "water_mellon           0.0  "
      ]
     },
     "execution_count": 11,
     "metadata": {},
     "output_type": "execute_result"
    }
   ],
   "source": [
    "df"
   ]
  },
  {
   "cell_type": "code",
   "execution_count": 12,
   "metadata": {},
   "outputs": [],
   "source": [
    "vecs = df.values"
   ]
  },
  {
   "cell_type": "code",
   "execution_count": 13,
   "metadata": {},
   "outputs": [
    {
     "data": {
      "text/plain": [
       "array([[0., 6., 0., 0., 0., 0., 0., 0.],\n",
       "       [6., 0., 1., 1., 1., 1., 1., 1.],\n",
       "       [0., 1., 0., 0., 0., 0., 0., 0.],\n",
       "       [0., 1., 0., 0., 0., 0., 0., 0.],\n",
       "       [0., 1., 0., 0., 0., 0., 0., 0.],\n",
       "       [0., 1., 0., 0., 0., 0., 0., 0.],\n",
       "       [0., 1., 0., 0., 0., 0., 0., 0.],\n",
       "       [0., 1., 0., 0., 0., 0., 0., 0.]])"
      ]
     },
     "execution_count": 13,
     "metadata": {},
     "output_type": "execute_result"
    }
   ],
   "source": [
    "vecs"
   ]
  },
  {
   "cell_type": "code",
   "execution_count": 14,
   "metadata": {},
   "outputs": [],
   "source": [
    "# Source https://towardsdatascience.com/using-fasttext-and-svd-to-visualise-word-embeddings-instantly-5b8fa870c3d1\n",
    "# Carrying out Singular Value Decomposition\n",
    "U, s, Vh = np.linalg.svd(vecs,full_matrices=False) "
   ]
  },
  {
   "cell_type": "code",
   "execution_count": 15,
   "metadata": {},
   "outputs": [
    {
     "name": "stdout",
     "output_type": "stream",
     "text": [
      "[[-9.25820100e-01  0.00000000e+00  3.77964473e-01  5.44268525e-17 -2.11498728e-33  6.77840270e-50 -8.94005929e-67\n",
      "  -4.32201383e-83]\n",
      " [ 0.00000000e+00 -1.00000000e+00  0.00000000e+00  0.00000000e+00  0.00000000e+00  0.00000000e+00  0.00000000e+00\n",
      "   0.00000000e+00]\n",
      " [-1.54303350e-01  0.00000000e+00 -3.77964473e-01  9.12870929e-01 -2.34520451e-16 -6.77840270e-50  8.94005929e-67\n",
      "   4.32201383e-83]\n",
      " [-1.54303350e-01  0.00000000e+00 -3.77964473e-01 -1.82574186e-01  8.94427191e-01  4.01682464e-17  8.03364928e-17\n",
      "  -2.38153543e-17]\n",
      " [-1.54303350e-01  0.00000000e+00 -3.77964473e-01 -1.82574186e-01 -2.23606798e-01  8.66025404e-01  6.64587050e-17\n",
      "   3.42740142e-17]\n",
      " [-1.54303350e-01  0.00000000e+00 -3.77964473e-01 -1.82574186e-01 -2.23606798e-01 -2.88675135e-01  8.16496581e-01\n",
      "   9.40789679e-17]\n",
      " [-1.54303350e-01  0.00000000e+00 -3.77964473e-01 -1.82574186e-01 -2.23606798e-01 -2.88675135e-01 -4.08248290e-01\n",
      "  -7.07106781e-01]\n",
      " [-1.54303350e-01  0.00000000e+00 -3.77964473e-01 -1.82574186e-01 -2.23606798e-01 -2.88675135e-01 -4.08248290e-01\n",
      "   7.07106781e-01]]\n",
      "(8, 8)\n"
     ]
    }
   ],
   "source": [
    "np.set_printoptions(linewidth=115)\n",
    "print(U)\n",
    "print(U.shape)"
   ]
  },
  {
   "cell_type": "code",
   "execution_count": 16,
   "metadata": {},
   "outputs": [
    {
     "name": "stdout",
     "output_type": "stream",
     "text": [
      "[6.48074070e+000 6.48074070e+000 2.81492914e-016 6.29897451e-048 2.92153959e-080 1.59952264e-112 2.62785702e-145\n",
      " 0.00000000e+000]\n"
     ]
    }
   ],
   "source": [
    "print(s)"
   ]
  },
  {
   "cell_type": "code",
   "execution_count": 17,
   "metadata": {},
   "outputs": [
    {
     "name": "stdout",
     "output_type": "stream",
     "text": [
      "[[6.48074070e+000 0.00000000e+000 0.00000000e+000 0.00000000e+000 0.00000000e+000 0.00000000e+000 0.00000000e+000\n",
      "  0.00000000e+000]\n",
      " [0.00000000e+000 6.48074070e+000 0.00000000e+000 0.00000000e+000 0.00000000e+000 0.00000000e+000 0.00000000e+000\n",
      "  0.00000000e+000]\n",
      " [0.00000000e+000 0.00000000e+000 2.81492914e-016 0.00000000e+000 0.00000000e+000 0.00000000e+000 0.00000000e+000\n",
      "  0.00000000e+000]\n",
      " [0.00000000e+000 0.00000000e+000 0.00000000e+000 6.29897451e-048 0.00000000e+000 0.00000000e+000 0.00000000e+000\n",
      "  0.00000000e+000]\n",
      " [0.00000000e+000 0.00000000e+000 0.00000000e+000 0.00000000e+000 2.92153959e-080 0.00000000e+000 0.00000000e+000\n",
      "  0.00000000e+000]\n",
      " [0.00000000e+000 0.00000000e+000 0.00000000e+000 0.00000000e+000 0.00000000e+000 1.59952264e-112 0.00000000e+000\n",
      "  0.00000000e+000]\n",
      " [0.00000000e+000 0.00000000e+000 0.00000000e+000 0.00000000e+000 0.00000000e+000 0.00000000e+000 2.62785702e-145\n",
      "  0.00000000e+000]\n",
      " [0.00000000e+000 0.00000000e+000 0.00000000e+000 0.00000000e+000 0.00000000e+000 0.00000000e+000 0.00000000e+000\n",
      "  0.00000000e+000]]\n"
     ]
    }
   ],
   "source": [
    "s_diag = np.diag(s)\n",
    "print(s_diag)"
   ]
  },
  {
   "cell_type": "markdown",
   "metadata": {},
   "source": [
    "### Reduce dimensionality by selecting the first k singular features\n",
    "  * Reduce the text to 2 (k=2) dimentional word embedding"
   ]
  },
  {
   "cell_type": "code",
   "execution_count": 18,
   "metadata": {},
   "outputs": [
    {
     "data": {
      "text/plain": [
       "array([[6.4807407, 0.       ],\n",
       "       [0.       , 6.4807407],\n",
       "       [0.       , 0.       ],\n",
       "       [0.       , 0.       ],\n",
       "       [0.       , 0.       ],\n",
       "       [0.       , 0.       ],\n",
       "       [0.       , 0.       ],\n",
       "       [0.       , 0.       ]])"
      ]
     },
     "execution_count": 18,
     "metadata": {},
     "output_type": "execute_result"
    }
   ],
   "source": [
    "s_diag[:, :2]"
   ]
  },
  {
   "cell_type": "code",
   "execution_count": 19,
   "metadata": {},
   "outputs": [],
   "source": [
    "embeddings = np.dot(U, s_diag[:, :2])"
   ]
  },
  {
   "cell_type": "code",
   "execution_count": 20,
   "metadata": {},
   "outputs": [
    {
     "name": "stdout",
     "output_type": "stream",
     "text": [
      "[[-6.         0.       ]\n",
      " [ 0.        -6.4807407]\n",
      " [-1.         0.       ]\n",
      " [-1.         0.       ]\n",
      " [-1.         0.       ]\n",
      " [-1.         0.       ]\n",
      " [-1.         0.       ]\n",
      " [-1.         0.       ]]\n"
     ]
    }
   ],
   "source": [
    "print(embeddings)"
   ]
  },
  {
   "cell_type": "code",
   "execution_count": 21,
   "metadata": {},
   "outputs": [
    {
     "name": "stdout",
     "output_type": "stream",
     "text": [
      "Word Embedding for - \"enjoy\" -  [ 0.        -6.4807407]\n",
      "Word Embedding for - \"like\" -  [-1.  0.]\n"
     ]
    }
   ],
   "source": [
    "print(\"Word Embedding for - \\\"enjoy\\\" - \", embeddings[1])\n",
    "print(\"Word Embedding for - \\\"like\\\" - \", embeddings[3])"
   ]
  },
  {
   "cell_type": "code",
   "execution_count": 22,
   "metadata": {},
   "outputs": [
    {
     "name": "stdout",
     "output_type": "stream",
     "text": [
      "0.0\n"
     ]
    }
   ],
   "source": [
    "from numpy import dot\n",
    "from numpy.linalg import norm\n",
    "\n",
    "cos_sim = dot(embeddings[1].T, embeddings[3])/(norm(embeddings[1])*norm(embeddings[3]))\n",
    "print(cos_sim)"
   ]
  },
  {
   "cell_type": "code",
   "execution_count": 23,
   "metadata": {},
   "outputs": [
    {
     "name": "stdout",
     "output_type": "stream",
     "text": [
      "1.0\n"
     ]
    }
   ],
   "source": [
    "cos_sim = dot(embeddings[4].T, embeddings[5])/(norm(embeddings[4])*norm(embeddings[5]))\n",
    "print(cos_sim)"
   ]
  },
  {
   "cell_type": "code",
   "execution_count": 24,
   "metadata": {},
   "outputs": [
    {
     "data": {
      "image/png": "[encoded data removed]",
      "text/plain": [
       "<Figure size 432x288 with 1 Axes>"
      ]
     },
     "metadata": {
      "needs_background": "light"
     },
     "output_type": "display_data"
    }
   ],
   "source": [
    "import matplotlib.pyplot as plt\n",
    "\n",
    "# Plotting words and their vector representations\n",
    "\n",
    "xmin = np.min(embeddings)\n",
    "xmax = np.max(embeddings)\n",
    "\n",
    "for i in range(len(embeddings)):\n",
    "        fig = plt.gcf()\n",
    "        #fig.set_size_inches(18.5, 10.5)\n",
    "        plt.text(embeddings[i,0], embeddings[i,1], unique_words[i])\n",
    "        plt.xlim((xmin-1,xmax+1))\n",
    "        plt.ylim((xmin-1,xmax+1))\n",
    "        \n",
    "plt.show()"
   ]
  },
  {
   "cell_type": "code",
   "execution_count": null,
   "metadata": {},
   "outputs": [],
   "source": []
  }
 ],
 "metadata": {
  "kernelspec": {
   "display_name": "Python 3",
   "language": "python",
   "name": "python3"
  },
  "language_info": {
   "codemirror_mode": {
    "name": "ipython",
    "version": 3
   },
   "file_extension": ".py",
   "mimetype": "text/x-python",
   "name": "python",
   "nbconvert_exporter": "python",
   "pygments_lexer": "ipython3",
   "version": "3.8.5"
  }
 },
 "nbformat": 4,
 "nbformat_minor": 2
}
